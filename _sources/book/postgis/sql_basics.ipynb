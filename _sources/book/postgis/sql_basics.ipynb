{
 "cells": [
  {
   "cell_type": "markdown",
   "id": "7c1f8c31",
   "metadata": {},
   "source": [
    "# SQL Basics\n",
    "\n",
    "**Setting up the conda env:**\n",
    "\n",
    "```\n",
    "conda create -n sql python\n",
    "conda activate sql\n",
    "conda install ipython-sql sqlalchemy psycopg2 notebook pandas -c conda-forge\n",
    "```\n",
    "\n",
    "\n",
    "**Sample dataset:**\n",
    "- [cities.csv](https://github.com/giswqs/postgis/blob/master/data/cities.csv)\n",
    "- [countries.csv](https://raw.githubusercontent.com/giswqs/postgis/master/data/countries.csv)"
   ]
  },
  {
   "cell_type": "markdown",
   "id": "50b2060c",
   "metadata": {},
   "source": [
    "## Connecting to the database"
   ]
  },
  {
   "cell_type": "code",
   "execution_count": null,
   "id": "34f2585b",
   "metadata": {},
   "outputs": [],
   "source": [
    "%load_ext sql"
   ]
  },
  {
   "cell_type": "code",
   "execution_count": null,
   "id": "838b8e52",
   "metadata": {},
   "outputs": [],
   "source": [
    "import os"
   ]
  },
  {
   "cell_type": "code",
   "execution_count": null,
   "id": "95438467",
   "metadata": {},
   "outputs": [],
   "source": [
    "host = \"localhost\"\n",
    "database = \"sdb\"\n",
    "user = os.getenv('SQL_USER')\n",
    "password = os.getenv('SQL_PASSWORD')"
   ]
  },
  {
   "cell_type": "code",
   "execution_count": null,
   "id": "a0ea61a0",
   "metadata": {},
   "outputs": [],
   "source": [
    "connection_string = f\"postgresql://{user}:{password}@{host}/{database}\""
   ]
  },
  {
   "cell_type": "code",
   "execution_count": null,
   "id": "ac58878d",
   "metadata": {},
   "outputs": [],
   "source": [
    "%sql $connection_string"
   ]
  },
  {
   "cell_type": "code",
   "execution_count": null,
   "id": "075866aa",
   "metadata": {},
   "outputs": [],
   "source": [
    "%%sql \n",
    "\n",
    "SELECT * FROM cities LIMIT 10"
   ]
  },
  {
   "cell_type": "markdown",
   "id": "6cb2d729",
   "metadata": {},
   "source": [
    "## The SQL SELECT statement"
   ]
  },
  {
   "cell_type": "code",
   "execution_count": null,
   "id": "6e648716",
   "metadata": {
    "tags": [
     "hide-output"
    ]
   },
   "outputs": [],
   "source": [
    "%%sql \n",
    "\n",
    "SELECT * FROM cities"
   ]
  },
  {
   "cell_type": "code",
   "execution_count": null,
   "id": "0955fe41",
   "metadata": {},
   "outputs": [],
   "source": [
    "%%sql\n",
    "\n",
    "SELECT * FROM cities LIMIT 10"
   ]
  },
  {
   "cell_type": "code",
   "execution_count": null,
   "id": "7a562224",
   "metadata": {},
   "outputs": [],
   "source": [
    "%%sql\n",
    "\n",
    "SELECT name, country FROM cities LIMIT 10"
   ]
  },
  {
   "cell_type": "code",
   "execution_count": null,
   "id": "d86531ce",
   "metadata": {},
   "outputs": [],
   "source": [
    "%%sql\n",
    "\n",
    "SELECT DISTINCT country FROM cities LIMIT 10"
   ]
  },
  {
   "cell_type": "code",
   "execution_count": null,
   "id": "4ad24b08",
   "metadata": {},
   "outputs": [],
   "source": [
    "%%sql\n",
    "\n",
    "SELECT COUNT(DISTINCT country) FROM cities"
   ]
  },
  {
   "cell_type": "code",
   "execution_count": null,
   "id": "f3352853",
   "metadata": {},
   "outputs": [],
   "source": [
    "%%sql\n",
    "\n",
    "SELECT MAX(population) FROM cities"
   ]
  },
  {
   "cell_type": "code",
   "execution_count": null,
   "id": "4b07be1b",
   "metadata": {},
   "outputs": [],
   "source": [
    "%%sql\n",
    "\n",
    "SELECT SUM(population) FROM cities"
   ]
  },
  {
   "cell_type": "code",
   "execution_count": null,
   "id": "ca0cef46",
   "metadata": {},
   "outputs": [],
   "source": [
    "%%sql\n",
    "\n",
    "SELECT AVG(population) FROM cities"
   ]
  },
  {
   "cell_type": "code",
   "execution_count": null,
   "id": "4bee1234",
   "metadata": {},
   "outputs": [],
   "source": [
    "%%sql\n",
    "\n",
    "SELECT * FROM cities ORDER BY country LIMIT 10"
   ]
  },
  {
   "cell_type": "code",
   "execution_count": null,
   "id": "ecc07ff6",
   "metadata": {},
   "outputs": [],
   "source": [
    "%%sql \n",
    "\n",
    "SELECT * FROM cities ORDER BY country ASC, population DESC LIMIT 10"
   ]
  },
  {
   "cell_type": "markdown",
   "id": "d3c22b29",
   "metadata": {},
   "source": [
    "## The WHERE Clause"
   ]
  },
  {
   "cell_type": "code",
   "execution_count": null,
   "id": "998a9414",
   "metadata": {
    "tags": [
     "hide-output"
    ]
   },
   "outputs": [],
   "source": [
    "%%sql\n",
    "\n",
    "SELECT * FROM cities WHERE country='USA'"
   ]
  },
  {
   "cell_type": "code",
   "execution_count": null,
   "id": "4e451412",
   "metadata": {
    "tags": [
     "hide-output"
    ]
   },
   "outputs": [],
   "source": [
    "%%sql\n",
    "\n",
    "SELECT * FROM cities WHERE country='USA' OR country='CAN'"
   ]
  },
  {
   "cell_type": "code",
   "execution_count": null,
   "id": "2b2d2bfc",
   "metadata": {
    "tags": [
     "hide-output"
    ]
   },
   "outputs": [],
   "source": [
    "%%sql \n",
    "\n",
    "SELECT * FROM cities WHERE country='USA' AND population>1000000"
   ]
  },
  {
   "cell_type": "code",
   "execution_count": null,
   "id": "8d3c152d",
   "metadata": {
    "tags": [
     "hide-output"
    ]
   },
   "outputs": [],
   "source": [
    "%%sql\n",
    "\n",
    "SELECT * FROM cities WHERE country LIKE 'U%'"
   ]
  },
  {
   "cell_type": "code",
   "execution_count": null,
   "id": "ba2ec2ca",
   "metadata": {
    "tags": [
     "hide-output"
    ]
   },
   "outputs": [],
   "source": [
    "%%sql\n",
    "\n",
    "SELECT * FROM cities WHERE country LIKE '%A'"
   ]
  },
  {
   "cell_type": "code",
   "execution_count": null,
   "id": "3266f4b8",
   "metadata": {
    "tags": [
     "hide-output"
    ]
   },
   "outputs": [],
   "source": [
    "%%sql \n",
    "\n",
    "SELECT * FROM cities WHERE country LIKE '_S_'"
   ]
  },
  {
   "cell_type": "code",
   "execution_count": null,
   "id": "4216771f",
   "metadata": {
    "tags": [
     "hide-output"
    ]
   },
   "outputs": [],
   "source": [
    "%%sql\n",
    "\n",
    "SELECT * FROM cities WHERE country IN ('USA', 'CAN', 'CHN')"
   ]
  },
  {
   "cell_type": "code",
   "execution_count": null,
   "id": "7e625d9d",
   "metadata": {
    "tags": [
     "hide-output"
    ]
   },
   "outputs": [],
   "source": [
    "%%sql \n",
    "\n",
    "SELECT * FROM cities WHERE population BETWEEN 1000000 AND 10000000"
   ]
  },
  {
   "cell_type": "markdown",
   "id": "0f165500",
   "metadata": {},
   "source": [
    "## SQL Joins\n",
    "\n",
    "Reference: https://www.w3schools.com/sql/sql_join.asp\n",
    "\n",
    "Here are the different types of the JOINs in SQL:\n",
    "\n",
    "- `(INNER) JOIN`: Returns records that have matching values in both tables\n",
    "- `LEFT (OUTER) JOIN`: Returns all records from the left table, and the matched records from the right table\n",
    "- `RIGHT (OUTER) JOIN`: Returns all records from the right table, and the matched records from the left table\n",
    "- `FULL (OUTER) JOIN`: Returns all records when there is a match in either left or right table\n",
    "\n",
    "![](https://i.imgur.com/mITYzuS.png)"
   ]
  },
  {
   "cell_type": "code",
   "execution_count": null,
   "id": "bc785764",
   "metadata": {},
   "outputs": [],
   "source": [
    "%%sql \n",
    "\n",
    "SELECT COUNT(*) FROM cities"
   ]
  },
  {
   "cell_type": "code",
   "execution_count": null,
   "id": "d5de46f3",
   "metadata": {},
   "outputs": [],
   "source": [
    "%%sql \n",
    "\n",
    "SELECT * FROM cities LIMIT 10"
   ]
  },
  {
   "cell_type": "code",
   "execution_count": null,
   "id": "63d8683e",
   "metadata": {},
   "outputs": [],
   "source": [
    "%%sql \n",
    "\n",
    "SELECT COUNT(*) FROM countries"
   ]
  },
  {
   "cell_type": "code",
   "execution_count": null,
   "id": "d9eba08e",
   "metadata": {},
   "outputs": [],
   "source": [
    "%%sql \n",
    "\n",
    "SELECT * FROM countries LIMIT 10"
   ]
  },
  {
   "cell_type": "markdown",
   "id": "dddcf77b",
   "metadata": {},
   "source": [
    "### SQL Inner Join"
   ]
  },
  {
   "cell_type": "code",
   "execution_count": null,
   "id": "23432b43",
   "metadata": {
    "tags": [
     "hide-output"
    ]
   },
   "outputs": [],
   "source": [
    "%%sql\n",
    "\n",
    "SELECT * FROM cities INNER JOIN countries ON cities.country = countries.\"Alpha3_code\""
   ]
  },
  {
   "cell_type": "code",
   "execution_count": null,
   "id": "c136daff",
   "metadata": {
    "tags": [
     "hide-output"
    ]
   },
   "outputs": [],
   "source": [
    "%%sql\n",
    "\n",
    "SELECT name, country, countries.\"Country\" FROM cities INNER JOIN countries ON cities.country = countries.\"Alpha3_code\""
   ]
  },
  {
   "cell_type": "markdown",
   "id": "bf297c0f",
   "metadata": {},
   "source": [
    "### SQL Left Join"
   ]
  },
  {
   "cell_type": "code",
   "execution_count": null,
   "id": "28546399",
   "metadata": {
    "tags": [
     "hide-output"
    ]
   },
   "outputs": [],
   "source": [
    "%%sql\n",
    "\n",
    "SELECT * FROM cities LEFT JOIN countries ON cities.country = countries.\"Alpha3_code\""
   ]
  },
  {
   "cell_type": "markdown",
   "id": "bc2e1dc4",
   "metadata": {},
   "source": [
    "### SQL Right Join"
   ]
  },
  {
   "cell_type": "code",
   "execution_count": null,
   "id": "f83bd21d",
   "metadata": {
    "tags": [
     "hide-output"
    ]
   },
   "outputs": [],
   "source": [
    "%%sql\n",
    "\n",
    "SELECT * FROM cities RIGHT JOIN countries ON cities.country = countries.\"Alpha3_code\""
   ]
  },
  {
   "cell_type": "markdown",
   "id": "46bcb60c",
   "metadata": {},
   "source": [
    "### SQL Full Join"
   ]
  },
  {
   "cell_type": "code",
   "execution_count": null,
   "id": "0b426bad",
   "metadata": {
    "tags": [
     "hide-output"
    ]
   },
   "outputs": [],
   "source": [
    "%%sql\n",
    "\n",
    "SELECT * FROM cities FULL JOIN countries ON cities.country = countries.\"Alpha3_code\""
   ]
  },
  {
   "cell_type": "markdown",
   "id": "345338bd",
   "metadata": {},
   "source": [
    "### SQL Union"
   ]
  },
  {
   "cell_type": "code",
   "execution_count": null,
   "id": "24773010",
   "metadata": {
    "tags": [
     "hide-output"
    ]
   },
   "outputs": [],
   "source": [
    "%%sql\n",
    "\n",
    "SELECT country FROM cities\n",
    "UNION \n",
    "SELECT \"Alpha3_code\" FROM countries"
   ]
  },
  {
   "cell_type": "markdown",
   "id": "e39c9f57",
   "metadata": {},
   "source": [
    "## Aggregation\n",
    "\n",
    "### Group By"
   ]
  },
  {
   "cell_type": "code",
   "execution_count": null,
   "id": "72b0f51e",
   "metadata": {
    "tags": [
     "hide-output"
    ]
   },
   "outputs": [],
   "source": [
    "%%sql\n",
    "\n",
    "SELECT COUNT(name), country \n",
    "FROM cities \n",
    "GROUP BY country \n",
    "ORDER BY COUNT(name) DESC"
   ]
  },
  {
   "cell_type": "code",
   "execution_count": null,
   "id": "1840a8a4",
   "metadata": {
    "tags": [
     "hide-output"
    ]
   },
   "outputs": [],
   "source": [
    "%%sql\n",
    "\n",
    "SELECT countries.\"Country\", COUNT(name)\n",
    "FROM cities\n",
    "LEFT JOIN countries ON cities.country = countries.\"Alpha3_code\"\n",
    "GROUP BY countries.\"Country\"\n",
    "ORDER BY COUNT(name) DESC"
   ]
  },
  {
   "cell_type": "markdown",
   "id": "b524fc20",
   "metadata": {},
   "source": [
    "### Having"
   ]
  },
  {
   "cell_type": "code",
   "execution_count": null,
   "id": "3bd7d353",
   "metadata": {},
   "outputs": [],
   "source": [
    "%%sql \n",
    "\n",
    "SELECT COUNT(name), country\n",
    "FROM cities\n",
    "GROUP BY country\n",
    "HAVING COUNT(name) > 40\n",
    "ORDER BY COUNT(name) DESC"
   ]
  },
  {
   "cell_type": "code",
   "execution_count": null,
   "id": "098219f4",
   "metadata": {},
   "outputs": [],
   "source": [
    "%%sql\n",
    "\n",
    "SELECT countries.\"Country\", COUNT(name)\n",
    "FROM cities\n",
    "LEFT JOIN countries ON cities.country = countries.\"Alpha3_code\"\n",
    "GROUP BY countries.\"Country\"\n",
    "HAVING COUNT(name) > 40\n",
    "ORDER BY COUNT(name) DESC"
   ]
  },
  {
   "cell_type": "markdown",
   "id": "f38e68ef",
   "metadata": {},
   "source": [
    "## Conditional statements"
   ]
  },
  {
   "cell_type": "code",
   "execution_count": null,
   "id": "e5843e29",
   "metadata": {
    "tags": [
     "hide-output"
    ]
   },
   "outputs": [],
   "source": [
    "%%sql\n",
    "\n",
    "SELECT name, population,\n",
    "CASE\n",
    "    WHEN population > 10000000 THEN 'Megacity'\n",
    "    WHEN population > 1000000 THEN 'Large city'\n",
    "    ELSE 'Small city'\n",
    "END AS category\n",
    "FROM cities"
   ]
  },
  {
   "cell_type": "markdown",
   "id": "0f670e93",
   "metadata": {},
   "source": [
    "## Saving results"
   ]
  },
  {
   "cell_type": "code",
   "execution_count": null,
   "id": "3831d6a2",
   "metadata": {},
   "outputs": [],
   "source": [
    "%%sql\n",
    "\n",
    "SELECT *\n",
    "INTO cities_new\n",
    "FROM cities"
   ]
  },
  {
   "cell_type": "code",
   "execution_count": null,
   "id": "18c9cbdf",
   "metadata": {},
   "outputs": [],
   "source": [
    "%%sql\n",
    "\n",
    "DROP TABLE IF EXISTS cities_usa;\n",
    "\n",
    "SELECT *\n",
    "INTO cities_usa\n",
    "FROM cities\n",
    "WHERE country = 'USA'"
   ]
  },
  {
   "cell_type": "code",
   "execution_count": null,
   "id": "a12e955c",
   "metadata": {},
   "outputs": [],
   "source": [
    "%%sql \n",
    "\n",
    "INSERT INTO cities_usa\n",
    "SELECT *\n",
    "FROM cities\n",
    "WHERE country = 'CAN'"
   ]
  },
  {
   "cell_type": "markdown",
   "id": "61db0a87",
   "metadata": {},
   "source": [
    "## SQL Comments\n",
    "\n",
    "### Single line coments"
   ]
  },
  {
   "cell_type": "code",
   "execution_count": null,
   "id": "b2401684",
   "metadata": {},
   "outputs": [],
   "source": [
    "%%sql\n",
    "\n",
    "SELECT * FROM cities LIMIT 10 -- This is a comment;"
   ]
  },
  {
   "cell_type": "markdown",
   "id": "0f95e3ed",
   "metadata": {},
   "source": [
    "### Multi-line comments"
   ]
  },
  {
   "cell_type": "code",
   "execution_count": null,
   "id": "d855f41b",
   "metadata": {},
   "outputs": [],
   "source": [
    "%%sql\n",
    "\n",
    "SELECT COUNT(name), country \n",
    "FROM cities \n",
    "/*\n",
    " * Adding Group by\n",
    " * Adding Order by\n",
    " */\n",
    "GROUP BY country \n",
    "ORDER BY COUNT(name) DESC\n",
    "LIMIT 10"
   ]
  },
  {
   "cell_type": "code",
   "execution_count": null,
   "id": "1ce7d0f1",
   "metadata": {},
   "outputs": [],
   "source": []
  }
 ],
 "metadata": {
  "jupytext": {
   "text_representation": {
    "extension": ".md",
    "format_name": "myst",
    "format_version": 0.13,
    "jupytext_version": "1.14.5"
   }
  },
  "kernelspec": {
   "display_name": "Python 3",
   "language": "python",
   "name": "python3"
  },
  "source_map": [
   12,
   29,
   33,
   37,
   41,
   48,
   52,
   56,
   60,
   64,
   72,
   78,
   84,
   90,
   96,
   102,
   108,
   114,
   120,
   124,
   128,
   136,
   144,
   152,
   160,
   168,
   176,
   184,
   190,
   205,
   211,
   217,
   223,
   227,
   231,
   239,
   245,
   249,
   255,
   259,
   265,
   269,
   275,
   279,
   287,
   293,
   304,
   314,
   318,
   328,
   337,
   341,
   353,
   357,
   365,
   376,
   383,
   389,
   393,
   397,
   411
  ]
 },
 "nbformat": 4,
 "nbformat_minor": 5
}