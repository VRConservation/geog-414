{
 "cells": [
  {
   "cell_type": "markdown",
   "id": "b2ce2ba4",
   "metadata": {},
   "source": [
    "# SQL Basics\n",
    "\n",
    "**Setting up the conda env:**\n",
    "\n",
    "```\n",
    "conda create -n sql python\n",
    "conda activate sql\n",
    "conda install ipython-sql sqlalchemy psycopg2 notebook pandas -c conda-forge\n",
    "```\n",
    "\n",
    "\n",
    "**Sample dataset:**\n",
    "- [cities.csv](https://github.com/giswqs/postgis/blob/master/data/cities.csv)\n",
    "- [countries.csv](https://raw.githubusercontent.com/giswqs/postgis/master/data/countries.csv)"
   ]
  },
  {
   "cell_type": "markdown",
   "id": "c097eae6",
   "metadata": {},
   "source": [
    "## Connecting to the database"
   ]
  },
  {
   "cell_type": "code",
   "execution_count": null,
   "id": "4890f11b",
   "metadata": {},
   "outputs": [],
   "source": [
    "%load_ext sql"
   ]
  },
  {
   "cell_type": "code",
   "execution_count": null,
   "id": "463158de",
   "metadata": {},
   "outputs": [],
   "source": [
    "import os"
   ]
  },
  {
   "cell_type": "code",
   "execution_count": null,
   "id": "7e84f30a",
   "metadata": {},
   "outputs": [],
   "source": [
    "host = \"localhost\"\n",
    "database = \"sdb\"\n",
    "user = os.getenv('SQL_USER')\n",
    "password = os.getenv('SQL_PASSWORD')"
   ]
  },
  {
   "cell_type": "code",
   "execution_count": null,
   "id": "749f48bb",
   "metadata": {},
   "outputs": [],
   "source": [
    "connection_string = f\"postgresql://{user}:{password}@{host}/{database}\""
   ]
  },
  {
   "cell_type": "code",
   "execution_count": null,
   "id": "460a8bc0",
   "metadata": {},
   "outputs": [],
   "source": [
    "%sql $connection_string"
   ]
  },
  {
   "cell_type": "code",
   "execution_count": null,
   "id": "eb207d20",
   "metadata": {},
   "outputs": [],
   "source": [
    "%%sql \n",
    "\n",
    "SELECT * FROM cities LIMIT 10"
   ]
  },
  {
   "cell_type": "markdown",
   "id": "88c4d2d3",
   "metadata": {},
   "source": [
    "## The SQL SELECT statement"
   ]
  },
  {
   "cell_type": "code",
   "execution_count": null,
   "id": "661a2b93",
   "metadata": {
    "tags": [
     "hide-output"
    ]
   },
   "outputs": [],
   "source": [
    "%%sql \n",
    "\n",
    "SELECT * FROM cities"
   ]
  },
  {
   "cell_type": "code",
   "execution_count": null,
   "id": "7f913d55",
   "metadata": {},
   "outputs": [],
   "source": [
    "%%sql\n",
    "\n",
    "SELECT * FROM cities LIMIT 10"
   ]
  },
  {
   "cell_type": "code",
   "execution_count": null,
   "id": "a4d5de15",
   "metadata": {},
   "outputs": [],
   "source": [
    "%%sql\n",
    "\n",
    "SELECT name, country FROM cities LIMIT 10"
   ]
  },
  {
   "cell_type": "code",
   "execution_count": null,
   "id": "9c34cd22",
   "metadata": {},
   "outputs": [],
   "source": [
    "%%sql\n",
    "\n",
    "SELECT DISTINCT country FROM cities LIMIT 10"
   ]
  },
  {
   "cell_type": "code",
   "execution_count": null,
   "id": "fab368b3",
   "metadata": {},
   "outputs": [],
   "source": [
    "%%sql\n",
    "\n",
    "SELECT COUNT(DISTINCT country) FROM cities"
   ]
  },
  {
   "cell_type": "code",
   "execution_count": null,
   "id": "5da52b63",
   "metadata": {},
   "outputs": [],
   "source": [
    "%%sql\n",
    "\n",
    "SELECT MAX(population) FROM cities"
   ]
  },
  {
   "cell_type": "code",
   "execution_count": null,
   "id": "09b2ab29",
   "metadata": {},
   "outputs": [],
   "source": [
    "%%sql\n",
    "\n",
    "SELECT SUM(population) FROM cities"
   ]
  },
  {
   "cell_type": "code",
   "execution_count": null,
   "id": "68b5b007",
   "metadata": {},
   "outputs": [],
   "source": [
    "%%sql\n",
    "\n",
    "SELECT AVG(population) FROM cities"
   ]
  },
  {
   "cell_type": "code",
   "execution_count": null,
   "id": "5858793d",
   "metadata": {},
   "outputs": [],
   "source": [
    "%%sql\n",
    "\n",
    "SELECT * FROM cities ORDER BY country LIMIT 10"
   ]
  },
  {
   "cell_type": "code",
   "execution_count": null,
   "id": "9a875942",
   "metadata": {},
   "outputs": [],
   "source": [
    "%%sql \n",
    "\n",
    "SELECT * FROM cities ORDER BY country ASC, population DESC LIMIT 10"
   ]
  },
  {
   "cell_type": "markdown",
   "id": "86ff2eb8",
   "metadata": {},
   "source": [
    "## The WHERE Clause"
   ]
  },
  {
   "cell_type": "code",
   "execution_count": null,
   "id": "d7ed8ab4",
   "metadata": {
    "tags": [
     "hide-output"
    ]
   },
   "outputs": [],
   "source": [
    "%%sql\n",
    "\n",
    "SELECT * FROM cities WHERE country='USA'"
   ]
  },
  {
   "cell_type": "code",
   "execution_count": null,
   "id": "d3a1f08e",
   "metadata": {
    "tags": [
     "hide-output"
    ]
   },
   "outputs": [],
   "source": [
    "%%sql\n",
    "\n",
    "SELECT * FROM cities WHERE country='USA' OR country='CAN'"
   ]
  },
  {
   "cell_type": "code",
   "execution_count": null,
   "id": "e3686043",
   "metadata": {
    "tags": [
     "hide-output"
    ]
   },
   "outputs": [],
   "source": [
    "%%sql \n",
    "\n",
    "SELECT * FROM cities WHERE country='USA' AND population>1000000"
   ]
  },
  {
   "cell_type": "code",
   "execution_count": null,
   "id": "402fd3cc",
   "metadata": {
    "tags": [
     "hide-output"
    ]
   },
   "outputs": [],
   "source": [
    "%%sql\n",
    "\n",
    "SELECT * FROM cities WHERE country LIKE 'U%'"
   ]
  },
  {
   "cell_type": "code",
   "execution_count": null,
   "id": "f68dc22b",
   "metadata": {
    "tags": [
     "hide-output"
    ]
   },
   "outputs": [],
   "source": [
    "%%sql\n",
    "\n",
    "SELECT * FROM cities WHERE country LIKE '%A'"
   ]
  },
  {
   "cell_type": "code",
   "execution_count": null,
   "id": "b4de773a",
   "metadata": {
    "tags": [
     "hide-output"
    ]
   },
   "outputs": [],
   "source": [
    "%%sql \n",
    "\n",
    "SELECT * FROM cities WHERE country LIKE '_S_'"
   ]
  },
  {
   "cell_type": "code",
   "execution_count": null,
   "id": "585c3997",
   "metadata": {
    "tags": [
     "hide-output"
    ]
   },
   "outputs": [],
   "source": [
    "%%sql\n",
    "\n",
    "SELECT * FROM cities WHERE country IN ('USA', 'CAN', 'CHN')"
   ]
  },
  {
   "cell_type": "code",
   "execution_count": null,
   "id": "8294c028",
   "metadata": {
    "tags": [
     "hide-output"
    ]
   },
   "outputs": [],
   "source": [
    "%%sql \n",
    "\n",
    "SELECT * FROM cities WHERE population BETWEEN 1000000 AND 10000000"
   ]
  },
  {
   "cell_type": "markdown",
   "id": "b04b7b83",
   "metadata": {},
   "source": [
    "## SQL Joins\n",
    "\n",
    "Reference: https://www.w3schools.com/sql/sql_join.asp\n",
    "\n",
    "Here are the different types of the JOINs in SQL:\n",
    "\n",
    "- `(INNER) JOIN`: Returns records that have matching values in both tables\n",
    "- `LEFT (OUTER) JOIN`: Returns all records from the left table, and the matched records from the right table\n",
    "- `RIGHT (OUTER) JOIN`: Returns all records from the right table, and the matched records from the left table\n",
    "- `FULL (OUTER) JOIN`: Returns all records when there is a match in either left or right table\n",
    "\n",
    "![](https://i.imgur.com/mITYzuS.png)"
   ]
  },
  {
   "cell_type": "code",
   "execution_count": null,
   "id": "7deaa704",
   "metadata": {},
   "outputs": [],
   "source": [
    "%%sql \n",
    "\n",
    "SELECT COUNT(*) FROM cities"
   ]
  },
  {
   "cell_type": "code",
   "execution_count": null,
   "id": "f615a043",
   "metadata": {},
   "outputs": [],
   "source": [
    "%%sql \n",
    "\n",
    "SELECT * FROM cities LIMIT 10"
   ]
  },
  {
   "cell_type": "code",
   "execution_count": null,
   "id": "2ee93d89",
   "metadata": {},
   "outputs": [],
   "source": [
    "%%sql \n",
    "\n",
    "SELECT COUNT(*) FROM countries"
   ]
  },
  {
   "cell_type": "code",
   "execution_count": null,
   "id": "73ba98be",
   "metadata": {},
   "outputs": [],
   "source": [
    "%%sql \n",
    "\n",
    "SELECT * FROM countries LIMIT 10"
   ]
  },
  {
   "cell_type": "markdown",
   "id": "e60af5f5",
   "metadata": {},
   "source": [
    "### SQL Inner Join"
   ]
  },
  {
   "cell_type": "code",
   "execution_count": null,
   "id": "03a2aa7b",
   "metadata": {
    "tags": [
     "hide-output"
    ]
   },
   "outputs": [],
   "source": [
    "%%sql\n",
    "\n",
    "SELECT * FROM cities INNER JOIN countries ON cities.country = countries.\"Alpha3_code\""
   ]
  },
  {
   "cell_type": "code",
   "execution_count": null,
   "id": "7de5522b",
   "metadata": {
    "tags": [
     "hide-output"
    ]
   },
   "outputs": [],
   "source": [
    "%%sql\n",
    "\n",
    "SELECT name, country, countries.\"Country\" FROM cities INNER JOIN countries ON cities.country = countries.\"Alpha3_code\""
   ]
  },
  {
   "cell_type": "markdown",
   "id": "c9dbbcbf",
   "metadata": {},
   "source": [
    "### SQL Left Join"
   ]
  },
  {
   "cell_type": "code",
   "execution_count": null,
   "id": "0e69c931",
   "metadata": {
    "tags": [
     "hide-output"
    ]
   },
   "outputs": [],
   "source": [
    "%%sql\n",
    "\n",
    "SELECT * FROM cities LEFT JOIN countries ON cities.country = countries.\"Alpha3_code\""
   ]
  },
  {
   "cell_type": "markdown",
   "id": "22f9ef58",
   "metadata": {},
   "source": [
    "### SQL Right Join"
   ]
  },
  {
   "cell_type": "code",
   "execution_count": null,
   "id": "6d492d26",
   "metadata": {
    "tags": [
     "hide-output"
    ]
   },
   "outputs": [],
   "source": [
    "%%sql\n",
    "\n",
    "SELECT * FROM cities RIGHT JOIN countries ON cities.country = countries.\"Alpha3_code\""
   ]
  },
  {
   "cell_type": "markdown",
   "id": "59644b84",
   "metadata": {},
   "source": [
    "### SQL Full Join"
   ]
  },
  {
   "cell_type": "code",
   "execution_count": null,
   "id": "9cdf8ba4",
   "metadata": {
    "tags": [
     "hide-output"
    ]
   },
   "outputs": [],
   "source": [
    "%%sql\n",
    "\n",
    "SELECT * FROM cities FULL JOIN countries ON cities.country = countries.\"Alpha3_code\""
   ]
  },
  {
   "cell_type": "markdown",
   "id": "36566027",
   "metadata": {},
   "source": [
    "### SQL Union"
   ]
  },
  {
   "cell_type": "code",
   "execution_count": null,
   "id": "30c06d85",
   "metadata": {
    "tags": [
     "hide-output"
    ]
   },
   "outputs": [],
   "source": [
    "%%sql\n",
    "\n",
    "SELECT country FROM cities\n",
    "UNION \n",
    "SELECT \"Alpha3_code\" FROM countries"
   ]
  },
  {
   "cell_type": "markdown",
   "id": "96c00a08",
   "metadata": {},
   "source": [
    "## Aggregation\n",
    "\n",
    "### Group By"
   ]
  },
  {
   "cell_type": "code",
   "execution_count": null,
   "id": "fb8a1b60",
   "metadata": {
    "tags": [
     "hide-output"
    ]
   },
   "outputs": [],
   "source": [
    "%%sql\n",
    "\n",
    "SELECT COUNT(name), country \n",
    "FROM cities \n",
    "GROUP BY country \n",
    "ORDER BY COUNT(name) DESC"
   ]
  },
  {
   "cell_type": "code",
   "execution_count": null,
   "id": "528f46dd",
   "metadata": {
    "tags": [
     "hide-output"
    ]
   },
   "outputs": [],
   "source": [
    "%%sql\n",
    "\n",
    "SELECT countries.\"Country\", COUNT(name)\n",
    "FROM cities\n",
    "LEFT JOIN countries ON cities.country = countries.\"Alpha3_code\"\n",
    "GROUP BY countries.\"Country\"\n",
    "ORDER BY COUNT(name) DESC"
   ]
  },
  {
   "cell_type": "markdown",
   "id": "5965b13f",
   "metadata": {},
   "source": [
    "### Having"
   ]
  },
  {
   "cell_type": "code",
   "execution_count": null,
   "id": "4725f46a",
   "metadata": {},
   "outputs": [],
   "source": [
    "%%sql \n",
    "\n",
    "SELECT COUNT(name), country\n",
    "FROM cities\n",
    "GROUP BY country\n",
    "HAVING COUNT(name) > 40\n",
    "ORDER BY COUNT(name) DESC"
   ]
  },
  {
   "cell_type": "code",
   "execution_count": null,
   "id": "c52b7573",
   "metadata": {},
   "outputs": [],
   "source": [
    "%%sql\n",
    "\n",
    "SELECT countries.\"Country\", COUNT(name)\n",
    "FROM cities\n",
    "LEFT JOIN countries ON cities.country = countries.\"Alpha3_code\"\n",
    "GROUP BY countries.\"Country\"\n",
    "HAVING COUNT(name) > 40\n",
    "ORDER BY COUNT(name) DESC"
   ]
  },
  {
   "cell_type": "markdown",
   "id": "1c3688c8",
   "metadata": {},
   "source": [
    "## Conditional statements"
   ]
  },
  {
   "cell_type": "code",
   "execution_count": null,
   "id": "cebf85af",
   "metadata": {
    "tags": [
     "hide-output"
    ]
   },
   "outputs": [],
   "source": [
    "%%sql\n",
    "\n",
    "SELECT name, population,\n",
    "CASE\n",
    "    WHEN population > 10000000 THEN 'Megacity'\n",
    "    WHEN population > 1000000 THEN 'Large city'\n",
    "    ELSE 'Small city'\n",
    "END AS category\n",
    "FROM cities"
   ]
  },
  {
   "cell_type": "markdown",
   "id": "57c35996",
   "metadata": {},
   "source": [
    "## Saving results"
   ]
  },
  {
   "cell_type": "code",
   "execution_count": null,
   "id": "102eb42b",
   "metadata": {},
   "outputs": [],
   "source": [
    "%%sql\n",
    "\n",
    "SELECT *\n",
    "INTO cities_new\n",
    "FROM cities"
   ]
  },
  {
   "cell_type": "code",
   "execution_count": null,
   "id": "60574930",
   "metadata": {},
   "outputs": [],
   "source": [
    "%%sql\n",
    "\n",
    "DROP TABLE IF EXISTS cities_usa;\n",
    "\n",
    "SELECT *\n",
    "INTO cities_usa\n",
    "FROM cities\n",
    "WHERE country = 'USA'"
   ]
  },
  {
   "cell_type": "code",
   "execution_count": null,
   "id": "e02e59fc",
   "metadata": {},
   "outputs": [],
   "source": [
    "%%sql \n",
    "\n",
    "INSERT INTO cities_usa\n",
    "SELECT *\n",
    "FROM cities\n",
    "WHERE country = 'CAN'"
   ]
  },
  {
   "cell_type": "markdown",
   "id": "77a92639",
   "metadata": {},
   "source": [
    "## SQL Comments\n",
    "\n",
    "### Single line coments"
   ]
  },
  {
   "cell_type": "code",
   "execution_count": null,
   "id": "21c43e9a",
   "metadata": {},
   "outputs": [],
   "source": [
    "%%sql\n",
    "\n",
    "SELECT * FROM cities LIMIT 10 -- This is a comment;"
   ]
  },
  {
   "cell_type": "markdown",
   "id": "68cdc940",
   "metadata": {},
   "source": [
    "### Multi-line comments"
   ]
  },
  {
   "cell_type": "code",
   "execution_count": null,
   "id": "96cc3b46",
   "metadata": {},
   "outputs": [],
   "source": [
    "%%sql\n",
    "\n",
    "SELECT COUNT(name), country \n",
    "FROM cities \n",
    "/*\n",
    " * Adding Group by\n",
    " * Adding Order by\n",
    " */\n",
    "GROUP BY country \n",
    "ORDER BY COUNT(name) DESC\n",
    "LIMIT 10"
   ]
  },
  {
   "cell_type": "code",
   "execution_count": null,
   "id": "741d3a0f",
   "metadata": {},
   "outputs": [],
   "source": []
  }
 ],
 "metadata": {
  "jupytext": {
   "text_representation": {
    "extension": ".md",
    "format_name": "myst",
    "format_version": 0.13,
    "jupytext_version": "1.14.5"
   }
  },
  "kernelspec": {
   "display_name": "Python 3",
   "language": "python",
   "name": "python3"
  },
  "source_map": [
   12,
   29,
   33,
   37,
   41,
   48,
   52,
   56,
   60,
   64,
   72,
   78,
   84,
   90,
   96,
   102,
   108,
   114,
   120,
   124,
   128,
   136,
   144,
   152,
   160,
   168,
   176,
   184,
   190,
   205,
   211,
   217,
   223,
   227,
   231,
   239,
   245,
   249,
   255,
   259,
   265,
   269,
   275,
   279,
   287,
   293,
   304,
   314,
   318,
   328,
   337,
   341,
   353,
   357,
   365,
   376,
   383,
   389,
   393,
   397,
   411
  ]
 },
 "nbformat": 4,
 "nbformat_minor": 5
}