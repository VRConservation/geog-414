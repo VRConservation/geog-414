{
 "cells": [
  {
   "cell_type": "markdown",
   "id": "039ab8a5",
   "metadata": {},
   "source": [
    "# SQL Basics\n",
    "\n",
    "**Setting up the conda env:**\n",
    "\n",
    "```\n",
    "conda create -n sql python\n",
    "conda activate sql\n",
    "conda install ipython-sql sqlalchemy psycopg2 notebook pandas -c conda-forge\n",
    "```\n",
    "\n",
    "\n",
    "**Sample dataset:**\n",
    "- [cities.csv](https://github.com/giswqs/postgis/blob/master/data/cities.csv)\n",
    "- [countries.csv](https://raw.githubusercontent.com/giswqs/postgis/master/data/countries.csv)"
   ]
  },
  {
   "cell_type": "markdown",
   "id": "3b41ad10",
   "metadata": {},
   "source": [
    "## Connecting to the database"
   ]
  },
  {
   "cell_type": "code",
   "execution_count": null,
   "id": "d248a6b5",
   "metadata": {},
   "outputs": [],
   "source": [
    "%load_ext sql"
   ]
  },
  {
   "cell_type": "code",
   "execution_count": null,
   "id": "a17ca425",
   "metadata": {},
   "outputs": [],
   "source": [
    "import os"
   ]
  },
  {
   "cell_type": "code",
   "execution_count": null,
   "id": "ee603c61",
   "metadata": {},
   "outputs": [],
   "source": [
    "host = \"localhost\"\n",
    "database = \"sdb\"\n",
    "user = os.getenv('SQL_USER')\n",
    "password = os.getenv('SQL_PASSWORD')"
   ]
  },
  {
   "cell_type": "code",
   "execution_count": null,
   "id": "40027c50",
   "metadata": {},
   "outputs": [],
   "source": [
    "connection_string = f\"postgresql://{user}:{password}@{host}/{database}\""
   ]
  },
  {
   "cell_type": "code",
   "execution_count": null,
   "id": "8324c9b1",
   "metadata": {},
   "outputs": [],
   "source": [
    "%sql $connection_string"
   ]
  },
  {
   "cell_type": "code",
   "execution_count": null,
   "id": "ef9ed25a",
   "metadata": {},
   "outputs": [],
   "source": [
    "%%sql \n",
    "\n",
    "SELECT * FROM cities LIMIT 10"
   ]
  },
  {
   "cell_type": "markdown",
   "id": "3afac086",
   "metadata": {},
   "source": [
    "## The SQL SELECT statement"
   ]
  },
  {
   "cell_type": "code",
   "execution_count": null,
   "id": "2dedc1ac",
   "metadata": {
    "tags": [
     "hide-output"
    ]
   },
   "outputs": [],
   "source": [
    "%%sql \n",
    "\n",
    "SELECT * FROM cities"
   ]
  },
  {
   "cell_type": "code",
   "execution_count": null,
   "id": "f7d508a3",
   "metadata": {},
   "outputs": [],
   "source": [
    "%%sql\n",
    "\n",
    "SELECT * FROM cities LIMIT 10"
   ]
  },
  {
   "cell_type": "code",
   "execution_count": null,
   "id": "3cd495a0",
   "metadata": {},
   "outputs": [],
   "source": [
    "%%sql\n",
    "\n",
    "SELECT name, country FROM cities LIMIT 10"
   ]
  },
  {
   "cell_type": "code",
   "execution_count": null,
   "id": "d4356c57",
   "metadata": {},
   "outputs": [],
   "source": [
    "%%sql\n",
    "\n",
    "SELECT DISTINCT country FROM cities LIMIT 10"
   ]
  },
  {
   "cell_type": "code",
   "execution_count": null,
   "id": "43807ef0",
   "metadata": {},
   "outputs": [],
   "source": [
    "%%sql\n",
    "\n",
    "SELECT COUNT(DISTINCT country) FROM cities"
   ]
  },
  {
   "cell_type": "code",
   "execution_count": null,
   "id": "f322ea77",
   "metadata": {},
   "outputs": [],
   "source": [
    "%%sql\n",
    "\n",
    "SELECT MAX(population) FROM cities"
   ]
  },
  {
   "cell_type": "code",
   "execution_count": null,
   "id": "6e83b07c",
   "metadata": {},
   "outputs": [],
   "source": [
    "%%sql\n",
    "\n",
    "SELECT SUM(population) FROM cities"
   ]
  },
  {
   "cell_type": "code",
   "execution_count": null,
   "id": "629ed0b5",
   "metadata": {},
   "outputs": [],
   "source": [
    "%%sql\n",
    "\n",
    "SELECT AVG(population) FROM cities"
   ]
  },
  {
   "cell_type": "code",
   "execution_count": null,
   "id": "10833ed8",
   "metadata": {},
   "outputs": [],
   "source": [
    "%%sql\n",
    "\n",
    "SELECT * FROM cities ORDER BY country LIMIT 10"
   ]
  },
  {
   "cell_type": "code",
   "execution_count": null,
   "id": "425c8816",
   "metadata": {},
   "outputs": [],
   "source": [
    "%%sql \n",
    "\n",
    "SELECT * FROM cities ORDER BY country ASC, population DESC LIMIT 10"
   ]
  },
  {
   "cell_type": "markdown",
   "id": "2a35fb0d",
   "metadata": {},
   "source": [
    "## The WHERE Clause"
   ]
  },
  {
   "cell_type": "code",
   "execution_count": null,
   "id": "7cab47ef",
   "metadata": {
    "tags": [
     "hide-output"
    ]
   },
   "outputs": [],
   "source": [
    "%%sql\n",
    "\n",
    "SELECT * FROM cities WHERE country='USA'"
   ]
  },
  {
   "cell_type": "code",
   "execution_count": null,
   "id": "43599151",
   "metadata": {
    "tags": [
     "hide-output"
    ]
   },
   "outputs": [],
   "source": [
    "%%sql\n",
    "\n",
    "SELECT * FROM cities WHERE country='USA' OR country='CAN'"
   ]
  },
  {
   "cell_type": "code",
   "execution_count": null,
   "id": "35197480",
   "metadata": {
    "tags": [
     "hide-output"
    ]
   },
   "outputs": [],
   "source": [
    "%%sql \n",
    "\n",
    "SELECT * FROM cities WHERE country='USA' AND population>1000000"
   ]
  },
  {
   "cell_type": "code",
   "execution_count": null,
   "id": "1275f592",
   "metadata": {
    "tags": [
     "hide-output"
    ]
   },
   "outputs": [],
   "source": [
    "%%sql\n",
    "\n",
    "SELECT * FROM cities WHERE country LIKE 'U%'"
   ]
  },
  {
   "cell_type": "code",
   "execution_count": null,
   "id": "bb5cfd34",
   "metadata": {
    "tags": [
     "hide-output"
    ]
   },
   "outputs": [],
   "source": [
    "%%sql\n",
    "\n",
    "SELECT * FROM cities WHERE country LIKE '%A'"
   ]
  },
  {
   "cell_type": "code",
   "execution_count": null,
   "id": "3e2fcb32",
   "metadata": {
    "tags": [
     "hide-output"
    ]
   },
   "outputs": [],
   "source": [
    "%%sql \n",
    "\n",
    "SELECT * FROM cities WHERE country LIKE '_S_'"
   ]
  },
  {
   "cell_type": "code",
   "execution_count": null,
   "id": "264143f0",
   "metadata": {
    "tags": [
     "hide-output"
    ]
   },
   "outputs": [],
   "source": [
    "%%sql\n",
    "\n",
    "SELECT * FROM cities WHERE country IN ('USA', 'CAN', 'CHN')"
   ]
  },
  {
   "cell_type": "code",
   "execution_count": null,
   "id": "de22397c",
   "metadata": {
    "tags": [
     "hide-output"
    ]
   },
   "outputs": [],
   "source": [
    "%%sql \n",
    "\n",
    "SELECT * FROM cities WHERE population BETWEEN 1000000 AND 10000000"
   ]
  },
  {
   "cell_type": "markdown",
   "id": "964263bc",
   "metadata": {},
   "source": [
    "## SQL Joins\n",
    "\n",
    "Reference: https://www.w3schools.com/sql/sql_join.asp\n",
    "\n",
    "Here are the different types of the JOINs in SQL:\n",
    "\n",
    "- `(INNER) JOIN`: Returns records that have matching values in both tables\n",
    "- `LEFT (OUTER) JOIN`: Returns all records from the left table, and the matched records from the right table\n",
    "- `RIGHT (OUTER) JOIN`: Returns all records from the right table, and the matched records from the left table\n",
    "- `FULL (OUTER) JOIN`: Returns all records when there is a match in either left or right table\n",
    "\n",
    "![](https://i.imgur.com/mITYzuS.png)"
   ]
  },
  {
   "cell_type": "code",
   "execution_count": null,
   "id": "1058c1b8",
   "metadata": {},
   "outputs": [],
   "source": [
    "%%sql \n",
    "\n",
    "SELECT COUNT(*) FROM cities"
   ]
  },
  {
   "cell_type": "code",
   "execution_count": null,
   "id": "4977b95e",
   "metadata": {},
   "outputs": [],
   "source": [
    "%%sql \n",
    "\n",
    "SELECT * FROM cities LIMIT 10"
   ]
  },
  {
   "cell_type": "code",
   "execution_count": null,
   "id": "07b7168d",
   "metadata": {},
   "outputs": [],
   "source": [
    "%%sql \n",
    "\n",
    "SELECT COUNT(*) FROM countries"
   ]
  },
  {
   "cell_type": "code",
   "execution_count": null,
   "id": "3aa09e01",
   "metadata": {},
   "outputs": [],
   "source": [
    "%%sql \n",
    "\n",
    "SELECT * FROM countries LIMIT 10"
   ]
  },
  {
   "cell_type": "markdown",
   "id": "15400420",
   "metadata": {},
   "source": [
    "### SQL Inner Join"
   ]
  },
  {
   "cell_type": "code",
   "execution_count": null,
   "id": "5c7aba2c",
   "metadata": {
    "tags": [
     "hide-output"
    ]
   },
   "outputs": [],
   "source": [
    "%%sql\n",
    "\n",
    "SELECT * FROM cities INNER JOIN countries ON cities.country = countries.\"Alpha3_code\""
   ]
  },
  {
   "cell_type": "code",
   "execution_count": null,
   "id": "6552401f",
   "metadata": {
    "tags": [
     "hide-output"
    ]
   },
   "outputs": [],
   "source": [
    "%%sql\n",
    "\n",
    "SELECT name, country, countries.\"Country\" FROM cities INNER JOIN countries ON cities.country = countries.\"Alpha3_code\""
   ]
  },
  {
   "cell_type": "markdown",
   "id": "21db6e78",
   "metadata": {},
   "source": [
    "### SQL Left Join"
   ]
  },
  {
   "cell_type": "code",
   "execution_count": null,
   "id": "9a3b3b06",
   "metadata": {
    "tags": [
     "hide-output"
    ]
   },
   "outputs": [],
   "source": [
    "%%sql\n",
    "\n",
    "SELECT * FROM cities LEFT JOIN countries ON cities.country = countries.\"Alpha3_code\""
   ]
  },
  {
   "cell_type": "markdown",
   "id": "fd19855d",
   "metadata": {},
   "source": [
    "### SQL Right Join"
   ]
  },
  {
   "cell_type": "code",
   "execution_count": null,
   "id": "93bd7503",
   "metadata": {
    "tags": [
     "hide-output"
    ]
   },
   "outputs": [],
   "source": [
    "%%sql\n",
    "\n",
    "SELECT * FROM cities RIGHT JOIN countries ON cities.country = countries.\"Alpha3_code\""
   ]
  },
  {
   "cell_type": "markdown",
   "id": "996c8070",
   "metadata": {},
   "source": [
    "### SQL Full Join"
   ]
  },
  {
   "cell_type": "code",
   "execution_count": null,
   "id": "e27d9e84",
   "metadata": {
    "tags": [
     "hide-output"
    ]
   },
   "outputs": [],
   "source": [
    "%%sql\n",
    "\n",
    "SELECT * FROM cities FULL JOIN countries ON cities.country = countries.\"Alpha3_code\""
   ]
  },
  {
   "cell_type": "markdown",
   "id": "12130c63",
   "metadata": {},
   "source": [
    "### SQL Union"
   ]
  },
  {
   "cell_type": "code",
   "execution_count": null,
   "id": "a527a8ec",
   "metadata": {
    "tags": [
     "hide-output"
    ]
   },
   "outputs": [],
   "source": [
    "%%sql\n",
    "\n",
    "SELECT country FROM cities\n",
    "UNION \n",
    "SELECT \"Alpha3_code\" FROM countries"
   ]
  },
  {
   "cell_type": "markdown",
   "id": "cbc03e05",
   "metadata": {},
   "source": [
    "## Aggregation\n",
    "\n",
    "### Group By"
   ]
  },
  {
   "cell_type": "code",
   "execution_count": null,
   "id": "80fd6989",
   "metadata": {
    "tags": [
     "hide-output"
    ]
   },
   "outputs": [],
   "source": [
    "%%sql\n",
    "\n",
    "SELECT COUNT(name), country \n",
    "FROM cities \n",
    "GROUP BY country \n",
    "ORDER BY COUNT(name) DESC"
   ]
  },
  {
   "cell_type": "code",
   "execution_count": null,
   "id": "a9783254",
   "metadata": {
    "tags": [
     "hide-output"
    ]
   },
   "outputs": [],
   "source": [
    "%%sql\n",
    "\n",
    "SELECT countries.\"Country\", COUNT(name)\n",
    "FROM cities\n",
    "LEFT JOIN countries ON cities.country = countries.\"Alpha3_code\"\n",
    "GROUP BY countries.\"Country\"\n",
    "ORDER BY COUNT(name) DESC"
   ]
  },
  {
   "cell_type": "markdown",
   "id": "efd28805",
   "metadata": {},
   "source": [
    "### Having"
   ]
  },
  {
   "cell_type": "code",
   "execution_count": null,
   "id": "b2e0df00",
   "metadata": {},
   "outputs": [],
   "source": [
    "%%sql \n",
    "\n",
    "SELECT COUNT(name), country\n",
    "FROM cities\n",
    "GROUP BY country\n",
    "HAVING COUNT(name) > 40\n",
    "ORDER BY COUNT(name) DESC"
   ]
  },
  {
   "cell_type": "code",
   "execution_count": null,
   "id": "a6d96d6b",
   "metadata": {},
   "outputs": [],
   "source": [
    "%%sql\n",
    "\n",
    "SELECT countries.\"Country\", COUNT(name)\n",
    "FROM cities\n",
    "LEFT JOIN countries ON cities.country = countries.\"Alpha3_code\"\n",
    "GROUP BY countries.\"Country\"\n",
    "HAVING COUNT(name) > 40\n",
    "ORDER BY COUNT(name) DESC"
   ]
  },
  {
   "cell_type": "markdown",
   "id": "ade7814b",
   "metadata": {},
   "source": [
    "## Conditional statements"
   ]
  },
  {
   "cell_type": "code",
   "execution_count": null,
   "id": "ed838aa5",
   "metadata": {
    "tags": [
     "hide-output"
    ]
   },
   "outputs": [],
   "source": [
    "%%sql\n",
    "\n",
    "SELECT name, population,\n",
    "CASE\n",
    "    WHEN population > 10000000 THEN 'Megacity'\n",
    "    WHEN population > 1000000 THEN 'Large city'\n",
    "    ELSE 'Small city'\n",
    "END AS category\n",
    "FROM cities"
   ]
  },
  {
   "cell_type": "markdown",
   "id": "fe87c5a7",
   "metadata": {},
   "source": [
    "## Saving results"
   ]
  },
  {
   "cell_type": "code",
   "execution_count": null,
   "id": "da647273",
   "metadata": {},
   "outputs": [],
   "source": [
    "%%sql\n",
    "\n",
    "SELECT *\n",
    "INTO cities_new\n",
    "FROM cities"
   ]
  },
  {
   "cell_type": "code",
   "execution_count": null,
   "id": "ad602195",
   "metadata": {},
   "outputs": [],
   "source": [
    "%%sql\n",
    "\n",
    "DROP TABLE IF EXISTS cities_usa;\n",
    "\n",
    "SELECT *\n",
    "INTO cities_usa\n",
    "FROM cities\n",
    "WHERE country = 'USA'"
   ]
  },
  {
   "cell_type": "code",
   "execution_count": null,
   "id": "93605f8b",
   "metadata": {},
   "outputs": [],
   "source": [
    "%%sql \n",
    "\n",
    "INSERT INTO cities_usa\n",
    "SELECT *\n",
    "FROM cities\n",
    "WHERE country = 'CAN'"
   ]
  },
  {
   "cell_type": "markdown",
   "id": "8db8de5f",
   "metadata": {},
   "source": [
    "## SQL Comments\n",
    "\n",
    "### Single line coments"
   ]
  },
  {
   "cell_type": "code",
   "execution_count": null,
   "id": "1cd5d270",
   "metadata": {},
   "outputs": [],
   "source": [
    "%%sql\n",
    "\n",
    "SELECT * FROM cities LIMIT 10 -- This is a comment;"
   ]
  },
  {
   "cell_type": "markdown",
   "id": "386a6044",
   "metadata": {},
   "source": [
    "### Multi-line comments"
   ]
  },
  {
   "cell_type": "code",
   "execution_count": null,
   "id": "37697bf8",
   "metadata": {},
   "outputs": [],
   "source": [
    "%%sql\n",
    "\n",
    "SELECT COUNT(name), country \n",
    "FROM cities \n",
    "/*\n",
    " * Adding Group by\n",
    " * Adding Order by\n",
    " */\n",
    "GROUP BY country \n",
    "ORDER BY COUNT(name) DESC\n",
    "LIMIT 10"
   ]
  },
  {
   "cell_type": "code",
   "execution_count": null,
   "id": "8199dcc7",
   "metadata": {},
   "outputs": [],
   "source": []
  }
 ],
 "metadata": {
  "jupytext": {
   "text_representation": {
    "extension": ".md",
    "format_name": "myst",
    "format_version": 0.13,
    "jupytext_version": "1.14.5"
   }
  },
  "kernelspec": {
   "display_name": "Python 3",
   "language": "python",
   "name": "python3"
  },
  "source_map": [
   12,
   29,
   33,
   37,
   41,
   48,
   52,
   56,
   60,
   64,
   72,
   78,
   84,
   90,
   96,
   102,
   108,
   114,
   120,
   124,
   128,
   136,
   144,
   152,
   160,
   168,
   176,
   184,
   190,
   205,
   211,
   217,
   223,
   227,
   231,
   239,
   245,
   249,
   255,
   259,
   265,
   269,
   275,
   279,
   287,
   293,
   304,
   314,
   318,
   328,
   337,
   341,
   353,
   357,
   365,
   376,
   383,
   389,
   393,
   397,
   411
  ]
 },
 "nbformat": 4,
 "nbformat_minor": 5
}