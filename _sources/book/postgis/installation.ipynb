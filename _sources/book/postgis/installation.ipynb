{
 "cells": [
  {
   "cell_type": "markdown",
   "id": "2e4d2739",
   "metadata": {},
   "source": [
    "# Installation\n",
    "\n",
    "**Setting up the conda env:**\n",
    "\n",
    "```\n",
    "conda create -n sql python\n",
    "conda activate sql\n",
    "conda install ipython-sql sqlalchemy psycopg2 notebook pandas -c conda-forge\n",
    "```\n",
    "\n",
    "**Sample dataset:**\n",
    "- [cities.csv](https://github.com/giswqs/postgis/blob/master/data/cities.csv)"
   ]
  },
  {
   "cell_type": "markdown",
   "id": "5f4eb29c",
   "metadata": {},
   "source": [
    "## Using ipython-sql"
   ]
  },
  {
   "cell_type": "code",
   "execution_count": null,
   "id": "5830d4fe",
   "metadata": {},
   "outputs": [],
   "source": [
    "%load_ext sql"
   ]
  },
  {
   "cell_type": "code",
   "execution_count": null,
   "id": "7e4f709e",
   "metadata": {},
   "outputs": [],
   "source": [
    "import os"
   ]
  },
  {
   "cell_type": "code",
   "execution_count": null,
   "id": "7cdbf9e4",
   "metadata": {},
   "outputs": [],
   "source": [
    "host = \"localhost\"\n",
    "database = \"sdb\"\n",
    "user = os.getenv('SQL_USER')\n",
    "password = os.getenv('SQL_PASSWORD')"
   ]
  },
  {
   "cell_type": "code",
   "execution_count": null,
   "id": "5323413d",
   "metadata": {},
   "outputs": [],
   "source": [
    "connection_string = f\"postgresql://{user}:{password}@{host}/{database}\""
   ]
  },
  {
   "cell_type": "code",
   "execution_count": null,
   "id": "4ee40d52",
   "metadata": {},
   "outputs": [],
   "source": [
    "%sql $connection_string"
   ]
  },
  {
   "cell_type": "code",
   "execution_count": null,
   "id": "322939f8",
   "metadata": {},
   "outputs": [],
   "source": [
    "%%sql \n",
    "\n",
    "SELECT * from cities LIMIT 10"
   ]
  },
  {
   "cell_type": "code",
   "execution_count": null,
   "id": "e9791d05",
   "metadata": {
    "tags": [
     "remove-output"
    ]
   },
   "outputs": [],
   "source": [
    "%%sql \n",
    "\n",
    "SELECT * from cities"
   ]
  },
  {
   "cell_type": "markdown",
   "id": "dc09c373",
   "metadata": {},
   "source": [
    "## Using sqlalchemy"
   ]
  },
  {
   "cell_type": "code",
   "execution_count": null,
   "id": "60c9a1dc",
   "metadata": {},
   "outputs": [],
   "source": [
    "from sqlalchemy import create_engine"
   ]
  },
  {
   "cell_type": "code",
   "execution_count": null,
   "id": "1c600a38",
   "metadata": {},
   "outputs": [],
   "source": [
    "engine = create_engine(connection_string)"
   ]
  },
  {
   "cell_type": "code",
   "execution_count": null,
   "id": "9c6ee47f",
   "metadata": {},
   "outputs": [],
   "source": [
    "from sqlalchemy import inspect"
   ]
  },
  {
   "cell_type": "code",
   "execution_count": null,
   "id": "0c93b296",
   "metadata": {},
   "outputs": [],
   "source": [
    "insp = inspect(engine)\n",
    "insp.get_table_names()"
   ]
  },
  {
   "cell_type": "code",
   "execution_count": null,
   "id": "6c0ac8c9",
   "metadata": {},
   "outputs": [],
   "source": [
    "import pandas as pd"
   ]
  },
  {
   "cell_type": "code",
   "execution_count": null,
   "id": "cfbad18f",
   "metadata": {},
   "outputs": [],
   "source": [
    "df = pd.read_sql('SELECT * from cities LIMIT 10', engine)"
   ]
  },
  {
   "cell_type": "code",
   "execution_count": null,
   "id": "5ea75bf9",
   "metadata": {},
   "outputs": [],
   "source": [
    "df"
   ]
  },
  {
   "cell_type": "code",
   "execution_count": null,
   "id": "3247ead6",
   "metadata": {},
   "outputs": [],
   "source": []
  }
 ],
 "metadata": {
  "jupytext": {
   "text_representation": {
    "extension": ".md",
    "format_name": "myst",
    "format_version": 0.13,
    "jupytext_version": "1.14.5"
   }
  },
  "kernelspec": {
   "display_name": "Python 3",
   "language": "python",
   "name": "python3"
  },
  "source_map": [
   12,
   27,
   31,
   35,
   39,
   46,
   50,
   54,
   60,
   66,
   70,
   74,
   78,
   82,
   87,
   91,
   95,
   99
  ]
 },
 "nbformat": 4,
 "nbformat_minor": 5
}