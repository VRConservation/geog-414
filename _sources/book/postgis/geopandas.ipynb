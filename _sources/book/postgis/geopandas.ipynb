{
 "cells": [
  {
   "cell_type": "markdown",
   "id": "ad843afe",
   "metadata": {},
   "source": [
    "# Using GeoPandas\n",
    "\n",
    "**Setting up the conda env:**\n",
    "\n",
    "```\n",
    "conda create -n geo python=3.8\n",
    "conda activate geo\n",
    "conda install mamba -c conda-forge\n",
    "mamba install geemap geopandas descartes rtree=0.9.3 -c conda-forge\n",
    "mamba install ipython-sql sqlalchemy psycopg2 -c conda-forge\n",
    "```\n",
    "\n",
    "**Sample dataset:**\n",
    "- [nyc_data.zip](https://github.com/giswqs/postgis/raw/master/data/nyc_data.zip) (Watch this [video](https://youtu.be/fROzLrjNDrs) to load data into PostGIS)\n",
    "\n",
    "**References**:\n",
    "- [Introduction to PostGIS](https://postgis.net/workshops/postgis-intro)\n",
    "- [Using SQL with Geodatabases](https://desktop.arcgis.com/en/arcmap/latest/manage-data/using-sql-with-gdbs/sql-and-enterprise-geodatabases.htm)"
   ]
  },
  {
   "cell_type": "markdown",
   "id": "d18e771e",
   "metadata": {},
   "source": [
    "## Connecting to the database"
   ]
  },
  {
   "cell_type": "code",
   "execution_count": null,
   "id": "0952dd0b",
   "metadata": {},
   "outputs": [],
   "source": [
    "import os\n",
    "from sqlalchemy import create_engine"
   ]
  },
  {
   "cell_type": "code",
   "execution_count": null,
   "id": "2d3b6844",
   "metadata": {},
   "outputs": [],
   "source": [
    "host = \"localhost\"\n",
    "database = \"nyc\"\n",
    "user = os.getenv('SQL_USER')\n",
    "password = os.getenv('SQL_PASSWORD')"
   ]
  },
  {
   "cell_type": "code",
   "execution_count": null,
   "id": "a50e799a",
   "metadata": {},
   "outputs": [],
   "source": [
    "connection_string = f\"postgresql://{user}:{password}@{host}/{database}\""
   ]
  },
  {
   "cell_type": "code",
   "execution_count": null,
   "id": "f5408d68",
   "metadata": {},
   "outputs": [],
   "source": [
    "engine = create_engine(connection_string)"
   ]
  },
  {
   "cell_type": "code",
   "execution_count": null,
   "id": "4022e34d",
   "metadata": {},
   "outputs": [],
   "source": [
    "from sqlalchemy import inspect"
   ]
  },
  {
   "cell_type": "code",
   "execution_count": null,
   "id": "1d24de42",
   "metadata": {},
   "outputs": [],
   "source": [
    "insp = inspect(engine)\n",
    "insp.get_table_names()"
   ]
  },
  {
   "cell_type": "markdown",
   "id": "3e65c845",
   "metadata": {},
   "source": [
    "## Reading data from PostGIS"
   ]
  },
  {
   "cell_type": "code",
   "execution_count": null,
   "id": "6900796d",
   "metadata": {},
   "outputs": [],
   "source": [
    "import geopandas as gpd"
   ]
  },
  {
   "cell_type": "code",
   "execution_count": null,
   "id": "0e8d6d45",
   "metadata": {},
   "outputs": [],
   "source": [
    "sql = 'SELECT * FROM nyc_neighborhoods'"
   ]
  },
  {
   "cell_type": "code",
   "execution_count": null,
   "id": "d0d53d19",
   "metadata": {},
   "outputs": [],
   "source": [
    "gdf = gpd.read_postgis(sql, con=engine)"
   ]
  },
  {
   "cell_type": "code",
   "execution_count": null,
   "id": "4e829b0a",
   "metadata": {},
   "outputs": [],
   "source": [
    "gdf"
   ]
  },
  {
   "cell_type": "code",
   "execution_count": null,
   "id": "9867b0ef",
   "metadata": {},
   "outputs": [],
   "source": [
    "gdf.crs"
   ]
  },
  {
   "cell_type": "markdown",
   "id": "41810cbc",
   "metadata": {},
   "source": [
    "## Writing files"
   ]
  },
  {
   "cell_type": "code",
   "execution_count": null,
   "id": "bcff3378",
   "metadata": {},
   "outputs": [],
   "source": [
    "out_dir = os.path.expanduser('~/Downloads')\n",
    "if not os.path.exists(out_dir):\n",
    "    os.makedirs(out_dir)"
   ]
  },
  {
   "cell_type": "code",
   "execution_count": null,
   "id": "6dac856a",
   "metadata": {},
   "outputs": [],
   "source": [
    "out_json = os.path.join(out_dir, 'nyc_neighborhoods.geojson')\n",
    "gdf.to_file(out_json, driver=\"GeoJSON\")"
   ]
  },
  {
   "cell_type": "code",
   "execution_count": null,
   "id": "720b8414",
   "metadata": {},
   "outputs": [],
   "source": [
    "out_shp = os.path.join(out_dir, 'nyc_neighborhoods.shp')\n",
    "gdf.to_file(out_shp)"
   ]
  },
  {
   "cell_type": "code",
   "execution_count": null,
   "id": "65418ee7",
   "metadata": {},
   "outputs": [],
   "source": [
    "gdf.crs"
   ]
  },
  {
   "cell_type": "markdown",
   "id": "a91e313d",
   "metadata": {},
   "source": [
    "## Measuring area"
   ]
  },
  {
   "cell_type": "code",
   "execution_count": null,
   "id": "dd662afd",
   "metadata": {},
   "outputs": [],
   "source": [
    "gdf = gdf.set_index(\"name\")"
   ]
  },
  {
   "cell_type": "code",
   "execution_count": null,
   "id": "421a5102",
   "metadata": {},
   "outputs": [],
   "source": [
    "gdf[\"area\"] = gdf.area\n",
    "gdf[\"area\"]"
   ]
  },
  {
   "cell_type": "markdown",
   "id": "a0d4da4b",
   "metadata": {},
   "source": [
    "## Getting polygon bounary"
   ]
  },
  {
   "cell_type": "code",
   "execution_count": null,
   "id": "94dd5002",
   "metadata": {},
   "outputs": [],
   "source": [
    "gdf['boundary'] = gdf.boundary\n",
    "gdf['boundary']"
   ]
  },
  {
   "cell_type": "markdown",
   "id": "6664581f",
   "metadata": {},
   "source": [
    "## Getting polygon centroid"
   ]
  },
  {
   "cell_type": "code",
   "execution_count": null,
   "id": "c240173d",
   "metadata": {},
   "outputs": [],
   "source": [
    "gdf['centroid'] = gdf.centroid\n",
    "gdf['centroid']"
   ]
  },
  {
   "cell_type": "markdown",
   "id": "42b348d1",
   "metadata": {},
   "source": [
    "## Making maps"
   ]
  },
  {
   "cell_type": "code",
   "execution_count": null,
   "id": "f8d6a7ad",
   "metadata": {},
   "outputs": [],
   "source": [
    "gdf.plot()"
   ]
  },
  {
   "cell_type": "code",
   "execution_count": null,
   "id": "90c50b1b",
   "metadata": {},
   "outputs": [],
   "source": [
    "gdf.plot(\"area\", legend=True, figsize=(10, 8))"
   ]
  },
  {
   "cell_type": "code",
   "execution_count": null,
   "id": "9f9ffdf9",
   "metadata": {},
   "outputs": [],
   "source": [
    "gdf = gdf.set_geometry(\"centroid\")\n",
    "gdf.plot(\"area\", legend=True,figsize=(10, 8))"
   ]
  },
  {
   "cell_type": "code",
   "execution_count": null,
   "id": "d6def34a",
   "metadata": {},
   "outputs": [],
   "source": [
    "ax = gdf[\"geom\"].plot(figsize=(10, 8))\n",
    "gdf[\"centroid\"].plot(ax=ax, color=\"black\")"
   ]
  },
  {
   "cell_type": "code",
   "execution_count": null,
   "id": "f0d473c7",
   "metadata": {},
   "outputs": [],
   "source": [
    "gdf = gdf.set_geometry(\"geom\")"
   ]
  },
  {
   "cell_type": "markdown",
   "id": "fae90ea6",
   "metadata": {},
   "source": [
    "## Reprojecting data"
   ]
  },
  {
   "cell_type": "code",
   "execution_count": null,
   "id": "891e4dbe",
   "metadata": {},
   "outputs": [],
   "source": [
    "sql = 'SELECT * FROM nyc_neighborhoods'"
   ]
  },
  {
   "cell_type": "code",
   "execution_count": null,
   "id": "fa9170b9",
   "metadata": {},
   "outputs": [],
   "source": [
    "gdf = gpd.read_postgis(sql, con=engine)"
   ]
  },
  {
   "cell_type": "code",
   "execution_count": null,
   "id": "10a860e0",
   "metadata": {},
   "outputs": [],
   "source": [
    "gdf_crs = gdf.to_crs(epsg=\"4326\")"
   ]
  },
  {
   "cell_type": "code",
   "execution_count": null,
   "id": "205369cb",
   "metadata": {},
   "outputs": [],
   "source": [
    "gdf_crs"
   ]
  },
  {
   "cell_type": "code",
   "execution_count": null,
   "id": "e9871109",
   "metadata": {},
   "outputs": [],
   "source": [
    "geojson = gdf_crs.__geo_interface__"
   ]
  },
  {
   "cell_type": "markdown",
   "id": "ad4dfb8a",
   "metadata": {},
   "source": [
    "## Displaying data on an interative map"
   ]
  },
  {
   "cell_type": "code",
   "execution_count": null,
   "id": "53394378",
   "metadata": {},
   "outputs": [],
   "source": [
    "import geemap"
   ]
  },
  {
   "cell_type": "code",
   "execution_count": null,
   "id": "59bf93fb",
   "metadata": {},
   "outputs": [],
   "source": [
    "m = geemap.Map(center=[40.7341, -73.9113], zoom=10, ee_initialize=False)\n",
    "m"
   ]
  },
  {
   "cell_type": "code",
   "execution_count": null,
   "id": "22fd1859",
   "metadata": {},
   "outputs": [],
   "source": [
    "style = {\n",
    "    \"stroke\": True,\n",
    "    \"color\": \"#000000\",\n",
    "    \"weight\": 2,\n",
    "    \"opacity\": 1,\n",
    "    \"fill\": True,\n",
    "    \"fillColor\": \"#0000ff\",\n",
    "    \"fillOpacity\": 0.4,\n",
    "}"
   ]
  },
  {
   "cell_type": "code",
   "execution_count": null,
   "id": "3467c7ff",
   "metadata": {},
   "outputs": [],
   "source": [
    "m.add_geojson(geojson, style=style, layer_name=\"nyc neighborhoods\")"
   ]
  },
  {
   "cell_type": "code",
   "execution_count": null,
   "id": "50e275eb",
   "metadata": {},
   "outputs": [],
   "source": [
    "sql2 = 'SELECT * FROM nyc_subway_stations'"
   ]
  },
  {
   "cell_type": "code",
   "execution_count": null,
   "id": "24fd7879",
   "metadata": {},
   "outputs": [],
   "source": [
    "gdf_subway = gpd.read_postgis(sql2, con=engine)"
   ]
  },
  {
   "cell_type": "code",
   "execution_count": null,
   "id": "f6c62766",
   "metadata": {},
   "outputs": [],
   "source": [
    "gdf_subway_crs = gdf_subway.to_crs(epsg=\"4326\")"
   ]
  },
  {
   "cell_type": "code",
   "execution_count": null,
   "id": "d33d0af5",
   "metadata": {},
   "outputs": [],
   "source": [
    "subway_geojson = gdf_subway_crs.__geo_interface__"
   ]
  },
  {
   "cell_type": "code",
   "execution_count": null,
   "id": "7962c8eb",
   "metadata": {},
   "outputs": [],
   "source": [
    "m.add_geojson(subway_geojson, layer_name=\"nyc subway stations\")"
   ]
  },
  {
   "cell_type": "code",
   "execution_count": null,
   "id": "f9ae2349",
   "metadata": {},
   "outputs": [],
   "source": [
    "sql3 = \"SELECT * FROM nyc_census_blocks WHERE boroname='Manhattan'\""
   ]
  },
  {
   "cell_type": "code",
   "execution_count": null,
   "id": "9fcf26ad",
   "metadata": {},
   "outputs": [],
   "source": [
    "gdf_blocks = gpd.read_postgis(sql3, con=engine)"
   ]
  },
  {
   "cell_type": "code",
   "execution_count": null,
   "id": "39f223d3",
   "metadata": {},
   "outputs": [],
   "source": [
    "gdf_blocks_crs = gdf_blocks.to_crs(epsg=\"4326\")"
   ]
  },
  {
   "cell_type": "code",
   "execution_count": null,
   "id": "f3882163",
   "metadata": {},
   "outputs": [],
   "source": [
    "blocks_geojson = gdf_blocks_crs.__geo_interface__"
   ]
  },
  {
   "cell_type": "code",
   "execution_count": null,
   "id": "8f0a75b1",
   "metadata": {},
   "outputs": [],
   "source": [
    "m.add_geojson(blocks_geojson, style=style, layer_name=\"nyc census blocks\")"
   ]
  },
  {
   "cell_type": "code",
   "execution_count": null,
   "id": "5b12034b",
   "metadata": {},
   "outputs": [],
   "source": [
    "sql4 = \"SELECT geom FROM nyc_homicides WHERE boroname='Manhattan'\""
   ]
  },
  {
   "cell_type": "code",
   "execution_count": null,
   "id": "2c8f7490",
   "metadata": {},
   "outputs": [],
   "source": [
    "gdf_homicides = gpd.read_postgis(sql4, con=engine)"
   ]
  },
  {
   "cell_type": "code",
   "execution_count": null,
   "id": "bc373e61",
   "metadata": {},
   "outputs": [],
   "source": [
    "gdf_homicides_crs = gdf_homicides.to_crs(epsg=\"4326\")"
   ]
  },
  {
   "cell_type": "code",
   "execution_count": null,
   "id": "b3dca7bf",
   "metadata": {},
   "outputs": [],
   "source": [
    "homicides_geojson =gdf_homicides_crs.__geo_interface__"
   ]
  },
  {
   "cell_type": "code",
   "execution_count": null,
   "id": "38959b84",
   "metadata": {},
   "outputs": [],
   "source": [
    "m.add_geojson(homicides_geojson, style=style, layer_name=\"nyc homicides\")"
   ]
  },
  {
   "cell_type": "code",
   "execution_count": null,
   "id": "9cc3819e",
   "metadata": {},
   "outputs": [],
   "source": []
  }
 ],
 "metadata": {
  "jupytext": {
   "text_representation": {
    "extension": ".md",
    "format_name": "myst",
    "format_version": 0.13,
    "jupytext_version": "1.14.5"
   }
  },
  "kernelspec": {
   "display_name": "Python 3",
   "language": "python",
   "name": "python3"
  },
  "source_map": [
   12,
   33,
   37,
   42,
   49,
   53,
   57,
   61,
   64,
   68,
   72,
   76,
   80,
   84,
   86,
   90,
   96,
   101,
   106,
   108,
   112,
   116,
   119,
   123,
   126,
   130,
   133,
   137,
   141,
   145,
   150,
   155,
   157,
   161,
   165,
   169,
   173,
   177,
   179,
   183,
   187,
   192,
   204,
   208,
   212,
   216,
   220,
   224,
   228,
   232,
   236,
   240,
   244,
   248,
   252,
   256,
   260,
   264,
   268
  ]
 },
 "nbformat": 4,
 "nbformat_minor": 5
}