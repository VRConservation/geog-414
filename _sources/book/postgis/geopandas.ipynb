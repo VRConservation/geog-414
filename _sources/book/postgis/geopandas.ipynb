{
 "cells": [
  {
   "cell_type": "markdown",
   "id": "577f2d0a",
   "metadata": {},
   "source": [
    "# Using GeoPandas\n",
    "\n",
    "**Setting up the conda env:**\n",
    "\n",
    "```\n",
    "conda create -n geo python=3.8\n",
    "conda activate geo\n",
    "conda install mamba -c conda-forge\n",
    "mamba install geemap geopandas descartes rtree=0.9.3 -c conda-forge\n",
    "mamba install ipython-sql sqlalchemy psycopg2 -c conda-forge\n",
    "```\n",
    "\n",
    "**Sample dataset:**\n",
    "- [nyc_data.zip](https://github.com/giswqs/postgis/raw/master/data/nyc_data.zip) (Watch this [video](https://youtu.be/fROzLrjNDrs) to load data into PostGIS)\n",
    "\n",
    "**References**:\n",
    "- [Introduction to PostGIS](https://postgis.net/workshops/postgis-intro)\n",
    "- [Using SQL with Geodatabases](https://desktop.arcgis.com/en/arcmap/latest/manage-data/using-sql-with-gdbs/sql-and-enterprise-geodatabases.htm)"
   ]
  },
  {
   "cell_type": "markdown",
   "id": "6d04b5a3",
   "metadata": {},
   "source": [
    "## Connecting to the database"
   ]
  },
  {
   "cell_type": "code",
   "execution_count": null,
   "id": "b96ddd00",
   "metadata": {},
   "outputs": [],
   "source": [
    "import os\n",
    "from sqlalchemy import create_engine"
   ]
  },
  {
   "cell_type": "code",
   "execution_count": null,
   "id": "58af2467",
   "metadata": {},
   "outputs": [],
   "source": [
    "host = \"localhost\"\n",
    "database = \"nyc\"\n",
    "user = os.getenv('SQL_USER')\n",
    "password = os.getenv('SQL_PASSWORD')"
   ]
  },
  {
   "cell_type": "code",
   "execution_count": null,
   "id": "f637409d",
   "metadata": {},
   "outputs": [],
   "source": [
    "connection_string = f\"postgresql://{user}:{password}@{host}/{database}\""
   ]
  },
  {
   "cell_type": "code",
   "execution_count": null,
   "id": "cda592f7",
   "metadata": {},
   "outputs": [],
   "source": [
    "engine = create_engine(connection_string)"
   ]
  },
  {
   "cell_type": "code",
   "execution_count": null,
   "id": "087d1cf3",
   "metadata": {},
   "outputs": [],
   "source": [
    "from sqlalchemy import inspect"
   ]
  },
  {
   "cell_type": "code",
   "execution_count": null,
   "id": "5fba2be6",
   "metadata": {},
   "outputs": [],
   "source": [
    "insp = inspect(engine)\n",
    "insp.get_table_names()"
   ]
  },
  {
   "cell_type": "markdown",
   "id": "f35b8c63",
   "metadata": {},
   "source": [
    "## Reading data from PostGIS"
   ]
  },
  {
   "cell_type": "code",
   "execution_count": null,
   "id": "3cf19c1c",
   "metadata": {},
   "outputs": [],
   "source": [
    "import geopandas as gpd"
   ]
  },
  {
   "cell_type": "code",
   "execution_count": null,
   "id": "66ea47d9",
   "metadata": {},
   "outputs": [],
   "source": [
    "sql = 'SELECT * FROM nyc_neighborhoods'"
   ]
  },
  {
   "cell_type": "code",
   "execution_count": null,
   "id": "334b4ed0",
   "metadata": {},
   "outputs": [],
   "source": [
    "gdf = gpd.read_postgis(sql, con=engine)"
   ]
  },
  {
   "cell_type": "code",
   "execution_count": null,
   "id": "a186be3d",
   "metadata": {},
   "outputs": [],
   "source": [
    "gdf"
   ]
  },
  {
   "cell_type": "code",
   "execution_count": null,
   "id": "0ec6adbe",
   "metadata": {},
   "outputs": [],
   "source": [
    "gdf.crs"
   ]
  },
  {
   "cell_type": "markdown",
   "id": "e403f46e",
   "metadata": {},
   "source": [
    "## Writing files"
   ]
  },
  {
   "cell_type": "code",
   "execution_count": null,
   "id": "712adf3b",
   "metadata": {},
   "outputs": [],
   "source": [
    "out_dir = os.path.expanduser('~/Downloads')\n",
    "if not os.path.exists(out_dir):\n",
    "    os.makedirs(out_dir)"
   ]
  },
  {
   "cell_type": "code",
   "execution_count": null,
   "id": "9ba639cd",
   "metadata": {},
   "outputs": [],
   "source": [
    "out_json = os.path.join(out_dir, 'nyc_neighborhoods.geojson')\n",
    "gdf.to_file(out_json, driver=\"GeoJSON\")"
   ]
  },
  {
   "cell_type": "code",
   "execution_count": null,
   "id": "9327c6ac",
   "metadata": {},
   "outputs": [],
   "source": [
    "out_shp = os.path.join(out_dir, 'nyc_neighborhoods.shp')\n",
    "gdf.to_file(out_shp)"
   ]
  },
  {
   "cell_type": "code",
   "execution_count": null,
   "id": "cd3ab57e",
   "metadata": {},
   "outputs": [],
   "source": [
    "gdf.crs"
   ]
  },
  {
   "cell_type": "markdown",
   "id": "4c3db87e",
   "metadata": {},
   "source": [
    "## Measuring area"
   ]
  },
  {
   "cell_type": "code",
   "execution_count": null,
   "id": "5f5460a4",
   "metadata": {},
   "outputs": [],
   "source": [
    "gdf = gdf.set_index(\"name\")"
   ]
  },
  {
   "cell_type": "code",
   "execution_count": null,
   "id": "c98ce495",
   "metadata": {},
   "outputs": [],
   "source": [
    "gdf[\"area\"] = gdf.area\n",
    "gdf[\"area\"]"
   ]
  },
  {
   "cell_type": "markdown",
   "id": "c654c6b3",
   "metadata": {},
   "source": [
    "## Getting polygon bounary"
   ]
  },
  {
   "cell_type": "code",
   "execution_count": null,
   "id": "eea36b5e",
   "metadata": {},
   "outputs": [],
   "source": [
    "gdf['boundary'] = gdf.boundary\n",
    "gdf['boundary']"
   ]
  },
  {
   "cell_type": "markdown",
   "id": "395d4719",
   "metadata": {},
   "source": [
    "## Getting polygon centroid"
   ]
  },
  {
   "cell_type": "code",
   "execution_count": null,
   "id": "0b6be2c4",
   "metadata": {},
   "outputs": [],
   "source": [
    "gdf['centroid'] = gdf.centroid\n",
    "gdf['centroid']"
   ]
  },
  {
   "cell_type": "markdown",
   "id": "8185cc1e",
   "metadata": {},
   "source": [
    "## Making maps"
   ]
  },
  {
   "cell_type": "code",
   "execution_count": null,
   "id": "83455a1e",
   "metadata": {},
   "outputs": [],
   "source": [
    "gdf.plot()"
   ]
  },
  {
   "cell_type": "code",
   "execution_count": null,
   "id": "59ac54aa",
   "metadata": {},
   "outputs": [],
   "source": [
    "gdf.plot(\"area\", legend=True, figsize=(10, 8))"
   ]
  },
  {
   "cell_type": "code",
   "execution_count": null,
   "id": "47ebc48d",
   "metadata": {},
   "outputs": [],
   "source": [
    "gdf = gdf.set_geometry(\"centroid\")\n",
    "gdf.plot(\"area\", legend=True,figsize=(10, 8))"
   ]
  },
  {
   "cell_type": "code",
   "execution_count": null,
   "id": "2306d5df",
   "metadata": {},
   "outputs": [],
   "source": [
    "ax = gdf[\"geom\"].plot(figsize=(10, 8))\n",
    "gdf[\"centroid\"].plot(ax=ax, color=\"black\")"
   ]
  },
  {
   "cell_type": "code",
   "execution_count": null,
   "id": "f021055e",
   "metadata": {},
   "outputs": [],
   "source": [
    "gdf = gdf.set_geometry(\"geom\")"
   ]
  },
  {
   "cell_type": "markdown",
   "id": "93e1313f",
   "metadata": {},
   "source": [
    "## Reprojecting data"
   ]
  },
  {
   "cell_type": "code",
   "execution_count": null,
   "id": "06923a80",
   "metadata": {},
   "outputs": [],
   "source": [
    "sql = 'SELECT * FROM nyc_neighborhoods'"
   ]
  },
  {
   "cell_type": "code",
   "execution_count": null,
   "id": "169ba96d",
   "metadata": {},
   "outputs": [],
   "source": [
    "gdf = gpd.read_postgis(sql, con=engine)"
   ]
  },
  {
   "cell_type": "code",
   "execution_count": null,
   "id": "4af46468",
   "metadata": {},
   "outputs": [],
   "source": [
    "gdf_crs = gdf.to_crs(epsg=\"4326\")"
   ]
  },
  {
   "cell_type": "code",
   "execution_count": null,
   "id": "0bc00b78",
   "metadata": {},
   "outputs": [],
   "source": [
    "gdf_crs"
   ]
  },
  {
   "cell_type": "code",
   "execution_count": null,
   "id": "5335c936",
   "metadata": {},
   "outputs": [],
   "source": [
    "geojson = gdf_crs.__geo_interface__"
   ]
  },
  {
   "cell_type": "markdown",
   "id": "000653f7",
   "metadata": {},
   "source": [
    "## Displaying data on an interative map"
   ]
  },
  {
   "cell_type": "code",
   "execution_count": null,
   "id": "033cd370",
   "metadata": {},
   "outputs": [],
   "source": [
    "import geemap"
   ]
  },
  {
   "cell_type": "code",
   "execution_count": null,
   "id": "cf7f6830",
   "metadata": {},
   "outputs": [],
   "source": [
    "m = geemap.Map(center=[40.7341, -73.9113], zoom=10, ee_initialize=False)\n",
    "m"
   ]
  },
  {
   "cell_type": "code",
   "execution_count": null,
   "id": "dad0bea1",
   "metadata": {},
   "outputs": [],
   "source": [
    "style = {\n",
    "    \"stroke\": True,\n",
    "    \"color\": \"#000000\",\n",
    "    \"weight\": 2,\n",
    "    \"opacity\": 1,\n",
    "    \"fill\": True,\n",
    "    \"fillColor\": \"#0000ff\",\n",
    "    \"fillOpacity\": 0.4,\n",
    "}"
   ]
  },
  {
   "cell_type": "code",
   "execution_count": null,
   "id": "64ecbd3b",
   "metadata": {},
   "outputs": [],
   "source": [
    "m.add_geojson(geojson, style=style, layer_name=\"nyc neighborhoods\")"
   ]
  },
  {
   "cell_type": "code",
   "execution_count": null,
   "id": "105efddb",
   "metadata": {},
   "outputs": [],
   "source": [
    "sql2 = 'SELECT * FROM nyc_subway_stations'"
   ]
  },
  {
   "cell_type": "code",
   "execution_count": null,
   "id": "56a14ddf",
   "metadata": {},
   "outputs": [],
   "source": [
    "gdf_subway = gpd.read_postgis(sql2, con=engine)"
   ]
  },
  {
   "cell_type": "code",
   "execution_count": null,
   "id": "1282cac4",
   "metadata": {},
   "outputs": [],
   "source": [
    "gdf_subway_crs = gdf_subway.to_crs(epsg=\"4326\")"
   ]
  },
  {
   "cell_type": "code",
   "execution_count": null,
   "id": "fe3239db",
   "metadata": {},
   "outputs": [],
   "source": [
    "subway_geojson = gdf_subway_crs.__geo_interface__"
   ]
  },
  {
   "cell_type": "code",
   "execution_count": null,
   "id": "ca867d07",
   "metadata": {},
   "outputs": [],
   "source": [
    "m.add_geojson(subway_geojson, layer_name=\"nyc subway stations\")"
   ]
  },
  {
   "cell_type": "code",
   "execution_count": null,
   "id": "da448db4",
   "metadata": {},
   "outputs": [],
   "source": [
    "sql3 = \"SELECT * FROM nyc_census_blocks WHERE boroname='Manhattan'\""
   ]
  },
  {
   "cell_type": "code",
   "execution_count": null,
   "id": "0944e503",
   "metadata": {},
   "outputs": [],
   "source": [
    "gdf_blocks = gpd.read_postgis(sql3, con=engine)"
   ]
  },
  {
   "cell_type": "code",
   "execution_count": null,
   "id": "ff60cf02",
   "metadata": {},
   "outputs": [],
   "source": [
    "gdf_blocks_crs = gdf_blocks.to_crs(epsg=\"4326\")"
   ]
  },
  {
   "cell_type": "code",
   "execution_count": null,
   "id": "3e3b00a6",
   "metadata": {},
   "outputs": [],
   "source": [
    "blocks_geojson = gdf_blocks_crs.__geo_interface__"
   ]
  },
  {
   "cell_type": "code",
   "execution_count": null,
   "id": "b3132838",
   "metadata": {},
   "outputs": [],
   "source": [
    "m.add_geojson(blocks_geojson, style=style, layer_name=\"nyc census blocks\")"
   ]
  },
  {
   "cell_type": "code",
   "execution_count": null,
   "id": "8394d4e0",
   "metadata": {},
   "outputs": [],
   "source": [
    "sql4 = \"SELECT geom FROM nyc_homicides WHERE boroname='Manhattan'\""
   ]
  },
  {
   "cell_type": "code",
   "execution_count": null,
   "id": "2fcc4d0c",
   "metadata": {},
   "outputs": [],
   "source": [
    "gdf_homicides = gpd.read_postgis(sql4, con=engine)"
   ]
  },
  {
   "cell_type": "code",
   "execution_count": null,
   "id": "dcfebfb0",
   "metadata": {},
   "outputs": [],
   "source": [
    "gdf_homicides_crs = gdf_homicides.to_crs(epsg=\"4326\")"
   ]
  },
  {
   "cell_type": "code",
   "execution_count": null,
   "id": "76bf9f3c",
   "metadata": {},
   "outputs": [],
   "source": [
    "homicides_geojson =gdf_homicides_crs.__geo_interface__"
   ]
  },
  {
   "cell_type": "code",
   "execution_count": null,
   "id": "693608bf",
   "metadata": {},
   "outputs": [],
   "source": [
    "m.add_geojson(homicides_geojson, style=style, layer_name=\"nyc homicides\")"
   ]
  },
  {
   "cell_type": "code",
   "execution_count": null,
   "id": "9ef10fa2",
   "metadata": {},
   "outputs": [],
   "source": []
  }
 ],
 "metadata": {
  "jupytext": {
   "text_representation": {
    "extension": ".md",
    "format_name": "myst",
    "format_version": 0.13,
    "jupytext_version": "1.14.5"
   }
  },
  "kernelspec": {
   "display_name": "Python 3",
   "language": "python",
   "name": "python3"
  },
  "source_map": [
   12,
   33,
   37,
   42,
   49,
   53,
   57,
   61,
   64,
   68,
   72,
   76,
   80,
   84,
   86,
   90,
   96,
   101,
   106,
   108,
   112,
   116,
   119,
   123,
   126,
   130,
   133,
   137,
   141,
   145,
   150,
   155,
   157,
   161,
   165,
   169,
   173,
   177,
   179,
   183,
   187,
   192,
   204,
   208,
   212,
   216,
   220,
   224,
   228,
   232,
   236,
   240,
   244,
   248,
   252,
   256,
   260,
   264,
   268
  ]
 },
 "nbformat": 4,
 "nbformat_minor": 5
}