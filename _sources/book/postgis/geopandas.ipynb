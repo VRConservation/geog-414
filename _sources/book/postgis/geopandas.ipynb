{
 "cells": [
  {
   "cell_type": "markdown",
   "id": "1ff6aaa9",
   "metadata": {},
   "source": [
    "# Using GeoPandas\n",
    "\n",
    "**Setting up the conda env:**\n",
    "\n",
    "```\n",
    "conda create -n geo python=3.8\n",
    "conda activate geo\n",
    "conda install mamba -c conda-forge\n",
    "mamba install geemap geopandas descartes rtree=0.9.3 -c conda-forge\n",
    "mamba install ipython-sql sqlalchemy psycopg2 -c conda-forge\n",
    "```\n",
    "\n",
    "**Sample dataset:**\n",
    "- [nyc_data.zip](https://github.com/giswqs/postgis/raw/master/data/nyc_data.zip) (Watch this [video](https://youtu.be/fROzLrjNDrs) to load data into PostGIS)\n",
    "\n",
    "**References**:\n",
    "- [Introduction to PostGIS](https://postgis.net/workshops/postgis-intro)\n",
    "- [Using SQL with Geodatabases](https://desktop.arcgis.com/en/arcmap/latest/manage-data/using-sql-with-gdbs/sql-and-enterprise-geodatabases.htm)"
   ]
  },
  {
   "cell_type": "markdown",
   "id": "719e9aac",
   "metadata": {},
   "source": [
    "## Connecting to the database"
   ]
  },
  {
   "cell_type": "code",
   "execution_count": null,
   "id": "fdef88c9",
   "metadata": {},
   "outputs": [],
   "source": [
    "import os\n",
    "from sqlalchemy import create_engine"
   ]
  },
  {
   "cell_type": "code",
   "execution_count": null,
   "id": "43cf5e2b",
   "metadata": {},
   "outputs": [],
   "source": [
    "host = \"localhost\"\n",
    "database = \"nyc\"\n",
    "user = os.getenv('SQL_USER')\n",
    "password = os.getenv('SQL_PASSWORD')"
   ]
  },
  {
   "cell_type": "code",
   "execution_count": null,
   "id": "eef56fc2",
   "metadata": {},
   "outputs": [],
   "source": [
    "connection_string = f\"postgresql://{user}:{password}@{host}/{database}\""
   ]
  },
  {
   "cell_type": "code",
   "execution_count": null,
   "id": "e72cc051",
   "metadata": {},
   "outputs": [],
   "source": [
    "engine = create_engine(connection_string)"
   ]
  },
  {
   "cell_type": "code",
   "execution_count": null,
   "id": "4e6c16fd",
   "metadata": {},
   "outputs": [],
   "source": [
    "from sqlalchemy import inspect"
   ]
  },
  {
   "cell_type": "code",
   "execution_count": null,
   "id": "0aab5d8c",
   "metadata": {},
   "outputs": [],
   "source": [
    "insp = inspect(engine)\n",
    "insp.get_table_names()"
   ]
  },
  {
   "cell_type": "markdown",
   "id": "a1f76757",
   "metadata": {},
   "source": [
    "## Reading data from PostGIS"
   ]
  },
  {
   "cell_type": "code",
   "execution_count": null,
   "id": "3cd08c2f",
   "metadata": {},
   "outputs": [],
   "source": [
    "import geopandas as gpd"
   ]
  },
  {
   "cell_type": "code",
   "execution_count": null,
   "id": "a2ae8ea1",
   "metadata": {},
   "outputs": [],
   "source": [
    "sql = 'SELECT * FROM nyc_neighborhoods'"
   ]
  },
  {
   "cell_type": "code",
   "execution_count": null,
   "id": "df040f98",
   "metadata": {},
   "outputs": [],
   "source": [
    "gdf = gpd.read_postgis(sql, con=engine)"
   ]
  },
  {
   "cell_type": "code",
   "execution_count": null,
   "id": "2624e7b5",
   "metadata": {},
   "outputs": [],
   "source": [
    "gdf"
   ]
  },
  {
   "cell_type": "code",
   "execution_count": null,
   "id": "7f3e2c02",
   "metadata": {},
   "outputs": [],
   "source": [
    "gdf.crs"
   ]
  },
  {
   "cell_type": "markdown",
   "id": "18a3102b",
   "metadata": {},
   "source": [
    "## Writing files"
   ]
  },
  {
   "cell_type": "code",
   "execution_count": null,
   "id": "e1b444bd",
   "metadata": {},
   "outputs": [],
   "source": [
    "out_dir = os.path.expanduser('~/Downloads')\n",
    "if not os.path.exists(out_dir):\n",
    "    os.makedirs(out_dir)"
   ]
  },
  {
   "cell_type": "code",
   "execution_count": null,
   "id": "3463be52",
   "metadata": {},
   "outputs": [],
   "source": [
    "out_json = os.path.join(out_dir, 'nyc_neighborhoods.geojson')\n",
    "gdf.to_file(out_json, driver=\"GeoJSON\")"
   ]
  },
  {
   "cell_type": "code",
   "execution_count": null,
   "id": "122d5bad",
   "metadata": {},
   "outputs": [],
   "source": [
    "out_shp = os.path.join(out_dir, 'nyc_neighborhoods.shp')\n",
    "gdf.to_file(out_shp)"
   ]
  },
  {
   "cell_type": "code",
   "execution_count": null,
   "id": "09d7e03e",
   "metadata": {},
   "outputs": [],
   "source": [
    "gdf.crs"
   ]
  },
  {
   "cell_type": "markdown",
   "id": "1bf3f19d",
   "metadata": {},
   "source": [
    "## Measuring area"
   ]
  },
  {
   "cell_type": "code",
   "execution_count": null,
   "id": "a76955a4",
   "metadata": {},
   "outputs": [],
   "source": [
    "gdf = gdf.set_index(\"name\")"
   ]
  },
  {
   "cell_type": "code",
   "execution_count": null,
   "id": "80ded79c",
   "metadata": {},
   "outputs": [],
   "source": [
    "gdf[\"area\"] = gdf.area\n",
    "gdf[\"area\"]"
   ]
  },
  {
   "cell_type": "markdown",
   "id": "bc202ef2",
   "metadata": {},
   "source": [
    "## Getting polygon bounary"
   ]
  },
  {
   "cell_type": "code",
   "execution_count": null,
   "id": "4ca66460",
   "metadata": {},
   "outputs": [],
   "source": [
    "gdf['boundary'] = gdf.boundary\n",
    "gdf['boundary']"
   ]
  },
  {
   "cell_type": "markdown",
   "id": "f6e348f9",
   "metadata": {},
   "source": [
    "## Getting polygon centroid"
   ]
  },
  {
   "cell_type": "code",
   "execution_count": null,
   "id": "7c91c6b0",
   "metadata": {},
   "outputs": [],
   "source": [
    "gdf['centroid'] = gdf.centroid\n",
    "gdf['centroid']"
   ]
  },
  {
   "cell_type": "markdown",
   "id": "67ff2163",
   "metadata": {},
   "source": [
    "## Making maps"
   ]
  },
  {
   "cell_type": "code",
   "execution_count": null,
   "id": "00198fff",
   "metadata": {},
   "outputs": [],
   "source": [
    "gdf.plot()"
   ]
  },
  {
   "cell_type": "code",
   "execution_count": null,
   "id": "e75603b8",
   "metadata": {},
   "outputs": [],
   "source": [
    "gdf.plot(\"area\", legend=True, figsize=(10, 8))"
   ]
  },
  {
   "cell_type": "code",
   "execution_count": null,
   "id": "793c5e8b",
   "metadata": {},
   "outputs": [],
   "source": [
    "gdf = gdf.set_geometry(\"centroid\")\n",
    "gdf.plot(\"area\", legend=True,figsize=(10, 8))"
   ]
  },
  {
   "cell_type": "code",
   "execution_count": null,
   "id": "a4c406bf",
   "metadata": {},
   "outputs": [],
   "source": [
    "ax = gdf[\"geom\"].plot(figsize=(10, 8))\n",
    "gdf[\"centroid\"].plot(ax=ax, color=\"black\")"
   ]
  },
  {
   "cell_type": "code",
   "execution_count": null,
   "id": "82d33acf",
   "metadata": {},
   "outputs": [],
   "source": [
    "gdf = gdf.set_geometry(\"geom\")"
   ]
  },
  {
   "cell_type": "markdown",
   "id": "e73c1cb1",
   "metadata": {},
   "source": [
    "## Reprojecting data"
   ]
  },
  {
   "cell_type": "code",
   "execution_count": null,
   "id": "12ba9675",
   "metadata": {},
   "outputs": [],
   "source": [
    "sql = 'SELECT * FROM nyc_neighborhoods'"
   ]
  },
  {
   "cell_type": "code",
   "execution_count": null,
   "id": "f72814a6",
   "metadata": {},
   "outputs": [],
   "source": [
    "gdf = gpd.read_postgis(sql, con=engine)"
   ]
  },
  {
   "cell_type": "code",
   "execution_count": null,
   "id": "efbc5460",
   "metadata": {},
   "outputs": [],
   "source": [
    "gdf_crs = gdf.to_crs(epsg=\"4326\")"
   ]
  },
  {
   "cell_type": "code",
   "execution_count": null,
   "id": "df1aa3bc",
   "metadata": {},
   "outputs": [],
   "source": [
    "gdf_crs"
   ]
  },
  {
   "cell_type": "code",
   "execution_count": null,
   "id": "33b29f43",
   "metadata": {},
   "outputs": [],
   "source": [
    "geojson = gdf_crs.__geo_interface__"
   ]
  },
  {
   "cell_type": "markdown",
   "id": "766d95cd",
   "metadata": {},
   "source": [
    "## Displaying data on an interative map"
   ]
  },
  {
   "cell_type": "code",
   "execution_count": null,
   "id": "98113524",
   "metadata": {},
   "outputs": [],
   "source": [
    "import geemap"
   ]
  },
  {
   "cell_type": "code",
   "execution_count": null,
   "id": "7458cfe6",
   "metadata": {},
   "outputs": [],
   "source": [
    "m = geemap.Map(center=[40.7341, -73.9113], zoom=10, ee_initialize=False)\n",
    "m"
   ]
  },
  {
   "cell_type": "code",
   "execution_count": null,
   "id": "da84fb77",
   "metadata": {},
   "outputs": [],
   "source": [
    "style = {\n",
    "    \"stroke\": True,\n",
    "    \"color\": \"#000000\",\n",
    "    \"weight\": 2,\n",
    "    \"opacity\": 1,\n",
    "    \"fill\": True,\n",
    "    \"fillColor\": \"#0000ff\",\n",
    "    \"fillOpacity\": 0.4,\n",
    "}"
   ]
  },
  {
   "cell_type": "code",
   "execution_count": null,
   "id": "eb57b1d9",
   "metadata": {},
   "outputs": [],
   "source": [
    "m.add_geojson(geojson, style=style, layer_name=\"nyc neighborhoods\")"
   ]
  },
  {
   "cell_type": "code",
   "execution_count": null,
   "id": "a7d74f8d",
   "metadata": {},
   "outputs": [],
   "source": [
    "sql2 = 'SELECT * FROM nyc_subway_stations'"
   ]
  },
  {
   "cell_type": "code",
   "execution_count": null,
   "id": "ee1ca37f",
   "metadata": {},
   "outputs": [],
   "source": [
    "gdf_subway = gpd.read_postgis(sql2, con=engine)"
   ]
  },
  {
   "cell_type": "code",
   "execution_count": null,
   "id": "264fd90b",
   "metadata": {},
   "outputs": [],
   "source": [
    "gdf_subway_crs = gdf_subway.to_crs(epsg=\"4326\")"
   ]
  },
  {
   "cell_type": "code",
   "execution_count": null,
   "id": "2bb8509e",
   "metadata": {},
   "outputs": [],
   "source": [
    "subway_geojson = gdf_subway_crs.__geo_interface__"
   ]
  },
  {
   "cell_type": "code",
   "execution_count": null,
   "id": "d9299029",
   "metadata": {},
   "outputs": [],
   "source": [
    "m.add_geojson(subway_geojson, layer_name=\"nyc subway stations\")"
   ]
  },
  {
   "cell_type": "code",
   "execution_count": null,
   "id": "83b0881f",
   "metadata": {},
   "outputs": [],
   "source": [
    "sql3 = \"SELECT * FROM nyc_census_blocks WHERE boroname='Manhattan'\""
   ]
  },
  {
   "cell_type": "code",
   "execution_count": null,
   "id": "7a9473a1",
   "metadata": {},
   "outputs": [],
   "source": [
    "gdf_blocks = gpd.read_postgis(sql3, con=engine)"
   ]
  },
  {
   "cell_type": "code",
   "execution_count": null,
   "id": "cc1ae20e",
   "metadata": {},
   "outputs": [],
   "source": [
    "gdf_blocks_crs = gdf_blocks.to_crs(epsg=\"4326\")"
   ]
  },
  {
   "cell_type": "code",
   "execution_count": null,
   "id": "e1c2263f",
   "metadata": {},
   "outputs": [],
   "source": [
    "blocks_geojson = gdf_blocks_crs.__geo_interface__"
   ]
  },
  {
   "cell_type": "code",
   "execution_count": null,
   "id": "71d7fa51",
   "metadata": {},
   "outputs": [],
   "source": [
    "m.add_geojson(blocks_geojson, style=style, layer_name=\"nyc census blocks\")"
   ]
  },
  {
   "cell_type": "code",
   "execution_count": null,
   "id": "9cc1af63",
   "metadata": {},
   "outputs": [],
   "source": [
    "sql4 = \"SELECT geom FROM nyc_homicides WHERE boroname='Manhattan'\""
   ]
  },
  {
   "cell_type": "code",
   "execution_count": null,
   "id": "ac77b207",
   "metadata": {},
   "outputs": [],
   "source": [
    "gdf_homicides = gpd.read_postgis(sql4, con=engine)"
   ]
  },
  {
   "cell_type": "code",
   "execution_count": null,
   "id": "4e0ed642",
   "metadata": {},
   "outputs": [],
   "source": [
    "gdf_homicides_crs = gdf_homicides.to_crs(epsg=\"4326\")"
   ]
  },
  {
   "cell_type": "code",
   "execution_count": null,
   "id": "2faa683c",
   "metadata": {},
   "outputs": [],
   "source": [
    "homicides_geojson =gdf_homicides_crs.__geo_interface__"
   ]
  },
  {
   "cell_type": "code",
   "execution_count": null,
   "id": "73eba8a3",
   "metadata": {},
   "outputs": [],
   "source": [
    "m.add_geojson(homicides_geojson, style=style, layer_name=\"nyc homicides\")"
   ]
  },
  {
   "cell_type": "code",
   "execution_count": null,
   "id": "8325c0f8",
   "metadata": {},
   "outputs": [],
   "source": []
  }
 ],
 "metadata": {
  "jupytext": {
   "text_representation": {
    "extension": ".md",
    "format_name": "myst",
    "format_version": 0.13,
    "jupytext_version": "1.14.5"
   }
  },
  "kernelspec": {
   "display_name": "Python 3",
   "language": "python",
   "name": "python3"
  },
  "source_map": [
   12,
   33,
   37,
   42,
   49,
   53,
   57,
   61,
   64,
   68,
   72,
   76,
   80,
   84,
   86,
   90,
   96,
   101,
   106,
   108,
   112,
   116,
   119,
   123,
   126,
   130,
   133,
   137,
   141,
   145,
   150,
   155,
   157,
   161,
   165,
   169,
   173,
   177,
   179,
   183,
   187,
   192,
   204,
   208,
   212,
   216,
   220,
   224,
   228,
   232,
   236,
   240,
   244,
   248,
   252,
   256,
   260,
   264,
   268
  ]
 },
 "nbformat": 4,
 "nbformat_minor": 5
}