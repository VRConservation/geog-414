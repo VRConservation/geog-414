{
 "cells": [
  {
   "cell_type": "markdown",
   "id": "5f794800",
   "metadata": {},
   "source": [
    "# Submission Instructions\n",
    "\n",
    "<iframe src=\"https://docs.google.com/document/d/e/2PACX-1vT4Dz2evX7RyewQkIPCQpODZXfJSuRPyfNkKbacLEBh4KC4EcY8-7E_p5TwTxy3VjqR-8muArOqOtUt/pub?embedded=true\" width=\"100%\" height=800></iframe>"
   ]
  }
 ],
 "metadata": {
  "jupytext": {
   "text_representation": {
    "extension": ".md",
    "format_name": "myst",
    "format_version": 0.13,
    "jupytext_version": "1.14.5"
   }
  },
  "kernelspec": {
   "display_name": "Python 3",
   "language": "python",
   "name": "python3"
  },
  "source_map": [
   12
  ]
 },
 "nbformat": 4,
 "nbformat_minor": 5
}