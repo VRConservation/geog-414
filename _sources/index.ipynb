{
 "cells": [
  {
   "cell_type": "markdown",
   "id": "6f9c1794",
   "metadata": {},
   "source": [
    "# Spatial Data Management\n",
    "\n",
    "This website is for the _Spatial Data Management_ course (GEOG-414) that I teach in Fall 2023 at the University of Tennessee, Knoxville.\n",
    "\n",
    "## Recommended Textbooks\n",
    "\n",
    "- Qiusheng Wu (2023). _Earth Engine and Geemap: Geospatial Data Science with Python_. Locate Press. ([Publisher website](https://locatepress.com/book/gee) | [Book website](https://geog-414.gishub.org/) | [GitHub](https://github.com/giswqs/geog-414))\n",
    "\n",
    "## Demos\n",
    "\n",
    "![](https://i.imgur.com/ZfZCdhL.png)"
   ]
  }
 ],
 "metadata": {
  "jupytext": {
   "text_representation": {
    "extension": ".md",
    "format_name": "myst",
    "format_version": 0.13,
    "jupytext_version": "1.11.5"
   }
  },
  "kernelspec": {
   "display_name": "Python 3",
   "language": "python",
   "name": "python3"
  },
  "source_map": [
   12
  ]
 },
 "nbformat": 4,
 "nbformat_minor": 5
}