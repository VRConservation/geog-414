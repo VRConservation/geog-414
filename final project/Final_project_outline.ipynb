{
 "cells": [
  {
   "cell_type": "markdown",
   "metadata": {},
   "source": [
    "## Final project outline\n",
    "### Introduction (why did this)\n",
    "### Data sources\n",
    "### Analysis\n",
    "### Output\n"
   ]
  },
  {
   "cell_type": "code",
   "execution_count": null,
   "metadata": {},
   "outputs": [],
   "source": [
    "# Do something from GEE awesome community, Canadian leading forest, or Dellasalla datasat\n",
    "# Include screenshots and markdown language describing the project"
   ]
  },
  {
   "cell_type": "code",
   "execution_count": 1,
   "metadata": {},
   "outputs": [],
   "source": [
    "# Could also do eelgrass analysis using imagery\n",
    "# Canadian forest data: https://gee-community-catalog.org/projects/ca_fa/\n",
    "# Compare Canada forest to Hansen dataset?\n",
    "# Use the Samgeo model to segment forests and deforestation in Bolivia or Canada\n",
    "# Weighted rasters using RRK data to identify forest treatments in CA or a CA ROI\n",
    "# github for awesome EE catalog is at https://github.com/samapriya/awesome-gee-community-datasets\n"
   ]
  }
 ],
 "metadata": {
  "kernelspec": {
   "display_name": "opencv4",
   "language": "python",
   "name": "python3"
  },
  "language_info": {
   "codemirror_mode": {
    "name": "ipython",
    "version": 3
   },
   "file_extension": ".py",
   "mimetype": "text/x-python",
   "name": "python",
   "nbconvert_exporter": "python",
   "pygments_lexer": "ipython3",
   "version": "3.11.6"
  }
 },
 "nbformat": 4,
 "nbformat_minor": 2
}
