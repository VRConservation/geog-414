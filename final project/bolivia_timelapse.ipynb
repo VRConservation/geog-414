{
 "cells": [
  {
   "cell_type": "code",
   "execution_count": null,
   "metadata": {},
   "outputs": [],
   "source": [
    "import ee\n",
    "import geemap\n",
    "geemap.ee_initialize()"
   ]
  },
  {
   "cell_type": "code",
   "execution_count": null,
   "metadata": {},
   "outputs": [],
   "source": [
    "# Add modis VIIRS image to the map and add map layer for October to check the image\n",
    "viirs = ee.ImageCollection('MODIS/061/MYD09A1') \\\n",
    "                  .filter(ee.Filter.date('2023-10-01', '2023-10-31'))\n",
    "TrueColor = viirs.select(['sur_refl_b01', 'sur_refl_b04', 'sur_refl_b03'])\n",
    "TrueColorVis = {\n",
    "  'min': -100.0,\n",
    "  'max': 3000.0,\n",
    "}\n",
    "Map.setCenter(-63.695, -17.575, 9)\n",
    "Map.addLayer(TrueColor, TrueColorVis, 'True Color')\n",
    "Map"
   ]
  },
  {
   "cell_type": "code",
   "execution_count": null,
   "metadata": {},
   "outputs": [],
   "source": [
    "# Filter cloud cover and add map layer for October to check the image\n",
    "viirs = viirs.filter(ee.Filter.lt('QC_250m', 2))\n",
    "TrueColor = viirs.select(['sur_refl_b01', 'sur_refl_b04', 'sur_refl_b03'])\n",
    "TrueColorVis = {\n",
    "  'min': -100.0,\n",
    "  'max': 3000.0,\n",
    "}\n",
    "Map.setCenter(-63.695, -17.575, 9)\n",
    "Map.addLayer(TrueColor, TrueColorVis, 'True Color')\n",
    "Map"
   ]
  },
  {
   "cell_type": "code",
   "execution_count": null,
   "metadata": {},
   "outputs": [],
   "source": [
    "#Create a timelapse for the month of October\n",
    "viirs = viirs.map(lambda image: image.clip(geometry))\n",
    "TrueColor = viirs.select(['sur_refl_b01', 'sur_refl_b04', 'sur_refl_b03'])\n",
    "TrueColorVis = {\n",
    "  'min': -100.0,\n",
    "  'max': 3000.0,\n",
    "}\n",
    "Map.setCenter(-63.695, -17.575, 9)\n",
    "Map.addLayer(TrueColor, TrueColorVis, 'True Color')\n",
    "Map\n"
   ]
  },
  {
   "cell_type": "code",
   "execution_count": null,
   "metadata": {},
   "outputs": [],
   "source": [
    "# Add sentinel\n",
    "sentinel = ee.ImageCollection('COPERNICUS/S2_SR') \\\n",
    "                                    .filter(ee.Filter.date('2023-10-18', '2023-10-31'))\n",
    "TrueColorSentinel = sentinel.select(['B4', 'B3', 'B2'])\n",
    "TrueColorVisSentinel = {\n",
    "    'min': 0,\n",
    "    'max': 3000,\n",
    "}\n",
    "Map.addLayer(TrueColorSentinel, TrueColorVisSentinel, 'True Color Sentinel', False)\n",
    "Map"
   ]
  }
 ],
 "metadata": {
  "kernelspec": {
   "display_name": "gee",
   "language": "python",
   "name": "python3"
  },
  "language_info": {
   "codemirror_mode": {
    "name": "ipython",
    "version": 3
   },
   "file_extension": ".py",
   "mimetype": "text/x-python",
   "name": "python",
   "nbconvert_exporter": "python",
   "pygments_lexer": "ipython3",
   "version": "3.12.0"
  }
 },
 "nbformat": 4,
 "nbformat_minor": 2
}
