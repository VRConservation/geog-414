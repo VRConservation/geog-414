{
 "cells": [
  {
   "cell_type": "code",
   "execution_count": 2,
   "metadata": {},
   "outputs": [],
   "source": [
    "import ee\n",
    "import geemap\n",
    "\n",
    "# Initialize the map\n",
    "Map = geemap.Map()\n",
    "\n",
    "# A digital elevation model\n",
    "dem = ee.Image('NASA/NASADEM_HGT/001')\n",
    "\n",
    "# Load the country boundaries from the Large Scale International Boundary (LSIB) dataset\n",
    "countries = ee.FeatureCollection('USDOS/LSIB_SIMPLE/2017')\n",
    "\n",
    "# Filter the FeatureCollection to include only Bolivia\n",
    "bolivia = countries.filter(ee.Filter.eq('country_na', 'Bolivia'))\n",
    "\n",
    "# Clip the DEM by the Bolivia boundary\n",
    "dem_bolivia = dem.clip(bolivia)"
   ]
  },
  {
   "cell_type": "code",
   "execution_count": 3,
   "metadata": {},
   "outputs": [
    {
     "data": {
      "text/html": [
       "\n",
       "            <style>\n",
       "                .geemap-dark {\n",
       "                    --jp-widgets-color: white;\n",
       "                    --jp-widgets-label-color: white;\n",
       "                    --jp-ui-font-color1: white;\n",
       "                    --jp-layout-color2: #454545;\n",
       "                    background-color: #383838;\n",
       "                }\n",
       "                    \n",
       "                .geemap-dark .jupyter-button {\n",
       "                    --jp-layout-color3: #383838;\n",
       "                }\n",
       "                \n",
       "                .geemap-colab {\n",
       "                    background-color: var(--colab-primary-surface-color, white);\n",
       "                }\n",
       "                    \n",
       "                .geemap-colab .jupyter-button {\n",
       "                    --jp-layout-color3: var(--colab-primary-surface-color, white);\n",
       "                }\n",
       "            </style>\n",
       "            "
      ],
      "text/plain": [
       "<IPython.core.display.HTML object>"
      ]
     },
     "metadata": {},
     "output_type": "display_data"
    },
    {
     "data": {
      "application/vnd.jupyter.widget-view+json": {
       "model_id": "0933f2dc59854633bec8acf1c65b35d5",
       "version_major": 2,
       "version_minor": 0
      },
      "text/plain": [
       "Map(center=[-16.708, -64.685], controls=(WidgetControl(options=['position', 'transparent_bg'], widget=SearchDa…"
      ]
     },
     "execution_count": 3,
     "metadata": {},
     "output_type": "execute_result"
    }
   ],
   "source": [
    "# Select the 'elevation' band\n",
    "dem_bolivia = dem_bolivia.select('elevation')\n",
    "\n",
    "# Add dark matter carto db basemap\n",
    "Map.add_basemap('CartoDB.DarkMatter')\n",
    "\n",
    "# Add the clipped DEM to the map\n",
    "Map.addLayer(\n",
    "    dem_bolivia, \n",
    "    {\n",
    "        'min': 0, \n",
    "        'max': 5000,\n",
    "        'palette': ['006633', 'E5FFCC', '662A00', 'D8D8D8', 'F5F5F5']\n",
    "    }, \n",
    "    'DEM Bolivia'\n",
    ")\n",
    "Map.setCenter(-64.685, -16.708, 5)\n",
    "Map"
   ]
  },
  {
   "cell_type": "code",
   "execution_count": 4,
   "metadata": {},
   "outputs": [
    {
     "data": {
      "text/html": [
       "\n",
       "            <style>\n",
       "                .geemap-dark {\n",
       "                    --jp-widgets-color: white;\n",
       "                    --jp-widgets-label-color: white;\n",
       "                    --jp-ui-font-color1: white;\n",
       "                    --jp-layout-color2: #454545;\n",
       "                    background-color: #383838;\n",
       "                }\n",
       "                    \n",
       "                .geemap-dark .jupyter-button {\n",
       "                    --jp-layout-color3: #383838;\n",
       "                }\n",
       "                \n",
       "                .geemap-colab {\n",
       "                    background-color: var(--colab-primary-surface-color, white);\n",
       "                }\n",
       "                    \n",
       "                .geemap-colab .jupyter-button {\n",
       "                    --jp-layout-color3: var(--colab-primary-surface-color, white);\n",
       "                }\n",
       "            </style>\n",
       "            "
      ],
      "text/plain": [
       "<IPython.core.display.HTML object>"
      ]
     },
     "metadata": {},
     "output_type": "display_data"
    },
    {
     "data": {
      "application/vnd.jupyter.widget-view+json": {
       "model_id": "0933f2dc59854633bec8acf1c65b35d5",
       "version_major": 2,
       "version_minor": 0
      },
      "text/plain": [
       "Map(center=[-16.599321843694305, -63.49999999999991], controls=(WidgetControl(options=['position', 'transparen…"
      ]
     },
     "execution_count": 4,
     "metadata": {},
     "output_type": "execute_result"
    }
   ],
   "source": [
    "# Create bounding box\n",
    "# BBox = First lat lon is SW corner, 2nd is NE can also do this with ROI function\n",
    "data = ee.Geometry.BBox(-69.87, -23.96, -57.13, -9.36)\n",
    "Map.addLayer(data, {}, 'ROI', False)\n",
    "Map.centerObject(data,5)\n",
    "# Add fishnet\n",
    "fishnet = geemap.fishnet(data, rows=6, cols=6, delta=.5)\n",
    "style = {'color': 'ffff00ff', 'fillColor': '00000000'}\n",
    "Map.addLayer(fishnet.style(**style), {}, 'Fishnet')\n",
    "Map"
   ]
  },
  {
   "cell_type": "code",
   "execution_count": null,
   "metadata": {},
   "outputs": [],
   "source": [
    "projection = dem_bolivia.select(0).projection().getInfo()\n",
    "projection"
   ]
  },
  {
   "cell_type": "code",
   "execution_count": 5,
   "metadata": {},
   "outputs": [
    {
     "data": {
      "text/html": [
       "\n",
       "            <style>\n",
       "                .geemap-dark {\n",
       "                    --jp-widgets-color: white;\n",
       "                    --jp-widgets-label-color: white;\n",
       "                    --jp-ui-font-color1: white;\n",
       "                    --jp-layout-color2: #454545;\n",
       "                    background-color: #383838;\n",
       "                }\n",
       "                    \n",
       "                .geemap-dark .jupyter-button {\n",
       "                    --jp-layout-color3: #383838;\n",
       "                }\n",
       "                \n",
       "                .geemap-colab {\n",
       "                    background-color: var(--colab-primary-surface-color, white);\n",
       "                }\n",
       "                    \n",
       "                .geemap-colab .jupyter-button {\n",
       "                    --jp-layout-color3: var(--colab-primary-surface-color, white);\n",
       "                }\n",
       "            </style>\n",
       "            "
      ],
      "text/plain": [
       "<IPython.core.display.HTML object>"
      ]
     },
     "metadata": {},
     "output_type": "display_data"
    },
    {
     "name": "stdout",
     "output_type": "stream",
     "text": [
      "Downloading 1/36: C:/Users/vance/Downloads/geog-414/book\\bolivia_dem_01.tif\n"
     ]
    },
    {
     "data": {
      "application/vnd.jupyter.widget-view+json": {
       "model_id": "79fa6c6e985f4bff8b6760f76a3e3062",
       "version_major": 2,
       "version_minor": 0
      },
      "text/plain": [
       "bolivia_dem_01.tif: |          | 0.00/142M (raw) [  0.0%] in 00:00 (eta:     ?)"
      ]
     },
     "metadata": {},
     "output_type": "display_data"
    },
    {
     "name": "stdout",
     "output_type": "stream",
     "text": [
      "Downloading 2/36: C:/Users/vance/Downloads/geog-414/book\\bolivia_dem_02.tif\n"
     ]
    },
    {
     "data": {
      "application/vnd.jupyter.widget-view+json": {
       "model_id": "290f3f36cf624be69de403dc6f646aba",
       "version_major": 2,
       "version_minor": 0
      },
      "text/plain": [
       "bolivia_dem_02.tif: |          | 0.00/142M (raw) [  0.0%] in 00:00 (eta:     ?)"
      ]
     },
     "metadata": {},
     "output_type": "display_data"
    },
    {
     "name": "stdout",
     "output_type": "stream",
     "text": [
      "Downloading 3/36: C:/Users/vance/Downloads/geog-414/book\\bolivia_dem_03.tif\n"
     ]
    },
    {
     "data": {
      "application/vnd.jupyter.widget-view+json": {
       "model_id": "44b1a172b09440cb83ca320cb3008905",
       "version_major": 2,
       "version_minor": 0
      },
      "text/plain": [
       "bolivia_dem_03.tif: |          | 0.00/142M (raw) [  0.0%] in 00:00 (eta:     ?)"
      ]
     },
     "metadata": {},
     "output_type": "display_data"
    },
    {
     "name": "stdout",
     "output_type": "stream",
     "text": [
      "Downloading 4/36: C:/Users/vance/Downloads/geog-414/book\\bolivia_dem_04.tif\n"
     ]
    },
    {
     "data": {
      "application/vnd.jupyter.widget-view+json": {
       "model_id": "9100cfaba44c4a97b3d3d623545d1d43",
       "version_major": 2,
       "version_minor": 0
      },
      "text/plain": [
       "bolivia_dem_04.tif: |          | 0.00/142M (raw) [  0.0%] in 00:00 (eta:     ?)"
      ]
     },
     "metadata": {},
     "output_type": "display_data"
    },
    {
     "name": "stdout",
     "output_type": "stream",
     "text": [
      "Downloading 5/36: C:/Users/vance/Downloads/geog-414/book\\bolivia_dem_05.tif\n"
     ]
    },
    {
     "data": {
      "application/vnd.jupyter.widget-view+json": {
       "model_id": "16c0ce2f267b49ed8a33aab8b604a934",
       "version_major": 2,
       "version_minor": 0
      },
      "text/plain": [
       "bolivia_dem_05.tif: |          | 0.00/142M (raw) [  0.0%] in 00:00 (eta:     ?)"
      ]
     },
     "metadata": {},
     "output_type": "display_data"
    },
    {
     "name": "stdout",
     "output_type": "stream",
     "text": [
      "Downloading 6/36: C:/Users/vance/Downloads/geog-414/book\\bolivia_dem_06.tif\n"
     ]
    },
    {
     "data": {
      "application/vnd.jupyter.widget-view+json": {
       "model_id": "900332941c264d89a06de444aab0a5bd",
       "version_major": 2,
       "version_minor": 0
      },
      "text/plain": [
       "bolivia_dem_06.tif: |          | 0.00/142M (raw) [  0.0%] in 00:00 (eta:     ?)"
      ]
     },
     "metadata": {},
     "output_type": "display_data"
    },
    {
     "name": "stdout",
     "output_type": "stream",
     "text": [
      "Downloading 7/36: C:/Users/vance/Downloads/geog-414/book\\bolivia_dem_07.tif\n"
     ]
    },
    {
     "data": {
      "application/vnd.jupyter.widget-view+json": {
       "model_id": "ca6aa0fd0088428595fb72ab9e22f2e9",
       "version_major": 2,
       "version_minor": 0
      },
      "text/plain": [
       "bolivia_dem_07.tif: |          | 0.00/142M (raw) [  0.0%] in 00:00 (eta:     ?)"
      ]
     },
     "metadata": {},
     "output_type": "display_data"
    },
    {
     "name": "stdout",
     "output_type": "stream",
     "text": [
      "Downloading 8/36: C:/Users/vance/Downloads/geog-414/book\\bolivia_dem_08.tif\n"
     ]
    },
    {
     "data": {
      "application/vnd.jupyter.widget-view+json": {
       "model_id": "1827e4b329f944979c9709b8960ad298",
       "version_major": 2,
       "version_minor": 0
      },
      "text/plain": [
       "bolivia_dem_08.tif: |          | 0.00/142M (raw) [  0.0%] in 00:00 (eta:     ?)"
      ]
     },
     "metadata": {},
     "output_type": "display_data"
    },
    {
     "name": "stdout",
     "output_type": "stream",
     "text": [
      "Downloading 9/36: C:/Users/vance/Downloads/geog-414/book\\bolivia_dem_09.tif\n"
     ]
    },
    {
     "data": {
      "application/vnd.jupyter.widget-view+json": {
       "model_id": "e7a1d5769f5e499c903868e9e6ab80f7",
       "version_major": 2,
       "version_minor": 0
      },
      "text/plain": [
       "bolivia_dem_09.tif: |          | 0.00/142M (raw) [  0.0%] in 00:00 (eta:     ?)"
      ]
     },
     "metadata": {},
     "output_type": "display_data"
    },
    {
     "name": "stdout",
     "output_type": "stream",
     "text": [
      "Downloading 10/36: C:/Users/vance/Downloads/geog-414/book\\bolivia_dem_10.tif\n"
     ]
    },
    {
     "data": {
      "application/vnd.jupyter.widget-view+json": {
       "model_id": "0cb7aab4de09452ebab90b53284f9c82",
       "version_major": 2,
       "version_minor": 0
      },
      "text/plain": [
       "bolivia_dem_10.tif: |          | 0.00/142M (raw) [  0.0%] in 00:00 (eta:     ?)"
      ]
     },
     "metadata": {},
     "output_type": "display_data"
    },
    {
     "name": "stdout",
     "output_type": "stream",
     "text": [
      "Downloading 11/36: C:/Users/vance/Downloads/geog-414/book\\bolivia_dem_11.tif\n"
     ]
    },
    {
     "data": {
      "application/vnd.jupyter.widget-view+json": {
       "model_id": "c0976faa9aab4d23bcc2eb16e837f9ec",
       "version_major": 2,
       "version_minor": 0
      },
      "text/plain": [
       "bolivia_dem_11.tif: |          | 0.00/142M (raw) [  0.0%] in 00:00 (eta:     ?)"
      ]
     },
     "metadata": {},
     "output_type": "display_data"
    },
    {
     "name": "stdout",
     "output_type": "stream",
     "text": [
      "Downloading 12/36: C:/Users/vance/Downloads/geog-414/book\\bolivia_dem_12.tif\n"
     ]
    },
    {
     "data": {
      "application/vnd.jupyter.widget-view+json": {
       "model_id": "c1cd3aa9615142d3bf858a4f3564f625",
       "version_major": 2,
       "version_minor": 0
      },
      "text/plain": [
       "bolivia_dem_12.tif: |          | 0.00/142M (raw) [  0.0%] in 00:00 (eta:     ?)"
      ]
     },
     "metadata": {},
     "output_type": "display_data"
    },
    {
     "name": "stdout",
     "output_type": "stream",
     "text": [
      "Downloading 13/36: C:/Users/vance/Downloads/geog-414/book\\bolivia_dem_13.tif\n"
     ]
    },
    {
     "data": {
      "application/vnd.jupyter.widget-view+json": {
       "model_id": "a13f8092e59a46e882f5383c50325eb9",
       "version_major": 2,
       "version_minor": 0
      },
      "text/plain": [
       "bolivia_dem_13.tif: |          | 0.00/142M (raw) [  0.0%] in 00:00 (eta:     ?)"
      ]
     },
     "metadata": {},
     "output_type": "display_data"
    },
    {
     "name": "stdout",
     "output_type": "stream",
     "text": [
      "Downloading 14/36: C:/Users/vance/Downloads/geog-414/book\\bolivia_dem_14.tif\n"
     ]
    },
    {
     "data": {
      "application/vnd.jupyter.widget-view+json": {
       "model_id": "82bda67c28234d9d95cfe5e79e1f3137",
       "version_major": 2,
       "version_minor": 0
      },
      "text/plain": [
       "bolivia_dem_14.tif: |          | 0.00/142M (raw) [  0.0%] in 00:00 (eta:     ?)"
      ]
     },
     "metadata": {},
     "output_type": "display_data"
    },
    {
     "name": "stdout",
     "output_type": "stream",
     "text": [
      "Downloading 15/36: C:/Users/vance/Downloads/geog-414/book\\bolivia_dem_15.tif\n"
     ]
    },
    {
     "data": {
      "application/vnd.jupyter.widget-view+json": {
       "model_id": "720953caf86f4b4a943d58d04b31ec91",
       "version_major": 2,
       "version_minor": 0
      },
      "text/plain": [
       "bolivia_dem_15.tif: |          | 0.00/142M (raw) [  0.0%] in 00:00 (eta:     ?)"
      ]
     },
     "metadata": {},
     "output_type": "display_data"
    },
    {
     "name": "stdout",
     "output_type": "stream",
     "text": [
      "Downloading 16/36: C:/Users/vance/Downloads/geog-414/book\\bolivia_dem_16.tif\n"
     ]
    },
    {
     "data": {
      "application/vnd.jupyter.widget-view+json": {
       "model_id": "a61f893a83624a14ac5e99425928a120",
       "version_major": 2,
       "version_minor": 0
      },
      "text/plain": [
       "bolivia_dem_16.tif: |          | 0.00/142M (raw) [  0.0%] in 00:00 (eta:     ?)"
      ]
     },
     "metadata": {},
     "output_type": "display_data"
    },
    {
     "name": "stdout",
     "output_type": "stream",
     "text": [
      "Downloading 17/36: C:/Users/vance/Downloads/geog-414/book\\bolivia_dem_17.tif\n"
     ]
    },
    {
     "data": {
      "application/vnd.jupyter.widget-view+json": {
       "model_id": "b0e5f48f5ca74275914132ab182b3ea3",
       "version_major": 2,
       "version_minor": 0
      },
      "text/plain": [
       "bolivia_dem_17.tif: |          | 0.00/142M (raw) [  0.0%] in 00:00 (eta:     ?)"
      ]
     },
     "metadata": {},
     "output_type": "display_data"
    },
    {
     "name": "stdout",
     "output_type": "stream",
     "text": [
      "Downloading 18/36: C:/Users/vance/Downloads/geog-414/book\\bolivia_dem_18.tif\n"
     ]
    },
    {
     "data": {
      "application/vnd.jupyter.widget-view+json": {
       "model_id": "fc51ef403e9a44f5a308495268d914b8",
       "version_major": 2,
       "version_minor": 0
      },
      "text/plain": [
       "bolivia_dem_18.tif: |          | 0.00/142M (raw) [  0.0%] in 00:00 (eta:     ?)"
      ]
     },
     "metadata": {},
     "output_type": "display_data"
    },
    {
     "name": "stdout",
     "output_type": "stream",
     "text": [
      "Downloading 19/36: C:/Users/vance/Downloads/geog-414/book\\bolivia_dem_19.tif\n"
     ]
    },
    {
     "data": {
      "application/vnd.jupyter.widget-view+json": {
       "model_id": "98869ae3eed042d3b5f49e4dae24bb99",
       "version_major": 2,
       "version_minor": 0
      },
      "text/plain": [
       "bolivia_dem_19.tif: |          | 0.00/142M (raw) [  0.0%] in 00:00 (eta:     ?)"
      ]
     },
     "metadata": {},
     "output_type": "display_data"
    },
    {
     "name": "stdout",
     "output_type": "stream",
     "text": [
      "Downloading 20/36: C:/Users/vance/Downloads/geog-414/book\\bolivia_dem_20.tif\n"
     ]
    },
    {
     "data": {
      "application/vnd.jupyter.widget-view+json": {
       "model_id": "fdeda94c599840a0bf1e372b97a51ad9",
       "version_major": 2,
       "version_minor": 0
      },
      "text/plain": [
       "bolivia_dem_20.tif: |          | 0.00/142M (raw) [  0.0%] in 00:00 (eta:     ?)"
      ]
     },
     "metadata": {},
     "output_type": "display_data"
    },
    {
     "name": "stdout",
     "output_type": "stream",
     "text": [
      "Downloading 21/36: C:/Users/vance/Downloads/geog-414/book\\bolivia_dem_21.tif\n"
     ]
    },
    {
     "data": {
      "application/vnd.jupyter.widget-view+json": {
       "model_id": "b9d4fb3067614c27bb5157b419f7962d",
       "version_major": 2,
       "version_minor": 0
      },
      "text/plain": [
       "bolivia_dem_21.tif: |          | 0.00/142M (raw) [  0.0%] in 00:00 (eta:     ?)"
      ]
     },
     "metadata": {},
     "output_type": "display_data"
    },
    {
     "name": "stdout",
     "output_type": "stream",
     "text": [
      "Downloading 22/36: C:/Users/vance/Downloads/geog-414/book\\bolivia_dem_22.tif\n"
     ]
    },
    {
     "data": {
      "application/vnd.jupyter.widget-view+json": {
       "model_id": "593455aa6a534fc89fd302bf9448b9fb",
       "version_major": 2,
       "version_minor": 0
      },
      "text/plain": [
       "bolivia_dem_22.tif: |          | 0.00/142M (raw) [  0.0%] in 00:00 (eta:     ?)"
      ]
     },
     "metadata": {},
     "output_type": "display_data"
    },
    {
     "name": "stdout",
     "output_type": "stream",
     "text": [
      "Downloading 23/36: C:/Users/vance/Downloads/geog-414/book\\bolivia_dem_23.tif\n"
     ]
    },
    {
     "data": {
      "application/vnd.jupyter.widget-view+json": {
       "model_id": "15ebf67d3a0b495a9fc6627c3d9a53b4",
       "version_major": 2,
       "version_minor": 0
      },
      "text/plain": [
       "bolivia_dem_23.tif: |          | 0.00/142M (raw) [  0.0%] in 00:00 (eta:     ?)"
      ]
     },
     "metadata": {},
     "output_type": "display_data"
    },
    {
     "name": "stdout",
     "output_type": "stream",
     "text": [
      "Downloading 24/36: C:/Users/vance/Downloads/geog-414/book\\bolivia_dem_24.tif\n"
     ]
    },
    {
     "data": {
      "application/vnd.jupyter.widget-view+json": {
       "model_id": "5895c31b83964e79a1c5fa3a16149bd1",
       "version_major": 2,
       "version_minor": 0
      },
      "text/plain": [
       "bolivia_dem_24.tif: |          | 0.00/142M (raw) [  0.0%] in 00:00 (eta:     ?)"
      ]
     },
     "metadata": {},
     "output_type": "display_data"
    },
    {
     "name": "stdout",
     "output_type": "stream",
     "text": [
      "Downloading 25/36: C:/Users/vance/Downloads/geog-414/book\\bolivia_dem_25.tif\n"
     ]
    },
    {
     "data": {
      "application/vnd.jupyter.widget-view+json": {
       "model_id": "f3ccf63dc36143adbea9454b511c56f8",
       "version_major": 2,
       "version_minor": 0
      },
      "text/plain": [
       "bolivia_dem_25.tif: |          | 0.00/142M (raw) [  0.0%] in 00:00 (eta:     ?)"
      ]
     },
     "metadata": {},
     "output_type": "display_data"
    },
    {
     "name": "stdout",
     "output_type": "stream",
     "text": [
      "Downloading 26/36: C:/Users/vance/Downloads/geog-414/book\\bolivia_dem_26.tif\n"
     ]
    },
    {
     "data": {
      "application/vnd.jupyter.widget-view+json": {
       "model_id": "090b57aae6664675b096f33c1f87c739",
       "version_major": 2,
       "version_minor": 0
      },
      "text/plain": [
       "bolivia_dem_26.tif: |          | 0.00/142M (raw) [  0.0%] in 00:00 (eta:     ?)"
      ]
     },
     "metadata": {},
     "output_type": "display_data"
    },
    {
     "name": "stdout",
     "output_type": "stream",
     "text": [
      "Downloading 27/36: C:/Users/vance/Downloads/geog-414/book\\bolivia_dem_27.tif\n"
     ]
    },
    {
     "data": {
      "application/vnd.jupyter.widget-view+json": {
       "model_id": "c8afaa72f2424d7288aa5baa586e0680",
       "version_major": 2,
       "version_minor": 0
      },
      "text/plain": [
       "bolivia_dem_27.tif: |          | 0.00/142M (raw) [  0.0%] in 00:00 (eta:     ?)"
      ]
     },
     "metadata": {},
     "output_type": "display_data"
    },
    {
     "name": "stdout",
     "output_type": "stream",
     "text": [
      "Downloading 28/36: C:/Users/vance/Downloads/geog-414/book\\bolivia_dem_28.tif\n"
     ]
    },
    {
     "data": {
      "application/vnd.jupyter.widget-view+json": {
       "model_id": "a6346291fc774eba8fda835e3a0277a6",
       "version_major": 2,
       "version_minor": 0
      },
      "text/plain": [
       "bolivia_dem_28.tif: |          | 0.00/142M (raw) [  0.0%] in 00:00 (eta:     ?)"
      ]
     },
     "metadata": {},
     "output_type": "display_data"
    },
    {
     "name": "stdout",
     "output_type": "stream",
     "text": [
      "Downloading 29/36: C:/Users/vance/Downloads/geog-414/book\\bolivia_dem_29.tif\n"
     ]
    },
    {
     "data": {
      "application/vnd.jupyter.widget-view+json": {
       "model_id": "d0768c86a1834b7f90b0d7516938d1c6",
       "version_major": 2,
       "version_minor": 0
      },
      "text/plain": [
       "bolivia_dem_29.tif: |          | 0.00/142M (raw) [  0.0%] in 00:00 (eta:     ?)"
      ]
     },
     "metadata": {},
     "output_type": "display_data"
    },
    {
     "name": "stdout",
     "output_type": "stream",
     "text": [
      "Downloading 30/36: C:/Users/vance/Downloads/geog-414/book\\bolivia_dem_30.tif\n"
     ]
    },
    {
     "data": {
      "application/vnd.jupyter.widget-view+json": {
       "model_id": "2cee44383e3f4bc8a54381573142b610",
       "version_major": 2,
       "version_minor": 0
      },
      "text/plain": [
       "bolivia_dem_30.tif: |          | 0.00/142M (raw) [  0.0%] in 00:00 (eta:     ?)"
      ]
     },
     "metadata": {},
     "output_type": "display_data"
    },
    {
     "name": "stdout",
     "output_type": "stream",
     "text": [
      "Downloading 31/36: C:/Users/vance/Downloads/geog-414/book\\bolivia_dem_31.tif\n"
     ]
    },
    {
     "data": {
      "application/vnd.jupyter.widget-view+json": {
       "model_id": "d1ebbb841e844243bf318c84ada90946",
       "version_major": 2,
       "version_minor": 0
      },
      "text/plain": [
       "bolivia_dem_31.tif: |          | 0.00/142M (raw) [  0.0%] in 00:00 (eta:     ?)"
      ]
     },
     "metadata": {},
     "output_type": "display_data"
    },
    {
     "name": "stdout",
     "output_type": "stream",
     "text": [
      "Downloading 32/36: C:/Users/vance/Downloads/geog-414/book\\bolivia_dem_32.tif\n"
     ]
    },
    {
     "data": {
      "application/vnd.jupyter.widget-view+json": {
       "model_id": "8621912854c94bd4b1bfd33e5b042e40",
       "version_major": 2,
       "version_minor": 0
      },
      "text/plain": [
       "bolivia_dem_32.tif: |          | 0.00/142M (raw) [  0.0%] in 00:00 (eta:     ?)"
      ]
     },
     "metadata": {},
     "output_type": "display_data"
    },
    {
     "name": "stdout",
     "output_type": "stream",
     "text": [
      "Downloading 33/36: C:/Users/vance/Downloads/geog-414/book\\bolivia_dem_33.tif\n"
     ]
    },
    {
     "data": {
      "application/vnd.jupyter.widget-view+json": {
       "model_id": "69e958197139404bbe75b7805608affe",
       "version_major": 2,
       "version_minor": 0
      },
      "text/plain": [
       "bolivia_dem_33.tif: |          | 0.00/142M (raw) [  0.0%] in 00:00 (eta:     ?)"
      ]
     },
     "metadata": {},
     "output_type": "display_data"
    },
    {
     "name": "stdout",
     "output_type": "stream",
     "text": [
      "Downloading 34/36: C:/Users/vance/Downloads/geog-414/book\\bolivia_dem_34.tif\n"
     ]
    },
    {
     "data": {
      "application/vnd.jupyter.widget-view+json": {
       "model_id": "fb5074f1f2a648d194c7c1fb552b53af",
       "version_major": 2,
       "version_minor": 0
      },
      "text/plain": [
       "bolivia_dem_34.tif: |          | 0.00/142M (raw) [  0.0%] in 00:00 (eta:     ?)"
      ]
     },
     "metadata": {},
     "output_type": "display_data"
    },
    {
     "name": "stdout",
     "output_type": "stream",
     "text": [
      "Downloading 35/36: C:/Users/vance/Downloads/geog-414/book\\bolivia_dem_35.tif\n"
     ]
    },
    {
     "data": {
      "application/vnd.jupyter.widget-view+json": {
       "model_id": "5609e53317d44521933cbea23e6b8c44",
       "version_major": 2,
       "version_minor": 0
      },
      "text/plain": [
       "bolivia_dem_35.tif: |          | 0.00/142M (raw) [  0.0%] in 00:00 (eta:     ?)"
      ]
     },
     "metadata": {},
     "output_type": "display_data"
    },
    {
     "name": "stdout",
     "output_type": "stream",
     "text": [
      "Downloading 36/36: C:/Users/vance/Downloads/geog-414/book\\bolivia_dem_36.tif\n"
     ]
    },
    {
     "data": {
      "application/vnd.jupyter.widget-view+json": {
       "model_id": "fc16b4e4e972422fa88344ad7ac1ac60",
       "version_major": 2,
       "version_minor": 0
      },
      "text/plain": [
       "bolivia_dem_36.tif: |          | 0.00/142M (raw) [  0.0%] in 00:00 (eta:     ?)"
      ]
     },
     "metadata": {},
     "output_type": "display_data"
    },
    {
     "name": "stdout",
     "output_type": "stream",
     "text": [
      "Downloaded 36 tiles in 1300.3442010879517 seconds.\n"
     ]
    }
   ],
   "source": [
    "out_dir = 'C:/Users/vance/Downloads/geog-414/book'\n",
    "geemap.download_ee_image_tiles(\n",
    "    dem_bolivia, fishnet, out_dir, prefix=\"bolivia_dem_\", crs=\"EPSG:4326\", scale=30\n",
    ")"
   ]
  }
 ],
 "metadata": {
  "kernelspec": {
   "display_name": "gee",
   "language": "python",
   "name": "python3"
  },
  "language_info": {
   "codemirror_mode": {
    "name": "ipython",
    "version": 3
   },
   "file_extension": ".py",
   "mimetype": "text/x-python",
   "name": "python",
   "nbconvert_exporter": "python",
   "pygments_lexer": "ipython3",
   "version": "3.12.0"
  }
 },
 "nbformat": 4,
 "nbformat_minor": 2
}
