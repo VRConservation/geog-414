{
 "cells": [
  {
   "cell_type": "markdown",
   "metadata": {},
   "source": [
    "# FINAL PROJECT\n",
    "**Vance Russell** /\n",
    "December 2023"
   ]
  },
  {
   "cell_type": "markdown",
   "metadata": {},
   "source": [
    "## INTRODUCTION\n",
    "I wanted to visualize and analyze age of tree stands in Canada using Geemap and the dataset [CA Forest Age](https://opendata.nfis.org/clipserver/nfis-change_eng.html) from Canada's national forest inventory system. The dataset is quite large (14gb) so viewing and analyzig via geemap is propitious. The dataset comes from Maltman et al. [2023](https://www.sciencedirect.com/science/article/pii/S0034425723000809?via%3Dihub)\n",
    "## DATA SOURCES\n",
    "The raster dataset comes from the Canadian NFIS and is called 'projects/sat-io/open-datasets/CA_FOREST/CA_forest_age_2019'. A number of additional datasets in this collection are quite interesting such as the leading tree species, basal area, and above ground biomass. I added the Hansen tree loss image collection to this analysis. **Fire datasets??**\n",
    "## ANALYSIS\n",
    "The Hansen dataset helped to analyze where there was a correlation between forest loss and age. Running a linear regression of loss vs. age. I also summed descriptive statistics for forest across the western range of Canadian forests and looked at fires from 1985-2020 and CA wildfire dnbr to see if any relationships exist between age and fire. The analysis steps are annotated with comments at the beginning of each code block and then interprested in the Output section of the project\n"
   ]
  },
  {
   "cell_type": "code",
   "execution_count": 1,
   "metadata": {},
   "outputs": [
    {
     "data": {
      "application/vnd.jupyter.widget-view+json": {
       "model_id": "58b8f399d2cf447293288c0ca85fd324",
       "version_major": 2,
       "version_minor": 0
      },
      "text/plain": [
       "Map(center=[0, 0], controls=(WidgetControl(options=['position', 'transparent_bg'], widget=SearchDataGUI(childr…"
      ]
     },
     "execution_count": 1,
     "metadata": {},
     "output_type": "execute_result"
    },
    {
     "name": "stdout",
     "output_type": "stream",
     "text": [
      "The provided color (default) is invalid. Using the default black color.\n",
      "'#default' is not in web format. Need 3 or 6 hex digit.\n",
      "The provided color (n03) is invalid. Using the default black color.\n",
      "'#n03' is not in web format. Need 3 or 6 hex digit.\n",
      "The provided color (n04) is invalid. Using the default black color.\n",
      "'#n04' is not in web format. Need 3 or 6 hex digit.\n",
      "The provided color (n05) is invalid. Using the default black color.\n",
      "'#n05' is not in web format. Need 3 or 6 hex digit.\n",
      "The provided color (n06) is invalid. Using the default black color.\n",
      "'#n06' is not in web format. Need 3 or 6 hex digit.\n",
      "The provided color (n07) is invalid. Using the default black color.\n",
      "'#n07' is not in web format. Need 3 or 6 hex digit.\n",
      "The provided color (n08) is invalid. Using the default black color.\n",
      "'#n08' is not in web format. Need 3 or 6 hex digit.\n",
      "The provided color (n09) is invalid. Using the default black color.\n",
      "'#n09' is not in web format. Need 3 or 6 hex digit.\n",
      "The provided color (n10) is invalid. Using the default black color.\n",
      "'#n10' is not in web format. Need 3 or 6 hex digit.\n",
      "The provided color (n11) is invalid. Using the default black color.\n",
      "'#n11' is not in web format. Need 3 or 6 hex digit.\n",
      "The provided color (n12) is invalid. Using the default black color.\n",
      "'#n12' is not in web format. Need 3 or 6 hex digit.\n"
     ]
    }
   ],
   "source": [
    "# Import geemap and create an interactive map\n",
    "import ee\n",
    "import geemap\n",
    "geemap.ee_initialize()\n",
    "Map = geemap.Map()\n",
    "Map"
   ]
  },
  {
   "cell_type": "code",
   "execution_count": 3,
   "metadata": {},
   "outputs": [
    {
     "data": {
      "text/html": [
       "\n",
       "            <style>\n",
       "                .geemap-dark {\n",
       "                    --jp-widgets-color: white;\n",
       "                    --jp-widgets-label-color: white;\n",
       "                    --jp-ui-font-color1: white;\n",
       "                    --jp-layout-color2: #454545;\n",
       "                    background-color: #383838;\n",
       "                }\n",
       "                    \n",
       "                .geemap-dark .jupyter-button {\n",
       "                    --jp-layout-color3: #383838;\n",
       "                }\n",
       "                \n",
       "                .geemap-colab {\n",
       "                    background-color: var(--colab-primary-surface-color, white);\n",
       "                }\n",
       "                    \n",
       "                .geemap-colab .jupyter-button {\n",
       "                    --jp-layout-color3: var(--colab-primary-surface-color, white);\n",
       "                }\n",
       "            </style>\n",
       "            "
      ],
      "text/plain": [
       "<IPython.core.display.HTML object>"
      ]
     },
     "metadata": {},
     "output_type": "display_data"
    },
    {
     "name": "stdout",
     "output_type": "stream",
     "text": [
      "CartoDB.DarkMatter has been already added before.\n"
     ]
    }
   ],
   "source": [
    "# Import color map and use viridis as the vis_param for CA forest age. Change basemap\n",
    "import geemap.colormaps as cm\n",
    "palette = cm.palettes.viridis\n",
    "vis_params = {'min': 0, 'max': 152, 'palette': palette}\n",
    "Map.add_basemap('CartoDB.DarkMatter')"
   ]
  },
  {
   "cell_type": "code",
   "execution_count": 4,
   "metadata": {},
   "outputs": [
    {
     "data": {
      "text/html": [
       "\n",
       "            <style>\n",
       "                .geemap-dark {\n",
       "                    --jp-widgets-color: white;\n",
       "                    --jp-widgets-label-color: white;\n",
       "                    --jp-ui-font-color1: white;\n",
       "                    --jp-layout-color2: #454545;\n",
       "                    background-color: #383838;\n",
       "                }\n",
       "                    \n",
       "                .geemap-dark .jupyter-button {\n",
       "                    --jp-layout-color3: #383838;\n",
       "                }\n",
       "                \n",
       "                .geemap-colab {\n",
       "                    background-color: var(--colab-primary-surface-color, white);\n",
       "                }\n",
       "                    \n",
       "                .geemap-colab .jupyter-button {\n",
       "                    --jp-layout-color3: var(--colab-primary-surface-color, white);\n",
       "                }\n",
       "            </style>\n",
       "            "
      ],
      "text/plain": [
       "<IPython.core.display.HTML object>"
      ]
     },
     "metadata": {},
     "output_type": "display_data"
    },
    {
     "data": {
      "application/vnd.jupyter.widget-view+json": {
       "model_id": "58b8f399d2cf447293288c0ca85fd324",
       "version_major": 2,
       "version_minor": 0
      },
      "text/plain": [
       "Map(bottom=812.0, center=[55.628, -97.616], controls=(WidgetControl(options=['position', 'transparent_bg'], wi…"
      ]
     },
     "execution_count": 4,
     "metadata": {},
     "output_type": "execute_result"
    }
   ],
   "source": [
    "# Set map center, add age dataset then add tree age variable to map\n",
    "age = ee.Image('projects/sat-io/open-datasets/CA_FOREST/CA_forest_age_2019')\n",
    "Map.setCenter(-97.616,55.628,4)\n",
    "Map.addLayer(age, vis_params, 'CA Forest Age')\n",
    "Map"
   ]
  },
  {
   "cell_type": "code",
   "execution_count": 5,
   "metadata": {},
   "outputs": [
    {
     "data": {
      "text/html": [
       "\n",
       "            <style>\n",
       "                .geemap-dark {\n",
       "                    --jp-widgets-color: white;\n",
       "                    --jp-widgets-label-color: white;\n",
       "                    --jp-ui-font-color1: white;\n",
       "                    --jp-layout-color2: #454545;\n",
       "                    background-color: #383838;\n",
       "                }\n",
       "                    \n",
       "                .geemap-dark .jupyter-button {\n",
       "                    --jp-layout-color3: #383838;\n",
       "                }\n",
       "                \n",
       "                .geemap-colab {\n",
       "                    background-color: var(--colab-primary-surface-color, white);\n",
       "                }\n",
       "                    \n",
       "                .geemap-colab .jupyter-button {\n",
       "                    --jp-layout-color3: var(--colab-primary-surface-color, white);\n",
       "                }\n",
       "            </style>\n",
       "            "
      ],
      "text/plain": [
       "<IPython.core.display.HTML object>"
      ]
     },
     "metadata": {},
     "output_type": "display_data"
    }
   ],
   "source": [
    "# Add colorbar in lower right corner\n",
    "Map.add_colorbar(\n",
    "    vis_params,\n",
    "    label=\"Canada Forest Age 2019\",\n",
    "    orientation=\"horizontal\",\n",
    "    position=\"bottomright\",\n",
    "    layer_name=\"age\",\n",
    "    transparent_bg=False,\n",
    ")"
   ]
  },
  {
   "cell_type": "markdown",
   "metadata": {},
   "source": [
    "## Compare forest age to forest loss\n",
    "To compare Canada forest age to forest loss we add the Hansen GLAD dataset to the map. We then use the .reduceRegion() function to calculate the total number of pixels that have been lost in the last 20 years and then pick some bounding boxes of smaller area to run a regression for age vs. loss."
   ]
  },
  {
   "cell_type": "code",
   "execution_count": 6,
   "metadata": {},
   "outputs": [
    {
     "data": {
      "text/html": [
       "\n",
       "            <style>\n",
       "                .geemap-dark {\n",
       "                    --jp-widgets-color: white;\n",
       "                    --jp-widgets-label-color: white;\n",
       "                    --jp-ui-font-color1: white;\n",
       "                    --jp-layout-color2: #454545;\n",
       "                    background-color: #383838;\n",
       "                }\n",
       "                    \n",
       "                .geemap-dark .jupyter-button {\n",
       "                    --jp-layout-color3: #383838;\n",
       "                }\n",
       "                \n",
       "                .geemap-colab {\n",
       "                    background-color: var(--colab-primary-surface-color, white);\n",
       "                }\n",
       "                    \n",
       "                .geemap-colab .jupyter-button {\n",
       "                    --jp-layout-color3: var(--colab-primary-surface-color, white);\n",
       "                }\n",
       "            </style>\n",
       "            "
      ],
      "text/plain": [
       "<IPython.core.display.HTML object>"
      ]
     },
     "metadata": {},
     "output_type": "display_data"
    }
   ],
   "source": [
    "# Add the Hansen global forest loss dataset\n",
    "hansen = ee.Image('UMD/hansen/global_forest_change_2022_v1_10')\n",
    "treeLossVisParam = {\n",
    "  'bands': ['lossyear'],\n",
    "  'min': 0,\n",
    "  'max': 22,\n",
    "  'palette': ['yellow', 'red']\n",
    "}\n",
    "Map.addLayer(hansen, treeLossVisParam, 'tree loss year', False)"
   ]
  },
  {
   "cell_type": "code",
   "execution_count": 6,
   "metadata": {},
   "outputs": [
    {
     "data": {
      "text/html": [
       "\n",
       "            <style>\n",
       "                .geemap-dark {\n",
       "                    --jp-widgets-color: white;\n",
       "                    --jp-widgets-label-color: white;\n",
       "                    --jp-ui-font-color1: white;\n",
       "                    --jp-layout-color2: #454545;\n",
       "                    background-color: #383838;\n",
       "                }\n",
       "                    \n",
       "                .geemap-dark .jupyter-button {\n",
       "                    --jp-layout-color3: #383838;\n",
       "                }\n",
       "                \n",
       "                .geemap-colab {\n",
       "                    background-color: var(--colab-primary-surface-color, white);\n",
       "                }\n",
       "                    \n",
       "                .geemap-colab .jupyter-button {\n",
       "                    --jp-layout-color3: var(--colab-primary-surface-color, white);\n",
       "                }\n",
       "            </style>\n",
       "            "
      ],
      "text/plain": [
       "<IPython.core.display.HTML object>"
      ]
     },
     "metadata": {},
     "output_type": "display_data"
    }
   ],
   "source": [
    "# # Add tree loss colorbar in lower left corner if needed, uncomment to add back\n",
    "# Map.add_colorbar(\n",
    "#     treeLossVisParam,\n",
    "#     label=\"Percent Forest Loss 2000-22\",\n",
    "#     orientation=\"vertical\",\n",
    "#     position=\"bottomleft\",\n",
    "#     layer_name=\"hansen\",\n",
    "#     transparent_bg=False,\n",
    "# )\n",
    "# Map"
   ]
  },
  {
   "cell_type": "code",
   "execution_count": 7,
   "metadata": {},
   "outputs": [
    {
     "data": {
      "text/html": [
       "\n",
       "            <style>\n",
       "                .geemap-dark {\n",
       "                    --jp-widgets-color: white;\n",
       "                    --jp-widgets-label-color: white;\n",
       "                    --jp-ui-font-color1: white;\n",
       "                    --jp-layout-color2: #454545;\n",
       "                    background-color: #383838;\n",
       "                }\n",
       "                    \n",
       "                .geemap-dark .jupyter-button {\n",
       "                    --jp-layout-color3: #383838;\n",
       "                }\n",
       "                \n",
       "                .geemap-colab {\n",
       "                    background-color: var(--colab-primary-surface-color, white);\n",
       "                }\n",
       "                    \n",
       "                .geemap-colab .jupyter-button {\n",
       "                    --jp-layout-color3: var(--colab-primary-surface-color, white);\n",
       "                }\n",
       "            </style>\n",
       "            "
      ],
      "text/plain": [
       "<IPython.core.display.HTML object>"
      ]
     },
     "metadata": {},
     "output_type": "display_data"
    }
   ],
   "source": [
    "# Plot age vs tree loss year\n",
    "import matplotlib.pyplot as plt\n",
    "\n",
    "# convert the ee.Image object to numpy array\n",
    "age_arr = age.toArray().getInfo()\n",
    "hansen_arr = hansen.select('lossyear').toArray().getInfo()"
   ]
  },
  {
   "cell_type": "code",
   "execution_count": null,
   "metadata": {},
   "outputs": [],
   "source": [
    "# plot the arrays\n",
    "plt.scatter(age_arr, hansen_arr)\n",
    "plt.xlabel('Age')\n",
    "plt.ylabel('Tree Loss Year')\n",
    "plt.title('Age vs Tree Loss Year')\n",
    "plt.show()"
   ]
  },
  {
   "cell_type": "code",
   "execution_count": 9,
   "metadata": {},
   "outputs": [
    {
     "data": {
      "text/html": [
       "\n",
       "            <style>\n",
       "                .geemap-dark {\n",
       "                    --jp-widgets-color: white;\n",
       "                    --jp-widgets-label-color: white;\n",
       "                    --jp-ui-font-color1: white;\n",
       "                    --jp-layout-color2: #454545;\n",
       "                    background-color: #383838;\n",
       "                }\n",
       "                    \n",
       "                .geemap-dark .jupyter-button {\n",
       "                    --jp-layout-color3: #383838;\n",
       "                }\n",
       "                \n",
       "                .geemap-colab {\n",
       "                    background-color: var(--colab-primary-surface-color, white);\n",
       "                }\n",
       "                    \n",
       "                .geemap-colab .jupyter-button {\n",
       "                    --jp-layout-color3: var(--colab-primary-surface-color, white);\n",
       "                }\n",
       "            </style>\n",
       "            "
      ],
      "text/plain": [
       "<IPython.core.display.HTML object>"
      ]
     },
     "metadata": {},
     "output_type": "display_data"
    },
    {
     "data": {
      "application/vnd.jupyter.widget-view+json": {
       "model_id": "e879a55f80964fdfa8ab32b187c1d729",
       "version_major": 2,
       "version_minor": 0
      },
      "text/plain": [
       "Map(bottom=1583.0, center=[51.085, -120.735], controls=(WidgetControl(options=['position', 'transparent_bg'], …"
      ]
     },
     "execution_count": 9,
     "metadata": {},
     "output_type": "execute_result"
    }
   ],
   "source": [
    "# Define the aoi coordinates\n",
    "polygon_coords = [[-121.35042971330375,50.877571526454375],\n",
    "                  [-120.11996096330375,50.877571526454375],\n",
    "                  [-120.11996096330375,51.4699284878807],\n",
    "                  [-121.35042971330375,51.4699284878807],\n",
    "                  [-121.35042971330375,50.877571526454375]]\n",
    "\n",
    "# Create an Earth Engine polygon object as the aoi\n",
    "aoi = ee.Geometry.Polygon(polygon_coords)\n",
    "\n",
    "# Add the aoi to the map\n",
    "style = {'color': 'white', 'width': 2, 'lineType': 'solid', 'fillColor': 'red'}\n",
    "Map.addLayer(aoi, style, 'AOI')\n",
    "Map.setCenter(-120.735, 51.085, 8)\n",
    "Map"
   ]
  }
 ],
 "metadata": {
  "kernelspec": {
   "display_name": "opencv4",
   "language": "python",
   "name": "python3"
  },
  "language_info": {
   "codemirror_mode": {
    "name": "ipython",
    "version": 3
   },
   "file_extension": ".py",
   "mimetype": "text/x-python",
   "name": "python",
   "nbconvert_exporter": "python",
   "pygments_lexer": "ipython3",
   "version": "3.12.0"
  }
 },
 "nbformat": 4,
 "nbformat_minor": 2
}
