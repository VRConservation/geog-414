{
 "cells": [
  {
   "cell_type": "code",
   "execution_count": null,
   "metadata": {},
   "outputs": [],
   "source": [
    "import ee\n",
    "import geemap\n",
    "import geemap.colormaps as cm\n",
    "geemap.ee_initialize()\n",
    "\n",
    "# Initialize the map\n",
    "m = geemap.Map()\n",
    "\n",
    "# A digital elevation model\n",
    "dem = ee.Image('NASA/NASADEM_HGT/001')\n",
    "\n",
    "# A FeatureCollection defining South America boundary\n",
    "fc = ee.FeatureCollection('USDOS/LSIB_SIMPLE/2017').filter(ee.Filter.eq('wld_rgn', 'South America'))"
   ]
  },
  {
   "cell_type": "code",
   "execution_count": null,
   "metadata": {},
   "outputs": [],
   "source": [
    "# Clip the DEM by the South America boundary FeatureCollection\n",
    "dem_clip = dem.clipToCollection(fc)\n",
    "\n",
    "# Set the map center\n",
    "m.setCenter(-63.746, -15.529, 5)"
   ]
  },
  {
   "cell_type": "code",
   "execution_count": null,
   "metadata": {},
   "outputs": [],
   "source": [
    "# Add layers to the map\n",
    "m.addLayer(dem, {'bands': 'elevation', 'min': 0, 'max': 2500}, 'Original DEM', False)\n",
    "m.addLayer(fc, {'color': 'blue'}, 'FeatureCollection', False)\n",
    "m.addLayer(dem_clip, {'bands': 'elevation', 'min': 0, 'max': 5000, 'palette': ['green', 'yellow', 'brown', 'white']}, 'Clipped DEM')\n",
    "m"
   ]
  },
  {
   "cell_type": "code",
   "execution_count": null,
   "metadata": {},
   "outputs": [],
   "source": []
  }
 ],
 "metadata": {
  "kernelspec": {
   "display_name": "geo",
   "language": "python",
   "name": "python3"
  },
  "language_info": {
   "codemirror_mode": {
    "name": "ipython",
    "version": 3
   },
   "file_extension": ".py",
   "mimetype": "text/x-python",
   "name": "python",
   "nbconvert_exporter": "python",
   "pygments_lexer": "ipython3",
   "version": "3.12.0"
  }
 },
 "nbformat": 4,
 "nbformat_minor": 2
}
