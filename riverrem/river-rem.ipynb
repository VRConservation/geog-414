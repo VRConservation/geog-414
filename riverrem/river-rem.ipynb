{
 "cells": [
  {
   "cell_type": "markdown",
   "metadata": {},
   "source": [
    "# Riverrem REM maker\n",
    "Automated REM maker from opentopography. Forked on github to my repository [here](https://github.com/OpenTopography/RiverREM). Make sure to change in tif location and out folder for the rem_maker on line 6 of the first code block"
   ]
  },
  {
   "cell_type": "code",
   "execution_count": 10,
   "metadata": {},
   "outputs": [
    {
     "data": {
      "text/html": [
       "\n",
       "            <style>\n",
       "                .geemap-dark {\n",
       "                    --jp-widgets-color: white;\n",
       "                    --jp-widgets-label-color: white;\n",
       "                    --jp-ui-font-color1: white;\n",
       "                    --jp-layout-color2: #454545;\n",
       "                    background-color: #383838;\n",
       "                }\n",
       "                    \n",
       "                .geemap-dark .jupyter-button {\n",
       "                    --jp-layout-color3: #383838;\n",
       "                }\n",
       "                \n",
       "                .geemap-colab {\n",
       "                    background-color: var(--colab-primary-surface-color, white);\n",
       "                }\n",
       "                    \n",
       "                .geemap-colab .jupyter-button {\n",
       "                    --jp-layout-color3: var(--colab-primary-surface-color, white);\n",
       "                }\n",
       "            </style>\n",
       "            "
      ],
      "text/plain": [
       "<IPython.core.display.HTML object>"
      ]
     },
     "metadata": {},
     "output_type": "display_data"
    },
    {
     "name": "stderr",
     "output_type": "stream",
     "text": [
      "[INFO] 2023-12-15 10:02:52,712 - Getting DEM projection.\n",
      "[INFO] 2023-12-15 10:02:52,712 - Reading DEM as array.\n",
      "[INFO] 2023-12-15 10:02:52,712 - Getting DEM bounds.\n",
      "[INFO] 2023-12-15 10:02:52,728 - Mapping array indices to coordinates.\n"
     ]
    }
   ],
   "source": [
    "# import riverrem maker\n",
    "from riverrem.REMMaker import REMMaker\n",
    "\n",
    "# provide the DEM file path and desired output directory\n",
    "# original code line is the following: # rem_maker = REMMaker(dem='/path/to/dem.tif', out_dir='/out/dir/')\n",
    "\n",
    "rem_maker = REMMaker(\n",
    "    dem='C:/Users/vance/Downloads/geog-414/riverrem/dem.tif',\n",
    "    out_dir='C:/Users/vance/Downloads/geog-414/riverrem'\n",
    ")\n"
   ]
  },
  {
   "cell_type": "code",
   "execution_count": 11,
   "metadata": {},
   "outputs": [
    {
     "data": {
      "text/html": [
       "\n",
       "            <style>\n",
       "                .geemap-dark {\n",
       "                    --jp-widgets-color: white;\n",
       "                    --jp-widgets-label-color: white;\n",
       "                    --jp-ui-font-color1: white;\n",
       "                    --jp-layout-color2: #454545;\n",
       "                    background-color: #383838;\n",
       "                }\n",
       "                    \n",
       "                .geemap-dark .jupyter-button {\n",
       "                    --jp-layout-color3: #383838;\n",
       "                }\n",
       "                \n",
       "                .geemap-colab {\n",
       "                    background-color: var(--colab-primary-surface-color, white);\n",
       "                }\n",
       "                    \n",
       "                .geemap-colab .jupyter-button {\n",
       "                    --jp-layout-color3: var(--colab-primary-surface-color, white);\n",
       "                }\n",
       "            </style>\n",
       "            "
      ],
      "text/plain": [
       "<IPython.core.display.HTML object>"
      ]
     },
     "metadata": {},
     "output_type": "display_data"
    },
    {
     "name": "stderr",
     "output_type": "stream",
     "text": [
      "[INFO] 2023-12-15 10:03:14,811 - Finding river centerline.\n",
      "c:\\Users\\vance\\anaconda3\\envs\\gee\\Lib\\site-packages\\riverrem\\REMMaker.py:233: UserWarning: The `geometries` module and `geometries_from_X` functions have been renamed the `features` module and `features_from_X` functions. Use these instead. The `geometries` module and function names are deprecated and will be removed in a future release.\n",
      "  self.rivers = osmnx.geometries_from_bbox(*self.bbox, tags={'waterway': ['river', 'stream', 'tidal channel']})\n",
      "[INFO] 2023-12-15 10:03:16,032 - Found river(s): Nenana River, West Middle River, Teklanika River, Little Goldstream Creek, Tanana River, East Middle River\n",
      "[INFO] 2023-12-15 10:03:16,033 - \n",
      "River lengths:\n",
      "c:\\Users\\vance\\anaconda3\\envs\\gee\\Lib\\site-packages\\riverrem\\REMMaker.py:257: UserWarning: Geometry is in a geographic CRS. Results from 'length' are likely incorrect. Use 'GeoSeries.to_crs()' to re-project geometries to a projected CRS before this operation.\n",
      "\n",
      "  river_length = river_segments.length.sum()\n",
      "[INFO] 2023-12-15 10:03:16,045 - \tNenana River: 0.1038 degree\n",
      "c:\\Users\\vance\\anaconda3\\envs\\gee\\Lib\\site-packages\\riverrem\\REMMaker.py:257: UserWarning: Geometry is in a geographic CRS. Results from 'length' are likely incorrect. Use 'GeoSeries.to_crs()' to re-project geometries to a projected CRS before this operation.\n",
      "\n",
      "  river_length = river_segments.length.sum()\n",
      "[INFO] 2023-12-15 10:03:16,063 - \tWest Middle River: 0.2646 degree\n",
      "c:\\Users\\vance\\anaconda3\\envs\\gee\\Lib\\site-packages\\riverrem\\REMMaker.py:257: UserWarning: Geometry is in a geographic CRS. Results from 'length' are likely incorrect. Use 'GeoSeries.to_crs()' to re-project geometries to a projected CRS before this operation.\n",
      "\n",
      "  river_length = river_segments.length.sum()\n",
      "[INFO] 2023-12-15 10:03:16,082 - \tTeklanika River: 0.0173 degree\n",
      "c:\\Users\\vance\\anaconda3\\envs\\gee\\Lib\\site-packages\\riverrem\\REMMaker.py:257: UserWarning: Geometry is in a geographic CRS. Results from 'length' are likely incorrect. Use 'GeoSeries.to_crs()' to re-project geometries to a projected CRS before this operation.\n",
      "\n",
      "  river_length = river_segments.length.sum()\n",
      "[INFO] 2023-12-15 10:03:16,098 - \tLittle Goldstream Creek: 0.0897 degree\n",
      "c:\\Users\\vance\\anaconda3\\envs\\gee\\Lib\\site-packages\\riverrem\\REMMaker.py:257: UserWarning: Geometry is in a geographic CRS. Results from 'length' are likely incorrect. Use 'GeoSeries.to_crs()' to re-project geometries to a projected CRS before this operation.\n",
      "\n",
      "  river_length = river_segments.length.sum()\n",
      "[INFO] 2023-12-15 10:03:16,136 - \tTanana River: 0.6485 degree\n",
      "c:\\Users\\vance\\anaconda3\\envs\\gee\\Lib\\site-packages\\riverrem\\REMMaker.py:257: UserWarning: Geometry is in a geographic CRS. Results from 'length' are likely incorrect. Use 'GeoSeries.to_crs()' to re-project geometries to a projected CRS before this operation.\n",
      "\n",
      "  river_length = river_segments.length.sum()\n",
      "[INFO] 2023-12-15 10:03:16,161 - \tEast Middle River: 0.2356 degree\n",
      "[INFO] 2023-12-15 10:03:16,161 - \n",
      "Longest river in domain: Tanana River\n",
      "\n",
      "[INFO] 2023-12-15 10:03:16,163 - Making river points shapefile.\n",
      "[INFO] 2023-12-15 10:03:16,214 - Getting river elevation at DEM pixels.\n",
      "[INFO] 2023-12-15 10:03:16,257 - Interpolating river elevation across DEM extent.\n",
      "[INFO] 2023-12-15 10:03:16,258 - Estimating k.\n",
      "[INFO] 2023-12-15 10:03:16,258 - Guessing k = 70\n",
      "[INFO] 2023-12-15 10:03:16,259 - Using k = 70 nearest neighbors.\n",
      "[INFO] 2023-12-15 10:03:16,261 - Getting coords of points to interpolate.\n",
      "[INFO] 2023-12-15 10:03:16,261 - Constructing tree.\n",
      "[INFO] 2023-12-15 10:03:16,261 - Querying tree.\n",
      "[INFO] 2023-12-15 10:03:16,261 - Chunking query...\n",
      "[INFO] 2023-12-15 10:03:16,261 - 0.00%\n",
      "[INFO] 2023-12-15 10:03:16,543 - Created interpolated WSE array.\n",
      "[INFO] 2023-12-15 10:03:16,554 - \n",
      "Detrending DEM.\n",
      "[INFO] 2023-12-15 10:03:16,566 - \n",
      "Blending REM with hillshade.\n"
     ]
    },
    {
     "name": "stdout",
     "output_type": "stream",
     "text": [
      "WARNING: NoData value not found for input DEM. Assuming NoData value is 0.\n",
      "\n",
      "Making multidirectional hillshade raster.\n",
      "Tiling and compressing raster.\n",
      "Saved ./.cache\\dem_hillshade.tif.\n",
      "WARNING: NoData value not found for input DEM. Assuming NoData value is 0.\n",
      "\n",
      "Making color relief map with cmap=mako_r.\n",
      "Tiling and compressing raster.\n",
      "Saved ./.cache\\dem_REM_color-relief.tif.\n",
      "\n",
      "Generating .png file.\n",
      "Saved ./.cache\\dem_REM_color-relief.png.\n",
      "\n",
      "Making hillshade-color composite raster.\n",
      "Tiling and compressing raster.\n",
      "Saved C:/Users/vance/Downloads/geog-414/riverrem\\dem_hillshade-color.tif.\n",
      "\n",
      "Generating .png file.\n",
      "Saved C:/Users/vance/Downloads/geog-414/riverrem\\dem_hillshade-color.png.\n"
     ]
    },
    {
     "data": {
      "text/plain": [
       "'C:/Users/vance/Downloads/geog-414/riverrem\\\\dem_hillshade-color.tif'"
      ]
     },
     "execution_count": 11,
     "metadata": {},
     "output_type": "execute_result"
    }
   ],
   "source": [
    "# create an REM\n",
    "rem_maker.make_rem()\n",
    "# create an REM visualization with the given colormap\n",
    "rem_maker.make_rem_viz(cmap='mako_r')"
   ]
  },
  {
   "cell_type": "markdown",
   "metadata": {},
   "source": [
    "Add tif files to this folder\n",
    "geemap guidance is at https://geemap.org/notebooks/25_load_rasters/"
   ]
  },
  {
   "cell_type": "code",
   "execution_count": null,
   "metadata": {},
   "outputs": [],
   "source": [
    "import ee\n",
    "import geemap\n",
    "import geemap.colormaps as cm\n",
    "geemap.ee_initialize()\n",
    "\n",
    "# Initialize the map\n",
    "Map = geemap.Map()"
   ]
  },
  {
   "cell_type": "code",
   "execution_count": null,
   "metadata": {},
   "outputs": [],
   "source": [
    "# Import the dem_hillshade-color.tif\n",
    "out_dir = os.path.expanduser('~/Downloads')\n",
    "\n",
    "if not os.path.exists(out_dir):\n",
    "    os.makedirs(out_dir)\n",
    "\n",
    "landsat = os.path.join(out_dir, 'landsat.tif')\n",
    "dem = os.path.join(out_dir, 'dem.tif')\n"
   ]
  }
 ],
 "metadata": {
  "kernelspec": {
   "display_name": "gee",
   "language": "python",
   "name": "python3"
  },
  "language_info": {
   "codemirror_mode": {
    "name": "ipython",
    "version": 3
   },
   "file_extension": ".py",
   "mimetype": "text/x-python",
   "name": "python",
   "nbconvert_exporter": "python",
   "pygments_lexer": "ipython3",
   "version": "3.12.0"
  }
 },
 "nbformat": 4,
 "nbformat_minor": 2
}
