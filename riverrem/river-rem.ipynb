{
 "cells": [
  {
   "cell_type": "markdown",
   "metadata": {},
   "source": [
    "# Riverrem REM maker\n",
    "Automated REM maker from opentopography. Forked on github to my repository [here](https://github.com/OpenTopography/RiverREM). Make sure to change in tif location and out folder for the rem_maker on line 6 of the first code block"
   ]
  },
  {
   "cell_type": "code",
   "execution_count": null,
   "metadata": {},
   "outputs": [],
   "source": [
    "# import riverrem maker\n",
    "from riverrem.REMMaker import REMMaker\n",
    "\n",
    "# provide the DEM file path and desired output directory\n",
    "# original code line is the following: # rem_maker = REMMaker(dem='/path/to/dem.tif', out_dir='/out/dir/')\n",
    "\n",
    "rem_maker = REMMaker(\n",
    "    dem='C:/Users/vance/Downloads/geog-414/riverrem/dem.tif',\n",
    "    out_dir='C:/Users/vance/Downloads/geog-414/riverrem'\n",
    ")\n"
   ]
  },
  {
   "cell_type": "code",
   "execution_count": null,
   "metadata": {},
   "outputs": [],
   "source": [
    "# create an REM\n",
    "rem_maker.make_rem()\n",
    "# create an REM visualization with the given colormap\n",
    "rem_maker.make_rem_viz(cmap='mako_r')"
   ]
  },
  {
   "cell_type": "markdown",
   "metadata": {},
   "source": [
    "Add tif files to this folder\n",
    "geemap guidance is at https://geemap.org/notebooks/25_load_rasters/"
   ]
  },
  {
   "cell_type": "code",
   "execution_count": null,
   "metadata": {},
   "outputs": [],
   "source": [
    "import ee\n",
    "import geemap\n",
    "import geemap.colormaps as cm\n",
    "geemap.ee_initialize()\n",
    "\n",
    "# Initialize the map\n",
    "Map = geemap.Map()"
   ]
  },
  {
   "cell_type": "code",
   "execution_count": null,
   "metadata": {},
   "outputs": [],
   "source": [
    "# Import the dem_hillshade-color.tif\n",
    "out_dir = os.path.expanduser('~/Downloads')\n",
    "\n",
    "if not os.path.exists(out_dir):\n",
    "    os.makedirs(out_dir)\n",
    "\n",
    "landsat = os.path.join(out_dir, 'landsat.tif')\n",
    "dem = os.path.join(out_dir, 'dem.tif')\n"
   ]
  }
 ],
 "metadata": {
  "kernelspec": {
   "display_name": "gee",
   "language": "python",
   "name": "python3"
  },
  "language_info": {
   "codemirror_mode": {
    "name": "ipython",
    "version": 3
   },
   "file_extension": ".py",
   "mimetype": "text/x-python",
   "name": "python",
   "nbconvert_exporter": "python",
   "pygments_lexer": "ipython3",
   "version": "3.12.0"
  }
 },
 "nbformat": 4,
 "nbformat_minor": 2
}
