{
 "cells": [
  {
   "cell_type": "code",
   "execution_count": null,
   "metadata": {},
   "outputs": [],
   "source": [
    "# import riverrem maker\n",
    "from riverrem.REMMaker import REMMaker\n",
    "\n",
    "# provide the DEM file path and desired output directory\n",
    "# original code line is the following: # rem_maker = REMMaker(dem='/path/to/dem.tif', out_dir='/out/dir/')\n",
    "rem_maker = REMMaker(\n",
    "    dem='C:/Users/vance/Downloads/rasters_USGS10m/output_USGS10m.tif', \n",
    "    out_dir='C:/Users/vance/Downloads/rasters_USGS10m'\n",
    ")"
   ]
  },
  {
   "cell_type": "code",
   "execution_count": null,
   "metadata": {},
   "outputs": [],
   "source": [
    "# create an REM\n",
    "rem_maker.make_rem()\n",
    "# create an REM visualization with the given colormap\n",
    "rem_maker.make_rem_viz(cmap='mako_r')"
   ]
  }
 ],
 "metadata": {
  "kernelspec": {
   "display_name": "gee",
   "language": "python",
   "name": "python3"
  },
  "language_info": {
   "codemirror_mode": {
    "name": "ipython",
    "version": 3
   },
   "file_extension": ".py",
   "mimetype": "text/x-python",
   "name": "python",
   "nbconvert_exporter": "python",
   "pygments_lexer": "ipython3",
   "version": "3.12.0"
  }
 },
 "nbformat": 4,
 "nbformat_minor": 2
}
