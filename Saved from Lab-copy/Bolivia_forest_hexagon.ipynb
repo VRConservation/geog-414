{
 "cells": [
  {
   "cell_type": "code",
   "execution_count": 1,
   "metadata": {},
   "outputs": [],
   "source": [
    "# import ee and geemap define map\n",
    "import ee \n",
    "import geemap\n",
    "import math\n",
    "geemap.ee_initialize()\n",
    "Map = geemap.Map()"
   ]
  },
  {
   "cell_type": "code",
   "execution_count": 2,
   "metadata": {},
   "outputs": [],
   "source": [
    "# generate transverse polygons\n",
    "def hexGrid(proj, diameter):\n",
    "  size = ee.Number(diameter).divide(math.sqrt(3)) # Distance from center to vertex\n",
    "\n",
    "  coords = ee.Image.pixelCoordinates(proj)\n",
    "  vals = {\n",
    "    # Switch x and y here to get flat top instead of pointy top hexagons.\n",
    "    'x': coords.select(\"x\"),\n",
    "    'u': coords.select(\"x\").divide(diameter),  # term 1\n",
    "    'v': coords.select(\"y\").divide(size),      # term 2\n",
    "    'r': ee.Number(diameter).divide(2),\n",
    "  }\n",
    "  i = ee.Image().expression(\"floor((floor(u - v) + floor(x / r))/3)\", vals)\n",
    "  j = ee.Image().expression(\"floor((floor(u + v) + floor(v - u))/3)\", vals)\n",
    "\n",
    "  # Turn the hex coordinates into a single \"ID\" number.\n",
    "  cells = i.long().leftShift(32).add(j.long()).rename(\"hexgrid\")\n",
    "  return cells"
   ]
  },
  {
   "cell_type": "code",
   "execution_count": 3,
   "metadata": {},
   "outputs": [],
   "source": [
    "# Define a map ROI\n",
    "roi = Map.user_roi\n",
    "\n",
    "if roi is None:\n",
    "    roi = ee.Geometry.Polygon(\n",
    "        [\n",
    "            [\n",
    "                [-64.61216757645253,-27.607649211785315],\n",
    "                [-58.196151951452535,-27.607649211785315],\n",
    "                [-58.196151951452535,-17.897238844252453],\n",
    "                [-64.61216757645253,-17.897238844252453],\n",
    "                [-64.61216757645253,-27.607649211785315],\n",
    "            ]\n",
    "        ]\n",
    "    )\n",
    "    Map.addLayer(roi, {}, 'ROI')\n",
    "Map\n",
    "\n",
    "# Generate a hex grid and mask off cells that don't touch the region.\n",
    "grid = hexGrid(ee.Projection('EPSG:5070'), 70000)\n",
    "regionImg = ee.Image(0).byte().paint(roi, 1)\n",
    "mask = grid.addBands(regionImg) \\\n",
    "    .reduceConnectedComponents(ee.Reducer.max(), \"hexgrid\", 256)\n",
    "grid = grid.updateMask(mask)\n",
    "Map.addLayer(grid, {}, \"hexagons\")"
   ]
  },
  {
   "cell_type": "code",
   "execution_count": 4,
   "metadata": {},
   "outputs": [],
   "source": [
    "# Add Hansen\n",
    "hansen = ee.Image('UMD/hansen/global_forest_change_2021_v1_9')\n",
    "treeCoverVisParam = {\n",
    "  'bands': ['treecover2000'],\n",
    "  'min': 0,\n",
    "  'max': 100,\n",
    "  'palette': ['black', 'green']\n",
    "}\n",
    "Map.addLayer(hansen, treeCoverVisParam, 'tree cover', False)\n",
    "\n",
    "treeLossVisParam = {\n",
    "  'bands': ['lossyear'],\n",
    "  'min': 0,\n",
    "  'max': 21,\n",
    "  'palette': ['yellow', 'red']\n",
    "}\n",
    "Map.addLayer(hansen, treeLossVisParam, 'tree loss year', False)"
   ]
  },
  {
   "cell_type": "code",
   "execution_count": 5,
   "metadata": {},
   "outputs": [
    {
     "data": {
      "application/vnd.jupyter.widget-view+json": {
       "model_id": "61ae6ab6a2014498976c491e1f96cb33",
       "version_major": 2,
       "version_minor": 0
      },
      "text/plain": [
       "Map(center=[-22.72646711982983, -61.404159763952485], controls=(WidgetControl(options=['position', 'transparen…"
      ]
     },
     "metadata": {},
     "output_type": "display_data"
    }
   ],
   "source": [
    "# Clip Hansen to ROI\n",
    "hansen_clip = hansen.clip(roi)\n",
    "Map.addLayer(hansen_clip, treeCoverVisParam, 'tree cover clip')\n",
    "Map.addLayer(hansen_clip, treeLossVisParam, 'tree loss year clip')\n",
    "Map.centerObject(roi,6)\n",
    "Map"
   ]
  },
  {
   "cell_type": "code",
   "execution_count": 12,
   "metadata": {},
   "outputs": [
    {
     "data": {
      "application/vnd.jupyter.widget-view+json": {
       "model_id": "61ae6ab6a2014498976c491e1f96cb33",
       "version_major": 2,
       "version_minor": 0
      },
      "text/plain": [
       "Map(bottom=9553.0, center=[-22.695120184965695, -56.86523437500001], controls=(WidgetControl(options=['positio…"
      ]
     },
     "metadata": {},
     "output_type": "display_data"
    }
   ],
   "source": [
    "# Calculalate mean tree loss per hexagon\n",
    "mean_loss = hansen_clip.reduceConnectedComponents(ee.Reducer.mean())\n",
    "\n",
    "meanlossVisParam = {\n",
    "  'bands': ['lossyear'],\n",
    "  'min': 0,\n",
    "  'max': 21,\n",
    "  'palette': ['440154', '433982', '30678D', '218F8B', '36B677', '8ED542', 'FDE725', 'red']\n",
    "}\n",
    "Map.addLayer(mean_loss, meanlossVisParam, \"mean loss\")\n",
    "Map.add_colorbar(meanlossVisParam, label=\"Mean Tree Loss\", layer_name=\"mean loss\")\n",
    "Map"
   ]
  },
  {
   "cell_type": "code",
   "execution_count": 7,
   "metadata": {},
   "outputs": [],
   "source": [
    "# out_dem_stats = 'chaco_loss_stats.csv'\n",
    "# geemap.zonal_stats(mean_loss, roi, out_dem_stats, scale=1000, return_fc=False)"
   ]
  }
 ],
 "metadata": {
  "kernelspec": {
   "display_name": "gee",
   "language": "python",
   "name": "python3"
  },
  "language_info": {
   "codemirror_mode": {
    "name": "ipython",
    "version": 3
   },
   "file_extension": ".py",
   "mimetype": "text/x-python",
   "name": "python",
   "nbconvert_exporter": "python",
   "pygments_lexer": "ipython3",
   "version": "3.10.12"
  }
 },
 "nbformat": 4,
 "nbformat_minor": 2
}
