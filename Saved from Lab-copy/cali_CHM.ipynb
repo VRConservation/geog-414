{
 "cells": [
  {
   "cell_type": "code",
   "execution_count": 1,
   "metadata": {},
   "outputs": [],
   "source": [
    "# import ee and geemap define map\n",
    "import ee \n",
    "import geemap\n",
    "geemap.ee_initialize()\n",
    "Map = geemap.Map()"
   ]
  },
  {
   "cell_type": "code",
   "execution_count": 2,
   "metadata": {},
   "outputs": [],
   "source": [
    "# Add magma vis_param\n",
    "magma = {\n",
    "    'min': 0,\n",
    "    'max': 60,\n",
    "    'palette': ['000004', '2C105C', '711F81', 'B63679', 'EE605E', 'FDAE78', 'FCFDBF'],\n",
    "} "
   ]
  },
  {
   "cell_type": "code",
   "execution_count": 3,
   "metadata": {},
   "outputs": [],
   "source": [
    "# add global CHM\n",
    "canopy_height = ee.Image('users/nlang/ETH_GlobalCanopyHeight_2020_10m_v1')\n",
    "standard_deviation = ee.Image('users/nlang/ETH_GlobalCanopyHeightSD_2020_10m_v1')\n",
    "Map.addLayer(canopy_height, magma, 'Canopy Height')"
   ]
  },
  {
   "cell_type": "code",
   "execution_count": 4,
   "metadata": {},
   "outputs": [],
   "source": [
    "# add tiger CA\n",
    "Map.setCenter(-117, 37.5, 6)\n",
    "California = ee.FeatureCollection(\"TIGER/2018/States\").filter(ee.Filter.eq('NAME', 'California'))\n",
    "style = {'color': 'white', 'fillColor': '00008000'}\n",
    "Map.addLayer(California.style(**style), {}, 'California')"
   ]
  },
  {
   "cell_type": "code",
   "execution_count": 5,
   "metadata": {},
   "outputs": [
    {
     "data": {
      "application/vnd.jupyter.widget-view+json": {
       "model_id": "fe24df9722fa4231aa84a699f2f6232e",
       "version_major": 2,
       "version_minor": 0
      },
      "text/plain": [
       "Map(center=[37.5, -117], controls=(WidgetControl(options=['position', 'transparent_bg'], widget=HBox(children=…"
      ]
     },
     "metadata": {},
     "output_type": "display_data"
    }
   ],
   "source": [
    "# clip image to CA and add to map turn off 'Canopy Height' layer\n",
    "CAclip = canopy_height.clipToCollection(California)\n",
    "Map.add_basemap('CartoDB.DarkMatter')\n",
    "Map.addLayer(canopy_height, magma, 'Canopy Height', False)\n",
    "Map.addLayer(CAclip, magma, 'CA CHM')\n",
    "Map.add_colorbar(magma, label=\"Global Canopy Height Model (m)\", layer_name=\"CAclip\")\n",
    "Map.addLayer(California.style(**style), {}, 'California')\n",
    "Map"
   ]
  },
  {
   "cell_type": "code",
   "execution_count": 14,
   "metadata": {},
   "outputs": [
    {
     "name": "stdout",
     "output_type": "stream",
     "text": [
      "Computing statistics ...\n",
      "Generating URL ...\n",
      "Downloading data from https://earthengine.googleapis.com/v1/projects/earthengine-legacy/tables/0ed52e46b137ce5401932e2b7115bba1-7192ec23e07908512418bd057956c058:getFeatures\n",
      "Please wait ...\n",
      "Data downloaded to c:\\Users\\vance\\Downloads\\geog-414\\book\\labs\\calichm_stats.csv\n"
     ]
    }
   ],
   "source": [
    "out_dem_stats = 'calichm_stats.csv'\n",
    "geemap.zonal_stats(CAclip, California, out_dem_stats, scale=1000, return_fc=False)"
   ]
  }
 ],
 "metadata": {
  "kernelspec": {
   "display_name": "gee",
   "language": "python",
   "name": "python3"
  },
  "language_info": {
   "codemirror_mode": {
    "name": "ipython",
    "version": 3
   },
   "file_extension": ".py",
   "mimetype": "text/x-python",
   "name": "python",
   "nbconvert_exporter": "python",
   "pygments_lexer": "ipython3",
   "version": "3.10.12"
  },
  "orig_nbformat": 4
 },
 "nbformat": 4,
 "nbformat_minor": 2
}
