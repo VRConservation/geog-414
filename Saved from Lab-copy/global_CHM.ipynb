{
 "cells": [
  {
   "cell_type": "code",
   "execution_count": 1,
   "metadata": {},
   "outputs": [],
   "source": [
    "# import ee and geemap define map\n",
    "import ee \n",
    "import geemap\n",
    "geemap.ee_initialize()\n",
    "Map = geemap.Map()"
   ]
  },
  {
   "cell_type": "code",
   "execution_count": 2,
   "metadata": {},
   "outputs": [],
   "source": [
    "# Add viridis vis_param\n",
    "vis_params = {\n",
    "    'min': 0,\n",
    "    'max': 30,\n",
    "    'palette': ['440154', '433982', '30678D', '218F8B', '36B677', '8ED542', 'FDE725'],\n",
    "}     "
   ]
  },
  {
   "cell_type": "code",
   "execution_count": 11,
   "metadata": {},
   "outputs": [],
   "source": [
    "canopy_height = ee.Image('users/nlang/ETH_GlobalCanopyHeight_2020_10m_v1')\n",
    "standard_deviation = ee.Image('users/nlang/ETH_GlobalCanopyHeightSD_2020_10m_v1')\n",
    "Map.addLayer(canopy_height, vis_params, 'Canopy Height')\n",
    "#Map.addLayer(standard_deviation, vis_params, 'Standard Deviation')\n",
    "#"
   ]
  },
  {
   "cell_type": "code",
   "execution_count": 12,
   "metadata": {},
   "outputs": [],
   "source": [
    "# Add magma vis_param\n",
    "magma = {\n",
    "    'min': 0,\n",
    "    'max': 60,\n",
    "    'palette': ['000004', '2C105C', '711F81', 'B63679', 'EE605E', 'FDAE78', 'FCFDBF'],\n",
    "} "
   ]
  },
  {
   "cell_type": "code",
   "execution_count": 13,
   "metadata": {},
   "outputs": [],
   "source": [
    "Map.addLayer(canopy_height, magma, 'CHM_Magma')\n",
    "#Map"
   ]
  },
  {
   "cell_type": "code",
   "execution_count": 14,
   "metadata": {},
   "outputs": [],
   "source": [
    "# Add tiger CA\n",
    "Map.setCenter(-120.556, 37.21, 6)\n",
    "California = ee.FeatureCollection(\"TIGER/2018/States\").filter(ee.Filter.eq('NAME', 'California'))\n",
    "style = {'color': 'white', 'fillColor': '00008000'}\n",
    "Map.addLayer(California.style(**style), {}, 'California')"
   ]
  },
  {
   "cell_type": "code",
   "execution_count": 10,
   "metadata": {},
   "outputs": [
    {
     "data": {
      "application/vnd.jupyter.widget-view+json": {
       "model_id": "56cc562dc4134ff2a245900d00a81001",
       "version_major": 2,
       "version_minor": 0
      },
      "text/plain": [
       "Map(bottom=6665.0, center=[37.21283151445594, -120.56396484375001], controls=(WidgetControl(options=['position…"
      ]
     },
     "metadata": {},
     "output_type": "display_data"
    }
   ],
   "source": [
    "CAclip = canopy_height.clipToCollection(California)\n",
    "\n",
    "Map.addLayer(CAclip, magma, 'CA CHM')\n",
    "Map"
   ]
  }
 ],
 "metadata": {
  "kernelspec": {
   "display_name": "gee",
   "language": "python",
   "name": "python3"
  },
  "language_info": {
   "codemirror_mode": {
    "name": "ipython",
    "version": 3
   },
   "file_extension": ".py",
   "mimetype": "text/x-python",
   "name": "python",
   "nbconvert_exporter": "python",
   "pygments_lexer": "ipython3",
   "version": "3.10.12"
  },
  "orig_nbformat": 4
 },
 "nbformat": 4,
 "nbformat_minor": 2
}
