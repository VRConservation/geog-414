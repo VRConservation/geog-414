{
 "cells": [
  {
   "cell_type": "code",
   "execution_count": 15,
   "metadata": {},
   "outputs": [
    {
     "data": {
      "application/vnd.jupyter.widget-view+json": {
       "model_id": "443258ce862a4059b510f0f87c452040",
       "version_major": 2,
       "version_minor": 0
      },
      "text/plain": [
       "Map(center=[20, 0], controls=(WidgetControl(options=['position', 'transparent_bg'], widget=HBox(children=(Togg…"
      ]
     },
     "metadata": {},
     "output_type": "display_data"
    },
    {
     "data": {
      "application/javascript": "\n        var code = IPython.notebook.insert_cell_below('code');\n        code.set_text(atob(\"aW1wb3J0IG1hdGgKCmRlZiBoZXhHcmlkKHByb2osIGRpYW1ldGVyKToKICBzaXplID0gZWUuTnVtYmVyKGRpYW1ldGVyKS5kaXZpZGUobWF0aC5zcXJ0KDMpKSAjIERpc3RhbmNlIGZyb20gY2VudGVyIHRvIHZlcnRleAoKICBjb29yZHMgPSBlZS5JbWFnZS5waXhlbENvb3JkaW5hdGVzKHByb2opCiAgdmFscyA9IHsKICAgICMgU3dpdGNoIHggYW5kIHkgaGVyZSB0byBnZXQgZmxhdCB0b3AgaW5zdGVhZCBvZiBwb2ludHkgdG9wIGhleGFnb25zLgogICAgJ3gnOiBjb29yZHMuc2VsZWN0KCJ4IiksCiAgICAndSc6IGNvb3Jkcy5zZWxlY3QoIngiKS5kaXZpZGUoZGlhbWV0ZXIpLCAgIyB0ZXJtIDEKICAgICd2JzogY29vcmRzLnNlbGVjdCgieSIpLmRpdmlkZShzaXplKSwgICAgICAjIHRlcm0gMgogICAgJ3InOiBlZS5OdW1iZXIoZGlhbWV0ZXIpLmRpdmlkZSgyKSwKICB9CiAgaSA9IGVlLkltYWdlKCkuZXhwcmVzc2lvbigiZmxvb3IoKGZsb29yKHUgLSB2KSArIGZsb29yKHggLyByKSkvMykiLCB2YWxzKQogIGogPSBlZS5JbWFnZSgpLmV4cHJlc3Npb24oImZsb29yKChmbG9vcih1ICsgdikgKyBmbG9vcih2IC0gdSkpLzMpIiwgdmFscykKCiAgIyBUdXJuIHRoZSBoZXggY29vcmRpbmF0ZXMgaW50byBhIHNpbmdsZSAiSUQiIG51bWJlci4KICBjZWxscyA9IGkubG9uZygpLmxlZnRTaGlmdCgzMikuYWRkKGoubG9uZygpKS5yZW5hbWUoImhleGdyaWQiKQogIHJldHVybiBjZWxscwoKTWFwLmFkZExheWVyKGhleEdyaWQoZWUuUHJvamVjdGlvbigiRVBTRzo1MDcwIiksIDUwMDAwKS5yYW5kb21WaXN1YWxpemVyKCkpCg==\"));\n    ",
      "text/plain": [
       "<IPython.core.display.Javascript object>"
      ]
     },
     "metadata": {},
     "output_type": "display_data"
    },
    {
     "data": {
      "application/javascript": "\n        var code = IPython.notebook.insert_cell_below('code');\n        code.set_text(atob(\"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\"));\n    ",
      "text/plain": [
       "<IPython.core.display.Javascript object>"
      ]
     },
     "metadata": {},
     "output_type": "display_data"
    }
   ],
   "source": [
    "# import ee and geemap define map\n",
    "import ee \n",
    "import geemap\n",
    "geemap.ee_initialize()\n",
    "Map = geemap.Map()\n",
    "Map"
   ]
  },
  {
   "cell_type": "code",
   "execution_count": 16,
   "metadata": {},
   "outputs": [],
   "source": [
    "# Add magma vis_param\n",
    "magma = {\n",
    "    'min': 0,\n",
    "    'max': 60,\n",
    "    'palette': ['000004', '2C105C', '711F81', 'B63679', 'EE605E', 'FDAE78', 'FCFDBF'],\n",
    "} "
   ]
  },
  {
   "cell_type": "code",
   "execution_count": 18,
   "metadata": {},
   "outputs": [],
   "source": [
    "#dataset = ee.FeatureCollection(\"FAO/GAUL/2015/level0\")\n",
    "\n",
    "Map.setCenter(-101.21, 22.02, 5)\n",
    "dataset = ee.Image('UMD/hansen/global_forest_change_2021_v1_9')\n",
    "treeCoverVisParam = {\n",
    "  'bands': ['treecover2000'],\n",
    "  'min': 0,\n",
    "  'max': 100,\n",
    "  'palette': ['black', 'green']\n",
    "}\n",
    "Map.addLayer(dataset, treeCoverVisParam, 'tree cover')\n",
    "\n",
    "treeLossVisParam = {\n",
    "  'bands': ['lossyear'],\n",
    "  'min': 0,\n",
    "  'max': 21,\n",
    "  'palette': ['000004', '2C105C', '711F81', 'B63679', 'EE605E', 'FDAE78', 'FCFDBF']\n",
    "}\n",
    "Map.addLayer(dataset, treeLossVisParam, 'tree loss year')"
   ]
  },
  {
   "cell_type": "code",
   "execution_count": 19,
   "metadata": {},
   "outputs": [],
   "source": [
    "# Add mexico\n",
    "mex = ee.FeatureCollection(\"FAO/GAUL/2015/level0\").filter(ee.Filter.eq('ADM0_NAME', 'Mexico'))"
   ]
  },
  {
   "cell_type": "code",
   "execution_count": 20,
   "metadata": {},
   "outputs": [],
   "source": [
    "text = \"Mexican Tree Cover 2000-21\"\n",
    "Map.add_text(text, fontsize=28, position='bottomleft')"
   ]
  },
  {
   "cell_type": "code",
   "execution_count": 21,
   "metadata": {},
   "outputs": [
    {
     "data": {
      "application/vnd.jupyter.widget-view+json": {
       "model_id": "443258ce862a4059b510f0f87c452040",
       "version_major": 2,
       "version_minor": 0
      },
      "text/plain": [
       "Map(bottom=3882.0, center=[22.02, -101.21], controls=(WidgetControl(options=['position', 'transparent_bg'], wi…"
      ]
     },
     "metadata": {},
     "output_type": "display_data"
    }
   ],
   "source": [
    "# clip hansen to Mexico\n",
    "hansenclip = dataset.clip(mex)\n",
    "# Map.addLayer(dataset, treeLossVisParam, 'tree loss year', False)\n",
    "#Map.add_basemap(\"CartoDB.DarkMatter\")\n",
    "Map.addLayer(dataset, treeCoverVisParam, 'tree cover', False)\n",
    "Map.addLayer(hansenclip, treeCoverVisParam, 'tree cover clipped')\n",
    "Map.set_plot_options(title='Tree cover in Mexico')\n",
    "Map"
   ]
  }
 ],
 "metadata": {
  "kernelspec": {
   "display_name": "gee",
   "language": "python",
   "name": "python3"
  },
  "language_info": {
   "codemirror_mode": {
    "name": "ipython",
    "version": 3
   },
   "file_extension": ".py",
   "mimetype": "text/x-python",
   "name": "python",
   "nbconvert_exporter": "python",
   "pygments_lexer": "ipython3",
   "version": "3.10.12"
  },
  "orig_nbformat": 4
 },
 "nbformat": 4,
 "nbformat_minor": 2
}
