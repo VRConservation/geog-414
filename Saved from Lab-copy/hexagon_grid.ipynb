{
 "cells": [
  {
   "cell_type": "code",
   "execution_count": 1,
   "metadata": {},
   "outputs": [],
   "source": [
    "# import ee and geemap define map\n",
    "import ee \n",
    "import geemap\n",
    "geemap.ee_initialize()\n",
    "Map = geemap.Map()"
   ]
  },
  {
   "cell_type": "code",
   "execution_count": 2,
   "metadata": {},
   "outputs": [],
   "source": [
    "import math\n",
    " # Generates a hex grid with a unique ID in each grid cell. Based on http:#playtechs.blogspot.com/2007/04/hex-grids.html\n",
    " # Args: proj: Projection to use, diameter: size of each hexagon from edge to edge in projection units.\n",
    " # Returns an image containing unqiue IDs in a hexagonal grid pattern.\n",
    " #\n",
    "def hexGrid(proj, diameter):\n",
    "  size = ee.Number(diameter).divide(math.sqrt(3)) # Distance from center to vertex\n",
    "\n",
    "  coords = ee.Image.pixelCoordinates(proj)\n",
    "  vals = {\n",
    "    # Switch x and y here to get flat top instead of pointy top hexagons.\n",
    "    'x': coords.select(\"x\"),\n",
    "    'u': coords.select(\"x\").divide(diameter),  # term 1\n",
    "    'v': coords.select(\"y\").divide(size),      # term 2\n",
    "    'r': ee.Number(diameter).divide(2),\n",
    "  }\n",
    "  i = ee.Image().expression(\"floor((floor(u - v) + floor(x / r))/3)\", vals)\n",
    "  j = ee.Image().expression(\"floor((floor(u + v) + floor(v - u))/3)\", vals)\n",
    "\n",
    "  # Turn the hex coordinates into a single \"ID\" number.\n",
    "  cells = i.long().leftShift(32).add(j.long()).rename(\"hexgrid\")\n",
    "  return cells"
   ]
  },
  {
   "cell_type": "code",
   "execution_count": 3,
   "metadata": {},
   "outputs": [],
   "source": [
    "# Define a region for masking hexagons.\n",
    "region = ee.FeatureCollection('USDOS/LSIB_SIMPLE/2017') \\\n",
    "    .filter(\"country_na == 'United States'\") \\\n",
    "    .union().first().geometry()\n",
    "\n",
    "# Generate a hex grid and mask off cells that don't touch the region.\n",
    "grid = hexGrid(ee.Projection('EPSG:5070'), 70000)\n",
    "regionImg = ee.Image(0).byte().paint(region, 1)\n",
    "mask = grid.addBands(regionImg) \\\n",
    "    .reduceConnectedComponents(ee.Reducer.max(), \"hexgrid\", 256)\n",
    "grid = grid.updateMask(mask)\n",
    "Map.addLayer(grid, {}, \"hexagons\")"
   ]
  },
  {
   "cell_type": "code",
   "execution_count": 4,
   "metadata": {},
   "outputs": [],
   "source": [
    "# Import MODIS veg. indices; calculate mean NDVI for April, 2020.\n",
    "ndvi = ee.ImageCollection('MODIS/006/MOD13A2') \\\n",
    "  .filterDate('2020-04-01', '2020-05-01').mean().select('NDVI') \\\n",
    "  .addBands(grid)\n",
    "\n",
    "# Calculate mean NDVI per hexagon.\n",
    "meanNdvi = ndvi.reduceConnectedComponents(ee.Reducer.mean(), \"hexgrid\", 256)\n"
   ]
  },
  {
   "cell_type": "code",
   "execution_count": 11,
   "metadata": {},
   "outputs": [
    {
     "name": "stdout",
     "output_type": "stream",
     "text": [
      "CartoDB.DarkMatter has been already added before.\n"
     ]
    },
    {
     "data": {
      "application/vnd.jupyter.widget-view+json": {
       "model_id": "b1d6d3d28183490098b53f70b07ee233",
       "version_major": 2,
       "version_minor": 0
      },
      "text/plain": [
       "Map(bottom=1070.0, center=[40.71, -100.55], controls=(WidgetControl(options=['position', 'transparent_bg'], wi…"
      ]
     },
     "metadata": {},
     "output_type": "display_data"
    }
   ],
   "source": [
    "# Define visualization properties.\n",
    "vis = {\n",
    "  'min': 0,\n",
    "  'max': 9000,\n",
    "  'palette': [\n",
    "    'FFFFFF', 'CE7E45', 'DF923D', 'F1B555', 'FCD163', '99B718', '74A901',\n",
    "    '66A000', '529400', '3E8601', '207401', '056201', '004C00', '023B01',\n",
    "    '012E01', '011D01', '011301'\n",
    "  ]\n",
    "}\n",
    "Map.add_basemap(\"CartoDB.DarkMatter\")\n",
    "Map.set_center(-100.55, 40.71, 4)\n",
    "Map"
   ]
  },
  {
   "cell_type": "code",
   "execution_count": 6,
   "metadata": {},
   "outputs": [],
   "source": [
    "# # Make a visualization composite. The code below throws an error. Doesn't seem necessary\n",
    "# background = ee.Image(0).visualize(**{'palette': '000000'})\n",
    "# ndvi = ndvi.select('NDVI').visualize(**{\n",
    "#   'palette': vis.palette, 'min': vis.min, 'max': vis.max, 'opacity': 0.6\n",
    "# })\n",
    "# composite = background.blend(ndvi).blend(meanNdvi.visualize(vis))\n",
    "\n",
    "# # Display the results to the map.\n",
    "# Map.addLayer(composite)\n",
    "# #Map.setLocked(False, 3, 7)"
   ]
  }
 ],
 "metadata": {
  "kernelspec": {
   "display_name": "gee",
   "language": "python",
   "name": "python3"
  },
  "language_info": {
   "codemirror_mode": {
    "name": "ipython",
    "version": 3
   },
   "file_extension": ".py",
   "mimetype": "text/x-python",
   "name": "python",
   "nbconvert_exporter": "python",
   "pygments_lexer": "ipython3",
   "version": "3.10.12"
  }
 },
 "nbformat": 4,
 "nbformat_minor": 2
}
