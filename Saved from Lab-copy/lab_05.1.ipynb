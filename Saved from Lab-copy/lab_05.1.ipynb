{
 "cells": [
  {
   "cell_type": "markdown",
   "metadata": {},
   "source": [
<<<<<<< HEAD
    "## Geog-414 Lab_05 Question 1"
   ]
  },
  {
   "cell_type": "code",
   "execution_count": 1,
   "metadata": {},
   "outputs": [],
   "source": [
    "# import ee and geemap define map\n",
    "import ee \n",
    "import geemap\n",
    "geemap.ee_initialize()\n",
    "Map = geemap.Map()"
   ]
  },
  {
   "cell_type": "code",
   "execution_count": 2,
   "metadata": {},
   "outputs": [
    {
     "data": {
      "application/vnd.jupyter.widget-view+json": {
       "model_id": "e9afb21b1a1e4ca0a66ef44108f8d51b",
       "version_major": 2,
       "version_minor": 0
      },
      "text/plain": [
       "Map(center=[40.05, -96.7], controls=(WidgetControl(options=['position', 'transparent_bg'], widget=HBox(childre…"
      ]
     },
     "metadata": {},
     "output_type": "display_data"
    }
   ],
   "source": [
    "# Add dataset, style, setCenter, addLayer\n",
    "dataset = ee.FeatureCollection('USGS/WBD/2017/HUC04')\n",
    "style = {'color': 'red', 'fillColor': '00008000'};\n",
    "Map.setCenter(-96.7, 40.05, 4)\n",
    "Map.addLayer(dataset.style(**style), {}, 'USGS Basins')\n",
    "Map"
   ]
  },
  {
   "cell_type": "markdown",
   "metadata": {},
   "source": [
    "## Lab_05 Question 2"
   ]
  },
  {
   "cell_type": "code",
   "execution_count": 3,
   "metadata": {},
   "outputs": [
    {
     "data": {
      "application/vnd.jupyter.widget-view+json": {
       "model_id": "e9afb21b1a1e4ca0a66ef44108f8d51b",
       "version_major": 2,
       "version_minor": 0
      },
      "text/plain": [
       "Map(bottom=1850.0, center=[40.05, -96.7], controls=(WidgetControl(options=['position', 'transparent_bg'], widg…"
      ]
     },
     "metadata": {},
     "output_type": "display_data"
    }
   ],
   "source": [
    "# Filter to HUC4 Sacramento Watershed\n",
    "sacto = dataset.filter(ee.Filter.eq('name', 'Sacramento'))\n",
    "Map.addLayer(dataset.style(**style), {}, 'USGS Basins', False)\n",
    "Map.addLayer(sacto.style(**style), {}, 'Sacto Watershed')\n",
    "Map"
   ]
  },
  {
   "cell_type": "code",
   "execution_count": 5,
   "metadata": {},
   "outputs": [],
   "source": [
    "dem = ee.Image('USGS/3DEP/10m')\n",
    "elevation = dem.select('elevation')\n",
    "Map.setCenter(-121.772, 39.994, 8)\n",
    "Map.addLayer(elevation, {'min': 0, 'max': 3000, 'palette': 'dem'\n",
    "}, 'elevation')"
   ]
  },
  {
   "cell_type": "markdown",
   "metadata": {},
   "source": [
    "## Lab 05 Question 3"
   ]
  },
  {
   "cell_type": "code",
   "execution_count": 9,
   "metadata": {},
   "outputs": [
    {
     "data": {
      "application/vnd.jupyter.widget-view+json": {
       "model_id": "e9afb21b1a1e4ca0a66ef44108f8d51b",
       "version_major": 2,
       "version_minor": 0
      },
      "text/plain": [
       "Map(bottom=12701.0, center=[40.0360265298117, -121.22314453125], controls=(WidgetControl(options=['position', …"
      ]
     },
     "metadata": {},
     "output_type": "display_data"
    }
   ],
   "source": [
    "# Clip the DEM to the Sacto watershed boundary.\n",
    "Sactoclip = dem.clipToCollection(sacto)\n",
    "Map.addLayer(Sactoclip, {'min': 0, 'max': 3000, 'palette': 'dem'\n",
    "}, 'Sacto DEM')\n",
    "Map\n",
    "\n",
    "# If you want to print map with only Sactoclip add other layers as False"
   ]
  },
  {
   "cell_type": "code",
   "execution_count": 17,
   "metadata": {},
   "outputs": [
    {
     "data": {
      "application/vnd.jupyter.widget-view+json": {
       "model_id": "e9afb21b1a1e4ca0a66ef44108f8d51b",
       "version_major": 2,
       "version_minor": 0
      },
      "text/plain": [
       "Map(bottom=12701.0, center=[40.0360265298117, -121.21765136718751], controls=(WidgetControl(options=['position…"
      ]
     },
     "metadata": {},
     "output_type": "display_data"
    }
   ],
   "source": [
    "# Add color bar and legend to the map\n",
    "vis_params = {\n",
    "    'min': 0,\n",
    "    'max': 3000,\n",
    "    'palette': ['006633', 'E5FFCC', '662A00', 'D8D8D8', 'F5F5F5'],\n",
    "}\n",
    "Map.add_colorbar(vis_params, label=\"Elevation (m)\", layer_name=\"Sacto DEM\")\n",
    "Map"
   ]
  },
  {
   "cell_type": "markdown",
   "metadata": {},
   "source": [
    "## Lab 05 Question 4"
   ]
  },
  {
   "cell_type": "code",
   "execution_count": 18,
   "metadata": {},
   "outputs": [],
   "source": [
    "Map = geemap.Map(center=[37.675, -120.491], zoom=6)\n",
    "\n",
    "nlcd = ee.Image('USGS/NLCD_RELEASES/2019_REL/NLCD/2019')\n",
    "landcover = nlcd.select('landcover')\n",
    "\n",
    "Map.addLayer(landcover, {}, 'NLCD Land Cover 2019')\n",
    "# Map.split_map(left_layer='NLCD 2001 CONUS Land Cover', right_layer='NLCD 2019 CONUS Land Cover')\n",
    "# Map.add_legend(\n",
    "#     title=\"NLCD Land Cover Classification 2001-19\", builtin_legend='NLCD', height='465px'\n",
    "Map\n"
=======
    "# Lab 5\n",
    "\n",
    "**Firstname Lastname**\n",
    "\n",
    "**Submission instructions**\n",
    "\n",
    "Submit the Colab link to your notebook in Canvas. In addition, take screenshots of the map for each question and submit them to Canvas as well."
>>>>>>> 742b4952e2eea0ba2cdf08889aa9fa8383c1228e
   ]
  },
  {
   "cell_type": "code",
   "execution_count": null,
   "metadata": {},
   "outputs": [],
   "source": [
<<<<<<< HEAD
    "California = ee.FeatureCollection(\"TIGER/2018/States\").filter(ee.Filter.eq('NAME', 'California'))\n",
    "style = {'color': 'white', 'fillColor': '00008000'}\n",
    "Map.addLayer(California.style(**style), {}, 'California')"
=======
    "import ee\n",
    "import geemap"
>>>>>>> 742b4952e2eea0ba2cdf08889aa9fa8383c1228e
   ]
  },
  {
   "cell_type": "code",
   "execution_count": null,
   "metadata": {},
   "outputs": [],
   "source": [
<<<<<<< HEAD
    "CAclip = landcover.clipToCollection(California)\n",
    "Map.addLayer(CAclip, {}, 'NLCD Land Cover 2019')"
=======
    "geemap.ee_initialize()"
   ]
  },
  {
   "cell_type": "markdown",
   "metadata": {
    "tags": []
   },
   "source": [
    "## Question 1\n",
    "\n",
    "Visualize the [USGS Watershed Boundary Dataset](https://developers.google.com/earth-engine/datasets/catalog/USGS_WBD_2017_HUC04) with outline color only, no fill color."
>>>>>>> 742b4952e2eea0ba2cdf08889aa9fa8383c1228e
   ]
  },
  {
   "cell_type": "code",
   "execution_count": null,
   "metadata": {},
   "outputs": [],
   "source": [
<<<<<<< HEAD
    "from geemap.legends import builtin_legends\n",
    "Map.add_legend(builtin_legend='NLCD')\n",
    "Map.split_map(left_layer='NLCD 2001 CONUS Land Cover', right_layer='NLCD 2019 CONUS Land Cover')\n",
    "Map.add_legend(\n",
    "    title=\"NLCD Land Cover Classification 2001-19\", builtin_legend='NLCD', height='465px'\n",
    ")\n",
    "Map"
=======
    "# Add your code here."
>>>>>>> 742b4952e2eea0ba2cdf08889aa9fa8383c1228e
   ]
  },
  {
   "cell_type": "markdown",
   "metadata": {},
   "source": [
<<<<<<< HEAD
    "## Lab 5 Question 5"
   ]
  },
  {
   "cell_type": "code",
   "execution_count": 19,
   "metadata": {},
   "outputs": [
    {
     "data": {
      "text/html": [
       "<div>\n",
       "<style scoped>\n",
       "    .dataframe tbody tr th:only-of-type {\n",
       "        vertical-align: middle;\n",
       "    }\n",
       "\n",
       "    .dataframe tbody tr th {\n",
       "        vertical-align: top;\n",
       "    }\n",
       "\n",
       "    .dataframe thead th {\n",
       "        text-align: right;\n",
       "    }\n",
       "</style>\n",
       "<table border=\"1\" class=\"dataframe\">\n",
       "  <thead>\n",
       "    <tr style=\"text-align: right;\">\n",
       "      <th></th>\n",
       "      <th>geometry</th>\n",
       "      <th>bbox_north</th>\n",
       "      <th>bbox_south</th>\n",
       "      <th>bbox_east</th>\n",
       "      <th>bbox_west</th>\n",
       "      <th>place_id</th>\n",
       "      <th>osm_type</th>\n",
       "      <th>osm_id</th>\n",
       "      <th>lat</th>\n",
       "      <th>lon</th>\n",
       "      <th>class</th>\n",
       "      <th>type</th>\n",
       "      <th>place_rank</th>\n",
       "      <th>importance</th>\n",
       "      <th>addresstype</th>\n",
       "      <th>name</th>\n",
       "      <th>display_name</th>\n",
       "    </tr>\n",
       "  </thead>\n",
       "  <tbody>\n",
       "    <tr>\n",
       "      <th>0</th>\n",
       "      <td>POLYGON ((-121.56012 38.65634, -121.55930 38.6...</td>\n",
       "      <td>38.685506</td>\n",
       "      <td>38.437574</td>\n",
       "      <td>-121.36274</td>\n",
       "      <td>-121.56012</td>\n",
       "      <td>281348316</td>\n",
       "      <td>relation</td>\n",
       "      <td>6232940</td>\n",
       "      <td>38.581061</td>\n",
       "      <td>-121.493895</td>\n",
       "      <td>boundary</td>\n",
       "      <td>administrative</td>\n",
       "      <td>16</td>\n",
       "      <td>0.624301</td>\n",
       "      <td>city</td>\n",
       "      <td>Sacramento</td>\n",
       "      <td>Sacramento, Sacramento County, California, Uni...</td>\n",
       "    </tr>\n",
       "  </tbody>\n",
       "</table>\n",
       "</div>"
      ],
      "text/plain": [
       "                                            geometry  bbox_north  bbox_south  \\\n",
       "0  POLYGON ((-121.56012 38.65634, -121.55930 38.6...   38.685506   38.437574   \n",
       "\n",
       "   bbox_east  bbox_west   place_id  osm_type   osm_id        lat         lon  \\\n",
       "0 -121.36274 -121.56012  281348316  relation  6232940  38.581061 -121.493895   \n",
       "\n",
       "      class            type  place_rank  importance addresstype        name  \\\n",
       "0  boundary  administrative          16    0.624301        city  Sacramento   \n",
       "\n",
       "                                        display_name  \n",
       "0  Sacramento, Sacramento County, California, Uni...  "
      ]
     },
     "execution_count": 19,
     "metadata": {},
     "output_type": "execute_result"
    }
   ],
   "source": [
    "gdf = geemap.osm_to_gdf(\"Sacramento, California\")\n",
    "gdf"
=======
    "![](https://i.imgur.com/PLlNFq3.png)"
   ]
  },
  {
   "cell_type": "markdown",
   "metadata": {},
   "source": [
    "## Question 2 \n",
    "\n",
    "Filter the USGS Watershed Boundary dataset and select the watershed that intersects the county of your choice."
>>>>>>> 742b4952e2eea0ba2cdf08889aa9fa8383c1228e
   ]
  },
  {
   "cell_type": "code",
   "execution_count": null,
   "metadata": {},
<<<<<<< HEAD
   "outputs": [
    {
     "data": {
      "application/vnd.jupyter.widget-view+json": {
       "model_id": "1e92e15222c444a7ab71e87d4cbe516c",
       "version_major": 2,
       "version_minor": 0
      },
      "text/plain": [
       "Map(center=[38.56553259618343, -121.46750021390379], controls=(WidgetControl(options=['position', 'transparent…"
      ]
     },
     "metadata": {},
     "output_type": "display_data"
    }
   ],
   "source": [
    "Map = geemap.Map()\n",
    "fc = geemap.osm_to_ee(\"Sacramento, California\")\n",
    "Map.addLayer(fc, {}, \"Sacramento\")\n",
    "Map.centerObject(fc, 11)\n",
    "Map"
=======
   "outputs": [],
   "source": [
    "# Add your code here."
   ]
  },
  {
   "cell_type": "markdown",
   "metadata": {},
   "source": [
    "![](https://i.imgur.com/F2QfqZu.png)"
   ]
  },
  {
   "cell_type": "markdown",
   "metadata": {},
   "source": [
    "## Question 3\n",
    "\n",
    "Clip the [USGS 3DEP 10m DEM](https://developers.google.com/earth-engine/datasets/catalog/USGS_3DEP_10m) with the watershed that intersects the county of your choice. Display the DEM with a proper color palette and color bar."
>>>>>>> 742b4952e2eea0ba2cdf08889aa9fa8383c1228e
   ]
  },
  {
   "cell_type": "code",
<<<<<<< HEAD
   "execution_count": 28,
   "metadata": {},
   "outputs": [],
   "source": [
    "Map.add_osm_from_view(tags={\"amenity\": \"restaurant\"})\n",
    "\n",
    "     "
=======
   "execution_count": null,
   "metadata": {},
   "outputs": [],
   "source": [
    "# Add your code here."
   ]
  },
  {
   "cell_type": "markdown",
   "metadata": {},
   "source": [
    "![](https://i.imgur.com/okR39pf.png)"
   ]
  },
  {
   "cell_type": "markdown",
   "metadata": {},
   "source": [
    "## Question 4\n",
    "\n",
    "Use the [USGS National Land Cover Database](https://developers.google.com/earth-engine/datasets/catalog/USGS_NLCD_RELEASES_2019_REL_NLCD) and [US Census States](https://developers.google.com/earth-engine/datasets/catalog/TIGER_2018_States) to create a split-panel map for visualizing land cover change (2001-2019) for a US state of your choice. Make sure you add the NLCD legend to the map."
   ]
  },
  {
   "cell_type": "code",
   "execution_count": null,
   "metadata": {},
   "outputs": [],
   "source": [
    "# Add your code here."
   ]
  },
  {
   "cell_type": "markdown",
   "metadata": {},
   "source": [
    "![](https://i.imgur.com/Au7Q5Ln.png)"
   ]
  },
  {
   "cell_type": "markdown",
   "metadata": {},
   "source": [
    "## Questions 5\n",
    "\n",
    "Download OpenStreetMap data for a city of your choice and visualize the city boundary and restaurants in the city."
   ]
  },
  {
   "cell_type": "code",
   "execution_count": null,
   "metadata": {},
   "outputs": [],
   "source": [
    "# Add your code here."
   ]
  },
  {
   "cell_type": "markdown",
   "metadata": {},
   "source": [
    "![](https://i.imgur.com/AUlO1CV.png)"
>>>>>>> 742b4952e2eea0ba2cdf08889aa9fa8383c1228e
   ]
  }
 ],
 "metadata": {
  "kernelspec": {
<<<<<<< HEAD
   "display_name": "gee",
=======
   "display_name": "Python 3",
>>>>>>> 742b4952e2eea0ba2cdf08889aa9fa8383c1228e
   "language": "python",
   "name": "python3"
  },
  "language_info": {
   "codemirror_mode": {
    "name": "ipython",
    "version": 3
   },
   "file_extension": ".py",
   "mimetype": "text/x-python",
   "name": "python",
   "nbconvert_exporter": "python",
   "pygments_lexer": "ipython3",
<<<<<<< HEAD
   "version": "3.10.12"
  },
  "orig_nbformat": 4
 },
 "nbformat": 4,
 "nbformat_minor": 2
=======
   "version": "3.11.4"
  }
 },
 "nbformat": 4,
 "nbformat_minor": 5
>>>>>>> 742b4952e2eea0ba2cdf08889aa9fa8383c1228e
}
