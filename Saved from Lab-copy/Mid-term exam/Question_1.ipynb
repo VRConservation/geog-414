{
 "cells": [
  {
   "cell_type": "code",
   "execution_count": 1,
   "metadata": {},
   "outputs": [
    {
     "data": {
      "application/vnd.jupyter.widget-view+json": {
       "model_id": "e067bf069ea0487e9220f44432fcd6b9",
       "version_major": 2,
       "version_minor": 0
      },
      "text/plain": [
       "Map(center=[20, 0], controls=(WidgetControl(options=['position', 'transparent_bg'], widget=HBox(children=(Togg…"
      ]
     },
     "metadata": {},
     "output_type": "display_data"
    }
   ],
   "source": [
    "# import ee and geemap define map\n",
    "import ee \n",
    "import geemap\n",
    "geemap.ee_initialize()\n",
    "Map = geemap.Map()\n",
    "Map"
   ]
  },
  {
   "cell_type": "code",
   "execution_count": 3,
   "metadata": {},
   "outputs": [
    {
     "data": {
      "application/vnd.jupyter.widget-view+json": {
       "model_id": "e067bf069ea0487e9220f44432fcd6b9",
       "version_major": 2,
       "version_minor": 0
      },
      "text/plain": [
       "Map(center=[31.05, -99.33], controls=(WidgetControl(options=['position', 'transparent_bg'], widget=HBox(childr…"
      ]
     },
     "metadata": {},
     "output_type": "display_data"
    }
   ],
   "source": [
    "#*\n",
    " # Function to mask clouds using the Sentinel-2 QA band\n",
    " # @param {ee.Image} image Sentinel-2 image\n",
    " # @return {ee.Image} cloud masked Sentinel-2 image\n",
    " #\n",
    "def maskS2clouds(image):\n",
    "  qa = image.select('QA60')\n",
    "\n",
    "  # Bits 10 and 11 are clouds and cirrus, respectively.\n",
    "  cloudBitMask = 1 << 10\n",
    "  cirrusBitMask = 1 << 11\n",
    "\n",
    "  # Both flags should be set to zero, indicating clear conditions.\n",
    "  mask = qa.bitwiseAnd(cloudBitMask).eq(0) \\\n",
    "      .And(qa.bitwiseAnd(cirrusBitMask).eq(0))\n",
    "\n",
    "  return image.updateMask(mask).divide(10000)\n",
    "\n",
    "dataset = ee.ImageCollection('COPERNICUS/S2_SR_HARMONIZED') \\\n",
    "                  .filterDate('2022-01-01', '2022-12-31') \\\n",
    "                  .filter(ee.Filter.lt('CLOUDY_PIXEL_PERCENTAGE',20)) \\\n",
    "                  .map(maskS2clouds)\n",
    "\n",
    "visualization = {\n",
    "  'min': 0.0,\n",
    "  'max': 0.3,\n",
    "  'bands': ['B4', 'B3', 'B2'],\n",
    "}\n",
    "\n",
    "Map.setCenter(-99.33, 31.05, 5)\n",
    "\n",
    "Map.addLayer(dataset.mean(), visualization, 'RGB')\n",
    "Map"
   ]
  },
  {
   "cell_type": "code",
   "execution_count": 4,
   "metadata": {},
   "outputs": [],
   "source": [
    "# add tiger TX\n",
    "Texas = ee.FeatureCollection(\"TIGER/2018/States\").filter(ee.Filter.eq('NAME', 'Texas'))\n",
    "style = {'color': 'white', 'fillColor': '00008000'}\n",
    "Map.addLayer(Texas.style(**style), {}, 'Tejas')"
   ]
  },
  {
   "cell_type": "code",
   "execution_count": 5,
   "metadata": {},
   "outputs": [],
   "source": [
    "# Define a function to clip an image to a feature collection\n",
    "def clipToFeature(image):\n",
    "  return image.clipToCollection(Texas)\n",
    "  # Map the clipping function over the ImageCollection\n",
    "Txclip = dataset.map(clipToFeature)"
   ]
  },
  {
   "cell_type": "code",
   "execution_count": 7,
   "metadata": {},
   "outputs": [
    {
     "data": {
      "application/vnd.jupyter.widget-view+json": {
       "model_id": "e067bf069ea0487e9220f44432fcd6b9",
       "version_major": 2,
       "version_minor": 0
      },
      "text/plain": [
       "Map(bottom=3652.0, center=[31.05, -99.33], controls=(WidgetControl(options=['position', 'transparent_bg'], wid…"
      ]
     },
     "metadata": {},
     "output_type": "display_data"
    }
   ],
   "source": [
    "Map.addLayer(dataset.mean(), visualization, 'RGB', False)\n",
    "Map.addLayer(Txclip, visualization, 'Texas Sentinel-2')\n",
    "Map"
   ]
  }
 ],
 "metadata": {
  "kernelspec": {
   "display_name": "gee",
   "language": "python",
   "name": "python3"
  },
  "language_info": {
   "codemirror_mode": {
    "name": "ipython",
    "version": 3
   },
   "file_extension": ".py",
   "mimetype": "text/x-python",
   "name": "python",
   "nbconvert_exporter": "python",
   "pygments_lexer": "ipython3",
   "version": "3.10.12"
  }
 },
 "nbformat": 4,
 "nbformat_minor": 2
}
