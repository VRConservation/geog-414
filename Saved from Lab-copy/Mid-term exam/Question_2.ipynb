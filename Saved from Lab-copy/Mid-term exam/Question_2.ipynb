{
 "cells": [
  {
   "cell_type": "code",
   "execution_count": 1,
   "metadata": {},
   "outputs": [
    {
     "data": {
      "application/vnd.jupyter.widget-view+json": {
       "model_id": "d84b923d1ff64c5c8b0a4354e62d7f3b",
       "version_major": 2,
       "version_minor": 0
      },
      "text/plain": [
       "Map(center=[20, 0], controls=(WidgetControl(options=['position', 'transparent_bg'], widget=HBox(children=(Togg…"
      ]
     },
     "metadata": {},
     "output_type": "display_data"
    },
    {
     "data": {
      "application/javascript": "\n        var code = IPython.notebook.insert_cell_below('code');\n        code.set_text(atob(\"IyBJbXBvcnQgdGhlIE5MQ0QgY29sbGVjdGlvbi4KZGF0YXNldCA9IGVlLkltYWdlQ29sbGVjdGlvbignVVNHUy9OTENEX1JFTEVBU0VTLzIwMjFfUkVML05MQ0QnKQoKIyBUaGUgY29sbGVjdGlvbiBjb250YWlucyBpbWFnZXMgZm9yIHRoZSAyMDIxIHllYXIgcmVsZWFzZSBhbmQgdGhlIGZ1bGwgc3VpdGUKIyBvZiBwcm9kdWN0cy4KcHJpbnQoJ1Byb2R1Y3RzOicsIGRhdGFzZXQuYWdncmVnYXRlX2FycmF5KCdzeXN0ZW06aW5kZXgnKSkKCiMgRmlsdGVyIHRoZSBjb2xsZWN0aW9uIHRvIHRoZSAyMDIxIHByb2R1Y3QuCm5sY2QyMDIxID0gZGF0YXNldC5maWx0ZXIoZWUuRmlsdGVyLmVxKCdzeXN0ZW06aW5kZXgnLCAnMjAyMScpKS5maXJzdCgpCgojIFNlbGVjdCB0aGUgbGFuZCBjb3ZlciBiYW5kLgpsYW5kY292ZXIgPSBubGNkMjAyMS5zZWxlY3QoJ2xhbmRjb3ZlcicpCgojIERpc3BsYXkgbGFuZCBjb3ZlciBvbiB0aGUgbWFwLgpNYXAuc2V0Q2VudGVyKC05NSwgMzgsIDUpCk1hcC5hZGRMYXllcihsYW5kY292ZXIsIE5vbmUsICdMYW5kY292ZXInKQo=\"));\n    ",
      "text/plain": [
       "<IPython.core.display.Javascript object>"
      ]
     },
     "metadata": {},
     "output_type": "display_data"
    }
   ],
   "source": [
    "# import ee and geemap define map\n",
    "import ee \n",
    "import geemap\n",
    "geemap.ee_initialize()\n",
    "Map = geemap.Map()\n",
    "Map"
   ]
  },
  {
   "cell_type": "code",
   "execution_count": 2,
   "metadata": {},
   "outputs": [],
   "source": [
    "# add tiger TX\n",
    "Texas = ee.FeatureCollection(\"TIGER/2018/States\").filter(ee.Filter.eq('NAME', 'Texas'))\n",
    "style = {'color': 'white', 'fillColor': '00008000'}\n",
    "Map.addLayer(Texas.style(**style), {}, 'Tejas')"
   ]
  },
  {
   "cell_type": "code",
   "execution_count": 5,
   "metadata": {},
   "outputs": [
    {
     "data": {
      "application/vnd.jupyter.widget-view+json": {
       "model_id": "d84b923d1ff64c5c8b0a4354e62d7f3b",
       "version_major": 2,
       "version_minor": 0
      },
      "text/plain": [
       "Map(bottom=1880.0, center=[38, -95], controls=(WidgetControl(options=['position', 'transparent_bg'], widget=HB…"
      ]
     },
     "metadata": {},
     "output_type": "display_data"
    }
   ],
   "source": [
    "# Import the NLCD collection.\n",
    "dataset = ee.ImageCollection('USGS/NLCD_RELEASES/2021_REL/NLCD')\n",
    "\n",
    "# Filter the collection to the 2021 product.\n",
    "nlcd2021 = dataset.filter(ee.Filter.eq('system:index', '2021')).first()\n",
    "\n",
    "# Select the land cover band.\n",
    "landcover = nlcd2021.select('landcover')\n",
    "\n",
    "# Display land cover on the map.\n",
    "Map.setCenter(-95, 38, 4)\n",
    "Map.addLayer(landcover, None, 'Landcover')\n",
    "Map"
   ]
  },
  {
   "cell_type": "code",
   "execution_count": 21,
   "metadata": {},
   "outputs": [],
   "source": [
    "# Define a function to clip an image to a feature collection\n",
    "def clipToFeature(image):\n",
    "  return image.clipToCollection(Texas)\n",
    "  # Map the clipping function over the ImageCollection\n",
    "Txclip = dataset.map(clipToFeature)\n"
   ]
  },
  {
   "cell_type": "code",
   "execution_count": 8,
   "metadata": {},
   "outputs": [
    {
     "data": {
      "application/vnd.jupyter.widget-view+json": {
       "model_id": "d84b923d1ff64c5c8b0a4354e62d7f3b",
       "version_major": 2,
       "version_minor": 0
      },
      "text/plain": [
       "Map(bottom=3579.0, center=[33.760882000869195, -98.525390625], controls=(WidgetControl(options=['position', 't…"
      ]
     },
     "metadata": {},
     "output_type": "display_data"
    }
   ],
   "source": [
    "#Map.addLayer(dataset.mean(), visualization, 'RGB', False)\n",
    "Map.addLayer(Txclip, None, 'NLCD Landcover')\n",
    "Map"
   ]
  },
  {
   "cell_type": "code",
   "execution_count": 22,
   "metadata": {},
   "outputs": [
    {
     "data": {
      "application/vnd.jupyter.widget-view+json": {
       "model_id": "d84b923d1ff64c5c8b0a4354e62d7f3b",
       "version_major": 2,
       "version_minor": 0
      },
      "text/plain": [
       "Map(bottom=3608.0, center=[32.694865977875075, -98.6572265625], controls=(ZoomControl(options=['position', 'zo…"
      ]
     },
     "metadata": {},
     "output_type": "display_data"
    }
   ],
   "source": [
    "nlcd_2001 = ee.Image('USGS/NLCD_RELEASES/2019_REL/NLCD/2001').select('landcover')\n",
    "nlcd_2021 = ee.Image('USGS/NLCD_RELEASES/2021_REL/NLCD/2021').select('landcover')\n",
    "\n",
    "left_layer = geemap.ee_tile_layer(nlcd_2001, {}, 'NLCD 2001')\n",
    "right_layer = geemap.ee_tile_layer(nlcd_2021, {}, 'NLCD 2021')\n",
    "\n",
    "Map.split_map(left_layer, right_layer)\n",
    "Map.add_legend(builtin_legend='NLCD')\n",
    "Map"
   ]
  },
  {
   "cell_type": "code",
   "execution_count": 23,
   "metadata": {},
   "outputs": [
    {
     "ename": "AttributeError",
     "evalue": "'EELeafletTileLayer' object has no attribute 'clipToCollection'",
     "output_type": "error",
     "traceback": [
      "\u001b[1;31m---------------------------------------------------------------------------\u001b[0m",
      "\u001b[1;31mAttributeError\u001b[0m                            Traceback (most recent call last)",
      "\u001b[1;32mUntitled-2.ipynb Cell 7\u001b[0m line \u001b[0;36m1\n\u001b[1;32m----> <a href='vscode-notebook-cell:Untitled-2.ipynb?jupyter-notebook#W6sdW50aXRsZWQ%3D?line=0'>1</a>\u001b[0m left_clip \u001b[39m=\u001b[39m left_layer\u001b[39m.\u001b[39;49mclipToCollection(Texas)\n\u001b[0;32m      <a href='vscode-notebook-cell:Untitled-2.ipynb?jupyter-notebook#W6sdW50aXRsZWQ%3D?line=1'>2</a>\u001b[0m right_clip \u001b[39m=\u001b[39m right_layer\u001b[39m.\u001b[39mclipToCollection(Texas)\n",
      "\u001b[1;31mAttributeError\u001b[0m: 'EELeafletTileLayer' object has no attribute 'clipToCollection'"
     ]
    }
   ],
   "source": [
    "left_clip = left_layer.clipToCollection(Texas)\n",
    "right_clip = right_layer.clipToCollection(Texas)\n"
   ]
  },
  {
   "cell_type": "code",
   "execution_count": null,
   "metadata": {},
   "outputs": [],
   "source": []
  }
 ],
 "metadata": {
  "kernelspec": {
   "display_name": "gee",
   "language": "python",
   "name": "python3"
  },
  "language_info": {
   "codemirror_mode": {
    "name": "ipython",
    "version": 3
   },
   "file_extension": ".py",
   "mimetype": "text/x-python",
   "name": "python",
   "nbconvert_exporter": "python",
   "pygments_lexer": "ipython3",
   "version": "3.10.12"
  }
 },
 "nbformat": 4,
 "nbformat_minor": 2
}
