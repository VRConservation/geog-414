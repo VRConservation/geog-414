{
 "cells": [
  {
   "cell_type": "markdown",
   "id": "f4acda39",
   "metadata": {},
   "source": [
    "# Lab 10\n",
    "\n",
    "**Submission requirements**\n",
    "\n",
    "1. **HTML Version:** Submit an HTML version of your notebook. Ensure all code outputs are visible. (Export via VS Code: Notebook > Export > HTML).\n",
    "2. **Colab Link:** Provide a link to your notebook hosted on Google Colab for interactive review.\n",
    "\n",
    "## Setup\n",
    "\n",
    "Uncomment and run the following cell to install the required packages."
   ]
  },
  {
   "cell_type": "code",
   "execution_count": 1,
   "id": "dee0f795",
   "metadata": {},
   "outputs": [
    {
     "name": "stdout",
     "output_type": "stream",
     "text": [
      "Requirement already satisfied: duckdb in c:\\users\\vance\\anaconda3\\envs\\geo\\envs\\py39\\lib\\site-packages (0.9.2)\n",
      "Requirement already satisfied: leafmap in c:\\users\\vance\\anaconda3\\envs\\geo\\envs\\py39\\lib\\site-packages (0.29.3)\n",
      "Collecting lonboard\n",
      "  Obtaining dependency information for lonboard from https://files.pythonhosted.org/packages/40/59/1719086b10e86cc4d725f8ffcb75c9bb99017895f0f8109bd8ab9cd03eb0/lonboard-0.4.2-py3-none-any.whl.metadata\n",
      "  Downloading lonboard-0.4.2-py3-none-any.whl.metadata (2.7 kB)\n",
      "Requirement already satisfied: bqplot in c:\\users\\vance\\anaconda3\\envs\\geo\\envs\\py39\\lib\\site-packages (from leafmap) (0.12.42)\n",
      "Requirement already satisfied: colour in c:\\users\\vance\\anaconda3\\envs\\geo\\envs\\py39\\lib\\site-packages (from leafmap) (0.1.5)\n",
      "Requirement already satisfied: folium in c:\\users\\vance\\anaconda3\\envs\\geo\\envs\\py39\\lib\\site-packages (from leafmap) (0.15.0)\n",
      "Requirement already satisfied: gdown in c:\\users\\vance\\anaconda3\\envs\\geo\\envs\\py39\\lib\\site-packages (from leafmap) (4.7.1)\n",
      "Requirement already satisfied: geojson in c:\\users\\vance\\anaconda3\\envs\\geo\\envs\\py39\\lib\\site-packages (from leafmap) (3.1.0)\n",
      "Requirement already satisfied: ipyevents in c:\\users\\vance\\anaconda3\\envs\\geo\\envs\\py39\\lib\\site-packages (from leafmap) (2.0.2)\n",
      "Requirement already satisfied: ipyfilechooser in c:\\users\\vance\\anaconda3\\envs\\geo\\envs\\py39\\lib\\site-packages (from leafmap) (0.6.0)\n",
      "Requirement already satisfied: ipyleaflet in c:\\users\\vance\\anaconda3\\envs\\geo\\envs\\py39\\lib\\site-packages (from leafmap) (0.18.0)\n",
      "Requirement already satisfied: ipywidgets in c:\\users\\vance\\anaconda3\\envs\\geo\\envs\\py39\\lib\\site-packages (from leafmap) (8.0.4)\n",
      "Requirement already satisfied: matplotlib in c:\\users\\vance\\anaconda3\\envs\\geo\\envs\\py39\\lib\\site-packages (from leafmap) (3.7.2)\n",
      "Requirement already satisfied: numpy in c:\\users\\vance\\anaconda3\\envs\\geo\\envs\\py39\\lib\\site-packages (from leafmap) (1.24.3)\n",
      "Requirement already satisfied: pandas in c:\\users\\vance\\anaconda3\\envs\\geo\\envs\\py39\\lib\\site-packages (from leafmap) (2.0.3)\n",
      "Requirement already satisfied: plotly in c:\\users\\vance\\anaconda3\\envs\\geo\\envs\\py39\\lib\\site-packages (from leafmap) (5.9.0)\n",
      "Requirement already satisfied: pyshp in c:\\users\\vance\\anaconda3\\envs\\geo\\envs\\py39\\lib\\site-packages (from leafmap) (2.3.1)\n",
      "Requirement already satisfied: pystac-client in c:\\users\\vance\\anaconda3\\envs\\geo\\envs\\py39\\lib\\site-packages (from leafmap) (0.7.5)\n",
      "Requirement already satisfied: python-box in c:\\users\\vance\\anaconda3\\envs\\geo\\envs\\py39\\lib\\site-packages (from leafmap) (7.1.1)\n",
      "Requirement already satisfied: scooby in c:\\users\\vance\\anaconda3\\envs\\geo\\envs\\py39\\lib\\site-packages (from leafmap) (0.9.2)\n",
      "Requirement already satisfied: whiteboxgui in c:\\users\\vance\\anaconda3\\envs\\geo\\envs\\py39\\lib\\site-packages (from leafmap) (2.3.0)\n",
      "Requirement already satisfied: xyzservices in c:\\users\\vance\\anaconda3\\envs\\geo\\envs\\py39\\lib\\site-packages (from leafmap) (2022.9.0)\n",
      "Collecting anywidget<0.8.0,>=0.7.1 (from lonboard)\n",
      "  Obtaining dependency information for anywidget<0.8.0,>=0.7.1 from https://files.pythonhosted.org/packages/78/fa/72bd0b3125819ec30d5464a80b8215e8789c7c34cc85f9fdd5b7ae599fba/anywidget-0.7.1-py3-none-any.whl.metadata\n",
      "  Downloading anywidget-0.7.1-py3-none-any.whl.metadata (4.2 kB)\n",
      "Collecting geopandas>=0.13 (from lonboard)\n",
      "  Obtaining dependency information for geopandas>=0.13 from https://files.pythonhosted.org/packages/3e/cf/ede993ed7070c5487e6db550aad490178c06eaa48ad26ff5e5263f995fba/geopandas-0.14.1-py3-none-any.whl.metadata\n",
      "  Downloading geopandas-0.14.1-py3-none-any.whl.metadata (1.5 kB)\n",
      "Collecting palettable<4.0.0,>=3.3.3 (from lonboard)\n",
      "  Using cached palettable-3.3.3-py2.py3-none-any.whl (332 kB)\n",
      "Collecting pyarrow>=14.0.1 (from lonboard)\n",
      "  Obtaining dependency information for pyarrow>=14.0.1 from https://files.pythonhosted.org/packages/28/82/9adfafaf0de581a39a1c86002cafd1a55a1255c9e0d362dc3e970aab0656/pyarrow-14.0.1-cp39-cp39-win_amd64.whl.metadata\n",
      "  Downloading pyarrow-14.0.1-cp39-cp39-win_amd64.whl.metadata (3.1 kB)\n",
      "Collecting shapely<3,>=2 (from lonboard)\n",
      "  Obtaining dependency information for shapely<3,>=2 from https://files.pythonhosted.org/packages/51/18/7a6dfefc08d5899dfca0cde9ada7a58006d06cccc0818e68b2a60bdba8e3/shapely-2.0.2-cp39-cp39-win_amd64.whl.metadata\n",
      "  Downloading shapely-2.0.2-cp39-cp39-win_amd64.whl.metadata (7.2 kB)\n",
      "Collecting psygnal>=0.8.1 (from anywidget<0.8.0,>=0.7.1->lonboard)\n",
      "  Obtaining dependency information for psygnal>=0.8.1 from https://files.pythonhosted.org/packages/ad/5d/de82e5c9d6da9186ba4788418b4ff6ac142d6fa8fa6d020ee859f6bfa994/psygnal-0.9.5-cp39-cp39-win_amd64.whl.metadata\n",
      "  Downloading psygnal-0.9.5-cp39-cp39-win_amd64.whl.metadata (6.9 kB)\n",
      "Requirement already satisfied: typing-extensions>=4.2.0 in c:\\users\\vance\\appdata\\roaming\\python\\python39\\site-packages (from anywidget<0.8.0,>=0.7.1->lonboard) (4.7.1)\n",
      "Collecting fiona>=1.8.21 (from geopandas>=0.13->lonboard)\n",
      "  Obtaining dependency information for fiona>=1.8.21 from https://files.pythonhosted.org/packages/1d/cf/31387b40d64f56631ad7eb3dfecd922ff17b2c3131a4765c7102743f4c0f/fiona-1.9.5-cp39-cp39-win_amd64.whl.metadata\n",
      "  Downloading fiona-1.9.5-cp39-cp39-win_amd64.whl.metadata (51 kB)\n",
      "     ---------------------------------------- 0.0/51.1 kB ? eta -:--:--\n",
      "     -------------------------------------- 51.1/51.1 kB 869.6 kB/s eta 0:00:00\n",
      "Requirement already satisfied: packaging in c:\\users\\vance\\anaconda3\\envs\\geo\\envs\\py39\\lib\\site-packages (from geopandas>=0.13->lonboard) (23.1)\n",
      "Collecting pyproj>=3.3.0 (from geopandas>=0.13->lonboard)\n",
      "  Obtaining dependency information for pyproj>=3.3.0 from https://files.pythonhosted.org/packages/43/d0/cbe29a4dcf38ee7e72bf695d0d3f2bee21b4f22ee6cf579ad974de9edfc8/pyproj-3.6.1-cp39-cp39-win_amd64.whl.metadata\n",
      "  Downloading pyproj-3.6.1-cp39-cp39-win_amd64.whl.metadata (31 kB)\n",
      "Requirement already satisfied: ipykernel>=4.5.1 in c:\\users\\vance\\anaconda3\\envs\\geo\\envs\\py39\\lib\\site-packages (from ipywidgets->leafmap) (6.25.0)\n",
      "Requirement already satisfied: ipython>=6.1.0 in c:\\users\\vance\\anaconda3\\envs\\geo\\envs\\py39\\lib\\site-packages (from ipywidgets->leafmap) (8.15.0)\n",
      "Requirement already satisfied: traitlets>=4.3.1 in c:\\users\\vance\\anaconda3\\envs\\geo\\envs\\py39\\lib\\site-packages (from ipywidgets->leafmap) (5.7.1)\n",
      "Requirement already satisfied: widgetsnbextension~=4.0 in c:\\users\\vance\\anaconda3\\envs\\geo\\envs\\py39\\lib\\site-packages (from ipywidgets->leafmap) (4.0.5)\n",
      "Requirement already satisfied: jupyterlab-widgets~=3.0 in c:\\users\\vance\\anaconda3\\envs\\geo\\envs\\py39\\lib\\site-packages (from ipywidgets->leafmap) (3.0.5)\n",
      "Requirement already satisfied: contourpy>=1.0.1 in c:\\users\\vance\\anaconda3\\envs\\geo\\envs\\py39\\lib\\site-packages (from matplotlib->leafmap) (1.0.5)\n",
      "Requirement already satisfied: cycler>=0.10 in c:\\users\\vance\\anaconda3\\envs\\geo\\envs\\py39\\lib\\site-packages (from matplotlib->leafmap) (0.11.0)\n",
      "Requirement already satisfied: fonttools>=4.22.0 in c:\\users\\vance\\anaconda3\\envs\\geo\\envs\\py39\\lib\\site-packages (from matplotlib->leafmap) (4.25.0)\n",
      "Requirement already satisfied: kiwisolver>=1.0.1 in c:\\users\\vance\\anaconda3\\envs\\geo\\envs\\py39\\lib\\site-packages (from matplotlib->leafmap) (1.4.4)\n",
      "Requirement already satisfied: pillow>=6.2.0 in c:\\users\\vance\\anaconda3\\envs\\geo\\envs\\py39\\lib\\site-packages (from matplotlib->leafmap) (9.4.0)\n",
      "Requirement already satisfied: pyparsing<3.1,>=2.3.1 in c:\\users\\vance\\anaconda3\\envs\\geo\\envs\\py39\\lib\\site-packages (from matplotlib->leafmap) (3.0.9)\n",
      "Requirement already satisfied: python-dateutil>=2.7 in c:\\users\\vance\\appdata\\roaming\\python\\python39\\site-packages (from matplotlib->leafmap) (2.8.2)\n",
      "Requirement already satisfied: importlib-resources>=3.2.0 in c:\\users\\vance\\anaconda3\\envs\\geo\\envs\\py39\\lib\\site-packages (from matplotlib->leafmap) (5.2.0)\n",
      "Requirement already satisfied: pytz>=2020.1 in c:\\users\\vance\\anaconda3\\envs\\geo\\envs\\py39\\lib\\site-packages (from pandas->leafmap) (2023.3.post1)\n",
      "Requirement already satisfied: tzdata>=2022.1 in c:\\users\\vance\\anaconda3\\envs\\geo\\envs\\py39\\lib\\site-packages (from pandas->leafmap) (2023.3)\n",
      "Requirement already satisfied: traittypes>=0.0.6 in c:\\users\\vance\\anaconda3\\envs\\geo\\envs\\py39\\lib\\site-packages (from bqplot->leafmap) (0.2.1)\n",
      "Requirement already satisfied: branca>=0.6.0 in c:\\users\\vance\\anaconda3\\envs\\geo\\envs\\py39\\lib\\site-packages (from folium->leafmap) (0.7.0)\n",
      "Requirement already satisfied: jinja2>=2.9 in c:\\users\\vance\\anaconda3\\envs\\geo\\envs\\py39\\lib\\site-packages (from folium->leafmap) (3.1.2)\n",
      "Requirement already satisfied: requests in c:\\users\\vance\\appdata\\roaming\\python\\python39\\site-packages (from folium->leafmap) (2.31.0)\n",
      "Requirement already satisfied: filelock in c:\\users\\vance\\anaconda3\\envs\\geo\\envs\\py39\\lib\\site-packages (from gdown->leafmap) (3.9.0)\n",
      "Requirement already satisfied: six in c:\\users\\vance\\anaconda3\\envs\\geo\\envs\\py39\\lib\\site-packages (from gdown->leafmap) (1.16.0)\n",
      "Requirement already satisfied: tqdm in c:\\users\\vance\\appdata\\roaming\\python\\python39\\site-packages (from gdown->leafmap) (4.65.0)\n",
      "Requirement already satisfied: beautifulsoup4 in c:\\users\\vance\\anaconda3\\envs\\geo\\envs\\py39\\lib\\site-packages (from gdown->leafmap) (4.12.2)\n",
      "Requirement already satisfied: tenacity>=6.2.0 in c:\\users\\vance\\appdata\\roaming\\python\\python39\\site-packages (from plotly->leafmap) (8.2.2)\n",
      "Requirement already satisfied: pystac[validation]>=1.8.2 in c:\\users\\vance\\anaconda3\\envs\\geo\\envs\\py39\\lib\\site-packages (from pystac-client->leafmap) (1.9.0)\n",
      "Requirement already satisfied: ipytree in c:\\users\\vance\\anaconda3\\envs\\geo\\envs\\py39\\lib\\site-packages (from whiteboxgui->leafmap) (0.2.2)\n",
      "Requirement already satisfied: whitebox in c:\\users\\vance\\anaconda3\\envs\\geo\\envs\\py39\\lib\\site-packages (from whiteboxgui->leafmap) (2.3.1)\n",
      "Requirement already satisfied: attrs>=19.2.0 in c:\\users\\vance\\anaconda3\\envs\\geo\\envs\\py39\\lib\\site-packages (from fiona>=1.8.21->geopandas>=0.13->lonboard) (23.1.0)\n",
      "Requirement already satisfied: certifi in c:\\users\\vance\\anaconda3\\envs\\geo\\envs\\py39\\lib\\site-packages (from fiona>=1.8.21->geopandas>=0.13->lonboard) (2023.7.22)\n",
      "Requirement already satisfied: click~=8.0 in c:\\users\\vance\\anaconda3\\envs\\geo\\envs\\py39\\lib\\site-packages (from fiona>=1.8.21->geopandas>=0.13->lonboard) (8.0.4)\n",
      "Collecting click-plugins>=1.0 (from fiona>=1.8.21->geopandas>=0.13->lonboard)\n",
      "  Using cached click_plugins-1.1.1-py2.py3-none-any.whl (7.5 kB)\n",
      "Collecting cligj>=0.5 (from fiona>=1.8.21->geopandas>=0.13->lonboard)\n",
      "  Using cached cligj-0.7.2-py3-none-any.whl (7.1 kB)\n",
      "Requirement already satisfied: setuptools in c:\\users\\vance\\anaconda3\\envs\\geo\\envs\\py39\\lib\\site-packages (from fiona>=1.8.21->geopandas>=0.13->lonboard) (68.0.0)\n",
      "Requirement already satisfied: importlib-metadata in c:\\users\\vance\\anaconda3\\envs\\geo\\envs\\py39\\lib\\site-packages (from fiona>=1.8.21->geopandas>=0.13->lonboard) (6.0.0)\n",
      "Requirement already satisfied: zipp>=3.1.0 in c:\\users\\vance\\anaconda3\\envs\\geo\\envs\\py39\\lib\\site-packages (from importlib-resources>=3.2.0->matplotlib->leafmap) (3.11.0)\n",
      "Requirement already satisfied: comm>=0.1.1 in c:\\users\\vance\\anaconda3\\envs\\geo\\envs\\py39\\lib\\site-packages (from ipykernel>=4.5.1->ipywidgets->leafmap) (0.1.2)\n",
      "Requirement already satisfied: debugpy>=1.6.5 in c:\\users\\vance\\anaconda3\\envs\\geo\\envs\\py39\\lib\\site-packages (from ipykernel>=4.5.1->ipywidgets->leafmap) (1.6.7)\n",
      "Requirement already satisfied: jupyter-client>=6.1.12 in c:\\users\\vance\\anaconda3\\envs\\geo\\envs\\py39\\lib\\site-packages (from ipykernel>=4.5.1->ipywidgets->leafmap) (7.4.9)\n",
      "Requirement already satisfied: jupyter-core!=5.0.*,>=4.12 in c:\\users\\vance\\anaconda3\\envs\\geo\\envs\\py39\\lib\\site-packages (from ipykernel>=4.5.1->ipywidgets->leafmap) (5.3.0)\n",
      "Requirement already satisfied: matplotlib-inline>=0.1 in c:\\users\\vance\\anaconda3\\envs\\geo\\envs\\py39\\lib\\site-packages (from ipykernel>=4.5.1->ipywidgets->leafmap) (0.1.6)\n",
      "Requirement already satisfied: nest-asyncio in c:\\users\\vance\\anaconda3\\envs\\geo\\envs\\py39\\lib\\site-packages (from ipykernel>=4.5.1->ipywidgets->leafmap) (1.5.6)\n",
      "Requirement already satisfied: psutil in c:\\users\\vance\\anaconda3\\envs\\geo\\envs\\py39\\lib\\site-packages (from ipykernel>=4.5.1->ipywidgets->leafmap) (5.9.0)\n",
      "Requirement already satisfied: pyzmq>=20 in c:\\users\\vance\\anaconda3\\envs\\geo\\envs\\py39\\lib\\site-packages (from ipykernel>=4.5.1->ipywidgets->leafmap) (23.2.0)\n",
      "Requirement already satisfied: tornado>=6.1 in c:\\users\\vance\\anaconda3\\envs\\geo\\envs\\py39\\lib\\site-packages (from ipykernel>=4.5.1->ipywidgets->leafmap) (6.3.2)\n",
      "Requirement already satisfied: backcall in c:\\users\\vance\\anaconda3\\envs\\geo\\envs\\py39\\lib\\site-packages (from ipython>=6.1.0->ipywidgets->leafmap) (0.2.0)\n",
      "Requirement already satisfied: decorator in c:\\users\\vance\\anaconda3\\envs\\geo\\envs\\py39\\lib\\site-packages (from ipython>=6.1.0->ipywidgets->leafmap) (5.1.1)\n",
      "Requirement already satisfied: jedi>=0.16 in c:\\users\\vance\\anaconda3\\envs\\geo\\envs\\py39\\lib\\site-packages (from ipython>=6.1.0->ipywidgets->leafmap) (0.18.1)\n",
      "Requirement already satisfied: pickleshare in c:\\users\\vance\\anaconda3\\envs\\geo\\envs\\py39\\lib\\site-packages (from ipython>=6.1.0->ipywidgets->leafmap) (0.7.5)\n",
      "Requirement already satisfied: prompt-toolkit!=3.0.37,<3.1.0,>=3.0.30 in c:\\users\\vance\\anaconda3\\envs\\geo\\envs\\py39\\lib\\site-packages (from ipython>=6.1.0->ipywidgets->leafmap) (3.0.36)\n",
      "Requirement already satisfied: pygments>=2.4.0 in c:\\users\\vance\\anaconda3\\envs\\geo\\envs\\py39\\lib\\site-packages (from ipython>=6.1.0->ipywidgets->leafmap) (2.15.1)\n",
      "Requirement already satisfied: stack-data in c:\\users\\vance\\anaconda3\\envs\\geo\\envs\\py39\\lib\\site-packages (from ipython>=6.1.0->ipywidgets->leafmap) (0.2.0)\n",
      "Requirement already satisfied: exceptiongroup in c:\\users\\vance\\anaconda3\\envs\\geo\\envs\\py39\\lib\\site-packages (from ipython>=6.1.0->ipywidgets->leafmap) (1.0.4)\n",
      "Requirement already satisfied: colorama in c:\\users\\vance\\appdata\\roaming\\python\\python39\\site-packages (from ipython>=6.1.0->ipywidgets->leafmap) (0.4.6)\n",
      "Requirement already satisfied: MarkupSafe>=2.0 in c:\\users\\vance\\anaconda3\\envs\\geo\\envs\\py39\\lib\\site-packages (from jinja2>=2.9->folium->leafmap) (2.1.1)\n",
      "Requirement already satisfied: mypy-extensions in c:\\users\\vance\\anaconda3\\envs\\geo\\envs\\py39\\lib\\site-packages (from psygnal>=0.8.1->anywidget<0.8.0,>=0.7.1->lonboard) (1.0.0)\n",
      "Requirement already satisfied: jsonschema~=4.18 in c:\\users\\vance\\anaconda3\\envs\\geo\\envs\\py39\\lib\\site-packages (from pystac[validation]>=1.8.2->pystac-client->leafmap) (4.20.0)\n",
      "Requirement already satisfied: charset-normalizer<4,>=2 in c:\\users\\vance\\appdata\\roaming\\python\\python39\\site-packages (from requests->folium->leafmap) (3.2.0)\n",
      "Requirement already satisfied: idna<4,>=2.5 in c:\\users\\vance\\anaconda3\\envs\\geo\\envs\\py39\\lib\\site-packages (from requests->folium->leafmap) (3.4)\n",
      "Requirement already satisfied: urllib3<3,>=1.21.1 in c:\\users\\vance\\anaconda3\\envs\\geo\\envs\\py39\\lib\\site-packages (from requests->folium->leafmap) (1.26.16)\n",
      "Requirement already satisfied: soupsieve>1.2 in c:\\users\\vance\\anaconda3\\envs\\geo\\envs\\py39\\lib\\site-packages (from beautifulsoup4->gdown->leafmap) (2.4)\n",
      "Requirement already satisfied: PySocks!=1.5.7,>=1.5.6 in c:\\users\\vance\\anaconda3\\envs\\geo\\envs\\py39\\lib\\site-packages (from requests->folium->leafmap) (1.7.1)\n",
      "Requirement already satisfied: parso<0.9.0,>=0.8.0 in c:\\users\\vance\\anaconda3\\envs\\geo\\envs\\py39\\lib\\site-packages (from jedi>=0.16->ipython>=6.1.0->ipywidgets->leafmap) (0.8.3)\n",
      "Requirement already satisfied: jsonschema-specifications>=2023.03.6 in c:\\users\\vance\\anaconda3\\envs\\geo\\envs\\py39\\lib\\site-packages (from jsonschema~=4.18->pystac[validation]>=1.8.2->pystac-client->leafmap) (2023.11.1)\n",
      "Requirement already satisfied: referencing>=0.28.4 in c:\\users\\vance\\anaconda3\\envs\\geo\\envs\\py39\\lib\\site-packages (from jsonschema~=4.18->pystac[validation]>=1.8.2->pystac-client->leafmap) (0.31.0)\n",
      "Requirement already satisfied: rpds-py>=0.7.1 in c:\\users\\vance\\anaconda3\\envs\\geo\\envs\\py39\\lib\\site-packages (from jsonschema~=4.18->pystac[validation]>=1.8.2->pystac-client->leafmap) (0.13.1)\n",
      "Requirement already satisfied: entrypoints in c:\\users\\vance\\anaconda3\\envs\\geo\\envs\\py39\\lib\\site-packages (from jupyter-client>=6.1.12->ipykernel>=4.5.1->ipywidgets->leafmap) (0.4)\n",
      "Requirement already satisfied: platformdirs>=2.5 in c:\\users\\vance\\anaconda3\\envs\\geo\\envs\\py39\\lib\\site-packages (from jupyter-core!=5.0.*,>=4.12->ipykernel>=4.5.1->ipywidgets->leafmap) (3.10.0)\n",
      "Requirement already satisfied: pywin32>=300 in c:\\users\\vance\\anaconda3\\envs\\geo\\envs\\py39\\lib\\site-packages (from jupyter-core!=5.0.*,>=4.12->ipykernel>=4.5.1->ipywidgets->leafmap) (305.1)\n",
      "Requirement already satisfied: wcwidth in c:\\users\\vance\\anaconda3\\envs\\geo\\envs\\py39\\lib\\site-packages (from prompt-toolkit!=3.0.37,<3.1.0,>=3.0.30->ipython>=6.1.0->ipywidgets->leafmap) (0.2.5)\n",
      "Requirement already satisfied: executing in c:\\users\\vance\\anaconda3\\envs\\geo\\envs\\py39\\lib\\site-packages (from stack-data->ipython>=6.1.0->ipywidgets->leafmap) (0.8.3)\n",
      "Requirement already satisfied: asttokens in c:\\users\\vance\\anaconda3\\envs\\geo\\envs\\py39\\lib\\site-packages (from stack-data->ipython>=6.1.0->ipywidgets->leafmap) (2.0.5)\n",
      "Requirement already satisfied: pure-eval in c:\\users\\vance\\anaconda3\\envs\\geo\\envs\\py39\\lib\\site-packages (from stack-data->ipython>=6.1.0->ipywidgets->leafmap) (0.2.2)\n",
      "Using cached lonboard-0.4.2-py3-none-any.whl (560 kB)\n",
      "Using cached anywidget-0.7.1-py3-none-any.whl (40 kB)\n",
      "Downloading geopandas-0.14.1-py3-none-any.whl (1.1 MB)\n",
      "   ---------------------------------------- 0.0/1.1 MB ? eta -:--:--\n",
      "   ---- ----------------------------------- 0.1/1.1 MB 3.6 MB/s eta 0:00:01\n",
      "   -------- ------------------------------- 0.2/1.1 MB 2.5 MB/s eta 0:00:01\n",
      "   -------------- ------------------------- 0.4/1.1 MB 2.7 MB/s eta 0:00:01\n",
      "   ----------------- ---------------------- 0.5/1.1 MB 2.6 MB/s eta 0:00:01\n",
      "   ----------------------- ---------------- 0.6/1.1 MB 2.7 MB/s eta 0:00:01\n",
      "   --------------------------- ------------ 0.7/1.1 MB 2.6 MB/s eta 0:00:01\n",
      "   ---------------------------- ----------- 0.8/1.1 MB 2.6 MB/s eta 0:00:01\n",
      "   ----------------------------------- ---- 1.0/1.1 MB 2.5 MB/s eta 0:00:01\n",
      "   ---------------------------------------  1.1/1.1 MB 2.5 MB/s eta 0:00:01\n",
      "   ---------------------------------------- 1.1/1.1 MB 2.4 MB/s eta 0:00:00\n",
      "Using cached pyarrow-14.0.1-cp39-cp39-win_amd64.whl (24.6 MB)\n",
      "Using cached shapely-2.0.2-cp39-cp39-win_amd64.whl (1.4 MB)\n",
      "Using cached fiona-1.9.5-cp39-cp39-win_amd64.whl (22.9 MB)\n",
      "Using cached psygnal-0.9.5-cp39-cp39-win_amd64.whl (314 kB)\n",
      "Using cached pyproj-3.6.1-cp39-cp39-win_amd64.whl (6.1 MB)\n",
      "Installing collected packages: shapely, pyproj, pyarrow, psygnal, palettable, cligj, click-plugins, fiona, geopandas, anywidget, lonboard\n",
      "  Attempting uninstall: pyarrow\n",
      "    Found existing installation: pyarrow 11.0.0\n",
      "    Uninstalling pyarrow-11.0.0:\n",
      "      Successfully uninstalled pyarrow-11.0.0\n",
      "Successfully installed anywidget-0.7.1 click-plugins-1.1.1 cligj-0.7.2 fiona-1.9.5 geopandas-0.14.1 lonboard-0.4.2 palettable-3.3.3 psygnal-0.9.5 pyarrow-14.0.1 pyproj-3.6.1 shapely-2.0.2\n",
      "Note: you may need to restart the kernel to use updated packages.\n"
     ]
    }
   ],
   "source": [
    "%pip install duckdb leafmap lonboard"
   ]
  },
  {
   "cell_type": "code",
   "execution_count": 2,
   "id": "54ed2e86",
   "metadata": {},
   "outputs": [],
   "source": [
    "import duckdb\n",
    "import leafmap"
   ]
  },
  {
   "cell_type": "markdown",
   "id": "489c24fe",
   "metadata": {},
   "source": [
    "## Question 1\n",
    "\n",
    "Download the [nyc_data.zip](https://github.com/opengeos/data/raw/main/duckdb/nyc_data.zip) dataset using leafmap. The zip file contains the following datasets. Create a new DuckDB database and import the datasets into the database. Each dataset should be imported into a separate table. \n",
    "\n",
    "- nyc_census_blocks\n",
    "- nyc_homicides\n",
    "- nyc_neighborhoods\n",
    "- nyc_streets\n",
    "- nyc_subway_stations"
   ]
  },
  {
   "cell_type": "code",
   "execution_count": null,
   "id": "3e747e49",
   "metadata": {},
   "outputs": [],
   "source": [
    "# Add your code here"
   ]
  },
  {
   "cell_type": "markdown",
   "id": "df8b40d9",
   "metadata": {},
   "source": [
    "## Question 2"
   ]
  },
  {
   "cell_type": "markdown",
   "id": "af3b634f",
   "metadata": {},
   "source": [
    "Visualize the `nyc_subway_stations` and `nyc_streets` datasets on the same map using leafmap and lonboard."
   ]
  },
  {
   "cell_type": "code",
   "execution_count": null,
   "id": "5637ad79",
   "metadata": {},
   "outputs": [],
   "source": [
    "# Add your code here"
   ]
  },
  {
   "cell_type": "markdown",
   "id": "06ef05f1",
   "metadata": {},
   "source": [
    "## Question 3\n",
    "\n",
    "Find out what neighborhood the `BLUE` subway stations are in."
   ]
  },
  {
   "cell_type": "code",
   "execution_count": null,
   "id": "c24f3aba",
   "metadata": {},
   "outputs": [],
   "source": [
    "# Add your code here"
   ]
  },
  {
   "cell_type": "markdown",
   "id": "a0fd1e3f",
   "metadata": {},
   "source": [
    "## Question 4\n",
    "\n",
    "Find out what streets are within 200 meters of the `BLUE` subway stations."
   ]
  },
  {
   "cell_type": "code",
   "execution_count": null,
   "id": "8b94da18",
   "metadata": {},
   "outputs": [],
   "source": [
    "# Add your code here"
   ]
  },
  {
   "cell_type": "markdown",
   "id": "d66e4b63",
   "metadata": {},
   "source": [
    "## Question 5\n",
    "\n",
    "Visualize the `BLUE` subway stations and the streets within 200 meters of the `BLUE` subway stations on the same map using leafmap and lonboard."
   ]
  },
  {
   "cell_type": "code",
   "execution_count": null,
   "id": "6f998fae",
   "metadata": {},
   "outputs": [],
   "source": [
    "# Add your code here"
   ]
  }
 ],
 "metadata": {
  "jupytext": {
   "text_representation": {
    "extension": ".md",
    "format_name": "myst",
    "format_version": 0.13,
    "jupytext_version": "1.15.2"
   }
  },
  "kernelspec": {
   "display_name": "Python 3",
   "language": "python",
   "name": "python3"
  },
  "language_info": {
   "codemirror_mode": {
    "name": "ipython",
    "version": 3
   },
   "file_extension": ".py",
   "mimetype": "text/x-python",
   "name": "python",
   "nbconvert_exporter": "python",
   "pygments_lexer": "ipython3",
   "version": "3.9.18"
  },
  "source_map": [
   12,
   25,
   29,
   32,
   44,
   46,
   50,
   54,
   56,
   62,
   64,
   70,
   72,
   78
  ]
 },
 "nbformat": 4,
 "nbformat_minor": 5
}
