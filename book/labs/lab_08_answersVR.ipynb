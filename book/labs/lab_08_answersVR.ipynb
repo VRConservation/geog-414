{
 "cells": [
  {
   "cell_type": "code",
   "execution_count": 4,
   "metadata": {},
   "outputs": [],
   "source": [
    "import duckdb\n",
    "import leafmap\n",
    "import pandas as pd"
   ]
  },
  {
   "cell_type": "code",
   "execution_count": 2,
   "metadata": {},
   "outputs": [],
   "source": [
    "import pandas as pd"
   ]
  },
  {
   "cell_type": "code",
   "execution_count": 3,
   "metadata": {},
   "outputs": [
    {
     "name": "stdout",
     "output_type": "stream",
     "text": [
      "Collecting leafmap\n",
      "  Obtaining dependency information for leafmap from https://files.pythonhosted.org/packages/69/c6/c86d40f9495d0647faec2058ef5532e04f040b700c205f4aadeab7fc998d/leafmap-0.27.1-py2.py3-none-any.whl.metadata\n",
      "  Downloading leafmap-0.27.1-py2.py3-none-any.whl.metadata (17 kB)\n",
      "Requirement already satisfied: bqplot in c:\\users\\vance\\anaconda3\\envs\\opencv4\\lib\\site-packages (from leafmap) (0.12.40)\n",
      "Requirement already satisfied: colour in c:\\users\\vance\\anaconda3\\envs\\opencv4\\lib\\site-packages (from leafmap) (0.1.5)\n",
      "Requirement already satisfied: folium in c:\\users\\vance\\anaconda3\\envs\\opencv4\\lib\\site-packages (from leafmap) (0.14.0)\n",
      "Requirement already satisfied: gdown in c:\\users\\vance\\anaconda3\\envs\\opencv4\\lib\\site-packages (from leafmap) (4.7.1)\n",
      "Requirement already satisfied: geojson in c:\\users\\vance\\anaconda3\\envs\\opencv4\\lib\\site-packages (from leafmap) (3.0.1)\n",
      "Requirement already satisfied: ipyevents in c:\\users\\vance\\anaconda3\\envs\\opencv4\\lib\\site-packages (from leafmap) (2.0.2)\n",
      "Requirement already satisfied: ipyfilechooser in c:\\users\\vance\\anaconda3\\envs\\opencv4\\lib\\site-packages (from leafmap) (0.6.0)\n",
      "Requirement already satisfied: ipyleaflet in c:\\users\\vance\\anaconda3\\envs\\opencv4\\lib\\site-packages (from leafmap) (0.17.4)\n",
      "Requirement already satisfied: ipywidgets in c:\\users\\vance\\anaconda3\\envs\\opencv4\\lib\\site-packages (from leafmap) (8.1.1)\n",
      "Requirement already satisfied: matplotlib in c:\\users\\vance\\anaconda3\\envs\\opencv4\\lib\\site-packages (from leafmap) (3.8.0)\n",
      "Requirement already satisfied: numpy in c:\\users\\vance\\anaconda3\\envs\\opencv4\\lib\\site-packages (from leafmap) (1.26.0)\n",
      "Requirement already satisfied: pandas in c:\\users\\vance\\anaconda3\\envs\\opencv4\\lib\\site-packages (from leafmap) (2.1.1)\n",
      "Requirement already satisfied: pyshp in c:\\users\\vance\\anaconda3\\envs\\opencv4\\lib\\site-packages (from leafmap) (2.3.1)\n",
      "Collecting pystac-client (from leafmap)\n",
      "  Obtaining dependency information for pystac-client from https://files.pythonhosted.org/packages/95/57/a9c987b9c9d6c41bbe7050ea5f1ac50c9e50af5c317e6e9122066aeef822/pystac_client-0.7.5-py3-none-any.whl.metadata\n",
      "  Downloading pystac_client-0.7.5-py3-none-any.whl.metadata (5.2 kB)\n",
      "Requirement already satisfied: python-box in c:\\users\\vance\\anaconda3\\envs\\opencv4\\lib\\site-packages (from leafmap) (7.1.1)\n",
      "Requirement already satisfied: scooby in c:\\users\\vance\\anaconda3\\envs\\opencv4\\lib\\site-packages (from leafmap) (0.7.4)\n",
      "Requirement already satisfied: whiteboxgui in c:\\users\\vance\\anaconda3\\envs\\opencv4\\lib\\site-packages (from leafmap) (2.3.0)\n",
      "Requirement already satisfied: xyzservices in c:\\users\\vance\\anaconda3\\envs\\opencv4\\lib\\site-packages (from leafmap) (2023.10.0)\n",
      "Requirement already satisfied: traitlets>=4.3.0 in c:\\users\\vance\\anaconda3\\envs\\opencv4\\lib\\site-packages (from bqplot->leafmap) (5.11.2)\n",
      "Requirement already satisfied: traittypes>=0.0.6 in c:\\users\\vance\\anaconda3\\envs\\opencv4\\lib\\site-packages (from bqplot->leafmap) (0.2.1)\n",
      "Requirement already satisfied: comm>=0.1.3 in c:\\users\\vance\\anaconda3\\envs\\opencv4\\lib\\site-packages (from ipywidgets->leafmap) (0.1.4)\n",
      "Requirement already satisfied: ipython>=6.1.0 in c:\\users\\vance\\anaconda3\\envs\\opencv4\\lib\\site-packages (from ipywidgets->leafmap) (8.16.1)\n",
      "Requirement already satisfied: widgetsnbextension~=4.0.9 in c:\\users\\vance\\anaconda3\\envs\\opencv4\\lib\\site-packages (from ipywidgets->leafmap) (4.0.9)\n",
      "Requirement already satisfied: jupyterlab-widgets~=3.0.9 in c:\\users\\vance\\anaconda3\\envs\\opencv4\\lib\\site-packages (from ipywidgets->leafmap) (3.0.9)\n",
      "Requirement already satisfied: python-dateutil>=2.8.2 in c:\\users\\vance\\anaconda3\\envs\\opencv4\\lib\\site-packages (from pandas->leafmap) (2.8.2)\n",
      "Requirement already satisfied: pytz>=2020.1 in c:\\users\\vance\\anaconda3\\envs\\opencv4\\lib\\site-packages (from pandas->leafmap) (2023.3.post1)\n",
      "Requirement already satisfied: tzdata>=2022.1 in c:\\users\\vance\\anaconda3\\envs\\opencv4\\lib\\site-packages (from pandas->leafmap) (2023.3)\n",
      "Requirement already satisfied: branca>=0.6.0 in c:\\users\\vance\\anaconda3\\envs\\opencv4\\lib\\site-packages (from folium->leafmap) (0.6.0)\n",
      "Requirement already satisfied: jinja2>=2.9 in c:\\users\\vance\\anaconda3\\envs\\opencv4\\lib\\site-packages (from folium->leafmap) (3.1.2)\n",
      "Requirement already satisfied: requests in c:\\users\\vance\\anaconda3\\envs\\opencv4\\lib\\site-packages (from folium->leafmap) (2.31.0)\n",
      "Requirement already satisfied: filelock in c:\\users\\vance\\anaconda3\\envs\\opencv4\\lib\\site-packages (from gdown->leafmap) (3.12.4)\n",
      "Requirement already satisfied: six in c:\\users\\vance\\anaconda3\\envs\\opencv4\\lib\\site-packages (from gdown->leafmap) (1.16.0)\n",
      "Requirement already satisfied: tqdm in c:\\users\\vance\\anaconda3\\envs\\opencv4\\lib\\site-packages (from gdown->leafmap) (4.66.1)\n",
      "Requirement already satisfied: beautifulsoup4 in c:\\users\\vance\\anaconda3\\envs\\opencv4\\lib\\site-packages (from gdown->leafmap) (4.12.2)\n",
      "Requirement already satisfied: contourpy>=1.0.1 in c:\\users\\vance\\anaconda3\\envs\\opencv4\\lib\\site-packages (from matplotlib->leafmap) (1.1.1)\n",
      "Requirement already satisfied: cycler>=0.10 in c:\\users\\vance\\anaconda3\\envs\\opencv4\\lib\\site-packages (from matplotlib->leafmap) (0.12.1)\n",
      "Requirement already satisfied: fonttools>=4.22.0 in c:\\users\\vance\\anaconda3\\envs\\opencv4\\lib\\site-packages (from matplotlib->leafmap) (4.43.1)\n",
      "Requirement already satisfied: kiwisolver>=1.0.1 in c:\\users\\vance\\anaconda3\\envs\\opencv4\\lib\\site-packages (from matplotlib->leafmap) (1.4.5)\n",
      "Requirement already satisfied: packaging>=20.0 in c:\\users\\vance\\anaconda3\\envs\\opencv4\\lib\\site-packages (from matplotlib->leafmap) (23.2)\n",
      "Requirement already satisfied: pillow>=6.2.0 in c:\\users\\vance\\anaconda3\\envs\\opencv4\\lib\\site-packages (from matplotlib->leafmap) (9.4.0)\n",
      "Requirement already satisfied: pyparsing>=2.3.1 in c:\\users\\vance\\anaconda3\\envs\\opencv4\\lib\\site-packages (from matplotlib->leafmap) (3.1.1)\n",
      "Collecting pystac[validation]>=1.8.2 (from pystac-client->leafmap)\n",
      "  Obtaining dependency information for pystac[validation]>=1.8.2 from https://files.pythonhosted.org/packages/2a/34/190016e443ff35ed24efacc810b0ae5d770022e8d3fb460608c0764f6c6d/pystac-1.9.0-py3-none-any.whl.metadata\n",
      "  Downloading pystac-1.9.0-py3-none-any.whl.metadata (6.4 kB)\n",
      "Requirement already satisfied: ipytree in c:\\users\\vance\\anaconda3\\envs\\opencv4\\lib\\site-packages (from whiteboxgui->leafmap) (0.2.2)\n",
      "Requirement already satisfied: whitebox in c:\\users\\vance\\anaconda3\\envs\\opencv4\\lib\\site-packages (from whiteboxgui->leafmap) (2.3.1)\n",
      "Requirement already satisfied: backcall in c:\\users\\vance\\anaconda3\\envs\\opencv4\\lib\\site-packages (from ipython>=6.1.0->ipywidgets->leafmap) (0.2.0)\n",
      "Requirement already satisfied: decorator in c:\\users\\vance\\anaconda3\\envs\\opencv4\\lib\\site-packages (from ipython>=6.1.0->ipywidgets->leafmap) (5.1.1)\n",
      "Requirement already satisfied: jedi>=0.16 in c:\\users\\vance\\anaconda3\\envs\\opencv4\\lib\\site-packages (from ipython>=6.1.0->ipywidgets->leafmap) (0.19.1)\n",
      "Requirement already satisfied: matplotlib-inline in c:\\users\\vance\\anaconda3\\envs\\opencv4\\lib\\site-packages (from ipython>=6.1.0->ipywidgets->leafmap) (0.1.6)\n",
      "Requirement already satisfied: pickleshare in c:\\users\\vance\\anaconda3\\envs\\opencv4\\lib\\site-packages (from ipython>=6.1.0->ipywidgets->leafmap) (0.7.5)\n",
      "Requirement already satisfied: prompt-toolkit!=3.0.37,<3.1.0,>=3.0.30 in c:\\users\\vance\\anaconda3\\envs\\opencv4\\lib\\site-packages (from ipython>=6.1.0->ipywidgets->leafmap) (3.0.39)\n",
      "Requirement already satisfied: pygments>=2.4.0 in c:\\users\\vance\\anaconda3\\envs\\opencv4\\lib\\site-packages (from ipython>=6.1.0->ipywidgets->leafmap) (2.16.1)\n",
      "Requirement already satisfied: stack-data in c:\\users\\vance\\anaconda3\\envs\\opencv4\\lib\\site-packages (from ipython>=6.1.0->ipywidgets->leafmap) (0.6.2)\n",
      "Requirement already satisfied: colorama in c:\\users\\vance\\anaconda3\\envs\\opencv4\\lib\\site-packages (from ipython>=6.1.0->ipywidgets->leafmap) (0.4.6)\n",
      "Requirement already satisfied: MarkupSafe>=2.0 in c:\\users\\vance\\anaconda3\\envs\\opencv4\\lib\\site-packages (from jinja2>=2.9->folium->leafmap) (2.1.3)\n",
      "Requirement already satisfied: jsonschema~=4.18 in c:\\users\\vance\\anaconda3\\envs\\opencv4\\lib\\site-packages (from pystac[validation]>=1.8.2->pystac-client->leafmap) (4.19.1)\n",
      "Requirement already satisfied: charset-normalizer<4,>=2 in c:\\users\\vance\\anaconda3\\envs\\opencv4\\lib\\site-packages (from requests->folium->leafmap) (3.3.0)\n",
      "Requirement already satisfied: idna<4,>=2.5 in c:\\users\\vance\\anaconda3\\envs\\opencv4\\lib\\site-packages (from requests->folium->leafmap) (3.4)\n",
      "Requirement already satisfied: urllib3<3,>=1.21.1 in c:\\users\\vance\\anaconda3\\envs\\opencv4\\lib\\site-packages (from requests->folium->leafmap) (2.0.6)\n",
      "Requirement already satisfied: certifi>=2017.4.17 in c:\\users\\vance\\anaconda3\\envs\\opencv4\\lib\\site-packages (from requests->folium->leafmap) (2023.7.22)\n",
      "Requirement already satisfied: soupsieve>1.2 in c:\\users\\vance\\anaconda3\\envs\\opencv4\\lib\\site-packages (from beautifulsoup4->gdown->leafmap) (2.5)\n",
      "Requirement already satisfied: PySocks!=1.5.7,>=1.5.6 in c:\\users\\vance\\anaconda3\\envs\\opencv4\\lib\\site-packages (from requests->folium->leafmap) (1.7.1)\n",
      "Requirement already satisfied: Click>=6.0 in c:\\users\\vance\\anaconda3\\envs\\opencv4\\lib\\site-packages (from whitebox->whiteboxgui->leafmap) (8.1.7)\n",
      "Requirement already satisfied: parso<0.9.0,>=0.8.3 in c:\\users\\vance\\anaconda3\\envs\\opencv4\\lib\\site-packages (from jedi>=0.16->ipython>=6.1.0->ipywidgets->leafmap) (0.8.3)\n",
      "Requirement already satisfied: attrs>=22.2.0 in c:\\users\\vance\\anaconda3\\envs\\opencv4\\lib\\site-packages (from jsonschema~=4.18->pystac[validation]>=1.8.2->pystac-client->leafmap) (23.1.0)\n",
      "Requirement already satisfied: jsonschema-specifications>=2023.03.6 in c:\\users\\vance\\anaconda3\\envs\\opencv4\\lib\\site-packages (from jsonschema~=4.18->pystac[validation]>=1.8.2->pystac-client->leafmap) (2023.7.1)\n",
      "Requirement already satisfied: referencing>=0.28.4 in c:\\users\\vance\\anaconda3\\envs\\opencv4\\lib\\site-packages (from jsonschema~=4.18->pystac[validation]>=1.8.2->pystac-client->leafmap) (0.30.2)\n",
      "Requirement already satisfied: rpds-py>=0.7.1 in c:\\users\\vance\\anaconda3\\envs\\opencv4\\lib\\site-packages (from jsonschema~=4.18->pystac[validation]>=1.8.2->pystac-client->leafmap) (0.10.6)\n",
      "Requirement already satisfied: wcwidth in c:\\users\\vance\\anaconda3\\envs\\opencv4\\lib\\site-packages (from prompt-toolkit!=3.0.37,<3.1.0,>=3.0.30->ipython>=6.1.0->ipywidgets->leafmap) (0.2.8)\n",
      "Requirement already satisfied: executing>=1.2.0 in c:\\users\\vance\\anaconda3\\envs\\opencv4\\lib\\site-packages (from stack-data->ipython>=6.1.0->ipywidgets->leafmap) (1.2.0)\n",
      "Requirement already satisfied: asttokens>=2.1.0 in c:\\users\\vance\\anaconda3\\envs\\opencv4\\lib\\site-packages (from stack-data->ipython>=6.1.0->ipywidgets->leafmap) (2.4.0)\n",
      "Requirement already satisfied: pure-eval in c:\\users\\vance\\anaconda3\\envs\\opencv4\\lib\\site-packages (from stack-data->ipython>=6.1.0->ipywidgets->leafmap) (0.2.2)\n",
      "Downloading leafmap-0.27.1-py2.py3-none-any.whl (1.8 MB)\n",
      "   ---------------------------------------- 0.0/1.8 MB ? eta -:--:--\n",
      "   - -------------------------------------- 0.1/1.8 MB 4.8 MB/s eta 0:00:01\n",
      "   --------------------- ------------------ 1.0/1.8 MB 15.2 MB/s eta 0:00:01\n",
      "   ---------------------------------------  1.8/1.8 MB 19.0 MB/s eta 0:00:01\n",
      "   ---------------------------------------- 1.8/1.8 MB 16.3 MB/s eta 0:00:00\n",
      "Downloading pystac_client-0.7.5-py3-none-any.whl (33 kB)\n",
      "Downloading pystac-1.9.0-py3-none-any.whl (181 kB)\n",
      "   ---------------------------------------- 0.0/181.6 kB ? eta -:--:--\n",
      "   ---------------------------------------- 181.6/181.6 kB ? eta 0:00:00\n",
      "Installing collected packages: pystac, pystac-client, leafmap\n",
      "Successfully installed leafmap-0.27.1 pystac-1.9.0 pystac-client-0.7.5\n",
      "Note: you may need to restart the kernel to use updated packages.\n"
     ]
    }
   ],
   "source": [
    "pip install leafmap"
   ]
  },
  {
   "cell_type": "code",
   "execution_count": 2,
   "metadata": {},
   "outputs": [],
   "source": [
    "import leafmap"
   ]
  },
  {
   "cell_type": "code",
   "execution_count": 5,
   "metadata": {},
   "outputs": [],
   "source": [
    "con = duckdb.connect()\n",
    "con.install_extension(\"httpfs\")\n",
    "con.load_extension(\"httpfs\")\n",
    "con.install_extension(\"spatial\")\n",
    "con.load_extension(\"spatial\")"
   ]
  },
  {
   "cell_type": "markdown",
   "metadata": {},
   "source": [
    "### Question 1 create neighborhood and subway station tables"
   ]
  },
  {
   "cell_type": "code",
   "execution_count": 10,
   "metadata": {},
   "outputs": [
    {
     "data": {
      "text/plain": [
       "┌───────────────┬──────────────────────────┐\n",
       "│    column0    │         column1          │\n",
       "│    varchar    │         varchar          │\n",
       "├───────────────┼──────────────────────────┤\n",
       "│ BORONAME      │ NAME                     │\n",
       "│ Brooklyn      │ Bensonhurst              │\n",
       "│ Manhattan     │ East Village             │\n",
       "│ Manhattan     │ West Village             │\n",
       "│ The Bronx     │ Throggs Neck             │\n",
       "│ The Bronx     │ Wakefield-Williamsbridge │\n",
       "│ Queens        │ Auburndale               │\n",
       "│ Manhattan     │ Battery Park             │\n",
       "│ Manhattan     │ Carnegie Hill            │\n",
       "│ Staten Island │ Mariners Harbor          │\n",
       "│     ·         │     ·                    │\n",
       "│     ·         │     ·                    │\n",
       "│     ·         │     ·                    │\n",
       "│ Manhattan     │ Yorkville                │\n",
       "│ Manhattan     │ Chinatown                │\n",
       "│ Queens        │ Bayside                  │\n",
       "│ Brooklyn      │ Coney Island             │\n",
       "│ Queens        │ Corona                   │\n",
       "│ Brooklyn      │ Red Hook                 │\n",
       "│ Queens        │ Douglastown-Little Neck  │\n",
       "│ Queens        │ Whitestone               │\n",
       "│ Queens        │ Steinway                 │\n",
       "│ Staten Island │ Rosebank                 │\n",
       "├───────────────┴──────────────────────────┤\n",
       "│ 130 rows (20 shown)            2 columns │\n",
       "└──────────────────────────────────────────┘"
      ]
     },
     "execution_count": 10,
     "metadata": {},
     "output_type": "execute_result"
    }
   ],
   "source": [
    "con.read_csv('C:/Users/vance/Downloads/geog-414/book/labs/nyc_neighborhoods.tsv')"
   ]
  },
  {
   "cell_type": "code",
   "execution_count": 11,
   "metadata": {},
   "outputs": [
    {
     "data": {
      "text/plain": [
       "┌──────────┬────────┬───────────────────┬─────────────────┬───┬───────────┬──────────────┬─────────┬─────────┐\n",
       "│ OBJECTID │   ID   │       NAME        │    ALT_NAME     │ … │ TRANSFERS │    COLOR     │ EXPRESS │ CLOSED  │\n",
       "│  int64   │ double │      varchar      │     varchar     │   │  varchar  │   varchar    │ varchar │ varchar │\n",
       "├──────────┼────────┼───────────────────┼─────────────────┼───┼───────────┼──────────────┼─────────┼─────────┤\n",
       "│        1 │  376.0 │ Cortlandt St      │ NULL            │ … │ R,W       │ YELLOW       │ NULL    │ NULL    │\n",
       "│        2 │    2.0 │ Rector St         │ NULL            │ … │ 1         │ RED          │ NULL    │ NULL    │\n",
       "│        3 │    1.0 │ South Ferry       │ NULL            │ … │ 1         │ RED          │ NULL    │ NULL    │\n",
       "│        4 │  125.0 │ 138th St          │ Grand Concourse │ … │ 4,5       │ GREEN        │ NULL    │ NULL    │\n",
       "│        5 │  126.0 │ 149th St          │ Grand Concourse │ … │ 2,4,5     │ GREEN        │ express │ NULL    │\n",
       "│        6 │   45.0 │ 149th St          │ Grand Concourse │ … │ 2,4,5     │ RED-GREEN    │ express │ NULL    │\n",
       "│        7 │  127.0 │ 161st St          │ Yankee Stadium  │ … │ B,D,4     │ GREEN-ORANGE │ NULL    │ NULL    │\n",
       "│        8 │  208.0 │ 167th St          │ NULL            │ … │ B,D       │ ORANGE       │ NULL    │ NULL    │\n",
       "│        9 │  128.0 │ 167th St          │ NULL            │ … │ 4         │ GREEN        │ NULL    │ NULL    │\n",
       "│       10 │  209.0 │ 170th St          │ NULL            │ … │ B,D       │ ORANGE       │ NULL    │ NULL    │\n",
       "│        · │    ·   │    ·              │  ·              │ · │  ·        │   ·          │  ·      │  ·      │\n",
       "│        · │    ·   │    ·              │  ·              │ · │  ·        │   ·          │  ·      │  ·      │\n",
       "│        · │    ·   │    ·              │  ·              │ · │  ·        │   ·          │  ·      │  ·      │\n",
       "│      482 │  904.0 │ JFK Terminal 1    │ NULL            │ … │ NULL      │ AIR-BLUE     │ NULL    │ NULL    │\n",
       "│      483 │  905.0 │ JFK Terminal 2-3  │ NULL            │ … │ NULL      │ AIR-BLUE     │ NULL    │ NULL    │\n",
       "│      484 │  906.0 │ JFK Terminal 4    │ NULL            │ … │ NULL      │ AIR-BLUE     │ NULL    │ NULL    │\n",
       "│      485 │  907.0 │ JFK Terminal 5-6  │ NULL            │ … │ NULL      │ AIR-BLUE     │ NULL    │ NULL    │\n",
       "│      486 │  908.0 │ JFK Terminal 7    │ NULL            │ … │ NULL      │ AIR-BLUE     │ NULL    │ NULL    │\n",
       "│      487 │  909.0 │ JFK Terminal 8    │ NULL            │ … │ NULL      │ AIR-BLUE     │ NULL    │ NULL    │\n",
       "│      488 │  903.0 │ Federal Circle    │ Rental Car      │ … │ NULL      │ AIR-BLUE     │ NULL    │ NULL    │\n",
       "│      489 │  902.0 │ Long Term Parking │ NULL            │ … │ NULL      │ AIR-BLUE     │ NULL    │ NULL    │\n",
       "│      490 │  901.0 │ Howard Beach      │ NULL            │ … │ A         │ AIR-BLUE     │ NULL    │ NULL    │\n",
       "│      491 │  900.0 │ Jamaica           │ Sutphin Blvd    │ … │ E,J,Z     │ AIR-BLUE     │ NULL    │ NULL    │\n",
       "├──────────┴────────┴───────────────────┴─────────────────┴───┴───────────┴──────────────┴─────────┴─────────┤\n",
       "│ 491 rows (20 shown)                                                                   14 columns (8 shown) │\n",
       "└────────────────────────────────────────────────────────────────────────────────────────────────────────────┘"
      ]
     },
     "execution_count": 11,
     "metadata": {},
     "output_type": "execute_result"
    }
   ],
   "source": [
    "con.read_csv('C:/Users/vance/Downloads/geog-414/book/labs/nyc_subway_stations.tsv')"
   ]
  },
  {
   "cell_type": "code",
   "execution_count": 14,
   "metadata": {},
   "outputs": [
    {
     "data": {
      "text/html": [
       "<div>\n",
       "<style scoped>\n",
       "    .dataframe tbody tr th:only-of-type {\n",
       "        vertical-align: middle;\n",
       "    }\n",
       "\n",
       "    .dataframe tbody tr th {\n",
       "        vertical-align: top;\n",
       "    }\n",
       "\n",
       "    .dataframe thead th {\n",
       "        text-align: right;\n",
       "    }\n",
       "</style>\n",
       "<table border=\"1\" class=\"dataframe\">\n",
       "  <thead>\n",
       "    <tr style=\"text-align: right;\">\n",
       "      <th></th>\n",
       "      <th>column0</th>\n",
       "      <th>column1</th>\n",
       "    </tr>\n",
       "  </thead>\n",
       "  <tbody>\n",
       "    <tr>\n",
       "      <th>0</th>\n",
       "      <td>BORONAME</td>\n",
       "      <td>NAME</td>\n",
       "    </tr>\n",
       "    <tr>\n",
       "      <th>1</th>\n",
       "      <td>Brooklyn</td>\n",
       "      <td>Bensonhurst</td>\n",
       "    </tr>\n",
       "    <tr>\n",
       "      <th>2</th>\n",
       "      <td>Manhattan</td>\n",
       "      <td>East Village</td>\n",
       "    </tr>\n",
       "    <tr>\n",
       "      <th>3</th>\n",
       "      <td>Manhattan</td>\n",
       "      <td>West Village</td>\n",
       "    </tr>\n",
       "    <tr>\n",
       "      <th>4</th>\n",
       "      <td>The Bronx</td>\n",
       "      <td>Throggs Neck</td>\n",
       "    </tr>\n",
       "  </tbody>\n",
       "</table>\n",
       "</div>"
      ],
      "text/plain": [
       "     column0       column1\n",
       "0   BORONAME          NAME\n",
       "1   Brooklyn   Bensonhurst\n",
       "2  Manhattan  East Village\n",
       "3  Manhattan  West Village\n",
       "4  The Bronx  Throggs Neck"
      ]
     },
     "execution_count": 14,
     "metadata": {},
     "output_type": "execute_result"
    }
   ],
   "source": [
    "hoods = con.read_csv('C:/Users/vance/Downloads/geog-414/book/labs/nyc_neighborhoods.tsv').df()\n",
    "hoods.head()"
   ]
  },
  {
   "cell_type": "code",
   "execution_count": 11,
   "metadata": {},
   "outputs": [
    {
     "data": {
      "text/html": [
       "<div>\n",
       "<style scoped>\n",
       "    .dataframe tbody tr th:only-of-type {\n",
       "        vertical-align: middle;\n",
       "    }\n",
       "\n",
       "    .dataframe tbody tr th {\n",
       "        vertical-align: top;\n",
       "    }\n",
       "\n",
       "    .dataframe thead th {\n",
       "        text-align: right;\n",
       "    }\n",
       "</style>\n",
       "<table border=\"1\" class=\"dataframe\">\n",
       "  <thead>\n",
       "    <tr style=\"text-align: right;\">\n",
       "      <th></th>\n",
       "      <th>OBJECTID</th>\n",
       "      <th>ID</th>\n",
       "      <th>NAME</th>\n",
       "      <th>ALT_NAME</th>\n",
       "      <th>CROSS_ST</th>\n",
       "      <th>LONG_NAME</th>\n",
       "      <th>LABEL</th>\n",
       "      <th>BOROUGH</th>\n",
       "      <th>NGHBHD</th>\n",
       "      <th>ROUTES</th>\n",
       "      <th>TRANSFERS</th>\n",
       "      <th>COLOR</th>\n",
       "      <th>EXPRESS</th>\n",
       "      <th>CLOSED</th>\n",
       "    </tr>\n",
       "  </thead>\n",
       "  <tbody>\n",
       "    <tr>\n",
       "      <th>0</th>\n",
       "      <td>1</td>\n",
       "      <td>376.0</td>\n",
       "      <td>Cortlandt St</td>\n",
       "      <td>None</td>\n",
       "      <td>Church St</td>\n",
       "      <td>Cortlandt St (R,W) Manhattan</td>\n",
       "      <td>Cortlandt St (R,W)</td>\n",
       "      <td>Manhattan</td>\n",
       "      <td>None</td>\n",
       "      <td>R,W</td>\n",
       "      <td>R,W</td>\n",
       "      <td>YELLOW</td>\n",
       "      <td>None</td>\n",
       "      <td>None</td>\n",
       "    </tr>\n",
       "    <tr>\n",
       "      <th>1</th>\n",
       "      <td>2</td>\n",
       "      <td>2.0</td>\n",
       "      <td>Rector St</td>\n",
       "      <td>None</td>\n",
       "      <td>None</td>\n",
       "      <td>Rector St (1) Manhattan</td>\n",
       "      <td>Rector St (1)</td>\n",
       "      <td>Manhattan</td>\n",
       "      <td>None</td>\n",
       "      <td>1</td>\n",
       "      <td>1</td>\n",
       "      <td>RED</td>\n",
       "      <td>None</td>\n",
       "      <td>None</td>\n",
       "    </tr>\n",
       "    <tr>\n",
       "      <th>2</th>\n",
       "      <td>3</td>\n",
       "      <td>1.0</td>\n",
       "      <td>South Ferry</td>\n",
       "      <td>None</td>\n",
       "      <td>None</td>\n",
       "      <td>South Ferry (1) Manhattan</td>\n",
       "      <td>South Ferry (1)</td>\n",
       "      <td>Manhattan</td>\n",
       "      <td>None</td>\n",
       "      <td>1</td>\n",
       "      <td>1</td>\n",
       "      <td>RED</td>\n",
       "      <td>None</td>\n",
       "      <td>None</td>\n",
       "    </tr>\n",
       "    <tr>\n",
       "      <th>3</th>\n",
       "      <td>4</td>\n",
       "      <td>125.0</td>\n",
       "      <td>138th St</td>\n",
       "      <td>Grand Concourse</td>\n",
       "      <td>Grand Concourse</td>\n",
       "      <td>138th St / Grand Concourse (4,5) Bronx</td>\n",
       "      <td>138th St / Grand Concourse (4,5)</td>\n",
       "      <td>Bronx</td>\n",
       "      <td>None</td>\n",
       "      <td>4,5</td>\n",
       "      <td>4,5</td>\n",
       "      <td>GREEN</td>\n",
       "      <td>None</td>\n",
       "      <td>None</td>\n",
       "    </tr>\n",
       "    <tr>\n",
       "      <th>4</th>\n",
       "      <td>5</td>\n",
       "      <td>126.0</td>\n",
       "      <td>149th St</td>\n",
       "      <td>Grand Concourse</td>\n",
       "      <td>Grand Concourse</td>\n",
       "      <td>149th St / Grand Concourse (4) Bronx</td>\n",
       "      <td>149th St / Grand Concourse (4)</td>\n",
       "      <td>Bronx</td>\n",
       "      <td>None</td>\n",
       "      <td>4</td>\n",
       "      <td>2,4,5</td>\n",
       "      <td>GREEN</td>\n",
       "      <td>express</td>\n",
       "      <td>None</td>\n",
       "    </tr>\n",
       "  </tbody>\n",
       "</table>\n",
       "</div>"
      ],
      "text/plain": [
       "   OBJECTID     ID          NAME         ALT_NAME         CROSS_ST  \\\n",
       "0         1  376.0  Cortlandt St             None        Church St   \n",
       "1         2    2.0     Rector St             None             None   \n",
       "2         3    1.0   South Ferry             None             None   \n",
       "3         4  125.0      138th St  Grand Concourse  Grand Concourse   \n",
       "4         5  126.0      149th St  Grand Concourse  Grand Concourse   \n",
       "\n",
       "                                LONG_NAME                             LABEL  \\\n",
       "0            Cortlandt St (R,W) Manhattan                Cortlandt St (R,W)   \n",
       "1                 Rector St (1) Manhattan                     Rector St (1)   \n",
       "2               South Ferry (1) Manhattan                   South Ferry (1)   \n",
       "3  138th St / Grand Concourse (4,5) Bronx  138th St / Grand Concourse (4,5)   \n",
       "4    149th St / Grand Concourse (4) Bronx    149th St / Grand Concourse (4)   \n",
       "\n",
       "     BOROUGH NGHBHD ROUTES TRANSFERS   COLOR  EXPRESS CLOSED  \n",
       "0  Manhattan   None    R,W       R,W  YELLOW     None   None  \n",
       "1  Manhattan   None      1         1     RED     None   None  \n",
       "2  Manhattan   None      1         1     RED     None   None  \n",
       "3      Bronx   None    4,5       4,5   GREEN     None   None  \n",
       "4      Bronx   None      4     2,4,5   GREEN  express   None  "
      ]
     },
     "execution_count": 11,
     "metadata": {},
     "output_type": "execute_result"
    }
   ],
   "source": [
    "stations = con.read_csv('C:/Users/vance/Downloads/geog-414/book/labs/nyc_subway_stations.tsv').df()\n",
    "stations.head()"
   ]
  },
  {
   "cell_type": "code",
   "execution_count": 14,
   "metadata": {},
   "outputs": [
    {
     "ename": "SyntaxError",
     "evalue": "unterminated string literal (detected at line 1) (2395479105.py, line 1)",
     "output_type": "error",
     "traceback": [
      "\u001b[1;36m  Cell \u001b[1;32mIn[14], line 1\u001b[1;36m\u001b[0m\n\u001b[1;33m    con.sql('CREATE TABLE stations AS SELECT * FROM read_csv('C:/Users/vance/Downloads/geog-414/book/labs/nyc_subway_stations.tsv'))\u001b[0m\n\u001b[1;37m                                                                                                                                 ^\u001b[0m\n\u001b[1;31mSyntaxError\u001b[0m\u001b[1;31m:\u001b[0m unterminated string literal (detected at line 1)\n"
     ]
    }
   ],
   "source": [
    "con.sql('CREATE TABLE stations AS SELECT * FROM read_csv('C:/Users/vance/Downloads/geog-414/book/labs/nyc_subway_stations.tsv'))"
   ]
  },
  {
   "cell_type": "markdown",
   "metadata": {},
   "source": [
    "### Question 2\n",
    "Write a SQL query to display the `ID`, `NAME`, and `BOROUGH` of each subway station in the `nyc_subway_stations` dataset."
   ]
  },
  {
   "cell_type": "code",
   "execution_count": 7,
   "metadata": {},
   "outputs": [
    {
     "ename": "BinderException",
     "evalue": "Binder Error: Referenced column \"stations\" not found in FROM clause!",
     "output_type": "error",
     "traceback": [
      "\u001b[1;31m---------------------------------------------------------------------------\u001b[0m",
      "\u001b[1;31mBinderException\u001b[0m                           Traceback (most recent call last)",
      "\u001b[1;32mc:\\Users\\vance\\Downloads\\geog-414\\book\\duckdb\\lab_08_answersVR.ipynb Cell 12\u001b[0m line \u001b[0;36m1\n\u001b[1;32m----> <a href='vscode-notebook-cell:/c%3A/Users/vance/Downloads/geog-414/book/duckdb/lab_08_answersVR.ipynb#W0sZmlsZQ%3D%3D?line=0'>1</a>\u001b[0m con\u001b[39m.\u001b[39;49msql(\u001b[39m'\u001b[39;49m\u001b[39mSELECT stations\u001b[39;49m\u001b[39m'\u001b[39;49m)\u001b[39m.\u001b[39mshow()\n",
      "\u001b[1;31mBinderException\u001b[0m: Binder Error: Referenced column \"stations\" not found in FROM clause!"
     ]
    }
   ],
   "source": []
  },
  {
   "cell_type": "code",
   "execution_count": null,
   "metadata": {},
   "outputs": [],
   "source": []
  }
 ],
 "metadata": {
  "kernelspec": {
   "display_name": "opencv4",
   "language": "python",
   "name": "python3"
  },
  "language_info": {
   "codemirror_mode": {
    "name": "ipython",
    "version": 3
   },
   "file_extension": ".py",
   "mimetype": "text/x-python",
   "name": "python",
   "nbconvert_exporter": "python",
   "pygments_lexer": "ipython3",
   "version": "3.11.6"
  }
 },
 "nbformat": 4,
 "nbformat_minor": 2
}
