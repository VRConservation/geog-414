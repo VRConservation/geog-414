{
 "cells": [
  {
   "cell_type": "markdown",
   "metadata": {},
   "source": [
    "# FINAL PROJECT\n",
    "**Vance Russell** /\n",
    "December 2023"
   ]
  },
  {
   "cell_type": "markdown",
   "metadata": {},
   "source": [
    "## INTRODUCTION\n",
    "I wanted to visualize and analyze age of tree stands in Canada using Geemap and the dataset [CA Forest Age](https://opendata.nfis.org/mapserver/nfis-change_eng.html) from Canada's national forest inventory system. The dataset is quite large (14gb) so viewing and analyzig via geemap is propitious.\n",
    "## DATA SOURCES\n",
    "The raster dataset comes from the Canadian NFIS and is called 'projects/sat-io/open-datasets/CA_FOREST/CA_forest_age_2019'. A number of additional datasets in this collection are quite interesting such as the leading tree species, basal area, and above ground biomass. I added the Hansen tree loss image collection to this analysis. **Fire datasets??**\n",
    "## Analysis\n",
    "The Hansen dataset helped to analyze where there was a correlation between forest loss and age. Running a linear regression of loss vs. age. I also summed descriptive statistics for forest across the western range of Canadian forests and looked at fires from 1985-2020 and CA wildfire dnbr to see if any relationships exist between age and fire. The analysis steps are annotated with comments at the beginning of each code block and then interprested in the Output section of the project\n"
   ]
  },
  {
   "cell_type": "markdown",
   "metadata": {},
   "source": []
  }
 ],
 "metadata": {
  "language_info": {
   "name": "python"
  }
 },
 "nbformat": 4,
 "nbformat_minor": 2
}
