{
 "cells": [
  {
   "cell_type": "markdown",
   "metadata": {},
   "source": [
    "# Submission Instructions\n",
    "\n",
    "<iframe src=\"https://docs.google.com/document/d/e/2PACX-1vS0ekcPxTVTu16zHVyvXonVuGfarnUq7ZRib1vnswoDkSRKQB-qxbk9vbkPgTIuG0wvtApmob3m3Dmh/pub?embedded=true\" width=\"100%\" height=800></iframe>"
   ]
  }
 ],
 "metadata": {
  "kernelspec": {
   "display_name": "Python 3",
   "language": "python",
   "name": "python3"
  }
 },
 "nbformat": 4,
 "nbformat_minor": 5
}
