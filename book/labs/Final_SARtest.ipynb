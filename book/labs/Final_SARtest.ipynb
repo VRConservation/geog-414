{
 "cells": [
  {
   "cell_type": "code",
   "execution_count": 1,
   "metadata": {},
   "outputs": [
    {
     "data": {
      "application/vnd.jupyter.widget-view+json": {
       "model_id": "4bc53fe3beb444609230e8e390172d47",
       "version_major": 2,
       "version_minor": 0
      },
      "text/plain": [
       "Map(center=[0, 0], controls=(WidgetControl(options=['position', 'transparent_bg'], widget=SearchDataGUI(childr…"
      ]
     },
     "execution_count": 1,
     "metadata": {},
     "output_type": "execute_result"
    }
   ],
   "source": [
    "# Flood area mapping with SAR. From article: https:#medium.com/@geonextgis/the-power-of-sar-data-and-google-earth-engine-in-flood-area-mapping-0a148df4c43b\n",
    "# Import geemap\n",
    "import ee\n",
    "import geemap\n",
    "Map = geemap.Map()\n",
    "Map"
   ]
  },
  {
   "cell_type": "code",
   "execution_count": 2,
   "metadata": {},
   "outputs": [
    {
     "data": {
      "text/html": [
       "\n",
       "            <style>\n",
       "                .geemap-dark {\n",
       "                    --jp-widgets-color: white;\n",
       "                    --jp-widgets-label-color: white;\n",
       "                    --jp-ui-font-color1: white;\n",
       "                    --jp-layout-color2: #454545;\n",
       "                    background-color: #383838;\n",
       "                }\n",
       "                    \n",
       "                .geemap-dark .jupyter-button {\n",
       "                    --jp-layout-color3: #383838;\n",
       "                }\n",
       "                \n",
       "                .geemap-colab {\n",
       "                    background-color: var(--colab-primary-surface-color, white);\n",
       "                }\n",
       "                    \n",
       "                .geemap-colab .jupyter-button {\n",
       "                    --jp-layout-color3: var(--colab-primary-surface-color, white);\n",
       "                }\n",
       "            </style>\n",
       "            "
      ],
      "text/plain": [
       "<IPython.core.display.HTML object>"
      ]
     },
     "metadata": {},
     "output_type": "display_data"
    }
   ],
   "source": [
    "# Step 1. Import datasets\n",
    "roi = ee.FeatureCollection(\"users/geonextgis/Maldah_Projected\")\n",
    "gsw = ee.Image(\"JRC/GSW1_4/GlobalSurfaceWater\")\n",
    "srtm = ee.Image(\"USGS/SRTMGL1_003\")"
   ]
  },
  {
   "cell_type": "code",
   "execution_count": 3,
   "metadata": {},
   "outputs": [
    {
     "data": {
      "text/html": [
       "\n",
       "            <style>\n",
       "                .geemap-dark {\n",
       "                    --jp-widgets-color: white;\n",
       "                    --jp-widgets-label-color: white;\n",
       "                    --jp-ui-font-color1: white;\n",
       "                    --jp-layout-color2: #454545;\n",
       "                    background-color: #383838;\n",
       "                }\n",
       "                    \n",
       "                .geemap-dark .jupyter-button {\n",
       "                    --jp-layout-color3: #383838;\n",
       "                }\n",
       "                \n",
       "                .geemap-colab {\n",
       "                    background-color: var(--colab-primary-surface-color, white);\n",
       "                }\n",
       "                    \n",
       "                .geemap-colab .jupyter-button {\n",
       "                    --jp-layout-color3: var(--colab-primary-surface-color, white);\n",
       "                }\n",
       "            </style>\n",
       "            "
      ],
      "text/plain": [
       "<IPython.core.display.HTML object>"
      ]
     },
     "metadata": {},
     "output_type": "display_data"
    }
   ],
   "source": [
    "# Step 2. Display the Region of Interest\n",
    "roi_style = {\n",
    "  'color': \"red\",\n",
    "  'fillColor': \"00000000\",\n",
    "  'width': 1.5\n",
    "}\n",
    "Map.addLayer(roi.style(**roi_style), {}, \"Region of Interest\")\n",
    "Map.centerObject(roi, 10)"
   ]
  },
  {
   "cell_type": "code",
   "execution_count": 4,
   "metadata": {},
   "outputs": [
    {
     "data": {
      "text/html": [
       "\n",
       "            <style>\n",
       "                .geemap-dark {\n",
       "                    --jp-widgets-color: white;\n",
       "                    --jp-widgets-label-color: white;\n",
       "                    --jp-ui-font-color1: white;\n",
       "                    --jp-layout-color2: #454545;\n",
       "                    background-color: #383838;\n",
       "                }\n",
       "                    \n",
       "                .geemap-dark .jupyter-button {\n",
       "                    --jp-layout-color3: #383838;\n",
       "                }\n",
       "                \n",
       "                .geemap-colab {\n",
       "                    background-color: var(--colab-primary-surface-color, white);\n",
       "                }\n",
       "                    \n",
       "                .geemap-colab .jupyter-button {\n",
       "                    --jp-layout-color3: var(--colab-primary-surface-color, white);\n",
       "                }\n",
       "            </style>\n",
       "            "
      ],
      "text/plain": [
       "<IPython.core.display.HTML object>"
      ]
     },
     "metadata": {},
     "output_type": "display_data"
    }
   ],
   "source": [
    "# Step 3. Prep Sentinel-1 SAR GRD Imagery\n",
    "# On 12 August 2021, severe floods affected the Maldah district of West Bengal.\n",
    "# At least 30 villages in Malda district were inundated.\n",
    "\n",
    "# Select images by predefined dates\n",
    "beforeStart = \"2021-08-01\"\n",
    "beforeEnd = \"2021-08-10\"\n",
    "afterStart = \"2021-08-10\"\n",
    "afterEnd = \"2021-08-22\"\n",
    "\n",
    "# Import the Sentinel-1 SAR GRD image collection\n",
    "s1 = ee.ImageCollection(\"COPERNICUS/S1_GRD\")\n",
    "\n",
    "# Filter the image collection\n",
    "s1Filtered = s1.filterBounds(roi) \\\n",
    "                   .filter(ee.Filter.eq(\"instrumentMode\", \"IW\")) \\\n",
    "                   .filter(ee.Filter.listContains(\"transmitterReceiverPolarisation\", \"VH\")) \\\n",
    "                   .filter(ee.Filter.listContains(\"transmitterReceiverPolarisation\", \"VV\")) \\\n",
    "                   .filter(ee.Filter.eq(\"orbitProperties_pass\", \"DESCENDING\")) \\\n",
    "                   .filter(ee.Filter.eq(\"resolution_meters\", 10)) \\\n",
    "                   .select([\"VV\", \"VH\"])\n",
    "\n",
    "# Before Image Acquistion Date: 2021-08-09\n",
    "beforeImage = s1Filtered.filterDate(beforeStart, beforeEnd) \\\n",
    "                            .first() \\\n",
    "                            .clip(roi)\n",
    "\n",
    "# After Image Acquistion Date: 2021-08-21\n",
    "afterImage = s1Filtered.filterDate(afterStart, afterEnd) \\\n",
    "                           .first() \\\n",
    "                           .clip(roi)\n",
    "\n",
    "# Create a function to add ratio band\n",
    "def addRatioBand(image):\n",
    "  ratioBand = image.select(\"VV\").divide(image.select(\"VH\")).rename(\"VV/VH\")\n",
    "  return image.addBands(ratioBand)\n",
    "\n",
    "beforeImage = addRatioBand(beforeImage)\n",
    "afterImage = addRatioBand(afterImage)\n",
    "\n",
    "# Define a visualization\n",
    "visParams = {\n",
    "  'min': [-25, -25, 0],\n",
    "  'max': [0, 0, 2]\n",
    "}\n",
    "Map.addLayer(beforeImage, visParams, \"Before Floods\", False)\n",
    "Map.addLayer(afterImage, visParams, \"After Floods\", False)\n",
    "\n",
    "# Visualize the changes by creating a composite image\n",
    "# Band Combination: VH-before image, VH-after image, and VH-before image\n",
    "compositeImage = ee.Image.cat([beforeImage.select(\"VH\").rename(\"VH_Before\"),\n",
    "                                   afterImage.select(\"VH\").rename(\"VH_After\"),\n",
    "                                   beforeImage.select(\"VH\").rename(\"VH_Before_2\")])\n",
    "Map.addLayer(compositeImage, {'min': -25, 'max': -8}, \"Change Composite\")"
   ]
  },
  {
   "cell_type": "code",
   "execution_count": 5,
   "metadata": {},
   "outputs": [
    {
     "data": {
      "text/html": [
       "\n",
       "            <style>\n",
       "                .geemap-dark {\n",
       "                    --jp-widgets-color: white;\n",
       "                    --jp-widgets-label-color: white;\n",
       "                    --jp-ui-font-color1: white;\n",
       "                    --jp-layout-color2: #454545;\n",
       "                    background-color: #383838;\n",
       "                }\n",
       "                    \n",
       "                .geemap-dark .jupyter-button {\n",
       "                    --jp-layout-color3: #383838;\n",
       "                }\n",
       "                \n",
       "                .geemap-colab {\n",
       "                    background-color: var(--colab-primary-surface-color, white);\n",
       "                }\n",
       "                    \n",
       "                .geemap-colab .jupyter-button {\n",
       "                    --jp-layout-color3: var(--colab-primary-surface-color, white);\n",
       "                }\n",
       "            </style>\n",
       "            "
      ],
      "text/plain": [
       "<IPython.core.display.HTML object>"
      ]
     },
     "metadata": {},
     "output_type": "display_data"
    }
   ],
   "source": [
    "# Step 4. Apply speckle filter\n",
    "# Create a function to convert from dB to Natural\n",
    "def toNatural(image):\n",
    "  return ee.Image(10.0).pow(image.select(0).divide(10.0))\n",
    "\n",
    "# Create a function to convert from Natural to dB\n",
    "def todB(image):\n",
    "  return ee.Image(image).log10().multiply(10.0)\n",
    "\n",
    "# Apply a Refined Lee Speckle filter as coded in the SNAP 3.0 S1TBX:\n",
    "# Adapted by Guido Lemoine\n",
    "\n",
    "def RefinedLee(image):\n",
    "  # Image must be in natural units, i.e., not in dB.\n",
    "  # Set up a 3x3 kernels\n",
    "  # weights3 = ee.List.repeat(ee.List.repeat({'value': 1, 'count': 3}), 3)\n",
    "  weights3 = ee.List.repeat(ee.List.repeat(1, 3), 3)\n",
    "  kernel3 = ee.Kernel.fixed(width=3, height=3, weights=weights3, x=1, y=1, normalize=False)\n",
    "  mean3 = image.reduceNeighborhood(reducer=ee.Reducer.mean(), kernel=kernel3)\n",
    "  variance3 = image.reduceNeighborhood(reducer=ee.Reducer.variance(), kernel=kernel3)\n",
    " \n",
    "  # Use a sample of the 3x3 windows inside a 7x7 window sto determine gradients\n",
    "  # and directions\n",
    "  sample_weights = ee.List([[0, 0, 0, 0, 0, 0, 0],\n",
    "                                [0, 1, 0, 1, 0, 1, 0],\n",
    "                                [0, 0, 0, 0, 0, 0, 0],\n",
    "                                [0, 1, 0, 1, 0, 1, 0],\n",
    "                                [0, 0, 0, 0, 0, 0, 0],\n",
    "                                [0, 1, 0, 1, 0, 1, 0],\n",
    "                                [0, 0, 0, 0, 0, 0, 0]])\n",
    "  sample_kernel = ee.Kernel.fixed(width=7, height=7, weights=sample_weights, x=3, y=3, normalize=False)                              \n",
    "\n",
    "  # Calculate the mean and variance for the sampled windows and store as 9 bands\n",
    "  sample_mean = mean3.neighborhoodToBands(sample_kernel)\n",
    "  sample_var = variance3.neighborhoodToBands(sample_kernel)\n",
    "\n",
    "  # Determine the 4 gradients for the sampled windows\n",
    "  gradients = sample_mean.select(1).subtract(sample_mean.select(7).abs())\n",
    "  gradients = gradients.addBands(sample_mean.select(6).subtract(sample_mean.select(2)).abs())\n",
    "  gradients = gradients.addBands(sample_mean.select(3).subtract(sample_mean.select(5)).abs())\n",
    "  gradients = gradients.addBands(sample_mean.select(0).subtract(sample_mean.select(8)).abs())\n",
    "\n",
    "  # And find the maximum gradient amongst gradient bands\n",
    "  max_gradient = gradients.reduce(ee.Reducer.max())\n",
    "\n",
    "  # Create a mask for band pixels that are the maximum gradient\n",
    "  gradmask = gradients.eq(max_gradient)\n",
    "\n",
    "  # Duplicate gradmask bands: each gradient represents 2 directions\n",
    "  gradmask = gradmask.addBands(gradmask)\n",
    "\n",
    "  # Determine the 8 directions\n",
    "  directions = sample_mean.select(1).subtract(sample_mean.select(4)).gt(sample_mean.select(4) \\\n",
    "                              .subtract(sample_mean.select(7))).multiply(1)\n",
    "  directions = directions.addBands(sample_mean.select(6).subtract(sample_mean.select(4)) \\\n",
    "                         .gt(sample_mean.select(4).subtract(sample_mean.select(2))).multiply(2))\n",
    "  directions = directions.addBands(sample_mean.select(3).subtract(sample_mean.select(4)) \\\n",
    "                         .gt(sample_mean.select(4).subtract(sample_mean.select(5))).multiply(3))\n",
    "  directions = directions.addBands(sample_mean.select(0).subtract(sample_mean.select(4)) \\\n",
    "                         .gt(sample_mean.select(4).subtract(sample_mean.select(8))).multiply(4))\n",
    "\n",
    "  # The next 4 are the not() of the previous 4\n",
    "  directions = directions.addBands(directions.select(0).Not().multiply(5))\n",
    "  directions = directions.addBands(directions.select(1).Not().multiply(6))\n",
    "  directions = directions.addBands(directions.select(2).Not().multiply(7))\n",
    "  directions = directions.addBands(directions.select(3).Not().multiply(8))\n",
    "\n",
    "  # Mask all values that are not 1-8\n",
    "  directions = directions.updateMask(gradmask)\n",
    "\n",
    "  # \"collapse\" the stack into a single band image (due to masking, each pixel has\n",
    "  # just one value (1-8) in it's directional band, and is otherwise masked)\n",
    "  directions = directions.reduce(ee.Reducer.sum())\n",
    "\n",
    "  # pal = [\"ffffff\", \"ff0000\", \"ffff00\", \"00ff00\", \"00ffff\", \"0000ff\", \"ff00ff\", \"000000\"]\n",
    "  # Map.addLayer(directions.reduce(ee.Reducer.sum()), {min: 1, max: 8, palette: pal}, \"Directions\", False)\n",
    "\n",
    "  sample_stats = sample_var.divide(sample_mean.multiply(sample_mean))\n",
    "\n",
    "  # Calculate localNoiseVariance\n",
    "  sigmaV = sample_stats.toArray().arraySort().arraySlice(0, 0, 5) \\\n",
    "                           .arrayReduce(ee.Reducer.mean(), [0])\n",
    "\n",
    "  # Set up the 7*7 kernels for directional statistics\n",
    "  rect_weights = ee.List.repeat(ee.List.repeat(0, 7), 3) \\\n",
    "                       .cat(ee.List.repeat(ee.List.repeat(1, 7), 4))\n",
    "\n",
    "  diag_weights = ee.List([[1, 0, 0, 0, 0, 0, 0],\n",
    "                              [1, 1, 0, 0, 0, 0, 0],\n",
    "                              [1, 1, 1, 0, 0, 0, 0],\n",
    "                              [1, 1, 1, 1, 0, 0, 0],\n",
    "                              [1, 1, 1, 1, 1, 0, 0],\n",
    "                              [1, 1, 1, 1, 1, 1, 0],\n",
    "                              [1, 1, 1, 1, 1, 1, 1]])\n",
    "\n",
    "  rect_kernel = ee.Kernel.fixed(7, 7, rect_weights, 3, 3, False)\n",
    "  diag_kernel = ee.Kernel.fixed(7, 7, diag_weights, 3, 3, False)\n",
    "\n",
    "  # Create stacks for mean and variance using the original kernels. Mask with\n",
    "  # relevant direction.\n",
    "  dir_mean = image.reduceNeighborhood(ee.Reducer.mean(), rect_kernel) \\\n",
    "                      .updateMask(directions.eq(1))\n",
    "  dir_var = image.reduceNeighborhood(ee.Reducer.variance(), rect_kernel) \\\n",
    "                     .updateMask(directions.eq(1))\n",
    "  dir_mean = dir_mean.addBands(image.reduceNeighborhood(ee.Reducer.mean(), diag_kernel) \\\n",
    "                      .updateMask(directions.eq(2)))\n",
    "  dir_= dir_var.addBands(image.reduceNeighborhood(ee.Reducer.variance(), diag_kernel) \\\n",
    "                      .updateMask(directions.eq(2)))\n",
    "\n",
    "  # Add the bands for rotated kernels\n",
    "  for i in range(1,4, 1):\n",
    "    dir_mean = dir_mean.addBands(image.reduceNeighborhood(ee.Reducer.mean(), rect_kernel.rotate(i)) \\\n",
    "                       .updateMask(directions.eq(2*i+1)))\n",
    "    dir_= dir_var.addBands(image.reduceNeighborhood(ee.Reducer.variance(), rect_kernel.rotate(i)) \\\n",
    "                       .updateMask(directions.eq(2*i+1)))\n",
    "    dir_mean = dir_mean.addBands(image.reduceNeighborhood(ee.Reducer.mean(), diag_kernel.rotate(i)) \\\n",
    "                       .updateMask(directions.eq(2*i+2)))\n",
    "    dir_= dir_var.addBands(image.reduceNeighborhood(ee.Reducer.variance(), diag_kernel.rotate(i)) \\\n",
    "                       .updateMask(directions.eq(2*i+2)))\n",
    "\n",
    "  # \"collapse\" the stack into a single band image (due to masking, each pixel has just one value in it's directional\n",
    "  #   band, and is otherwise masked)\n",
    "  dir_mean = dir_mean.reduce(ee.Reducer.sum())\n",
    "  dir_= dir_var.reduce(ee.Reducer.sum())\n",
    "\n",
    "  # A finally generate the filtered value\n",
    "  varX = dir_var.subtract(dir_mean.multiply(dir_mean).multiply(sigmaV)) \\\n",
    "                    .divide(sigmaV.add(1.0))\n",
    "  b = varX.divide(dir_var)\n",
    "\n",
    "  result = dir_mean.add(b.multiply(image.subtract(dir_mean)))\n",
    "\n",
    "  return (result.arrayFlatten([[\"sum\"]]))\n",
    "\n",
    "# Apply the Speckle filter on the before and after image\n",
    "beforeFiltered = ee.Image(todB(RefinedLee(toNatural(beforeImage.select(\"VH\")))))\n",
    "afterFiltered = ee.Image(todB(RefinedLee(toNatural(afterImage.select(\"VH\")))))\n",
    "\n",
    "Map.addLayer(beforeFiltered, {'min':-25, 'max':0}, \"VH before Speckle Filter\", False)\n",
    "Map.addLayer(afterFiltered, {'min':-25, 'max':0}, \"VH after Speckle Filter\", False)"
   ]
  },
  {
   "cell_type": "code",
   "execution_count": 6,
   "metadata": {},
   "outputs": [
    {
     "data": {
      "text/html": [
       "\n",
       "            <style>\n",
       "                .geemap-dark {\n",
       "                    --jp-widgets-color: white;\n",
       "                    --jp-widgets-label-color: white;\n",
       "                    --jp-ui-font-color1: white;\n",
       "                    --jp-layout-color2: #454545;\n",
       "                    background-color: #383838;\n",
       "                }\n",
       "                    \n",
       "                .geemap-dark .jupyter-button {\n",
       "                    --jp-layout-color3: #383838;\n",
       "                }\n",
       "                \n",
       "                .geemap-colab {\n",
       "                    background-color: var(--colab-primary-surface-color, white);\n",
       "                }\n",
       "                    \n",
       "                .geemap-colab .jupyter-button {\n",
       "                    --jp-layout-color3: var(--colab-primary-surface-color, white);\n",
       "                }\n",
       "            </style>\n",
       "            "
      ],
      "text/plain": [
       "<IPython.core.display.HTML object>"
      ]
     },
     "metadata": {},
     "output_type": "display_data"
    }
   ],
   "source": [
    "# Step 5. Apply a threshold\n",
    "difference = afterFiltered.divide(beforeFiltered)\n",
    "# Define a threshold\n",
    "diffThreshold = 1.25\n",
    "# Initial estimate of flooded pixels\n",
    "flooded = difference.gt(diffThreshold).rename(\"water\").selfMask()\n",
    "Map.addLayer(flooded, {'min':0, 'max':1, 'palette': [\"orange\"]}, \"Initial Flood Area\", False)"
   ]
  },
  {
   "cell_type": "code",
   "execution_count": 7,
   "metadata": {},
   "outputs": [
    {
     "data": {
      "text/html": [
       "\n",
       "            <style>\n",
       "                .geemap-dark {\n",
       "                    --jp-widgets-color: white;\n",
       "                    --jp-widgets-label-color: white;\n",
       "                    --jp-ui-font-color1: white;\n",
       "                    --jp-layout-color2: #454545;\n",
       "                    background-color: #383838;\n",
       "                }\n",
       "                    \n",
       "                .geemap-dark .jupyter-button {\n",
       "                    --jp-layout-color3: #383838;\n",
       "                }\n",
       "                \n",
       "                .geemap-colab {\n",
       "                    background-color: var(--colab-primary-surface-color, white);\n",
       "                }\n",
       "                    \n",
       "                .geemap-colab .jupyter-button {\n",
       "                    --jp-layout-color3: var(--colab-primary-surface-color, white);\n",
       "                }\n",
       "            </style>\n",
       "            "
      ],
      "text/plain": [
       "<IPython.core.display.HTML object>"
      ]
     },
     "metadata": {},
     "output_type": "display_data"
    }
   ],
   "source": [
    "# Step 6. Apply masks\n",
    "# Mask out area with permanent/semi-permanent water\n",
    "permanentWater = gsw.select(\"seasonality\").gte(5).clip(roi)\n",
    "Map.addLayer(permanentWater.selfMask(), {'min':0, 'max':1, 'palette': [\"blue\"]}, \"Permanent Water\", False)\n",
    "\n",
    "# GSW data is masked in non-water areas. Set it to 0 using unmask().\n",
    "# Invert the image to set all non-permanent region to 1\n",
    "permanentWaterMask = permanentWater.unmask(0).Not()\n",
    "flooded = flooded.updateMask(permanentWaterMask)\n",
    "\n",
    "# Mask out areas with more than 5 degree slope using the SRTM DEM\n",
    "slopeThreshold = 5\n",
    "slope = ee.Terrain.slope(srtm.clip(roi))\n",
    "steepAreas = slope.gt(slopeThreshold)\n",
    "slopeMask = steepAreas.Not()\n",
    "Map.addLayer(slope, {'min':0, 'max':1, 'palette':[\"cyan\"]}, \"Steep Areas\", False)"
   ]
  },
  {
   "cell_type": "code",
   "execution_count": 8,
   "metadata": {},
   "outputs": [
    {
     "data": {
      "text/html": [
       "\n",
       "            <style>\n",
       "                .geemap-dark {\n",
       "                    --jp-widgets-color: white;\n",
       "                    --jp-widgets-label-color: white;\n",
       "                    --jp-ui-font-color1: white;\n",
       "                    --jp-layout-color2: #454545;\n",
       "                    background-color: #383838;\n",
       "                }\n",
       "                    \n",
       "                .geemap-dark .jupyter-button {\n",
       "                    --jp-layout-color3: #383838;\n",
       "                }\n",
       "                \n",
       "                .geemap-colab {\n",
       "                    background-color: var(--colab-primary-surface-color, white);\n",
       "                }\n",
       "                    \n",
       "                .geemap-colab .jupyter-button {\n",
       "                    --jp-layout-color3: var(--colab-primary-surface-color, white);\n",
       "                }\n",
       "            </style>\n",
       "            "
      ],
      "text/plain": [
       "<IPython.core.display.HTML object>"
      ]
     },
     "metadata": {},
     "output_type": "display_data"
    },
    {
     "data": {
      "application/vnd.jupyter.widget-view+json": {
       "model_id": "4bc53fe3beb444609230e8e390172d47",
       "version_major": 2,
       "version_minor": 0
      },
      "text/plain": [
       "Map(center=[25.13268158688883, 88.08699823517007], controls=(WidgetControl(options=['position', 'transparent_b…"
      ]
     },
     "execution_count": 8,
     "metadata": {},
     "output_type": "execute_result"
    }
   ],
   "source": [
    "#Step 7: Remove Isolated Pixels\n",
    "connectedPixelThreshold = 20\n",
    "connections = flooded.connectedPixelCount(25)\n",
    "disconnectedAreas = connections.lt(connectedPixelThreshold)\n",
    "disconnectedAreaMask = disconnectedAreas.Not()\n",
    "Map.addLayer(disconnectedAreas.selfMask(), {'min':0, 'max':1, 'palette': [\"yellow\"]}, \"Disconnected Areas\", False)\n",
    "flooded = flooded.updateMask(disconnectedAreaMask)\n",
    "Map.addLayer(flooded, {'min':0, 'max':1, 'palette': [\"red\"]}, \"Flooded Areas\")\n",
    "flooded = flooded.updateMask(slopeMask)\n",
    "Map"
   ]
  },
  {
   "cell_type": "code",
   "execution_count": 11,
   "metadata": {},
   "outputs": [
    {
     "data": {
      "text/html": [
       "\n",
       "            <style>\n",
       "                .geemap-dark {\n",
       "                    --jp-widgets-color: white;\n",
       "                    --jp-widgets-label-color: white;\n",
       "                    --jp-ui-font-color1: white;\n",
       "                    --jp-layout-color2: #454545;\n",
       "                    background-color: #383838;\n",
       "                }\n",
       "                    \n",
       "                .geemap-dark .jupyter-button {\n",
       "                    --jp-layout-color3: #383838;\n",
       "                }\n",
       "                \n",
       "                .geemap-colab {\n",
       "                    background-color: var(--colab-primary-surface-color, white);\n",
       "                }\n",
       "                    \n",
       "                .geemap-colab .jupyter-button {\n",
       "                    --jp-layout-color3: var(--colab-primary-surface-color, white);\n",
       "                }\n",
       "            </style>\n",
       "            "
      ],
      "text/plain": [
       "<IPython.core.display.HTML object>"
      ]
     },
     "metadata": {},
     "output_type": "display_data"
    },
    {
     "name": "stdout",
     "output_type": "stream",
     "text": [
      "Area of flooded pixels: {'water': 0}\n"
     ]
    }
   ],
   "source": [
    "# Calculate the area of flooded pixels\n",
    "area_flooded = flooded.reduceRegion(\n",
    "    reducer=ee.Reducer.sum(),\n",
    "    geometry=flooded.geometry(),\n",
    "    scale=30,\n",
    "    maxPixels=1e13\n",
    ")\n",
    "\n",
    "# Print the result\n",
    "print(\"Area of flooded pixels:\", area_flooded.getInfo())"
   ]
  }
 ],
 "metadata": {
  "kernelspec": {
   "display_name": "opencv4",
   "language": "python",
   "name": "python3"
  },
  "language_info": {
   "codemirror_mode": {
    "name": "ipython",
    "version": 3
   },
   "file_extension": ".py",
   "mimetype": "text/x-python",
   "name": "python",
   "nbconvert_exporter": "python",
   "pygments_lexer": "ipython3",
   "version": "3.11.6"
  }
 },
 "nbformat": 4,
 "nbformat_minor": 2
}
