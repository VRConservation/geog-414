{
 "cells": [
  {
   "cell_type": "markdown",
   "id": "096379bc",
   "metadata": {},
   "source": [
    "# Lab 9\n",
    "\n",
    "In this lab, you will explore spatial data analysis using Python and DuckDB. You'll work with real-world datasets, ranging from global country statistics to specific building datasets. This will give you a practical understanding of handling, analyzing, and visualizing spatial data.\n",
    "\n",
    "**Submission requirements**\n",
    "\n",
    "1. **HTML Version:** Submit an HTML version of your notebook. Ensure all code outputs are visible. (Export via VS Code: Notebook > Export > HTML).\n",
    "2. **Colab Link:** Provide a link to your notebook hosted on Google Colab for interactive review.\n",
    "\n",
    "## Setup\n",
    "\n",
    "Ensure you have DuckDB and Leafmap installed. Run the following command if needed:"
   ]
  },
  {
   "cell_type": "code",
   "execution_count": null,
   "id": "5bbe8275",
   "metadata": {},
   "outputs": [],
   "source": [
    "# %pip install duckdb leafmap"
   ]
  },
  {
   "cell_type": "code",
   "execution_count": 2,
   "id": "d04dc64d",
   "metadata": {},
   "outputs": [],
   "source": [
    "import duckdb\n",
    "import leafmap"
   ]
  },
  {
   "cell_type": "markdown",
   "id": "49d2fcc8",
   "metadata": {},
   "source": [
    "## Question 1\n",
    "\n",
    "Connect to a duckdb database and install the `httpfs` and `spatial` extensions"
   ]
  },
  {
   "cell_type": "code",
   "execution_count": 3,
   "id": "6c638b3c",
   "metadata": {},
   "outputs": [],
   "source": [
    "# Add your code here\n",
    "con = duckdb.connect()\n",
    "con.install_extension(\"httpfs\")\n",
    "con.load_extension(\"httpfs\")\n",
    "con.install_extension(\"spatial\")\n",
    "con.load_extension(\"spatial\")"
   ]
  },
  {
   "cell_type": "markdown",
   "id": "3f4f2595",
   "metadata": {},
   "source": [
    "## Question 2\n",
    "\n",
    "Download the [Admin 0 – Countries](https://www.naturalearthdata.com/downloads/10m-cultural-vectors/) vector dataset from Natural Earth using the `leafmap.download_file()` function."
   ]
  },
  {
   "cell_type": "code",
   "execution_count": 4,
   "id": "7053ac8b",
   "metadata": {},
   "outputs": [
    {
     "name": "stderr",
     "output_type": "stream",
     "text": [
      "Downloading...\n",
      "From: https://www.naturalearthdata.com/http//www.naturalearthdata.com/download/10m/cultural/ne_10m_admin_0_countries.zip\n",
      "To: c:\\Users\\vance\\Downloads\\geog-414\\book\\labs\\ne_10m_admin_0_countries.zip\n",
      "100%|██████████| 4.93M/4.93M [00:00<00:00, 6.24MB/s]"
     ]
    },
    {
     "name": "stdout",
     "output_type": "stream",
     "text": [
      "Extracting files...\n"
     ]
    },
    {
     "name": "stderr",
     "output_type": "stream",
     "text": [
      "\n"
     ]
    },
    {
     "data": {
      "text/plain": [
       "'c:\\\\Users\\\\vance\\\\Downloads\\\\geog-414\\\\book\\\\labs\\\\ne_10m_admin_0_countries.zip'"
      ]
     },
     "execution_count": 4,
     "metadata": {},
     "output_type": "execute_result"
    }
   ],
   "source": [
    "# Add your code here\n",
    "url = \"https://www.naturalearthdata.com/http//www.naturalearthdata.com/download/10m/cultural/ne_10m_admin_0_countries.zip\"\n",
    "leafmap.download_file(url, unzip=True)"
   ]
  },
  {
   "cell_type": "markdown",
   "id": "b8d167e9",
   "metadata": {},
   "source": [
    "## Question 3\n",
    "\n",
    "Create a new table in your database called `countries` and load the data from the downloaded country shapefile into it."
   ]
  },
  {
   "cell_type": "code",
   "execution_count": 5,
   "id": "18d563f4",
   "metadata": {},
   "outputs": [
    {
     "data": {
      "text/plain": [
       "┌─────────────────┬───────────┬───────────┬───┬──────────────┬────────────────────┬──────────────────────┐\n",
       "│   featurecla    │ scalerank │ LABELRANK │ … │  FCLASS_BD   │     FCLASS_UA      │         geom         │\n",
       "│     varchar     │   int32   │   int32   │   │   varchar    │      varchar       │       geometry       │\n",
       "├─────────────────┼───────────┼───────────┼───┼──────────────┼────────────────────┼──────────────────────┤\n",
       "│ Admin-0 country │         0 │         2 │ … │ NULL         │ NULL               │ MULTIPOLYGON (((11…  │\n",
       "│ Admin-0 country │         0 │         3 │ … │ NULL         │ NULL               │ MULTIPOLYGON (((11…  │\n",
       "│ Admin-0 country │         0 │         2 │ … │ NULL         │ NULL               │ MULTIPOLYGON (((-6…  │\n",
       "│ Admin-0 country │         0 │         3 │ … │ NULL         │ NULL               │ POLYGON ((-69.5100…  │\n",
       "│ Admin-0 country │         0 │         2 │ … │ NULL         │ NULL               │ MULTIPOLYGON (((-6…  │\n",
       "│ Admin-0 country │         0 │         2 │ … │ NULL         │ NULL               │ MULTIPOLYGON (((-6…  │\n",
       "│ Admin-0 country │         3 │         3 │ … │ NULL         │ Admin-0 dependency │ POLYGON ((33.78093…  │\n",
       "│ Admin-0 country │         1 │         5 │ … │ NULL         │ NULL               │ MULTIPOLYGON (((33…  │\n",
       "│ Admin-0 country │         0 │         2 │ … │ NULL         │ NULL               │ MULTIPOLYGON (((77…  │\n",
       "│ Admin-0 country │         0 │         2 │ … │ NULL         │ NULL               │ MULTIPOLYGON (((78…  │\n",
       "│        ·        │         · │         · │ · │  ·           │  ·                 │          ·           │\n",
       "│        ·        │         · │         · │ · │  ·           │  ·                 │          ·           │\n",
       "│        ·        │         · │         · │ · │  ·           │  ·                 │          ·           │\n",
       "│ Admin-0 country │         5 │         6 │ … │ NULL         │ NULL               │ MULTIPOLYGON (((14…  │\n",
       "│ Admin-0 country │         5 │         4 │ … │ NULL         │ NULL               │ MULTIPOLYGON (((50…  │\n",
       "│ Admin-0 country │         6 │         5 │ … │ NULL         │ NULL               │ POLYGON ((154.3912…  │\n",
       "│ Admin-0 country │         6 │         6 │ … │ NULL         │ NULL               │ MULTIPOLYGON (((11…  │\n",
       "│ Admin-0 country │         6 │         5 │ … │ NULL         │ NULL               │ POLYGON ((-109.212…  │\n",
       "│ Admin-0 country │         0 │         4 │ … │ NULL         │ NULL               │ MULTIPOLYGON (((11…  │\n",
       "│ Admin-0 country │         6 │         5 │ … │ NULL         │ NULL               │ POLYGON ((123.5970…  │\n",
       "│ Admin-0 country │         6 │         8 │ … │ Unrecognized │ Unrecognized       │ POLYGON ((-79.9892…  │\n",
       "│ Admin-0 country │         6 │         5 │ … │ Unrecognized │ Unrecognized       │ POLYGON ((-78.6370…  │\n",
       "│ Admin-0 country │         6 │         6 │ … │ NULL         │ NULL               │ POLYGON ((117.7538…  │\n",
       "├─────────────────┴───────────┴───────────┴───┴──────────────┴────────────────────┴──────────────────────┤\n",
       "│ 258 rows (20 shown)                                                              169 columns (6 shown) │\n",
       "└────────────────────────────────────────────────────────────────────────────────────────────────────────┘"
      ]
     },
     "execution_count": 5,
     "metadata": {},
     "output_type": "execute_result"
    }
   ],
   "source": [
    "# Add your code here\n",
    "con.sql(\"SELECT * FROM ST_Read('C:/Users/vance/Downloads/geog-414/book/labs/ne_10m_admin_0_countries.shp')\")"
   ]
  },
  {
   "cell_type": "code",
   "execution_count": 6,
   "metadata": {},
   "outputs": [],
   "source": [
    "con.sql(\n",
    "    \"\"\"\n",
    "CREATE TABLE IF NOT EXISTS countries AS\n",
    "SELECT * FROM 'C:/Users/vance/Downloads/geog-414/book/labs/ne_10m_admin_0_countries.shp'\n",
    "\"\"\"\n",
    ")"
   ]
  },
  {
   "cell_type": "code",
   "execution_count": 8,
   "metadata": {},
   "outputs": [
    {
     "data": {
      "text/plain": [
       "┌─────────────────┬───────────┬───────────┬───┬──────────────┬────────────────────┬──────────────────────┐\n",
       "│   featurecla    │ scalerank │ LABELRANK │ … │  FCLASS_BD   │     FCLASS_UA      │         geom         │\n",
       "│     varchar     │   int32   │   int32   │   │   varchar    │      varchar       │       geometry       │\n",
       "├─────────────────┼───────────┼───────────┼───┼──────────────┼────────────────────┼──────────────────────┤\n",
       "│ Admin-0 country │         0 │         2 │ … │ NULL         │ NULL               │ MULTIPOLYGON (((11…  │\n",
       "│ Admin-0 country │         0 │         3 │ … │ NULL         │ NULL               │ MULTIPOLYGON (((11…  │\n",
       "│ Admin-0 country │         0 │         2 │ … │ NULL         │ NULL               │ MULTIPOLYGON (((-6…  │\n",
       "│ Admin-0 country │         0 │         3 │ … │ NULL         │ NULL               │ POLYGON ((-69.5100…  │\n",
       "│ Admin-0 country │         0 │         2 │ … │ NULL         │ NULL               │ MULTIPOLYGON (((-6…  │\n",
       "│ Admin-0 country │         0 │         2 │ … │ NULL         │ NULL               │ MULTIPOLYGON (((-6…  │\n",
       "│ Admin-0 country │         3 │         3 │ … │ NULL         │ Admin-0 dependency │ POLYGON ((33.78093…  │\n",
       "│ Admin-0 country │         1 │         5 │ … │ NULL         │ NULL               │ MULTIPOLYGON (((33…  │\n",
       "│ Admin-0 country │         0 │         2 │ … │ NULL         │ NULL               │ MULTIPOLYGON (((77…  │\n",
       "│ Admin-0 country │         0 │         2 │ … │ NULL         │ NULL               │ MULTIPOLYGON (((78…  │\n",
       "│        ·        │         · │         · │ · │  ·           │  ·                 │          ·           │\n",
       "│        ·        │         · │         · │ · │  ·           │  ·                 │          ·           │\n",
       "│        ·        │         · │         · │ · │  ·           │  ·                 │          ·           │\n",
       "│ Admin-0 country │         5 │         6 │ … │ NULL         │ NULL               │ MULTIPOLYGON (((14…  │\n",
       "│ Admin-0 country │         5 │         4 │ … │ NULL         │ NULL               │ MULTIPOLYGON (((50…  │\n",
       "│ Admin-0 country │         6 │         5 │ … │ NULL         │ NULL               │ POLYGON ((154.3912…  │\n",
       "│ Admin-0 country │         6 │         6 │ … │ NULL         │ NULL               │ MULTIPOLYGON (((11…  │\n",
       "│ Admin-0 country │         6 │         5 │ … │ NULL         │ NULL               │ POLYGON ((-109.212…  │\n",
       "│ Admin-0 country │         0 │         4 │ … │ NULL         │ NULL               │ MULTIPOLYGON (((11…  │\n",
       "│ Admin-0 country │         6 │         5 │ … │ NULL         │ NULL               │ POLYGON ((123.5970…  │\n",
       "│ Admin-0 country │         6 │         8 │ … │ Unrecognized │ Unrecognized       │ POLYGON ((-79.9892…  │\n",
       "│ Admin-0 country │         6 │         5 │ … │ Unrecognized │ Unrecognized       │ POLYGON ((-78.6370…  │\n",
       "│ Admin-0 country │         6 │         6 │ … │ NULL         │ NULL               │ POLYGON ((117.7538…  │\n",
       "├─────────────────┴───────────┴───────────┴───┴──────────────┴────────────────────┴──────────────────────┤\n",
       "│ 258 rows (20 shown)                                                              169 columns (6 shown) │\n",
       "└────────────────────────────────────────────────────────────────────────────────────────────────────────┘"
      ]
     },
     "execution_count": 8,
     "metadata": {},
     "output_type": "execute_result"
    }
   ],
   "source": [
    "con.sql(\"SELECT * FROM countries\")"
   ]
  },
  {
   "cell_type": "markdown",
   "id": "e22bdaba",
   "metadata": {},
   "source": [
    "Calculate the total population of all countries in the database using the `POP_EST` column."
   ]
  },
  {
   "cell_type": "code",
   "execution_count": 9,
   "id": "99a061af",
   "metadata": {},
   "outputs": [
    {
     "data": {
      "text/plain": [
       "┌──────────────┐\n",
       "│   POP_EST    │\n",
       "│    double    │\n",
       "├──────────────┤\n",
       "│  270625568.0 │\n",
       "│   31949777.0 │\n",
       "│   18952038.0 │\n",
       "│   11513100.0 │\n",
       "│   32510453.0 │\n",
       "│   44938712.0 │\n",
       "│       7850.0 │\n",
       "│    1198575.0 │\n",
       "│ 1366417754.0 │\n",
       "│ 1397715000.0 │\n",
       "│         ·    │\n",
       "│         ·    │\n",
       "│         ·    │\n",
       "│      57216.0 │\n",
       "│    1641172.0 │\n",
       "│          4.0 │\n",
       "│        100.0 │\n",
       "│          0.0 │\n",
       "│     640445.0 │\n",
       "│          0.0 │\n",
       "│          0.0 │\n",
       "│          0.0 │\n",
       "│          0.0 │\n",
       "├──────────────┤\n",
       "│   258 rows   │\n",
       "│  (20 shown)  │\n",
       "└──────────────┘"
      ]
     },
     "execution_count": 9,
     "metadata": {},
     "output_type": "execute_result"
    }
   ],
   "source": [
    "# Add your code here\n",
    "con.sql(\"SELECT POP_EST FROM countries\")"
   ]
  },
  {
   "cell_type": "code",
   "execution_count": 12,
   "metadata": {},
   "outputs": [
    {
     "data": {
      "text/plain": [
       "┌──────────────┐\n",
       "│ sum(POP_EST) │\n",
       "│    double    │\n",
       "├──────────────┤\n",
       "│ 7677059722.3 │\n",
       "└──────────────┘"
      ]
     },
     "execution_count": 12,
     "metadata": {},
     "output_type": "execute_result"
    }
   ],
   "source": [
    "con.sql(\"SELECT SUM(POP_EST) FROM countries\")"
   ]
  },
  {
   "cell_type": "markdown",
   "id": "2aab5a54",
   "metadata": {},
   "source": [
    "Show the top 10 countries with the largest population."
   ]
  },
  {
   "cell_type": "code",
   "execution_count": 16,
   "id": "4bc6560a",
   "metadata": {},
   "outputs": [
    {
     "data": {
      "text/plain": [
       "┌───────────┬──────────────┐\n",
       "│   NAME    │   POP_EST    │\n",
       "│  varchar  │    double    │\n",
       "├───────────┼──────────────┤\n",
       "│ Indonesia │  270625568.0 │\n",
       "│ Malaysia  │   31949777.0 │\n",
       "│ Chile     │   18952038.0 │\n",
       "│ Bolivia   │   11513100.0 │\n",
       "│ Peru      │   32510453.0 │\n",
       "│ Argentina │   44938712.0 │\n",
       "│ Dhekelia  │       7850.0 │\n",
       "│ Cyprus    │    1198575.0 │\n",
       "│ India     │ 1366417754.0 │\n",
       "│ China     │ 1397715000.0 │\n",
       "├───────────┴──────────────┤\n",
       "│ 10 rows        2 columns │\n",
       "└──────────────────────────┘"
      ]
     },
     "execution_count": 16,
     "metadata": {},
     "output_type": "execute_result"
    }
   ],
   "source": [
    "# Add your code here\n",
    "con.sql(\"SELECT NAME, POP_EST FROM countries LIMIT 10\")"
   ]
  },
  {
   "cell_type": "markdown",
   "id": "15811e3a",
   "metadata": {},
   "source": [
    "Select countries in Europe with a population greater than 100 million and order them by population in descending order."
   ]
  },
  {
   "cell_type": "code",
   "execution_count": 34,
   "id": "33f1dc74",
   "metadata": {},
   "outputs": [
    {
     "data": {
      "text/plain": [
       "┌─────────────┬────────────┐\n",
       "│    NAME     │  POP_EST   │\n",
       "│   varchar   │   double   │\n",
       "├─────────────┼────────────┤\n",
       "│ France      │ 67059887.0 │\n",
       "│ Germany     │ 83132799.0 │\n",
       "│ Belgium     │ 11484055.0 │\n",
       "│ Austria     │  8877067.0 │\n",
       "│ Switzerland │  8574832.0 │\n",
       "│ Netherlands │ 17332850.0 │\n",
       "└─────────────┴────────────┘"
      ]
     },
     "execution_count": 34,
     "metadata": {},
     "output_type": "execute_result"
    }
   ],
   "source": [
    "# Add your code here\n",
    "con.sql(\n",
    "    \"\"\"\n",
    "    SELECT NAME, POP_EST  FROM countries WHERE SUBREGION='Western Europe'\n",
    "    AND POP_EST>1000000\n",
    "\"\"\"\n",
    ")"
   ]
  },
  {
   "cell_type": "markdown",
   "id": "f0591f75",
   "metadata": {},
   "source": [
    "Save the results of the previous query as a new table called `europe`."
   ]
  },
  {
   "cell_type": "code",
   "execution_count": 35,
   "id": "0f65f1d9",
   "metadata": {},
   "outputs": [
    {
     "data": {
      "text/plain": [
       "┌─────────────┬────────────┐\n",
       "│    NAME     │  POP_EST   │\n",
       "│   varchar   │   double   │\n",
       "├─────────────┼────────────┤\n",
       "│ Germany     │ 83132799.0 │\n",
       "│ France      │ 67059887.0 │\n",
       "│ Netherlands │ 17332850.0 │\n",
       "│ Belgium     │ 11484055.0 │\n",
       "│ Austria     │  8877067.0 │\n",
       "│ Switzerland │  8574832.0 │\n",
       "└─────────────┴────────────┘"
      ]
     },
     "execution_count": 35,
     "metadata": {},
     "output_type": "execute_result"
    }
   ],
   "source": [
    "# Add your code here\n",
    "con.sql(\n",
    "    \"\"\"\n",
    "SELECT * FROM (\n",
    "    SELECT NAME, POP_EST\n",
    "    FROM countries\n",
    "    WHERE SUBREGION='Western Europe' AND POP_EST > 1000000\n",
    ") AS europe\n",
    "ORDER BY POP_EST DESC\n",
    "\"\"\"\n",
    ")\n"
   ]
  },
  {
   "cell_type": "markdown",
   "id": "2abecddd",
   "metadata": {},
   "source": [
    "Export the `europe` table as a GeoJSON file."
   ]
  },
  {
   "cell_type": "code",
   "execution_count": 41,
   "id": "83b4abd1",
   "metadata": {},
   "outputs": [],
   "source": [
    "# Add your code here\n",
    "con.sql(\n",
    "    \"\"\"\n",
    "CREATE TABLE europe AS SELECT * FROM (\n",
    "    SELECT NAME, POP_EST\n",
    "    FROM countries\n",
    "    WHERE SUBREGION='Western Europe' AND POP_EST > 1000000\n",
    ") AS europe\n",
    "ORDER BY POP_EST DESC\n",
    "\"\"\"\n",
    ")"
   ]
  },
  {
   "cell_type": "code",
   "execution_count": 43,
   "metadata": {},
   "outputs": [],
   "source": [
    "con.sql(\"COPY europe TO 'europe.json'\")"
   ]
  },
  {
   "cell_type": "markdown",
   "id": "fcd9c116",
   "metadata": {},
   "source": [
    "## Question 4\n",
    "\n",
    "Create a table called `text_zones` and load the data from the [taxi_zones.parquet](https://beta.source.coop/cholmes/nyc-taxi-zones/taxi_zones.parquet) into it."
   ]
  },
  {
   "cell_type": "code",
   "execution_count": 50,
   "id": "4382d513",
   "metadata": {},
   "outputs": [
    {
     "data": {
      "text/plain": [
       "┌──────────┬────────────────┬────────────────┬───┬────────────┬───────────────┬──────────────────────┐\n",
       "│ OBJECTID │   Shape_Leng   │   Shape_Area   │ … │ LocationID │    borough    │       geometry       │\n",
       "│  int32   │ decimal(19,11) │ decimal(19,11) │   │   int32    │    varchar    │         blob         │\n",
       "├──────────┼────────────────┼────────────────┼───┼────────────┼───────────────┼──────────────────────┤\n",
       "│        1 │  0.11635745319 │  0.00078230679 │ … │          1 │ EWR           │ \\x01\\x03\\x00\\x00\\x…  │\n",
       "│        2 │  0.43346966679 │  0.00486634038 │ … │          2 │ Queens        │ \\x01\\x06\\x00\\x00\\x…  │\n",
       "│        3 │  0.08434110590 │  0.00031441416 │ … │          3 │ Bronx         │ \\x01\\x03\\x00\\x00\\x…  │\n",
       "│        4 │  0.04356652709 │  0.00011187195 │ … │          4 │ Manhattan     │ \\x01\\x03\\x00\\x00\\x…  │\n",
       "│        5 │  0.09214648986 │  0.00049795749 │ … │          5 │ Staten Island │ \\x01\\x03\\x00\\x00\\x…  │\n",
       "│        6 │  0.15049054252 │  0.00060646098 │ … │          6 │ Staten Island │ \\x01\\x03\\x00\\x00\\x…  │\n",
       "│        7 │  0.10741717112 │  0.00038978799 │ … │          7 │ Queens        │ \\x01\\x03\\x00\\x00\\x…  │\n",
       "│        8 │  0.02759069116 │  0.00002658772 │ … │          8 │ Queens        │ \\x01\\x03\\x00\\x00\\x…  │\n",
       "│        9 │  0.09978409247 │  0.00033844380 │ … │          9 │ Queens        │ \\x01\\x03\\x00\\x00\\x…  │\n",
       "│       10 │  0.09983947942 │  0.00043582382 │ … │         10 │ Queens        │ \\x01\\x03\\x00\\x00\\x…  │\n",
       "│        · │        ·       │        ·       │ · │          · │   ·           │          ·           │\n",
       "│        · │        ·       │        ·       │ · │          · │   ·           │          ·           │\n",
       "│        · │        ·       │        ·       │ · │          · │   ·           │          ·           │\n",
       "│      254 │  0.08588637549 │  0.00036004022 │ … │        254 │ Bronx         │ \\x01\\x03\\x00\\x00\\x…  │\n",
       "│      255 │  0.06238419977 │  0.00017230918 │ … │        255 │ Brooklyn      │ \\x01\\x03\\x00\\x00\\x…  │\n",
       "│      256 │  0.06791496696 │  0.00016861110 │ … │        256 │ Brooklyn      │ \\x01\\x03\\x00\\x00\\x…  │\n",
       "│      257 │  0.05866902598 │  0.00013890947 │ … │        257 │ Brooklyn      │ \\x01\\x03\\x00\\x00\\x…  │\n",
       "│      258 │  0.08901337877 │  0.00036620962 │ … │        258 │ Queens        │ \\x01\\x03\\x00\\x00\\x…  │\n",
       "│      259 │  0.12675030519 │  0.00039455249 │ … │        259 │ Bronx         │ \\x01\\x03\\x00\\x00\\x…  │\n",
       "│      260 │  0.13351415464 │  0.00042234533 │ … │        260 │ Queens        │ \\x01\\x03\\x00\\x00\\x…  │\n",
       "│      261 │  0.02712045636 │  0.00003434232 │ … │        261 │ Manhattan     │ \\x01\\x03\\x00\\x00\\x…  │\n",
       "│      262 │  0.04906362315 │  0.00012233027 │ … │        262 │ Manhattan     │ \\x01\\x06\\x00\\x00\\x…  │\n",
       "│      263 │  0.03701662530 │  0.00006576977 │ … │        263 │ Manhattan     │ \\x01\\x03\\x00\\x00\\x…  │\n",
       "├──────────┴────────────────┴────────────────┴───┴────────────┴───────────────┴──────────────────────┤\n",
       "│ 263 rows (20 shown)                                                            7 columns (6 shown) │\n",
       "└────────────────────────────────────────────────────────────────────────────────────────────────────┘"
      ]
     },
     "execution_count": 50,
     "metadata": {},
     "output_type": "execute_result"
    }
   ],
   "source": [
    "# Add your code here\n",
    "con.read_parquet('https://data.source.coop/cholmes/nyc-taxi-zones/taxi_zones.parquet')"
   ]
  },
  {
   "cell_type": "code",
   "execution_count": 57,
   "metadata": {},
   "outputs": [],
   "source": [
    "con.sql(\n",
    "    \"\"\"\n",
    "CREATE TABLE IF NOT EXISTS taxi_zones AS\n",
    "SELECT * FROM 'https://data.source.coop/cholmes/nyc-taxi-zones/taxi_zones.parquet'\n",
    "\"\"\"\n",
    ")"
   ]
  },
  {
   "cell_type": "code",
   "execution_count": 58,
   "metadata": {},
   "outputs": [
    {
     "data": {
      "text/plain": [
       "┌──────────┬────────────────┬────────────────┬───┬────────────┬───────────────┬──────────────────────┐\n",
       "│ OBJECTID │   Shape_Leng   │   Shape_Area   │ … │ LocationID │    borough    │       geometry       │\n",
       "│  int32   │ decimal(19,11) │ decimal(19,11) │   │   int32    │    varchar    │         blob         │\n",
       "├──────────┼────────────────┼────────────────┼───┼────────────┼───────────────┼──────────────────────┤\n",
       "│        1 │  0.11635745319 │  0.00078230679 │ … │          1 │ EWR           │ \\x01\\x03\\x00\\x00\\x…  │\n",
       "│        2 │  0.43346966679 │  0.00486634038 │ … │          2 │ Queens        │ \\x01\\x06\\x00\\x00\\x…  │\n",
       "│        3 │  0.08434110590 │  0.00031441416 │ … │          3 │ Bronx         │ \\x01\\x03\\x00\\x00\\x…  │\n",
       "│        4 │  0.04356652709 │  0.00011187195 │ … │          4 │ Manhattan     │ \\x01\\x03\\x00\\x00\\x…  │\n",
       "│        5 │  0.09214648986 │  0.00049795749 │ … │          5 │ Staten Island │ \\x01\\x03\\x00\\x00\\x…  │\n",
       "│        6 │  0.15049054252 │  0.00060646098 │ … │          6 │ Staten Island │ \\x01\\x03\\x00\\x00\\x…  │\n",
       "│        7 │  0.10741717112 │  0.00038978799 │ … │          7 │ Queens        │ \\x01\\x03\\x00\\x00\\x…  │\n",
       "│        8 │  0.02759069116 │  0.00002658772 │ … │          8 │ Queens        │ \\x01\\x03\\x00\\x00\\x…  │\n",
       "│        9 │  0.09978409247 │  0.00033844380 │ … │          9 │ Queens        │ \\x01\\x03\\x00\\x00\\x…  │\n",
       "│       10 │  0.09983947942 │  0.00043582382 │ … │         10 │ Queens        │ \\x01\\x03\\x00\\x00\\x…  │\n",
       "│        · │        ·       │        ·       │ · │          · │   ·           │          ·           │\n",
       "│        · │        ·       │        ·       │ · │          · │   ·           │          ·           │\n",
       "│        · │        ·       │        ·       │ · │          · │   ·           │          ·           │\n",
       "│      254 │  0.08588637549 │  0.00036004022 │ … │        254 │ Bronx         │ \\x01\\x03\\x00\\x00\\x…  │\n",
       "│      255 │  0.06238419977 │  0.00017230918 │ … │        255 │ Brooklyn      │ \\x01\\x03\\x00\\x00\\x…  │\n",
       "│      256 │  0.06791496696 │  0.00016861110 │ … │        256 │ Brooklyn      │ \\x01\\x03\\x00\\x00\\x…  │\n",
       "│      257 │  0.05866902598 │  0.00013890947 │ … │        257 │ Brooklyn      │ \\x01\\x03\\x00\\x00\\x…  │\n",
       "│      258 │  0.08901337877 │  0.00036620962 │ … │        258 │ Queens        │ \\x01\\x03\\x00\\x00\\x…  │\n",
       "│      259 │  0.12675030519 │  0.00039455249 │ … │        259 │ Bronx         │ \\x01\\x03\\x00\\x00\\x…  │\n",
       "│      260 │  0.13351415464 │  0.00042234533 │ … │        260 │ Queens        │ \\x01\\x03\\x00\\x00\\x…  │\n",
       "│      261 │  0.02712045636 │  0.00003434232 │ … │        261 │ Manhattan     │ \\x01\\x03\\x00\\x00\\x…  │\n",
       "│      262 │  0.04906362315 │  0.00012233027 │ … │        262 │ Manhattan     │ \\x01\\x06\\x00\\x00\\x…  │\n",
       "│      263 │  0.03701662530 │  0.00006576977 │ … │        263 │ Manhattan     │ \\x01\\x03\\x00\\x00\\x…  │\n",
       "├──────────┴────────────────┴────────────────┴───┴────────────┴───────────────┴──────────────────────┤\n",
       "│ 263 rows (20 shown)                                                            7 columns (6 shown) │\n",
       "└────────────────────────────────────────────────────────────────────────────────────────────────────┘"
      ]
     },
     "execution_count": 58,
     "metadata": {},
     "output_type": "execute_result"
    }
   ],
   "source": [
    "con.sql('FROM taxi_zones')"
   ]
  },
  {
   "cell_type": "markdown",
   "id": "f9e61353",
   "metadata": {},
   "source": [
    "Find out the unique values in the `borough` column and order them alphabetically."
   ]
  },
  {
   "cell_type": "code",
   "execution_count": 63,
   "id": "04d54c35",
   "metadata": {},
   "outputs": [
    {
     "data": {
      "text/plain": [
       "┌───────────────┐\n",
       "│    borough    │\n",
       "│    varchar    │\n",
       "├───────────────┤\n",
       "│ Bronx         │\n",
       "│ Brooklyn      │\n",
       "│ EWR           │\n",
       "│ Manhattan     │\n",
       "│ Queens        │\n",
       "│ Staten Island │\n",
       "└───────────────┘"
      ]
     },
     "execution_count": 63,
     "metadata": {},
     "output_type": "execute_result"
    }
   ],
   "source": [
    "# Add your code here\n",
    "con.sql(\"SELECT DISTINCT borough FROM taxi_zones ORDER BY borough\")"
   ]
  },
  {
   "cell_type": "markdown",
   "id": "9f10ad65",
   "metadata": {},
   "source": [
    "Export the `text_zones` table as a parquet file."
   ]
  },
  {
   "cell_type": "code",
   "execution_count": 65,
   "id": "371118e0",
   "metadata": {},
   "outputs": [],
   "source": [
    "# Add your code here\n",
    "con.sql(\"COPY taxi_zones TO 'taxi_zones.parquet' (FORMAT PARQUET)\")\n"
   ]
  },
  {
   "cell_type": "markdown",
   "id": "b52dd49a",
   "metadata": {},
   "source": [
    "## Question 5\n",
    "\n",
    "Explore the [Google Open Buildings](https://beta.source.coop/cholmes/google-open-buildings/v2/geoparquet-admin1/) and select a country of your choice with relatively small number of buildings (i.e., small file size). Get the three character country code and replace `[COUNTRY_NAME]` in the following path with the country code. Use it to load all the parquet files for the selected country into a new table called `buildings`.\n",
    "\n",
    "`s3://us-west-2.opendata.source.coop/google-research-open-buildings/v2/geoparquet-admin1/country=[COUNTRY_NAME]/*.parquet`"
   ]
  },
  {
   "cell_type": "code",
   "execution_count": 66,
   "id": "b45dfe92",
   "metadata": {},
   "outputs": [
    {
     "data": {
      "application/vnd.jupyter.widget-view+json": {
       "model_id": "ed19605afc2f4f7ca4fddb25ea7ff308",
       "version_major": 2,
       "version_minor": 0
      },
      "text/plain": [
       "FloatProgress(value=0.0, layout=Layout(width='auto'), style=ProgressStyle(bar_color='black'))"
      ]
     },
     "metadata": {},
     "output_type": "display_data"
    }
   ],
   "source": [
    "# Add your code here\n",
    "# con.sql('s3://us-west-2.opendata.source.coop/google-research-open-buildings/v2/geoparquet-admin1/country=AGO/*.parquet')\n",
    "\n",
    "con.sql(\n",
    "    \"\"\"\n",
    "CREATE TABLE IF NOT EXISTS buildings AS\n",
    "SELECT * FROM 's3://us-west-2.opendata.source.coop/google-research-open-buildings/v2/geoparquet-admin1/country=AGO/*.parquet'\n",
    "\"\"\"\n",
    ")"
   ]
  },
  {
   "cell_type": "markdown",
   "id": "5eb6234b",
   "metadata": {},
   "source": [
    "Find out the number of buildings in the selected country."
   ]
  },
  {
   "cell_type": "code",
   "execution_count": 67,
   "id": "7f910e88",
   "metadata": {},
   "outputs": [
    {
     "data": {
      "text/plain": [
       "┌─────────┬─────────┬────────────────┬────────────┬────────────────┬───────────────────────────────────────────────────┐\n",
       "│ country │ admin_1 │ area_in_meters │ confidence │ full_plus_code │                     geometry                      │\n",
       "│ varchar │ varchar │     double     │   double   │    varchar     │                       blob                        │\n",
       "├─────────┼─────────┼────────────────┼────────────┼────────────────┼───────────────────────────────────────────────────┤\n",
       "│ AGO     │ Bengo   │         9.7462 │     0.6895 │ 6F3M3R9J+8MFV  │ \\x01\\x03\\x00\\x00\\x00\\x01\\x00\\x00\\x00\\x05\\x00\\x0…  │\n",
       "│ AGO     │ Bengo   │        14.5865 │     0.6915 │ 6F3M3R9J+9R97  │ \\x01\\x03\\x00\\x00\\x00\\x01\\x00\\x00\\x00\\x05\\x00\\x0…  │\n",
       "│ AGO     │ Bengo   │        11.1536 │     0.6115 │ 6F3M3RFQ+V5P9  │ \\x01\\x03\\x00\\x00\\x00\\x01\\x00\\x00\\x00\\x05\\x00\\x0…  │\n",
       "│ AGO     │ Bengo   │        66.1149 │     0.7327 │ 6F3M3V99+GX7Q  │ \\x01\\x03\\x00\\x00\\x00\\x01\\x00\\x00\\x00\\x07\\x00\\x0…  │\n",
       "│ AGO     │ Bengo   │         17.532 │     0.6087 │ 6F3M3VC3+GRC4  │ \\x01\\x03\\x00\\x00\\x00\\x01\\x00\\x00\\x00\\x05\\x00\\x0…  │\n",
       "│ AGO     │ Bengo   │        14.0424 │     0.7287 │ 6F3M3VC3+GRFQ  │ \\x01\\x03\\x00\\x00\\x00\\x01\\x00\\x00\\x00\\x05\\x00\\x0…  │\n",
       "│ AGO     │ Bengo   │        27.7694 │     0.7456 │ 6F3M3VC3+JR62  │ \\x01\\x03\\x00\\x00\\x00\\x01\\x00\\x00\\x00\\x05\\x00\\x0…  │\n",
       "│ AGO     │ Bengo   │        19.2294 │     0.7218 │ 6F3M3VC3+JWP6  │ \\x01\\x03\\x00\\x00\\x00\\x01\\x00\\x00\\x00\\x05\\x00\\x0…  │\n",
       "│ AGO     │ Bengo   │        15.2001 │     0.6755 │ 6F3M3VC3+MPH5  │ \\x01\\x03\\x00\\x00\\x00\\x01\\x00\\x00\\x00\\x05\\x00\\x0…  │\n",
       "│ AGO     │ Bengo   │        35.5994 │     0.7754 │ 6F3M3VC3+PMW7  │ \\x01\\x03\\x00\\x00\\x00\\x01\\x00\\x00\\x00\\x05\\x00\\x0…  │\n",
       "│  ·      │   ·     │           ·    │        ·   │       ·        │                         ·                         │\n",
       "│  ·      │   ·     │           ·    │        ·   │       ·        │                         ·                         │\n",
       "│  ·      │   ·     │           ·    │        ·   │       ·        │                         ·                         │\n",
       "│ AGO     │ Bengo   │        58.4777 │     0.7819 │ 6F3M7C4H+5VP3  │ \\x01\\x03\\x00\\x00\\x00\\x01\\x00\\x00\\x00\\x05\\x00\\x0…  │\n",
       "│ AGO     │ Bengo   │         44.433 │     0.7452 │ 6F3M7C4H+5W3V  │ \\x01\\x03\\x00\\x00\\x00\\x01\\x00\\x00\\x00\\x05\\x00\\x0…  │\n",
       "│ AGO     │ Bengo   │        46.6477 │     0.7153 │ 6F3M7C4H+5W99  │ \\x01\\x03\\x00\\x00\\x00\\x01\\x00\\x00\\x00\\x07\\x00\\x0…  │\n",
       "│ AGO     │ Bengo   │        24.1115 │      0.771 │ 6F3M7C4H+5WFG  │ \\x01\\x03\\x00\\x00\\x00\\x01\\x00\\x00\\x00\\x05\\x00\\x0…  │\n",
       "│ AGO     │ Bengo   │        23.1526 │     0.7152 │ 6F3M7C4H+5WHP  │ \\x01\\x03\\x00\\x00\\x00\\x01\\x00\\x00\\x00\\x05\\x00\\x0…  │\n",
       "│ AGO     │ Bengo   │        11.4402 │     0.6034 │ 6F3M7C4H+5X4X  │ \\x01\\x03\\x00\\x00\\x00\\x01\\x00\\x00\\x00\\x05\\x00\\x0…  │\n",
       "│ AGO     │ Bengo   │       126.1814 │     0.7721 │ 6F3M7C4H+665H  │ \\x01\\x03\\x00\\x00\\x00\\x01\\x00\\x00\\x00\\x05\\x00\\x0…  │\n",
       "│ AGO     │ Bengo   │       130.4247 │      0.639 │ 6F3M7C4H+667R  │ \\x01\\x03\\x00\\x00\\x00\\x01\\x00\\x00\\x00\\x07\\x00\\x0…  │\n",
       "│ AGO     │ Bengo   │        56.1967 │     0.8478 │ 6F3M7C4H+6RGW  │ \\x01\\x03\\x00\\x00\\x00\\x01\\x00\\x00\\x00\\x05\\x00\\x0…  │\n",
       "│ AGO     │ Bengo   │         80.037 │      0.802 │ 6F3M7C4H+6VH5  │ \\x01\\x03\\x00\\x00\\x00\\x01\\x00\\x00\\x00\\x09\\x00\\x0…  │\n",
       "├─────────┴─────────┴────────────────┴────────────┴────────────────┴───────────────────────────────────────────────────┤\n",
       "│ ? rows (>9999 rows, 20 shown)                                                                              6 columns │\n",
       "└──────────────────────────────────────────────────────────────────────────────────────────────────────────────────────┘"
      ]
     },
     "execution_count": 67,
     "metadata": {},
     "output_type": "execute_result"
    }
   ],
   "source": [
    "# Add your code here\n",
    "con.sql('FROM buildings')"
   ]
  },
  {
   "cell_type": "code",
   "execution_count": 69,
   "metadata": {},
   "outputs": [
    {
     "data": {
      "text/plain": [
       "┌────────────────┐\n",
       "│ count(admin_1) │\n",
       "│     int64      │\n",
       "├────────────────┤\n",
       "│       11620543 │\n",
       "└────────────────┘"
      ]
     },
     "execution_count": 69,
     "metadata": {},
     "output_type": "execute_result"
    }
   ],
   "source": [
    "con.sql(\"SELECT COUNT (admin_1) FROM buildings\")"
   ]
  },
  {
   "cell_type": "markdown",
   "id": "3d5f136f",
   "metadata": {},
   "source": [
    "Find out the total area of all buildings in the selected country."
   ]
  },
  {
   "cell_type": "code",
   "execution_count": 70,
   "id": "4d42ae58",
   "metadata": {},
   "outputs": [
    {
     "data": {
      "text/plain": [
       "┌─────────────────────┐\n",
       "│ sum(area_in_meters) │\n",
       "│       double        │\n",
       "├─────────────────────┤\n",
       "│   520251749.5156959 │\n",
       "└─────────────────────┘"
      ]
     },
     "execution_count": 70,
     "metadata": {},
     "output_type": "execute_result"
    }
   ],
   "source": [
    "# Add your code here\n",
    "con.sql(\"SELECT SUM(area_in_meters) from buildings\")"
   ]
  },
  {
   "cell_type": "markdown",
   "id": "24212b25",
   "metadata": {},
   "source": [
    "Export the `buildings` table as a GeoPackage file."
   ]
  },
  {
   "cell_type": "code",
   "execution_count": 73,
   "id": "3c27d332",
   "metadata": {},
   "outputs": [],
   "source": [
    "# Add your code here. This is a massive file so I commented it out\n",
    "# con.sql(\"COPY buildings TO 'buildings.gpkg' WITH (FORMAT GDAL, DRIVER 'GPKG')\")"
   ]
  }
 ],
 "metadata": {
  "jupytext": {
   "text_representation": {
    "extension": ".md",
    "format_name": "myst",
    "format_version": 0.13,
    "jupytext_version": "1.15.2"
   }
  },
  "kernelspec": {
   "display_name": "Python 3",
   "language": "python",
   "name": "python3"
  },
  "language_info": {
   "codemirror_mode": {
    "name": "ipython",
    "version": 3
   },
   "file_extension": ".py",
   "mimetype": "text/x-python",
   "name": "python",
   "nbconvert_exporter": "python",
   "pygments_lexer": "ipython3",
   "version": "3.11.6"
  },
  "source_map": [
   12,
   27,
   31,
   34,
   40,
   42,
   48,
   50,
   56,
   58,
   62,
   64,
   68,
   70,
   74,
   76,
   80,
   82,
   86,
   88,
   94,
   96,
   100,
   102,
   106,
   108,
   116,
   118,
   122,
   124,
   128,
   130,
   134
  ]
 },
 "nbformat": 4,
 "nbformat_minor": 5
}
