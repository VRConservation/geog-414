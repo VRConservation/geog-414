{
 "cells": [
  {
   "cell_type": "markdown",
   "id": "096379bc",
   "metadata": {},
   "source": [
    "# Lab 9\n",
    "\n",
    "In this lab, you will explore spatial data analysis using Python and DuckDB. You'll work with real-world datasets, ranging from global country statistics to specific building datasets. This will give you a practical understanding of handling, analyzing, and visualizing spatial data.\n",
    "\n",
    "**Submission requirements**\n",
    "\n",
    "1. **HTML Version:** Submit an HTML version of your notebook. Ensure all code outputs are visible. (Export via VS Code: Notebook > Export > HTML).\n",
    "2. **Colab Link:** Provide a link to your notebook hosted on Google Colab for interactive review.\n",
    "\n",
    "## Setup\n",
    "\n",
    "Ensure you have DuckDB and Leafmap installed. Run the following command if needed:"
   ]
  },
  {
   "cell_type": "code",
   "execution_count": 2,
   "id": "5bbe8275",
   "metadata": {},
   "outputs": [
    {
     "name": "stdout",
     "output_type": "stream",
     "text": [
      "Collecting duckdb\n",
      "  Using cached duckdb-0.9.1.tar.gz (10.6 MB)\n",
      "  Preparing metadata (setup.py): started\n",
      "  Preparing metadata (setup.py): finished with status 'done'\n",
      "Building wheels for collected packages: duckdb\n",
      "  Building wheel for duckdb (setup.py): started\n",
      "  Building wheel for duckdb (setup.py): finished with status 'error'\n",
      "  Running setup.py clean for duckdb\n",
      "Failed to build duckdb\n",
      "Note: you may need to restart the kernel to use updated packages.\n"
     ]
    },
    {
     "name": "stderr",
     "output_type": "stream",
     "text": [
      "  error: subprocess-exited-with-error\n",
      "  \n",
      "  × python setup.py bdist_wheel did not run successfully.\n",
      "  │ exit code: 1\n",
      "  ╰─> [211 lines of output]\n",
      "      c:\\Users\\vance\\anaconda3\\envs\\gee\\Lib\\site-packages\\setuptools\\__init__.py:84: _DeprecatedInstaller: setuptools.installer and fetch_build_eggs are deprecated.\n",
      "      !!\n",
      "      \n",
      "              ********************************************************************************\n",
      "              Requirements should be satisfied by a PEP 517 installer.\n",
      "              If you are using pip, you can try `pip install --use-pep517`.\n",
      "              ********************************************************************************\n",
      "      \n",
      "      !!\n",
      "        dist.fetch_build_eggs(dist.setup_requires)\n",
      "      running bdist_wheel\n",
      "      running build\n",
      "      running build_py\n",
      "      creating build\n",
      "      creating build\\lib.win-amd64-cpython-312\n",
      "      creating build\\lib.win-amd64-cpython-312\\duckdb\n",
      "      copying duckdb\\bytes_io_wrapper.py -> build\\lib.win-amd64-cpython-312\\duckdb\n",
      "      copying duckdb\\filesystem.py -> build\\lib.win-amd64-cpython-312\\duckdb\n",
      "      copying duckdb\\udf.py -> build\\lib.win-amd64-cpython-312\\duckdb\n",
      "      copying duckdb\\__init__.py -> build\\lib.win-amd64-cpython-312\\duckdb\n",
      "      creating build\\lib.win-amd64-cpython-312\\duckdb\\typing\n",
      "      copying duckdb\\typing\\__init__.py -> build\\lib.win-amd64-cpython-312\\duckdb\\typing\n",
      "      creating build\\lib.win-amd64-cpython-312\\duckdb\\functional\n",
      "      copying duckdb\\functional\\__init__.py -> build\\lib.win-amd64-cpython-312\\duckdb\\functional\n",
      "      creating build\\lib.win-amd64-cpython-312\\duckdb\\value\n",
      "      copying duckdb\\value\\constant.py -> build\\lib.win-amd64-cpython-312\\duckdb\\value\n",
      "      creating build\\lib.win-amd64-cpython-312\\adbc_driver_duckdb\n",
      "      copying adbc_driver_duckdb\\dbapi.py -> build\\lib.win-amd64-cpython-312\\adbc_driver_duckdb\n",
      "      copying adbc_driver_duckdb\\__init__.py -> build\\lib.win-amd64-cpython-312\\adbc_driver_duckdb\n",
      "      creating build\\lib.win-amd64-cpython-312\\duckdb\\experimental\n",
      "      creating build\\lib.win-amd64-cpython-312\\duckdb\\experimental\\spark\n",
      "      copying duckdb\\experimental\\spark\\conf.py -> build\\lib.win-amd64-cpython-312\\duckdb\\experimental\\spark\n",
      "      copying duckdb\\experimental\\spark\\context.py -> build\\lib.win-amd64-cpython-312\\duckdb\\experimental\\spark\n",
      "      copying duckdb\\experimental\\spark\\exception.py -> build\\lib.win-amd64-cpython-312\\duckdb\\experimental\\spark\n",
      "      copying duckdb\\experimental\\spark\\_globals.py -> build\\lib.win-amd64-cpython-312\\duckdb\\experimental\\spark\n",
      "      copying duckdb\\experimental\\spark\\_typing.py -> build\\lib.win-amd64-cpython-312\\duckdb\\experimental\\spark\n",
      "      copying duckdb\\experimental\\spark\\__init__.py -> build\\lib.win-amd64-cpython-312\\duckdb\\experimental\\spark\n",
      "      creating build\\lib.win-amd64-cpython-312\\duckdb\\experimental\\spark\\sql\n",
      "      copying duckdb\\experimental\\spark\\sql\\catalog.py -> build\\lib.win-amd64-cpython-312\\duckdb\\experimental\\spark\\sql\n",
      "      copying duckdb\\experimental\\spark\\sql\\column.py -> build\\lib.win-amd64-cpython-312\\duckdb\\experimental\\spark\\sql\n",
      "      copying duckdb\\experimental\\spark\\sql\\conf.py -> build\\lib.win-amd64-cpython-312\\duckdb\\experimental\\spark\\sql\n",
      "      copying duckdb\\experimental\\spark\\sql\\dataframe.py -> build\\lib.win-amd64-cpython-312\\duckdb\\experimental\\spark\\sql\n",
      "      copying duckdb\\experimental\\spark\\sql\\functions.py -> build\\lib.win-amd64-cpython-312\\duckdb\\experimental\\spark\\sql\n",
      "      copying duckdb\\experimental\\spark\\sql\\group.py -> build\\lib.win-amd64-cpython-312\\duckdb\\experimental\\spark\\sql\n",
      "      copying duckdb\\experimental\\spark\\sql\\readwriter.py -> build\\lib.win-amd64-cpython-312\\duckdb\\experimental\\spark\\sql\n",
      "      copying duckdb\\experimental\\spark\\sql\\session.py -> build\\lib.win-amd64-cpython-312\\duckdb\\experimental\\spark\\sql\n",
      "      copying duckdb\\experimental\\spark\\sql\\streaming.py -> build\\lib.win-amd64-cpython-312\\duckdb\\experimental\\spark\\sql\n",
      "      copying duckdb\\experimental\\spark\\sql\\types.py -> build\\lib.win-amd64-cpython-312\\duckdb\\experimental\\spark\\sql\n",
      "      copying duckdb\\experimental\\spark\\sql\\type_utils.py -> build\\lib.win-amd64-cpython-312\\duckdb\\experimental\\spark\\sql\n",
      "      copying duckdb\\experimental\\spark\\sql\\udf.py -> build\\lib.win-amd64-cpython-312\\duckdb\\experimental\\spark\\sql\n",
      "      copying duckdb\\experimental\\spark\\sql\\_typing.py -> build\\lib.win-amd64-cpython-312\\duckdb\\experimental\\spark\\sql\n",
      "      copying duckdb\\experimental\\spark\\sql\\__init__.py -> build\\lib.win-amd64-cpython-312\\duckdb\\experimental\\spark\\sql\n",
      "      creating build\\lib.win-amd64-cpython-312\\duckdb\\experimental\\spark\\errors\n",
      "      copying duckdb\\experimental\\spark\\errors\\error_classes.py -> build\\lib.win-amd64-cpython-312\\duckdb\\experimental\\spark\\errors\n",
      "      copying duckdb\\experimental\\spark\\errors\\utils.py -> build\\lib.win-amd64-cpython-312\\duckdb\\experimental\\spark\\errors\n",
      "      copying duckdb\\experimental\\spark\\errors\\__init__.py -> build\\lib.win-amd64-cpython-312\\duckdb\\experimental\\spark\\errors\n",
      "      creating build\\lib.win-amd64-cpython-312\\duckdb\\experimental\\spark\\errors\\exceptions\n",
      "      copying duckdb\\experimental\\spark\\errors\\exceptions\\base.py -> build\\lib.win-amd64-cpython-312\\duckdb\\experimental\\spark\\errors\\exceptions\n",
      "      copying duckdb\\experimental\\spark\\errors\\exceptions\\__init__.py -> build\\lib.win-amd64-cpython-312\\duckdb\\experimental\\spark\\errors\\exceptions\n",
      "      running egg_info\n",
      "      writing duckdb.egg-info\\PKG-INFO\n",
      "      writing dependency_links to duckdb.egg-info\\dependency_links.txt\n",
      "      writing top-level names to duckdb.egg-info\\top_level.txt\n",
      "      listing git files failed - pretending there aren't any\n",
      "      reading manifest file 'duckdb.egg-info\\SOURCES.txt'\n",
      "      reading manifest template 'MANIFEST.in'\n",
      "      warning: no files found matching '*.h' under directory 'duckdb'\n",
      "      warning: no files found matching '*.hpp' under directory 'duckdb'\n",
      "      warning: no files found matching '*.cpp' under directory 'duckdb'\n",
      "      warning: no files found matching '*.h' under directory 'src'\n",
      "      warning: manifest_maker: MANIFEST.in, line 6: 'recursive-include' expects <dir> <pattern1> <pattern2> ...\n",
      "      \n",
      "      writing manifest file 'duckdb.egg-info\\SOURCES.txt'\n",
      "      c:\\Users\\vance\\anaconda3\\envs\\gee\\Lib\\site-packages\\setuptools\\command\\build_py.py:201: _Warning: Package 'duckdb-stubs.value' is absent from the `packages` configuration.\n",
      "      !!\n",
      "      \n",
      "              ********************************************************************************\n",
      "              ############################\n",
      "              # Package would be ignored #\n",
      "              ############################\n",
      "              Python recognizes 'duckdb-stubs.value' as an importable package[^1],\n",
      "              but it is absent from setuptools' `packages` configuration.\n",
      "      \n",
      "              This leads to an ambiguous overall configuration. If you want to distribute this\n",
      "              package, please make sure that 'duckdb-stubs.value' is explicitly added\n",
      "              to the `packages` configuration field.\n",
      "      \n",
      "              Alternatively, you can also rely on setuptools' discovery methods\n",
      "              (for example by using `find_namespace_packages(...)`/`find_namespace:`\n",
      "              instead of `find_packages(...)`/`find:`).\n",
      "      \n",
      "              You can read more about \"package discovery\" on setuptools documentation page:\n",
      "      \n",
      "              - https://setuptools.pypa.io/en/latest/userguide/package_discovery.html\n",
      "      \n",
      "              If you don't want 'duckdb-stubs.value' to be distributed and are\n",
      "              already explicitly excluding 'duckdb-stubs.value' via\n",
      "              `find_namespace_packages(...)/find_namespace` or `find_packages(...)/find`,\n",
      "              you can try to use `exclude_package_data`, or `include-package-data=False` in\n",
      "              combination with a more fine grained `package-data` configuration.\n",
      "      \n",
      "              You can read more about \"package data files\" on setuptools documentation page:\n",
      "      \n",
      "              - https://setuptools.pypa.io/en/latest/userguide/datafiles.html\n",
      "      \n",
      "      \n",
      "              [^1]: For Python, any directory (with suitable naming) can be imported,\n",
      "                    even if it does not contain any `.py` files.\n",
      "                    On the other hand, currently there is no concept of package data\n",
      "                    directory, all directories are treated like packages.\n",
      "              ********************************************************************************\n",
      "      \n",
      "      !!\n",
      "        check.warn(importable)\n",
      "      c:\\Users\\vance\\anaconda3\\envs\\gee\\Lib\\site-packages\\setuptools\\command\\build_py.py:201: _Warning: Package 'duckdb-stubs.value.constant' is absent from the `packages` configuration.\n",
      "      !!\n",
      "      \n",
      "              ********************************************************************************\n",
      "              ############################\n",
      "              # Package would be ignored #\n",
      "              ############################\n",
      "              Python recognizes 'duckdb-stubs.value.constant' as an importable package[^1],\n",
      "              but it is absent from setuptools' `packages` configuration.\n",
      "      \n",
      "              This leads to an ambiguous overall configuration. If you want to distribute this\n",
      "              package, please make sure that 'duckdb-stubs.value.constant' is explicitly added\n",
      "              to the `packages` configuration field.\n",
      "      \n",
      "              Alternatively, you can also rely on setuptools' discovery methods\n",
      "              (for example by using `find_namespace_packages(...)`/`find_namespace:`\n",
      "              instead of `find_packages(...)`/`find:`).\n",
      "      \n",
      "              You can read more about \"package discovery\" on setuptools documentation page:\n",
      "      \n",
      "              - https://setuptools.pypa.io/en/latest/userguide/package_discovery.html\n",
      "      \n",
      "              If you don't want 'duckdb-stubs.value.constant' to be distributed and are\n",
      "              already explicitly excluding 'duckdb-stubs.value.constant' via\n",
      "              `find_namespace_packages(...)/find_namespace` or `find_packages(...)/find`,\n",
      "              you can try to use `exclude_package_data`, or `include-package-data=False` in\n",
      "              combination with a more fine grained `package-data` configuration.\n",
      "      \n",
      "              You can read more about \"package data files\" on setuptools documentation page:\n",
      "      \n",
      "              - https://setuptools.pypa.io/en/latest/userguide/datafiles.html\n",
      "      \n",
      "      \n",
      "              [^1]: For Python, any directory (with suitable naming) can be imported,\n",
      "                    even if it does not contain any `.py` files.\n",
      "                    On the other hand, currently there is no concept of package data\n",
      "                    directory, all directories are treated like packages.\n",
      "              ********************************************************************************\n",
      "      \n",
      "      !!\n",
      "        check.warn(importable)\n",
      "      c:\\Users\\vance\\anaconda3\\envs\\gee\\Lib\\site-packages\\setuptools\\command\\build_py.py:201: _Warning: Package 'duckdb.experimental' is absent from the `packages` configuration.\n",
      "      !!\n",
      "      \n",
      "              ********************************************************************************\n",
      "              ############################\n",
      "              # Package would be ignored #\n",
      "              ############################\n",
      "              Python recognizes 'duckdb.experimental' as an importable package[^1],\n",
      "              but it is absent from setuptools' `packages` configuration.\n",
      "      \n",
      "              This leads to an ambiguous overall configuration. If you want to distribute this\n",
      "              package, please make sure that 'duckdb.experimental' is explicitly added\n",
      "              to the `packages` configuration field.\n",
      "      \n",
      "              Alternatively, you can also rely on setuptools' discovery methods\n",
      "              (for example by using `find_namespace_packages(...)`/`find_namespace:`\n",
      "              instead of `find_packages(...)`/`find:`).\n",
      "      \n",
      "              You can read more about \"package discovery\" on setuptools documentation page:\n",
      "      \n",
      "              - https://setuptools.pypa.io/en/latest/userguide/package_discovery.html\n",
      "      \n",
      "              If you don't want 'duckdb.experimental' to be distributed and are\n",
      "              already explicitly excluding 'duckdb.experimental' via\n",
      "              `find_namespace_packages(...)/find_namespace` or `find_packages(...)/find`,\n",
      "              you can try to use `exclude_package_data`, or `include-package-data=False` in\n",
      "              combination with a more fine grained `package-data` configuration.\n",
      "      \n",
      "              You can read more about \"package data files\" on setuptools documentation page:\n",
      "      \n",
      "              - https://setuptools.pypa.io/en/latest/userguide/datafiles.html\n",
      "      \n",
      "      \n",
      "              [^1]: For Python, any directory (with suitable naming) can be imported,\n",
      "                    even if it does not contain any `.py` files.\n",
      "                    On the other hand, currently there is no concept of package data\n",
      "                    directory, all directories are treated like packages.\n",
      "              ********************************************************************************\n",
      "      \n",
      "      !!\n",
      "        check.warn(importable)\n",
      "      copying duckdb\\experimental\\__init__.py -> build\\lib.win-amd64-cpython-312\\duckdb\\experimental\n",
      "      creating build\\lib.win-amd64-cpython-312\\duckdb-stubs\n",
      "      copying duckdb-stubs\\__init__.pyi -> build\\lib.win-amd64-cpython-312\\duckdb-stubs\n",
      "      creating build\\lib.win-amd64-cpython-312\\duckdb-stubs\\value\n",
      "      copying duckdb-stubs\\value\\__init__.pyi -> build\\lib.win-amd64-cpython-312\\duckdb-stubs\\value\n",
      "      creating build\\lib.win-amd64-cpython-312\\duckdb-stubs\\value\\constant\n",
      "      copying duckdb-stubs\\value\\constant\\__init__.pyi -> build\\lib.win-amd64-cpython-312\\duckdb-stubs\\value\\constant\n",
      "      creating build\\lib.win-amd64-cpython-312\\duckdb-stubs\\functional\n",
      "      copying duckdb-stubs\\functional\\__init__.pyi -> build\\lib.win-amd64-cpython-312\\duckdb-stubs\\functional\n",
      "      creating build\\lib.win-amd64-cpython-312\\duckdb-stubs\\typing\n",
      "      copying duckdb-stubs\\typing\\__init__.pyi -> build\\lib.win-amd64-cpython-312\\duckdb-stubs\\typing\n",
      "      copying duckdb\\experimental\\spark\\LICENSE -> build\\lib.win-amd64-cpython-312\\duckdb\\experimental\\spark\n",
      "      running build_ext\n",
      "      building 'duckdb.duckdb' extension\n",
      "      error: Microsoft Visual C++ 14.0 or greater is required. Get it with \"Microsoft C++ Build Tools\": https://visualstudio.microsoft.com/visual-cpp-build-tools/\n",
      "      [end of output]\n",
      "  \n",
      "  note: This error originates from a subprocess, and is likely not a problem with pip.\n",
      "  ERROR: Failed building wheel for duckdb\n",
      "ERROR: Could not build wheels for duckdb, which is required to install pyproject.toml-based projects\n"
     ]
    }
   ],
   "source": [
    "%pip install duckdb"
   ]
  },
  {
   "cell_type": "code",
   "execution_count": 3,
   "metadata": {},
   "outputs": [
    {
     "name": "stdout",
     "output_type": "stream",
     "text": [
      "Collecting duckdb-engine\n",
      "  Using cached duckdb_engine-0.9.2-py3-none-any.whl.metadata (6.8 kB)\n",
      "Collecting duckdb>=0.4.0 (from duckdb-engine)\n",
      "  Using cached duckdb-0.9.1.tar.gz (10.6 MB)\n",
      "  Preparing metadata (setup.py): started\n",
      "  Preparing metadata (setup.py): finished with status 'done'\n",
      "Requirement already satisfied: sqlalchemy>=1.3.22 in c:\\users\\vance\\anaconda3\\envs\\gee\\lib\\site-packages (from duckdb-engine) (2.0.23)\n",
      "Requirement already satisfied: typing-extensions>=4.2.0 in c:\\users\\vance\\anaconda3\\envs\\gee\\lib\\site-packages (from sqlalchemy>=1.3.22->duckdb-engine) (4.8.0)\n",
      "Requirement already satisfied: greenlet!=0.4.17 in c:\\users\\vance\\anaconda3\\envs\\gee\\lib\\site-packages (from sqlalchemy>=1.3.22->duckdb-engine) (3.0.1)\n",
      "Using cached duckdb_engine-0.9.2-py3-none-any.whl (43 kB)\n",
      "Building wheels for collected packages: duckdb\n",
      "  Building wheel for duckdb (setup.py): started\n",
      "  Building wheel for duckdb (setup.py): finished with status 'error'\n",
      "  Running setup.py clean for duckdb\n",
      "Failed to build duckdb\n",
      "Note: you may need to restart the kernel to use updated packages.\n"
     ]
    },
    {
     "name": "stderr",
     "output_type": "stream",
     "text": [
      "  error: subprocess-exited-with-error\n",
      "  \n",
      "  × python setup.py bdist_wheel did not run successfully.\n",
      "  │ exit code: 1\n",
      "  ╰─> [211 lines of output]\n",
      "      c:\\Users\\vance\\anaconda3\\envs\\gee\\Lib\\site-packages\\setuptools\\__init__.py:84: _DeprecatedInstaller: setuptools.installer and fetch_build_eggs are deprecated.\n",
      "      !!\n",
      "      \n",
      "              ********************************************************************************\n",
      "              Requirements should be satisfied by a PEP 517 installer.\n",
      "              If you are using pip, you can try `pip install --use-pep517`.\n",
      "              ********************************************************************************\n",
      "      \n",
      "      !!\n",
      "        dist.fetch_build_eggs(dist.setup_requires)\n",
      "      running bdist_wheel\n",
      "      running build\n",
      "      running build_py\n",
      "      creating build\n",
      "      creating build\\lib.win-amd64-cpython-312\n",
      "      creating build\\lib.win-amd64-cpython-312\\duckdb\n",
      "      copying duckdb\\bytes_io_wrapper.py -> build\\lib.win-amd64-cpython-312\\duckdb\n",
      "      copying duckdb\\filesystem.py -> build\\lib.win-amd64-cpython-312\\duckdb\n",
      "      copying duckdb\\udf.py -> build\\lib.win-amd64-cpython-312\\duckdb\n",
      "      copying duckdb\\__init__.py -> build\\lib.win-amd64-cpython-312\\duckdb\n",
      "      creating build\\lib.win-amd64-cpython-312\\duckdb\\typing\n",
      "      copying duckdb\\typing\\__init__.py -> build\\lib.win-amd64-cpython-312\\duckdb\\typing\n",
      "      creating build\\lib.win-amd64-cpython-312\\duckdb\\functional\n",
      "      copying duckdb\\functional\\__init__.py -> build\\lib.win-amd64-cpython-312\\duckdb\\functional\n",
      "      creating build\\lib.win-amd64-cpython-312\\duckdb\\value\n",
      "      copying duckdb\\value\\constant.py -> build\\lib.win-amd64-cpython-312\\duckdb\\value\n",
      "      creating build\\lib.win-amd64-cpython-312\\adbc_driver_duckdb\n",
      "      copying adbc_driver_duckdb\\dbapi.py -> build\\lib.win-amd64-cpython-312\\adbc_driver_duckdb\n",
      "      copying adbc_driver_duckdb\\__init__.py -> build\\lib.win-amd64-cpython-312\\adbc_driver_duckdb\n",
      "      creating build\\lib.win-amd64-cpython-312\\duckdb\\experimental\n",
      "      creating build\\lib.win-amd64-cpython-312\\duckdb\\experimental\\spark\n",
      "      copying duckdb\\experimental\\spark\\conf.py -> build\\lib.win-amd64-cpython-312\\duckdb\\experimental\\spark\n",
      "      copying duckdb\\experimental\\spark\\context.py -> build\\lib.win-amd64-cpython-312\\duckdb\\experimental\\spark\n",
      "      copying duckdb\\experimental\\spark\\exception.py -> build\\lib.win-amd64-cpython-312\\duckdb\\experimental\\spark\n",
      "      copying duckdb\\experimental\\spark\\_globals.py -> build\\lib.win-amd64-cpython-312\\duckdb\\experimental\\spark\n",
      "      copying duckdb\\experimental\\spark\\_typing.py -> build\\lib.win-amd64-cpython-312\\duckdb\\experimental\\spark\n",
      "      copying duckdb\\experimental\\spark\\__init__.py -> build\\lib.win-amd64-cpython-312\\duckdb\\experimental\\spark\n",
      "      creating build\\lib.win-amd64-cpython-312\\duckdb\\experimental\\spark\\sql\n",
      "      copying duckdb\\experimental\\spark\\sql\\catalog.py -> build\\lib.win-amd64-cpython-312\\duckdb\\experimental\\spark\\sql\n",
      "      copying duckdb\\experimental\\spark\\sql\\column.py -> build\\lib.win-amd64-cpython-312\\duckdb\\experimental\\spark\\sql\n",
      "      copying duckdb\\experimental\\spark\\sql\\conf.py -> build\\lib.win-amd64-cpython-312\\duckdb\\experimental\\spark\\sql\n",
      "      copying duckdb\\experimental\\spark\\sql\\dataframe.py -> build\\lib.win-amd64-cpython-312\\duckdb\\experimental\\spark\\sql\n",
      "      copying duckdb\\experimental\\spark\\sql\\functions.py -> build\\lib.win-amd64-cpython-312\\duckdb\\experimental\\spark\\sql\n",
      "      copying duckdb\\experimental\\spark\\sql\\group.py -> build\\lib.win-amd64-cpython-312\\duckdb\\experimental\\spark\\sql\n",
      "      copying duckdb\\experimental\\spark\\sql\\readwriter.py -> build\\lib.win-amd64-cpython-312\\duckdb\\experimental\\spark\\sql\n",
      "      copying duckdb\\experimental\\spark\\sql\\session.py -> build\\lib.win-amd64-cpython-312\\duckdb\\experimental\\spark\\sql\n",
      "      copying duckdb\\experimental\\spark\\sql\\streaming.py -> build\\lib.win-amd64-cpython-312\\duckdb\\experimental\\spark\\sql\n",
      "      copying duckdb\\experimental\\spark\\sql\\types.py -> build\\lib.win-amd64-cpython-312\\duckdb\\experimental\\spark\\sql\n",
      "      copying duckdb\\experimental\\spark\\sql\\type_utils.py -> build\\lib.win-amd64-cpython-312\\duckdb\\experimental\\spark\\sql\n",
      "      copying duckdb\\experimental\\spark\\sql\\udf.py -> build\\lib.win-amd64-cpython-312\\duckdb\\experimental\\spark\\sql\n",
      "      copying duckdb\\experimental\\spark\\sql\\_typing.py -> build\\lib.win-amd64-cpython-312\\duckdb\\experimental\\spark\\sql\n",
      "      copying duckdb\\experimental\\spark\\sql\\__init__.py -> build\\lib.win-amd64-cpython-312\\duckdb\\experimental\\spark\\sql\n",
      "      creating build\\lib.win-amd64-cpython-312\\duckdb\\experimental\\spark\\errors\n",
      "      copying duckdb\\experimental\\spark\\errors\\error_classes.py -> build\\lib.win-amd64-cpython-312\\duckdb\\experimental\\spark\\errors\n",
      "      copying duckdb\\experimental\\spark\\errors\\utils.py -> build\\lib.win-amd64-cpython-312\\duckdb\\experimental\\spark\\errors\n",
      "      copying duckdb\\experimental\\spark\\errors\\__init__.py -> build\\lib.win-amd64-cpython-312\\duckdb\\experimental\\spark\\errors\n",
      "      creating build\\lib.win-amd64-cpython-312\\duckdb\\experimental\\spark\\errors\\exceptions\n",
      "      copying duckdb\\experimental\\spark\\errors\\exceptions\\base.py -> build\\lib.win-amd64-cpython-312\\duckdb\\experimental\\spark\\errors\\exceptions\n",
      "      copying duckdb\\experimental\\spark\\errors\\exceptions\\__init__.py -> build\\lib.win-amd64-cpython-312\\duckdb\\experimental\\spark\\errors\\exceptions\n",
      "      running egg_info\n",
      "      writing duckdb.egg-info\\PKG-INFO\n",
      "      writing dependency_links to duckdb.egg-info\\dependency_links.txt\n",
      "      writing top-level names to duckdb.egg-info\\top_level.txt\n",
      "      listing git files failed - pretending there aren't any\n",
      "      reading manifest file 'duckdb.egg-info\\SOURCES.txt'\n",
      "      reading manifest template 'MANIFEST.in'\n",
      "      warning: no files found matching '*.h' under directory 'duckdb'\n",
      "      warning: no files found matching '*.hpp' under directory 'duckdb'\n",
      "      warning: no files found matching '*.cpp' under directory 'duckdb'\n",
      "      warning: no files found matching '*.h' under directory 'src'\n",
      "      warning: manifest_maker: MANIFEST.in, line 6: 'recursive-include' expects <dir> <pattern1> <pattern2> ...\n",
      "      \n",
      "      writing manifest file 'duckdb.egg-info\\SOURCES.txt'\n",
      "      c:\\Users\\vance\\anaconda3\\envs\\gee\\Lib\\site-packages\\setuptools\\command\\build_py.py:201: _Warning: Package 'duckdb-stubs.value' is absent from the `packages` configuration.\n",
      "      !!\n",
      "      \n",
      "              ********************************************************************************\n",
      "              ############################\n",
      "              # Package would be ignored #\n",
      "              ############################\n",
      "              Python recognizes 'duckdb-stubs.value' as an importable package[^1],\n",
      "              but it is absent from setuptools' `packages` configuration.\n",
      "      \n",
      "              This leads to an ambiguous overall configuration. If you want to distribute this\n",
      "              package, please make sure that 'duckdb-stubs.value' is explicitly added\n",
      "              to the `packages` configuration field.\n",
      "      \n",
      "              Alternatively, you can also rely on setuptools' discovery methods\n",
      "              (for example by using `find_namespace_packages(...)`/`find_namespace:`\n",
      "              instead of `find_packages(...)`/`find:`).\n",
      "      \n",
      "              You can read more about \"package discovery\" on setuptools documentation page:\n",
      "      \n",
      "              - https://setuptools.pypa.io/en/latest/userguide/package_discovery.html\n",
      "      \n",
      "              If you don't want 'duckdb-stubs.value' to be distributed and are\n",
      "              already explicitly excluding 'duckdb-stubs.value' via\n",
      "              `find_namespace_packages(...)/find_namespace` or `find_packages(...)/find`,\n",
      "              you can try to use `exclude_package_data`, or `include-package-data=False` in\n",
      "              combination with a more fine grained `package-data` configuration.\n",
      "      \n",
      "              You can read more about \"package data files\" on setuptools documentation page:\n",
      "      \n",
      "              - https://setuptools.pypa.io/en/latest/userguide/datafiles.html\n",
      "      \n",
      "      \n",
      "              [^1]: For Python, any directory (with suitable naming) can be imported,\n",
      "                    even if it does not contain any `.py` files.\n",
      "                    On the other hand, currently there is no concept of package data\n",
      "                    directory, all directories are treated like packages.\n",
      "              ********************************************************************************\n",
      "      \n",
      "      !!\n",
      "        check.warn(importable)\n",
      "      c:\\Users\\vance\\anaconda3\\envs\\gee\\Lib\\site-packages\\setuptools\\command\\build_py.py:201: _Warning: Package 'duckdb-stubs.value.constant' is absent from the `packages` configuration.\n",
      "      !!\n",
      "      \n",
      "              ********************************************************************************\n",
      "              ############################\n",
      "              # Package would be ignored #\n",
      "              ############################\n",
      "              Python recognizes 'duckdb-stubs.value.constant' as an importable package[^1],\n",
      "              but it is absent from setuptools' `packages` configuration.\n",
      "      \n",
      "              This leads to an ambiguous overall configuration. If you want to distribute this\n",
      "              package, please make sure that 'duckdb-stubs.value.constant' is explicitly added\n",
      "              to the `packages` configuration field.\n",
      "      \n",
      "              Alternatively, you can also rely on setuptools' discovery methods\n",
      "              (for example by using `find_namespace_packages(...)`/`find_namespace:`\n",
      "              instead of `find_packages(...)`/`find:`).\n",
      "      \n",
      "              You can read more about \"package discovery\" on setuptools documentation page:\n",
      "      \n",
      "              - https://setuptools.pypa.io/en/latest/userguide/package_discovery.html\n",
      "      \n",
      "              If you don't want 'duckdb-stubs.value.constant' to be distributed and are\n",
      "              already explicitly excluding 'duckdb-stubs.value.constant' via\n",
      "              `find_namespace_packages(...)/find_namespace` or `find_packages(...)/find`,\n",
      "              you can try to use `exclude_package_data`, or `include-package-data=False` in\n",
      "              combination with a more fine grained `package-data` configuration.\n",
      "      \n",
      "              You can read more about \"package data files\" on setuptools documentation page:\n",
      "      \n",
      "              - https://setuptools.pypa.io/en/latest/userguide/datafiles.html\n",
      "      \n",
      "      \n",
      "              [^1]: For Python, any directory (with suitable naming) can be imported,\n",
      "                    even if it does not contain any `.py` files.\n",
      "                    On the other hand, currently there is no concept of package data\n",
      "                    directory, all directories are treated like packages.\n",
      "              ********************************************************************************\n",
      "      \n",
      "      !!\n",
      "        check.warn(importable)\n",
      "      c:\\Users\\vance\\anaconda3\\envs\\gee\\Lib\\site-packages\\setuptools\\command\\build_py.py:201: _Warning: Package 'duckdb.experimental' is absent from the `packages` configuration.\n",
      "      !!\n",
      "      \n",
      "              ********************************************************************************\n",
      "              ############################\n",
      "              # Package would be ignored #\n",
      "              ############################\n",
      "              Python recognizes 'duckdb.experimental' as an importable package[^1],\n",
      "              but it is absent from setuptools' `packages` configuration.\n",
      "      \n",
      "              This leads to an ambiguous overall configuration. If you want to distribute this\n",
      "              package, please make sure that 'duckdb.experimental' is explicitly added\n",
      "              to the `packages` configuration field.\n",
      "      \n",
      "              Alternatively, you can also rely on setuptools' discovery methods\n",
      "              (for example by using `find_namespace_packages(...)`/`find_namespace:`\n",
      "              instead of `find_packages(...)`/`find:`).\n",
      "      \n",
      "              You can read more about \"package discovery\" on setuptools documentation page:\n",
      "      \n",
      "              - https://setuptools.pypa.io/en/latest/userguide/package_discovery.html\n",
      "      \n",
      "              If you don't want 'duckdb.experimental' to be distributed and are\n",
      "              already explicitly excluding 'duckdb.experimental' via\n",
      "              `find_namespace_packages(...)/find_namespace` or `find_packages(...)/find`,\n",
      "              you can try to use `exclude_package_data`, or `include-package-data=False` in\n",
      "              combination with a more fine grained `package-data` configuration.\n",
      "      \n",
      "              You can read more about \"package data files\" on setuptools documentation page:\n",
      "      \n",
      "              - https://setuptools.pypa.io/en/latest/userguide/datafiles.html\n",
      "      \n",
      "      \n",
      "              [^1]: For Python, any directory (with suitable naming) can be imported,\n",
      "                    even if it does not contain any `.py` files.\n",
      "                    On the other hand, currently there is no concept of package data\n",
      "                    directory, all directories are treated like packages.\n",
      "              ********************************************************************************\n",
      "      \n",
      "      !!\n",
      "        check.warn(importable)\n",
      "      copying duckdb\\experimental\\__init__.py -> build\\lib.win-amd64-cpython-312\\duckdb\\experimental\n",
      "      creating build\\lib.win-amd64-cpython-312\\duckdb-stubs\n",
      "      copying duckdb-stubs\\__init__.pyi -> build\\lib.win-amd64-cpython-312\\duckdb-stubs\n",
      "      creating build\\lib.win-amd64-cpython-312\\duckdb-stubs\\value\n",
      "      copying duckdb-stubs\\value\\__init__.pyi -> build\\lib.win-amd64-cpython-312\\duckdb-stubs\\value\n",
      "      creating build\\lib.win-amd64-cpython-312\\duckdb-stubs\\value\\constant\n",
      "      copying duckdb-stubs\\value\\constant\\__init__.pyi -> build\\lib.win-amd64-cpython-312\\duckdb-stubs\\value\\constant\n",
      "      creating build\\lib.win-amd64-cpython-312\\duckdb-stubs\\functional\n",
      "      copying duckdb-stubs\\functional\\__init__.pyi -> build\\lib.win-amd64-cpython-312\\duckdb-stubs\\functional\n",
      "      creating build\\lib.win-amd64-cpython-312\\duckdb-stubs\\typing\n",
      "      copying duckdb-stubs\\typing\\__init__.pyi -> build\\lib.win-amd64-cpython-312\\duckdb-stubs\\typing\n",
      "      copying duckdb\\experimental\\spark\\LICENSE -> build\\lib.win-amd64-cpython-312\\duckdb\\experimental\\spark\n",
      "      running build_ext\n",
      "      building 'duckdb.duckdb' extension\n",
      "      error: Microsoft Visual C++ 14.0 or greater is required. Get it with \"Microsoft C++ Build Tools\": https://visualstudio.microsoft.com/visual-cpp-build-tools/\n",
      "      [end of output]\n",
      "  \n",
      "  note: This error originates from a subprocess, and is likely not a problem with pip.\n",
      "  ERROR: Failed building wheel for duckdb\n",
      "ERROR: Could not build wheels for duckdb, which is required to install pyproject.toml-based projects\n"
     ]
    }
   ],
   "source": [
    "pip install duckdb-engine"
   ]
  },
  {
   "cell_type": "code",
   "execution_count": 4,
   "metadata": {},
   "outputs": [
    {
     "name": "stdout",
     "output_type": "stream",
     "text": [
      "Requirement already satisfied: jupysql in c:\\users\\vance\\anaconda3\\envs\\gee\\lib\\site-packages (0.10.2)\n",
      "Requirement already satisfied: prettytable in c:\\users\\vance\\anaconda3\\envs\\gee\\lib\\site-packages (from jupysql) (3.9.0)\n",
      "Requirement already satisfied: ipython in c:\\users\\vance\\anaconda3\\envs\\gee\\lib\\site-packages (from jupysql) (8.17.2)\n",
      "Requirement already satisfied: sqlalchemy in c:\\users\\vance\\anaconda3\\envs\\gee\\lib\\site-packages (from jupysql) (2.0.23)\n",
      "Requirement already satisfied: sqlparse in c:\\users\\vance\\anaconda3\\envs\\gee\\lib\\site-packages (from jupysql) (0.4.4)\n",
      "Requirement already satisfied: ipython-genutils>=0.1.0 in c:\\users\\vance\\anaconda3\\envs\\gee\\lib\\site-packages (from jupysql) (0.2.0)\n",
      "Requirement already satisfied: jinja2 in c:\\users\\vance\\anaconda3\\envs\\gee\\lib\\site-packages (from jupysql) (3.1.2)\n",
      "Requirement already satisfied: sqlglot>=11.3.7 in c:\\users\\vance\\anaconda3\\envs\\gee\\lib\\site-packages (from jupysql) (19.0.3)\n",
      "Requirement already satisfied: ploomber-core>=0.2.7 in c:\\users\\vance\\anaconda3\\envs\\gee\\lib\\site-packages (from jupysql) (0.2.15)\n",
      "Requirement already satisfied: jupysql-plugin in c:\\users\\vance\\anaconda3\\envs\\gee\\lib\\site-packages (from jupysql) (0.2.6)\n",
      "Requirement already satisfied: click in c:\\users\\vance\\anaconda3\\envs\\gee\\lib\\site-packages (from ploomber-core>=0.2.7->jupysql) (8.1.7)\n",
      "Requirement already satisfied: pyyaml in c:\\users\\vance\\anaconda3\\envs\\gee\\lib\\site-packages (from ploomber-core>=0.2.7->jupysql) (6.0.1)\n",
      "Requirement already satisfied: posthog in c:\\users\\vance\\anaconda3\\envs\\gee\\lib\\site-packages (from ploomber-core>=0.2.7->jupysql) (3.0.2)\n",
      "Requirement already satisfied: decorator in c:\\users\\vance\\anaconda3\\envs\\gee\\lib\\site-packages (from ipython->jupysql) (5.1.1)\n",
      "Requirement already satisfied: jedi>=0.16 in c:\\users\\vance\\anaconda3\\envs\\gee\\lib\\site-packages (from ipython->jupysql) (0.19.1)\n",
      "Requirement already satisfied: matplotlib-inline in c:\\users\\vance\\anaconda3\\envs\\gee\\lib\\site-packages (from ipython->jupysql) (0.1.6)\n",
      "Requirement already satisfied: prompt-toolkit!=3.0.37,<3.1.0,>=3.0.30 in c:\\users\\vance\\anaconda3\\envs\\gee\\lib\\site-packages (from ipython->jupysql) (3.0.39)\n",
      "Requirement already satisfied: pygments>=2.4.0 in c:\\users\\vance\\anaconda3\\envs\\gee\\lib\\site-packages (from ipython->jupysql) (2.16.1)\n",
      "Requirement already satisfied: stack-data in c:\\users\\vance\\anaconda3\\envs\\gee\\lib\\site-packages (from ipython->jupysql) (0.6.2)\n",
      "Requirement already satisfied: traitlets>=5 in c:\\users\\vance\\anaconda3\\envs\\gee\\lib\\site-packages (from ipython->jupysql) (5.13.0)\n",
      "Requirement already satisfied: colorama in c:\\users\\vance\\anaconda3\\envs\\gee\\lib\\site-packages (from ipython->jupysql) (0.4.6)\n",
      "Requirement already satisfied: MarkupSafe>=2.0 in c:\\users\\vance\\anaconda3\\envs\\gee\\lib\\site-packages (from jinja2->jupysql) (2.1.3)\n",
      "Requirement already satisfied: wcwidth in c:\\users\\vance\\anaconda3\\envs\\gee\\lib\\site-packages (from prettytable->jupysql) (0.2.9)\n",
      "Requirement already satisfied: typing-extensions>=4.2.0 in c:\\users\\vance\\anaconda3\\envs\\gee\\lib\\site-packages (from sqlalchemy->jupysql) (4.8.0)\n",
      "Requirement already satisfied: greenlet!=0.4.17 in c:\\users\\vance\\anaconda3\\envs\\gee\\lib\\site-packages (from sqlalchemy->jupysql) (3.0.1)\n",
      "Requirement already satisfied: parso<0.9.0,>=0.8.3 in c:\\users\\vance\\anaconda3\\envs\\gee\\lib\\site-packages (from jedi>=0.16->ipython->jupysql) (0.8.3)\n",
      "Requirement already satisfied: requests<3.0,>=2.7 in c:\\users\\vance\\anaconda3\\envs\\gee\\lib\\site-packages (from posthog->ploomber-core>=0.2.7->jupysql) (2.31.0)\n",
      "Requirement already satisfied: six>=1.5 in c:\\users\\vance\\anaconda3\\envs\\gee\\lib\\site-packages (from posthog->ploomber-core>=0.2.7->jupysql) (1.16.0)\n",
      "Requirement already satisfied: monotonic>=1.5 in c:\\users\\vance\\anaconda3\\envs\\gee\\lib\\site-packages (from posthog->ploomber-core>=0.2.7->jupysql) (1.6)\n",
      "Requirement already satisfied: backoff>=1.10.0 in c:\\users\\vance\\anaconda3\\envs\\gee\\lib\\site-packages (from posthog->ploomber-core>=0.2.7->jupysql) (2.2.1)\n",
      "Requirement already satisfied: python-dateutil>2.1 in c:\\users\\vance\\anaconda3\\envs\\gee\\lib\\site-packages (from posthog->ploomber-core>=0.2.7->jupysql) (2.8.2)\n",
      "Requirement already satisfied: executing>=1.2.0 in c:\\users\\vance\\anaconda3\\envs\\gee\\lib\\site-packages (from stack-data->ipython->jupysql) (2.0.1)\n",
      "Requirement already satisfied: asttokens>=2.1.0 in c:\\users\\vance\\anaconda3\\envs\\gee\\lib\\site-packages (from stack-data->ipython->jupysql) (2.4.1)\n",
      "Requirement already satisfied: pure-eval in c:\\users\\vance\\anaconda3\\envs\\gee\\lib\\site-packages (from stack-data->ipython->jupysql) (0.2.2)\n",
      "Requirement already satisfied: charset-normalizer<4,>=2 in c:\\users\\vance\\anaconda3\\envs\\gee\\lib\\site-packages (from requests<3.0,>=2.7->posthog->ploomber-core>=0.2.7->jupysql) (3.3.2)\n",
      "Requirement already satisfied: idna<4,>=2.5 in c:\\users\\vance\\anaconda3\\envs\\gee\\lib\\site-packages (from requests<3.0,>=2.7->posthog->ploomber-core>=0.2.7->jupysql) (3.4)\n",
      "Requirement already satisfied: urllib3<3,>=1.21.1 in c:\\users\\vance\\anaconda3\\envs\\gee\\lib\\site-packages (from requests<3.0,>=2.7->posthog->ploomber-core>=0.2.7->jupysql) (2.0.7)\n",
      "Requirement already satisfied: certifi>=2017.4.17 in c:\\users\\vance\\anaconda3\\envs\\gee\\lib\\site-packages (from requests<3.0,>=2.7->posthog->ploomber-core>=0.2.7->jupysql) (2023.7.22)\n",
      "Note: you may need to restart the kernel to use updated packages.\n"
     ]
    }
   ],
   "source": [
    "pip install jupysql"
   ]
  },
  {
   "cell_type": "code",
   "execution_count": 5,
   "metadata": {},
   "outputs": [
    {
     "name": "stdout",
     "output_type": "stream",
     "text": [
      "Collecting leafmap\n",
      "  Using cached leafmap-0.28.0-py2.py3-none-any.whl.metadata (17 kB)\n",
      "Requirement already satisfied: bqplot in c:\\users\\vance\\anaconda3\\envs\\gee\\lib\\site-packages (from leafmap) (0.12.42)\n",
      "Requirement already satisfied: colour in c:\\users\\vance\\anaconda3\\envs\\gee\\lib\\site-packages (from leafmap) (0.1.5)\n",
      "Requirement already satisfied: folium in c:\\users\\vance\\anaconda3\\envs\\gee\\lib\\site-packages (from leafmap) (0.14.0)\n",
      "Collecting gdown (from leafmap)\n",
      "  Using cached gdown-4.7.1-py3-none-any.whl (15 kB)\n",
      "Collecting geojson (from leafmap)\n",
      "  Using cached geojson-3.1.0-py3-none-any.whl.metadata (16 kB)\n",
      "Requirement already satisfied: ipyevents in c:\\users\\vance\\anaconda3\\envs\\gee\\lib\\site-packages (from leafmap) (2.0.2)\n",
      "Requirement already satisfied: ipyfilechooser in c:\\users\\vance\\anaconda3\\envs\\gee\\lib\\site-packages (from leafmap) (0.6.0)\n",
      "Requirement already satisfied: ipyleaflet in c:\\users\\vance\\anaconda3\\envs\\gee\\lib\\site-packages (from leafmap) (0.17.4)\n",
      "Requirement already satisfied: ipywidgets in c:\\users\\vance\\anaconda3\\envs\\gee\\lib\\site-packages (from leafmap) (8.1.1)\n",
      "Requirement already satisfied: matplotlib in c:\\users\\vance\\anaconda3\\envs\\gee\\lib\\site-packages (from leafmap) (3.8.1)\n",
      "Requirement already satisfied: numpy in c:\\users\\vance\\anaconda3\\envs\\gee\\lib\\site-packages (from leafmap) (1.26.1)\n",
      "Requirement already satisfied: pandas in c:\\users\\vance\\anaconda3\\envs\\gee\\lib\\site-packages (from leafmap) (2.1.2)\n",
      "Requirement already satisfied: pyshp in c:\\users\\vance\\anaconda3\\envs\\gee\\lib\\site-packages (from leafmap) (2.3.1)\n",
      "Collecting pystac-client (from leafmap)\n",
      "  Using cached pystac_client-0.7.5-py3-none-any.whl.metadata (5.2 kB)\n",
      "Requirement already satisfied: python-box in c:\\users\\vance\\anaconda3\\envs\\gee\\lib\\site-packages (from leafmap) (7.1.1)\n",
      "Requirement already satisfied: scooby in c:\\users\\vance\\anaconda3\\envs\\gee\\lib\\site-packages (from leafmap) (0.9.2)\n",
      "Collecting whiteboxgui (from leafmap)\n",
      "  Using cached whiteboxgui-2.3.0-py2.py3-none-any.whl (108 kB)\n",
      "Requirement already satisfied: xyzservices in c:\\users\\vance\\anaconda3\\envs\\gee\\lib\\site-packages (from leafmap) (2023.10.1)\n",
      "Requirement already satisfied: traitlets>=4.3.0 in c:\\users\\vance\\anaconda3\\envs\\gee\\lib\\site-packages (from bqplot->leafmap) (5.13.0)\n",
      "Requirement already satisfied: traittypes>=0.0.6 in c:\\users\\vance\\anaconda3\\envs\\gee\\lib\\site-packages (from bqplot->leafmap) (0.2.1)\n",
      "Requirement already satisfied: comm>=0.1.3 in c:\\users\\vance\\anaconda3\\envs\\gee\\lib\\site-packages (from ipywidgets->leafmap) (0.1.4)\n",
      "Requirement already satisfied: ipython>=6.1.0 in c:\\users\\vance\\anaconda3\\envs\\gee\\lib\\site-packages (from ipywidgets->leafmap) (8.17.2)\n",
      "Requirement already satisfied: widgetsnbextension~=4.0.9 in c:\\users\\vance\\anaconda3\\envs\\gee\\lib\\site-packages (from ipywidgets->leafmap) (4.0.9)\n",
      "Requirement already satisfied: jupyterlab-widgets~=3.0.9 in c:\\users\\vance\\anaconda3\\envs\\gee\\lib\\site-packages (from ipywidgets->leafmap) (3.0.9)\n",
      "Requirement already satisfied: python-dateutil>=2.8.2 in c:\\users\\vance\\anaconda3\\envs\\gee\\lib\\site-packages (from pandas->leafmap) (2.8.2)\n",
      "Requirement already satisfied: pytz>=2020.1 in c:\\users\\vance\\anaconda3\\envs\\gee\\lib\\site-packages (from pandas->leafmap) (2023.3.post1)\n",
      "Requirement already satisfied: tzdata>=2022.1 in c:\\users\\vance\\anaconda3\\envs\\gee\\lib\\site-packages (from pandas->leafmap) (2023.3)\n",
      "Requirement already satisfied: branca>=0.6.0 in c:\\users\\vance\\anaconda3\\envs\\gee\\lib\\site-packages (from folium->leafmap) (0.6.0)\n",
      "Requirement already satisfied: jinja2>=2.9 in c:\\users\\vance\\anaconda3\\envs\\gee\\lib\\site-packages (from folium->leafmap) (3.1.2)\n",
      "Requirement already satisfied: requests in c:\\users\\vance\\anaconda3\\envs\\gee\\lib\\site-packages (from folium->leafmap) (2.31.0)\n",
      "Collecting filelock (from gdown->leafmap)\n",
      "  Using cached filelock-3.13.1-py3-none-any.whl.metadata (2.8 kB)\n",
      "Requirement already satisfied: six in c:\\users\\vance\\anaconda3\\envs\\gee\\lib\\site-packages (from gdown->leafmap) (1.16.0)\n",
      "Collecting tqdm (from gdown->leafmap)\n",
      "  Using cached tqdm-4.66.1-py3-none-any.whl.metadata (57 kB)\n",
      "Collecting beautifulsoup4 (from gdown->leafmap)\n",
      "  Using cached beautifulsoup4-4.12.2-py3-none-any.whl (142 kB)\n",
      "Requirement already satisfied: contourpy>=1.0.1 in c:\\users\\vance\\anaconda3\\envs\\gee\\lib\\site-packages (from matplotlib->leafmap) (1.2.0)\n",
      "Requirement already satisfied: cycler>=0.10 in c:\\users\\vance\\anaconda3\\envs\\gee\\lib\\site-packages (from matplotlib->leafmap) (0.12.1)\n",
      "Requirement already satisfied: fonttools>=4.22.0 in c:\\users\\vance\\anaconda3\\envs\\gee\\lib\\site-packages (from matplotlib->leafmap) (4.44.0)\n",
      "Requirement already satisfied: kiwisolver>=1.3.1 in c:\\users\\vance\\anaconda3\\envs\\gee\\lib\\site-packages (from matplotlib->leafmap) (1.4.5)\n",
      "Requirement already satisfied: packaging>=20.0 in c:\\users\\vance\\anaconda3\\envs\\gee\\lib\\site-packages (from matplotlib->leafmap) (23.2)\n",
      "Requirement already satisfied: pillow>=8 in c:\\users\\vance\\anaconda3\\envs\\gee\\lib\\site-packages (from matplotlib->leafmap) (10.1.0)\n",
      "Requirement already satisfied: pyparsing>=2.3.1 in c:\\users\\vance\\anaconda3\\envs\\gee\\lib\\site-packages (from matplotlib->leafmap) (3.1.1)\n",
      "Collecting pystac>=1.8.2 (from pystac[validation]>=1.8.2->pystac-client->leafmap)\n",
      "  Using cached pystac-1.9.0-py3-none-any.whl.metadata (6.4 kB)\n",
      "Requirement already satisfied: ipytree in c:\\users\\vance\\anaconda3\\envs\\gee\\lib\\site-packages (from whiteboxgui->leafmap) (0.2.2)\n",
      "Collecting whitebox (from whiteboxgui->leafmap)\n",
      "  Using cached whitebox-2.3.1-py2.py3-none-any.whl (72 kB)\n",
      "Requirement already satisfied: decorator in c:\\users\\vance\\anaconda3\\envs\\gee\\lib\\site-packages (from ipython>=6.1.0->ipywidgets->leafmap) (5.1.1)\n",
      "Requirement already satisfied: jedi>=0.16 in c:\\users\\vance\\anaconda3\\envs\\gee\\lib\\site-packages (from ipython>=6.1.0->ipywidgets->leafmap) (0.19.1)\n",
      "Requirement already satisfied: matplotlib-inline in c:\\users\\vance\\anaconda3\\envs\\gee\\lib\\site-packages (from ipython>=6.1.0->ipywidgets->leafmap) (0.1.6)\n",
      "Requirement already satisfied: prompt-toolkit!=3.0.37,<3.1.0,>=3.0.30 in c:\\users\\vance\\anaconda3\\envs\\gee\\lib\\site-packages (from ipython>=6.1.0->ipywidgets->leafmap) (3.0.39)\n",
      "Requirement already satisfied: pygments>=2.4.0 in c:\\users\\vance\\anaconda3\\envs\\gee\\lib\\site-packages (from ipython>=6.1.0->ipywidgets->leafmap) (2.16.1)\n",
      "Requirement already satisfied: stack-data in c:\\users\\vance\\anaconda3\\envs\\gee\\lib\\site-packages (from ipython>=6.1.0->ipywidgets->leafmap) (0.6.2)\n",
      "Requirement already satisfied: colorama in c:\\users\\vance\\anaconda3\\envs\\gee\\lib\\site-packages (from ipython>=6.1.0->ipywidgets->leafmap) (0.4.6)\n",
      "Requirement already satisfied: MarkupSafe>=2.0 in c:\\users\\vance\\anaconda3\\envs\\gee\\lib\\site-packages (from jinja2>=2.9->folium->leafmap) (2.1.3)\n",
      "Collecting jsonschema~=4.18 (from pystac[validation]>=1.8.2->pystac-client->leafmap)\n",
      "  Using cached jsonschema-4.19.2-py3-none-any.whl.metadata (7.9 kB)\n",
      "Requirement already satisfied: charset-normalizer<4,>=2 in c:\\users\\vance\\anaconda3\\envs\\gee\\lib\\site-packages (from requests->folium->leafmap) (3.3.2)\n",
      "Requirement already satisfied: idna<4,>=2.5 in c:\\users\\vance\\anaconda3\\envs\\gee\\lib\\site-packages (from requests->folium->leafmap) (3.4)\n",
      "Requirement already satisfied: urllib3<3,>=1.21.1 in c:\\users\\vance\\anaconda3\\envs\\gee\\lib\\site-packages (from requests->folium->leafmap) (2.0.7)\n",
      "Requirement already satisfied: certifi>=2017.4.17 in c:\\users\\vance\\anaconda3\\envs\\gee\\lib\\site-packages (from requests->folium->leafmap) (2023.7.22)\n",
      "Collecting soupsieve>1.2 (from beautifulsoup4->gdown->leafmap)\n",
      "  Using cached soupsieve-2.5-py3-none-any.whl.metadata (4.7 kB)\n",
      "Collecting PySocks!=1.5.7,>=1.5.6 (from requests[socks]->gdown->leafmap)\n",
      "  Using cached PySocks-1.7.1-py3-none-any.whl (16 kB)\n",
      "Requirement already satisfied: Click>=6.0 in c:\\users\\vance\\anaconda3\\envs\\gee\\lib\\site-packages (from whitebox->whiteboxgui->leafmap) (8.1.7)\n",
      "Requirement already satisfied: parso<0.9.0,>=0.8.3 in c:\\users\\vance\\anaconda3\\envs\\gee\\lib\\site-packages (from jedi>=0.16->ipython>=6.1.0->ipywidgets->leafmap) (0.8.3)\n",
      "Collecting attrs>=22.2.0 (from jsonschema~=4.18->pystac[validation]>=1.8.2->pystac-client->leafmap)\n",
      "  Using cached attrs-23.1.0-py3-none-any.whl (61 kB)\n",
      "Collecting jsonschema-specifications>=2023.03.6 (from jsonschema~=4.18->pystac[validation]>=1.8.2->pystac-client->leafmap)\n",
      "  Using cached jsonschema_specifications-2023.7.1-py3-none-any.whl.metadata (2.8 kB)\n",
      "Collecting referencing>=0.28.4 (from jsonschema~=4.18->pystac[validation]>=1.8.2->pystac-client->leafmap)\n",
      "  Using cached referencing-0.30.2-py3-none-any.whl.metadata (2.6 kB)\n",
      "Collecting rpds-py>=0.7.1 (from jsonschema~=4.18->pystac[validation]>=1.8.2->pystac-client->leafmap)\n",
      "  Using cached rpds_py-0.12.0-cp312-none-win_amd64.whl.metadata (3.8 kB)\n",
      "Requirement already satisfied: wcwidth in c:\\users\\vance\\anaconda3\\envs\\gee\\lib\\site-packages (from prompt-toolkit!=3.0.37,<3.1.0,>=3.0.30->ipython>=6.1.0->ipywidgets->leafmap) (0.2.9)\n",
      "Requirement already satisfied: executing>=1.2.0 in c:\\users\\vance\\anaconda3\\envs\\gee\\lib\\site-packages (from stack-data->ipython>=6.1.0->ipywidgets->leafmap) (2.0.1)\n",
      "Requirement already satisfied: asttokens>=2.1.0 in c:\\users\\vance\\anaconda3\\envs\\gee\\lib\\site-packages (from stack-data->ipython>=6.1.0->ipywidgets->leafmap) (2.4.1)\n",
      "Requirement already satisfied: pure-eval in c:\\users\\vance\\anaconda3\\envs\\gee\\lib\\site-packages (from stack-data->ipython>=6.1.0->ipywidgets->leafmap) (0.2.2)\n",
      "Using cached leafmap-0.28.0-py2.py3-none-any.whl (1.8 MB)\n",
      "Using cached geojson-3.1.0-py3-none-any.whl (15 kB)\n",
      "Using cached pystac_client-0.7.5-py3-none-any.whl (33 kB)\n",
      "Using cached pystac-1.9.0-py3-none-any.whl (181 kB)\n",
      "Using cached filelock-3.13.1-py3-none-any.whl (11 kB)\n",
      "Using cached tqdm-4.66.1-py3-none-any.whl (78 kB)\n",
      "Using cached jsonschema-4.19.2-py3-none-any.whl (83 kB)\n",
      "Using cached soupsieve-2.5-py3-none-any.whl (36 kB)\n",
      "Using cached jsonschema_specifications-2023.7.1-py3-none-any.whl (17 kB)\n",
      "Using cached referencing-0.30.2-py3-none-any.whl (25 kB)\n",
      "Using cached rpds_py-0.12.0-cp312-none-win_amd64.whl (186 kB)\n",
      "Installing collected packages: tqdm, soupsieve, rpds-py, PySocks, geojson, filelock, attrs, whitebox, referencing, pystac, beautifulsoup4, jsonschema-specifications, gdown, jsonschema, whiteboxgui, pystac-client, leafmap\n",
      "Successfully installed PySocks-1.7.1 attrs-23.1.0 beautifulsoup4-4.12.2 filelock-3.13.1 gdown-4.7.1 geojson-3.1.0 jsonschema-4.19.2 jsonschema-specifications-2023.7.1 leafmap-0.28.0 pystac-1.9.0 pystac-client-0.7.5 referencing-0.30.2 rpds-py-0.12.0 soupsieve-2.5 tqdm-4.66.1 whitebox-2.3.1 whiteboxgui-2.3.0\n",
      "Note: you may need to restart the kernel to use updated packages.\n"
     ]
    }
   ],
   "source": [
    "pip install leafmap"
   ]
  },
  {
   "cell_type": "code",
   "execution_count": 2,
   "metadata": {},
   "outputs": [
    {
     "name": "stdout",
     "output_type": "stream",
     "text": [
      "Collecting duckdb\n",
      "  Downloading duckdb-0.9.1-cp39-cp39-win_amd64.whl (10.3 MB)\n",
      "     ---------------------------------------- 10.3/10.3 MB 3.0 MB/s eta 0:00:00\n",
      "Collecting duckdb-engine\n",
      "  Using cached duckdb_engine-0.9.2-py3-none-any.whl (43 kB)\n",
      "Collecting jupysql\n",
      "  Using cached jupysql-0.10.2-py3-none-any.whl (87 kB)\n",
      "Collecting leafmap\n",
      "  Downloading leafmap-0.28.0-py2.py3-none-any.whl (1.8 MB)\n",
      "     ---------------------------------------- 1.8/1.8 MB 2.7 MB/s eta 0:00:00\n",
      "Requirement already satisfied: sqlalchemy>=1.3.22 in c:\\users\\vance\\appdata\\local\\esri\\conda\\envs\\gee\\lib\\site-packages (from duckdb-engine) (1.4.39)\n",
      "Collecting prettytable\n",
      "  Using cached prettytable-3.9.0-py3-none-any.whl (27 kB)\n",
      "Collecting sqlglot>=11.3.7\n",
      "  Downloading sqlglot-19.0.3-py3-none-any.whl (328 kB)\n",
      "     -------------------------------------- 328.6/328.6 kB 2.9 MB/s eta 0:00:00\n",
      "Requirement already satisfied: ipython-genutils>=0.1.0 in c:\\users\\vance\\appdata\\local\\esri\\conda\\envs\\gee\\lib\\site-packages (from jupysql) (0.2.0)\n",
      "Requirement already satisfied: jinja2 in c:\\users\\vance\\appdata\\local\\esri\\conda\\envs\\gee\\lib\\site-packages (from jupysql) (3.0.3)\n",
      "Collecting ploomber-core>=0.2.7\n",
      "  Using cached ploomber_core-0.2.15-py3-none-any.whl (21 kB)\n",
      "Requirement already satisfied: ipython in c:\\users\\vance\\appdata\\local\\esri\\conda\\envs\\gee\\lib\\site-packages (from jupysql) (7.34.0)\n",
      "Collecting jupysql-plugin\n",
      "  Using cached jupysql_plugin-0.2.6-py3-none-any.whl (376 kB)\n",
      "Collecting sqlparse\n",
      "  Using cached sqlparse-0.4.4-py3-none-any.whl (41 kB)\n",
      "Requirement already satisfied: ipyleaflet in c:\\users\\vance\\appdata\\local\\esri\\conda\\envs\\gee\\lib\\site-packages (from leafmap) (0.17.4)\n",
      "Requirement already satisfied: folium in c:\\users\\vance\\appdata\\local\\esri\\conda\\envs\\gee\\lib\\site-packages (from leafmap) (0.14.0)\n",
      "Requirement already satisfied: pandas in c:\\users\\vance\\appdata\\local\\esri\\conda\\envs\\gee\\lib\\site-packages (from leafmap) (1.4.4)\n",
      "Requirement already satisfied: ipyevents in c:\\users\\vance\\appdata\\local\\esri\\conda\\envs\\gee\\lib\\site-packages (from leafmap) (2.0.2)\n",
      "Requirement already satisfied: ipyfilechooser in c:\\users\\vance\\appdata\\local\\esri\\conda\\envs\\gee\\lib\\site-packages (from leafmap) (0.6.0)\n",
      "Collecting geojson\n",
      "  Downloading geojson-3.1.0-py3-none-any.whl (15 kB)\n",
      "Requirement already satisfied: ipywidgets in c:\\users\\vance\\appdata\\local\\esri\\conda\\envs\\gee\\lib\\site-packages (from leafmap) (7.7.2)\n",
      "Requirement already satisfied: matplotlib in c:\\users\\vance\\appdata\\local\\esri\\conda\\envs\\gee\\lib\\site-packages (from leafmap) (3.6.0)\n",
      "Requirement already satisfied: numpy in c:\\users\\vance\\appdata\\local\\esri\\conda\\envs\\gee\\lib\\site-packages (from leafmap) (1.20.1)\n",
      "Collecting pystac-client\n",
      "  Using cached pystac_client-0.7.5-py3-none-any.whl (33 kB)\n",
      "Requirement already satisfied: python-box in c:\\users\\vance\\appdata\\local\\esri\\conda\\envs\\gee\\lib\\site-packages (from leafmap) (7.1.1)\n",
      "Requirement already satisfied: colour in c:\\users\\vance\\appdata\\local\\esri\\conda\\envs\\gee\\lib\\site-packages (from leafmap) (0.1.5)\n",
      "Requirement already satisfied: pyshp in c:\\users\\vance\\appdata\\local\\esri\\conda\\envs\\gee\\lib\\site-packages (from leafmap) (2.1.3)\n",
      "Collecting whiteboxgui\n",
      "  Downloading whiteboxgui-2.3.0-py2.py3-none-any.whl (108 kB)\n",
      "     -------------------------------------- 108.6/108.6 kB 3.2 MB/s eta 0:00:00\n",
      "Collecting gdown\n",
      "  Downloading gdown-4.7.1-py3-none-any.whl (15 kB)\n",
      "Requirement already satisfied: xyzservices in c:\\users\\vance\\appdata\\local\\esri\\conda\\envs\\gee\\lib\\site-packages (from leafmap) (2023.7.0)\n",
      "Requirement already satisfied: scooby in c:\\users\\vance\\appdata\\local\\esri\\conda\\envs\\gee\\lib\\site-packages (from leafmap) (0.7.3)\n",
      "Requirement already satisfied: bqplot in c:\\users\\vance\\appdata\\local\\esri\\conda\\envs\\gee\\lib\\site-packages (from leafmap) (0.12.40)\n",
      "Collecting posthog\n",
      "  Using cached posthog-3.0.2-py2.py3-none-any.whl (37 kB)\n",
      "Requirement already satisfied: click in c:\\users\\vance\\appdata\\local\\esri\\conda\\envs\\gee\\lib\\site-packages (from ploomber-core>=0.2.7->jupysql) (8.0.4)\n",
      "Requirement already satisfied: pyyaml in c:\\users\\vance\\appdata\\local\\esri\\conda\\envs\\gee\\lib\\site-packages (from ploomber-core>=0.2.7->jupysql) (6.0)\n",
      "Requirement already satisfied: greenlet!=0.4.17 in c:\\users\\vance\\appdata\\local\\esri\\conda\\envs\\gee\\lib\\site-packages (from sqlalchemy>=1.3.22->duckdb-engine) (1.1.1)\n",
      "Requirement already satisfied: traittypes>=0.0.6 in c:\\users\\vance\\appdata\\local\\esri\\conda\\envs\\gee\\lib\\site-packages (from bqplot->leafmap) (0.2.1)\n",
      "Requirement already satisfied: traitlets>=4.3.0 in c:\\users\\vance\\appdata\\local\\esri\\conda\\envs\\gee\\lib\\site-packages (from bqplot->leafmap) (5.5.0)\n",
      "Requirement already satisfied: jupyterlab-widgets<3,>=1.0.0 in c:\\users\\vance\\appdata\\local\\esri\\conda\\envs\\gee\\lib\\site-packages (from ipywidgets->leafmap) (1.1.7)\n",
      "Requirement already satisfied: widgetsnbextension~=3.6.0 in c:\\users\\vance\\appdata\\local\\esri\\conda\\envs\\gee\\lib\\site-packages (from ipywidgets->leafmap) (3.6.1)\n",
      "Requirement already satisfied: ipykernel>=4.5.1 in c:\\users\\vance\\appdata\\local\\esri\\conda\\envs\\gee\\lib\\site-packages (from ipywidgets->leafmap) (6.16.0)\n",
      "Requirement already satisfied: matplotlib-inline in c:\\users\\vance\\appdata\\local\\esri\\conda\\envs\\gee\\lib\\site-packages (from ipython->jupysql) (0.1.6)\n",
      "Requirement already satisfied: prompt-toolkit!=3.0.0,!=3.0.1,<3.1.0,>=2.0.0 in c:\\users\\vance\\appdata\\local\\esri\\conda\\envs\\gee\\lib\\site-packages (from ipython->jupysql) (3.0.5)\n",
      "Requirement already satisfied: pygments in c:\\users\\vance\\appdata\\local\\esri\\conda\\envs\\gee\\lib\\site-packages (from ipython->jupysql) (2.9.0)\n",
      "Requirement already satisfied: pickleshare in c:\\users\\vance\\appdata\\local\\esri\\conda\\envs\\gee\\lib\\site-packages (from ipython->jupysql) (0.7.5)\n",
      "Requirement already satisfied: decorator in c:\\users\\vance\\appdata\\local\\esri\\conda\\envs\\gee\\lib\\site-packages (from ipython->jupysql) (5.1.1)\n",
      "Requirement already satisfied: setuptools>=18.5 in c:\\users\\vance\\appdata\\local\\esri\\conda\\envs\\gee\\lib\\site-packages (from ipython->jupysql) (65.5.1)\n",
      "Requirement already satisfied: colorama in c:\\users\\vance\\appdata\\roaming\\python\\python39\\site-packages (from ipython->jupysql) (0.4.6)\n",
      "Requirement already satisfied: jedi>=0.16 in c:\\users\\vance\\appdata\\local\\esri\\conda\\envs\\gee\\lib\\site-packages\\jedi-0.18.2-py3.9.egg (from ipython->jupysql) (0.18.2)\n",
      "Requirement already satisfied: backcall in c:\\users\\vance\\appdata\\local\\esri\\conda\\envs\\gee\\lib\\site-packages (from ipython->jupysql) (0.2.0)\n",
      "Requirement already satisfied: pytz>=2020.1 in c:\\users\\vance\\appdata\\local\\esri\\conda\\envs\\gee\\lib\\site-packages\\pytz-2022.6-py3.9.egg (from pandas->leafmap) (2022.6)\n",
      "Requirement already satisfied: python-dateutil>=2.8.1 in c:\\users\\vance\\appdata\\roaming\\python\\python39\\site-packages (from pandas->leafmap) (2.8.2)\n",
      "Requirement already satisfied: branca>=0.6.0 in c:\\users\\vance\\appdata\\local\\esri\\conda\\envs\\gee\\lib\\site-packages (from folium->leafmap) (0.6.0)\n",
      "Requirement already satisfied: requests in c:\\users\\vance\\appdata\\roaming\\python\\python39\\site-packages (from folium->leafmap) (2.31.0)\n",
      "Requirement already satisfied: MarkupSafe>=2.0 in c:\\users\\vance\\appdata\\local\\esri\\conda\\envs\\gee\\lib\\site-packages (from jinja2->jupysql) (2.1.1)\n",
      "Requirement already satisfied: tqdm in c:\\users\\vance\\appdata\\roaming\\python\\python39\\site-packages (from gdown->leafmap) (4.65.0)\n",
      "Requirement already satisfied: six in c:\\users\\vance\\appdata\\local\\esri\\conda\\envs\\gee\\lib\\site-packages (from gdown->leafmap) (1.16.0)\n",
      "Collecting filelock\n",
      "  Downloading filelock-3.13.1-py3-none-any.whl (11 kB)\n",
      "Requirement already satisfied: beautifulsoup4 in c:\\users\\vance\\appdata\\local\\esri\\conda\\envs\\gee\\lib\\site-packages (from gdown->leafmap) (4.11.1)\n",
      "Requirement already satisfied: pyparsing>=2.2.1 in c:\\users\\vance\\appdata\\local\\esri\\conda\\envs\\gee\\lib\\site-packages (from matplotlib->leafmap) (3.0.9)\n",
      "Requirement already satisfied: cycler>=0.10 in c:\\users\\vance\\appdata\\local\\esri\\conda\\envs\\gee\\lib\\site-packages (from matplotlib->leafmap) (0.11.0)\n",
      "Requirement already satisfied: packaging>=20.0 in c:\\users\\vance\\appdata\\local\\esri\\conda\\envs\\gee\\lib\\site-packages (from matplotlib->leafmap) (21.3)\n",
      "Requirement already satisfied: pillow>=6.2.0 in c:\\users\\vance\\appdata\\local\\esri\\conda\\envs\\gee\\lib\\site-packages (from matplotlib->leafmap) (9.5.0)\n",
      "Requirement already satisfied: contourpy>=1.0.1 in c:\\users\\vance\\appdata\\local\\esri\\conda\\envs\\gee\\lib\\site-packages (from matplotlib->leafmap) (1.0.5)\n",
      "Requirement already satisfied: fonttools>=4.22.0 in c:\\users\\vance\\appdata\\local\\esri\\conda\\envs\\gee\\lib\\site-packages (from matplotlib->leafmap) (4.25.0)\n",
      "Requirement already satisfied: kiwisolver>=1.0.1 in c:\\users\\vance\\appdata\\local\\esri\\conda\\envs\\gee\\lib\\site-packages (from matplotlib->leafmap) (1.4.2)\n",
      "Requirement already satisfied: wcwidth in c:\\users\\vance\\appdata\\local\\esri\\conda\\envs\\gee\\lib\\site-packages (from prettytable->jupysql) (0.2.5)\n",
      "Collecting pystac[validation]>=1.8.2\n",
      "  Using cached pystac-1.9.0-py3-none-any.whl (181 kB)\n",
      "Collecting whitebox\n",
      "  Downloading whitebox-2.3.1-py2.py3-none-any.whl (72 kB)\n",
      "     ---------------------------------------- 72.1/72.1 kB 2.0 MB/s eta 0:00:00\n",
      "Requirement already satisfied: ipytree in c:\\users\\vance\\appdata\\local\\esri\\conda\\envs\\gee\\lib\\site-packages (from whiteboxgui->leafmap) (0.2.2)\n",
      "Requirement already satisfied: nest-asyncio in c:\\users\\vance\\appdata\\local\\esri\\conda\\envs\\gee\\lib\\site-packages (from ipykernel>=4.5.1->ipywidgets->leafmap) (1.5.5)\n",
      "Requirement already satisfied: debugpy>=1.0 in c:\\users\\vance\\appdata\\local\\esri\\conda\\envs\\gee\\lib\\site-packages (from ipykernel>=4.5.1->ipywidgets->leafmap) (1.5.1)\n",
      "Requirement already satisfied: psutil in c:\\users\\vance\\appdata\\local\\esri\\conda\\envs\\gee\\lib\\site-packages (from ipykernel>=4.5.1->ipywidgets->leafmap) (5.9.0)\n",
      "Requirement already satisfied: pyzmq>=17 in c:\\users\\vance\\appdata\\local\\esri\\conda\\envs\\gee\\lib\\site-packages (from ipykernel>=4.5.1->ipywidgets->leafmap) (24.0.1)\n",
      "Requirement already satisfied: tornado>=6.1 in c:\\users\\vance\\appdata\\local\\esri\\conda\\envs\\gee\\lib\\site-packages (from ipykernel>=4.5.1->ipywidgets->leafmap) (6.1)\n",
      "Requirement already satisfied: jupyter-client>=6.1.12 in c:\\users\\vance\\appdata\\local\\esri\\conda\\envs\\gee\\lib\\site-packages (from ipykernel>=4.5.1->ipywidgets->leafmap) (6.1.12)\n",
      "Requirement already satisfied: parso<0.9.0,>=0.8.0 in c:\\users\\vance\\appdata\\local\\esri\\conda\\envs\\gee\\lib\\site-packages (from jedi>=0.16->ipython->jupysql) (0.8.3)\n",
      "Collecting jsonschema~=4.18\n",
      "  Downloading jsonschema-4.19.2-py3-none-any.whl (83 kB)\n",
      "     ---------------------------------------- 83.6/83.6 kB 2.4 MB/s eta 0:00:00\n",
      "Requirement already satisfied: certifi>=2017.4.17 in c:\\users\\vance\\appdata\\local\\esri\\conda\\envs\\gee\\lib\\site-packages (from requests->folium->leafmap) (2022.9.24)\n",
      "Requirement already satisfied: charset-normalizer<4,>=2 in c:\\users\\vance\\appdata\\roaming\\python\\python39\\site-packages (from requests->folium->leafmap) (3.2.0)\n",
      "Requirement already satisfied: idna<4,>=2.5 in c:\\users\\vance\\appdata\\local\\esri\\conda\\envs\\gee\\lib\\site-packages (from requests->folium->leafmap) (3.4)\n",
      "Requirement already satisfied: urllib3<3,>=1.21.1 in c:\\users\\vance\\appdata\\local\\esri\\conda\\envs\\gee\\lib\\site-packages (from requests->folium->leafmap) (1.26.12)\n",
      "Requirement already satisfied: notebook>=4.4.1 in c:\\users\\vance\\appdata\\local\\esri\\conda\\envs\\gee\\lib\\site-packages (from widgetsnbextension~=3.6.0->ipywidgets->leafmap) (6.4.12)\n",
      "Requirement already satisfied: soupsieve>1.2 in c:\\users\\vance\\appdata\\local\\esri\\conda\\envs\\gee\\lib\\site-packages (from beautifulsoup4->gdown->leafmap) (2.3.2.post1)\n",
      "Collecting monotonic>=1.5\n",
      "  Using cached monotonic-1.6-py2.py3-none-any.whl (8.2 kB)\n",
      "Collecting backoff>=1.10.0\n",
      "  Using cached backoff-2.2.1-py3-none-any.whl (15 kB)\n",
      "Requirement already satisfied: PySocks!=1.5.7,>=1.5.6 in c:\\users\\vance\\appdata\\local\\esri\\conda\\envs\\gee\\lib\\site-packages (from requests->folium->leafmap) (1.7.1)\n",
      "Collecting referencing>=0.28.4\n",
      "  Using cached referencing-0.30.2-py3-none-any.whl (25 kB)\n",
      "Collecting rpds-py>=0.7.1\n",
      "  Downloading rpds_py-0.12.0-cp39-none-win_amd64.whl (186 kB)\n",
      "     -------------------------------------- 186.6/186.6 kB 5.7 MB/s eta 0:00:00\n",
      "Collecting jsonschema-specifications>=2023.03.6\n",
      "  Using cached jsonschema_specifications-2023.7.1-py3-none-any.whl (17 kB)\n",
      "Collecting attrs>=22.2.0\n",
      "  Using cached attrs-23.1.0-py3-none-any.whl (61 kB)\n",
      "Requirement already satisfied: jupyter-core>=4.6.0 in c:\\users\\vance\\appdata\\local\\esri\\conda\\envs\\gee\\lib\\site-packages (from jupyter-client>=6.1.12->ipykernel>=4.5.1->ipywidgets->leafmap) (4.11.2)\n",
      "Requirement already satisfied: argon2-cffi in c:\\users\\vance\\appdata\\local\\esri\\conda\\envs\\gee\\lib\\site-packages (from notebook>=4.4.1->widgetsnbextension~=3.6.0->ipywidgets->leafmap) (21.3.0)\n",
      "Requirement already satisfied: nbformat in c:\\users\\vance\\appdata\\local\\esri\\conda\\envs\\gee\\lib\\site-packages (from notebook>=4.4.1->widgetsnbextension~=3.6.0->ipywidgets->leafmap) (5.6.1)\n",
      "Requirement already satisfied: nbconvert>=5 in c:\\users\\vance\\appdata\\local\\esri\\conda\\envs\\gee\\lib\\site-packages (from notebook>=4.4.1->widgetsnbextension~=3.6.0->ipywidgets->leafmap) (7.2.1)\n",
      "Requirement already satisfied: prometheus-client in c:\\users\\vance\\appdata\\local\\esri\\conda\\envs\\gee\\lib\\site-packages (from notebook>=4.4.1->widgetsnbextension~=3.6.0->ipywidgets->leafmap) (0.8.0)\n",
      "Requirement already satisfied: Send2Trash>=1.8.0 in c:\\users\\vance\\appdata\\local\\esri\\conda\\envs\\gee\\lib\\site-packages (from notebook>=4.4.1->widgetsnbextension~=3.6.0->ipywidgets->leafmap) (1.8.0)\n",
      "Requirement already satisfied: terminado>=0.8.3 in c:\\users\\vance\\appdata\\local\\esri\\conda\\envs\\gee\\lib\\site-packages (from notebook>=4.4.1->widgetsnbextension~=3.6.0->ipywidgets->leafmap) (0.13.1)\n",
      "Requirement already satisfied: bleach in c:\\users\\vance\\appdata\\local\\esri\\conda\\envs\\gee\\lib\\site-packages (from nbconvert>=5->notebook>=4.4.1->widgetsnbextension~=3.6.0->ipywidgets->leafmap) (4.1.0)\n",
      "Requirement already satisfied: pandocfilters>=1.4.1 in c:\\users\\vance\\appdata\\local\\esri\\conda\\envs\\gee\\lib\\site-packages (from nbconvert>=5->notebook>=4.4.1->widgetsnbextension~=3.6.0->ipywidgets->leafmap) (1.5.0)\n",
      "Requirement already satisfied: defusedxml in c:\\users\\vance\\appdata\\local\\esri\\conda\\envs\\gee\\lib\\site-packages (from nbconvert>=5->notebook>=4.4.1->widgetsnbextension~=3.6.0->ipywidgets->leafmap) (0.7.1)\n",
      "Requirement already satisfied: nbclient>=0.5.0 in c:\\users\\vance\\appdata\\local\\esri\\conda\\envs\\gee\\lib\\site-packages (from nbconvert>=5->notebook>=4.4.1->widgetsnbextension~=3.6.0->ipywidgets->leafmap) (0.7.0)\n",
      "Requirement already satisfied: importlib-metadata>=3.6 in c:\\users\\vance\\appdata\\local\\esri\\conda\\envs\\gee\\lib\\site-packages (from nbconvert>=5->notebook>=4.4.1->widgetsnbextension~=3.6.0->ipywidgets->leafmap) (4.11.3)\n",
      "Requirement already satisfied: jupyterlab-pygments in c:\\users\\vance\\appdata\\local\\esri\\conda\\envs\\gee\\lib\\site-packages (from nbconvert>=5->notebook>=4.4.1->widgetsnbextension~=3.6.0->ipywidgets->leafmap) (0.2.2)\n",
      "Requirement already satisfied: tinycss2 in c:\\users\\vance\\appdata\\local\\esri\\conda\\envs\\gee\\lib\\site-packages (from nbconvert>=5->notebook>=4.4.1->widgetsnbextension~=3.6.0->ipywidgets->leafmap) (1.1.1)\n",
      "Requirement already satisfied: mistune<3,>=2.0.3 in c:\\users\\vance\\appdata\\local\\esri\\conda\\envs\\gee\\lib\\site-packages (from nbconvert>=5->notebook>=4.4.1->widgetsnbextension~=3.6.0->ipywidgets->leafmap) (2.0.4)\n",
      "Requirement already satisfied: fastjsonschema in c:\\users\\vance\\appdata\\local\\esri\\conda\\envs\\gee\\lib\\site-packages (from nbformat->notebook>=4.4.1->widgetsnbextension~=3.6.0->ipywidgets->leafmap) (2.16.2)\n",
      "Requirement already satisfied: pywinpty>=1.1.0 in c:\\users\\vance\\appdata\\local\\esri\\conda\\envs\\gee\\lib\\site-packages (from terminado>=0.8.3->notebook>=4.4.1->widgetsnbextension~=3.6.0->ipywidgets->leafmap) (2.0.1)\n",
      "Requirement already satisfied: argon2-cffi-bindings in c:\\users\\vance\\appdata\\local\\esri\\conda\\envs\\gee\\lib\\site-packages (from argon2-cffi->notebook>=4.4.1->widgetsnbextension~=3.6.0->ipywidgets->leafmap) (21.2.0)\n",
      "Requirement already satisfied: zipp>=0.5 in c:\\users\\vance\\appdata\\local\\esri\\conda\\envs\\gee\\lib\\site-packages (from importlib-metadata>=3.6->nbconvert>=5->notebook>=4.4.1->widgetsnbextension~=3.6.0->ipywidgets->leafmap) (3.8.0)\n",
      "Requirement already satisfied: cffi>=1.0.1 in c:\\users\\vance\\appdata\\roaming\\python\\python39\\site-packages (from argon2-cffi-bindings->argon2-cffi->notebook>=4.4.1->widgetsnbextension~=3.6.0->ipywidgets->leafmap) (1.15.1)\n",
      "Requirement already satisfied: webencodings in c:\\users\\vance\\appdata\\local\\esri\\conda\\envs\\gee\\lib\\site-packages (from bleach->nbconvert>=5->notebook>=4.4.1->widgetsnbextension~=3.6.0->ipywidgets->leafmap) (0.5.1)\n",
      "Requirement already satisfied: pycparser in c:\\users\\vance\\appdata\\roaming\\python\\python39\\site-packages (from cffi>=1.0.1->argon2-cffi-bindings->argon2-cffi->notebook>=4.4.1->widgetsnbextension~=3.6.0->ipywidgets->leafmap) (2.21)\n",
      "Installing collected packages: monotonic, sqlparse, sqlglot, rpds-py, prettytable, geojson, filelock, duckdb, backoff, attrs, whitebox, referencing, pystac, posthog, duckdb-engine, ploomber-core, jsonschema-specifications, gdown, jupysql-plugin, jsonschema, jupysql, pystac-client, whiteboxgui, leafmap\n",
      "  Attempting uninstall: attrs\n",
      "    Found existing installation: attrs 21.4.0\n",
      "    Uninstalling attrs-21.4.0:\n",
      "      Successfully uninstalled attrs-21.4.0\n",
      "  Attempting uninstall: jsonschema\n",
      "    Found existing installation: jsonschema 4.16.0\n",
      "    Uninstalling jsonschema-4.16.0:\n",
      "      Successfully uninstalled jsonschema-4.16.0\n",
      "Successfully installed attrs-23.1.0 backoff-2.2.1 duckdb-0.9.1 duckdb-engine-0.9.2 filelock-3.13.1 gdown-4.7.1 geojson-3.1.0 jsonschema-4.19.2 jsonschema-specifications-2023.7.1 jupysql-0.10.2 jupysql-plugin-0.2.6 leafmap-0.28.0 monotonic-1.6 ploomber-core-0.2.15 posthog-3.0.2 prettytable-3.9.0 pystac-1.9.0 pystac-client-0.7.5 referencing-0.30.2 rpds-py-0.12.0 sqlglot-19.0.3 sqlparse-0.4.4 whitebox-2.3.1 whiteboxgui-2.3.0\n",
      "Note: you may need to restart the kernel to use updated packages.\n"
     ]
    }
   ],
   "source": [
    "%pip install duckdb duckdb-engine jupysql leafmap"
   ]
  },
  {
   "cell_type": "code",
   "execution_count": 3,
   "id": "d04dc64d",
   "metadata": {},
   "outputs": [],
   "source": [
    "import duckdb\n",
    "import leafmap"
   ]
  },
  {
   "cell_type": "markdown",
   "id": "49d2fcc8",
   "metadata": {},
   "source": [
    "## Question 1\n",
    "\n",
    "Connect to a duckdb database and install the `httpfs` and `spatial` extensions"
   ]
  },
  {
   "cell_type": "code",
   "execution_count": 4,
   "id": "6c638b3c",
   "metadata": {},
   "outputs": [],
   "source": [
    "# Add your code here\n",
    "con = duckdb.connect()\n",
    "con.install_extension(\"httpfs\")\n",
    "con.load_extension(\"httpfs\")\n",
    "con.install_extension(\"spatial\")\n",
    "con.load_extension(\"spatial\")"
   ]
  },
  {
   "cell_type": "markdown",
   "id": "3f4f2595",
   "metadata": {},
   "source": [
    "## Question 2\n",
    "\n",
    "Download the [Admin 0 – Countries](https://www.naturalearthdata.com/downloads/10m-cultural-vectors/) vector dataset from Natural Earth using the `leafmap.download_file()` function."
   ]
  },
  {
   "cell_type": "code",
   "execution_count": 4,
   "id": "7053ac8b",
   "metadata": {},
   "outputs": [
    {
     "name": "stderr",
     "output_type": "stream",
     "text": [
      "Downloading...\n",
      "From: https://www.naturalearthdata.com/http//www.naturalearthdata.com/download/10m/cultural/ne_10m_admin_0_countries.zip\n",
      "To: c:\\Users\\vance\\Downloads\\geog-414\\book\\labs\\ne_10m_admin_0_countries.zip\n",
      "100%|██████████| 4.93M/4.93M [00:00<00:00, 6.24MB/s]"
     ]
    },
    {
     "name": "stdout",
     "output_type": "stream",
     "text": [
      "Extracting files...\n"
     ]
    },
    {
     "name": "stderr",
     "output_type": "stream",
     "text": [
      "\n"
     ]
    },
    {
     "data": {
      "text/plain": [
       "'c:\\\\Users\\\\vance\\\\Downloads\\\\geog-414\\\\book\\\\labs\\\\ne_10m_admin_0_countries.zip'"
      ]
     },
     "execution_count": 4,
     "metadata": {},
     "output_type": "execute_result"
    }
   ],
   "source": [
    "# Add your code here\n",
    "url = \"https://www.naturalearthdata.com/http//www.naturalearthdata.com/download/10m/cultural/ne_10m_admin_0_countries.zip\"\n",
    "leafmap.download_file(url, unzip=True)"
   ]
  },
  {
   "cell_type": "markdown",
   "id": "b8d167e9",
   "metadata": {},
   "source": [
    "## Question 3\n",
    "\n",
    "Create a new table in your database called `countries` and load the data from the downloaded country shapefile into it."
   ]
  },
  {
   "cell_type": "code",
   "execution_count": 5,
   "id": "18d563f4",
   "metadata": {},
   "outputs": [
    {
     "data": {
      "text/plain": [
       "┌─────────────────┬───────────┬───────────┬───┬──────────────┬────────────────────┬──────────────────────┐\n",
       "│   featurecla    │ scalerank │ LABELRANK │ … │  FCLASS_BD   │     FCLASS_UA      │         geom         │\n",
       "│     varchar     │   int32   │   int32   │   │   varchar    │      varchar       │       geometry       │\n",
       "├─────────────────┼───────────┼───────────┼───┼──────────────┼────────────────────┼──────────────────────┤\n",
       "│ Admin-0 country │         0 │         2 │ … │ NULL         │ NULL               │ MULTIPOLYGON (((11…  │\n",
       "│ Admin-0 country │         0 │         3 │ … │ NULL         │ NULL               │ MULTIPOLYGON (((11…  │\n",
       "│ Admin-0 country │         0 │         2 │ … │ NULL         │ NULL               │ MULTIPOLYGON (((-6…  │\n",
       "│ Admin-0 country │         0 │         3 │ … │ NULL         │ NULL               │ POLYGON ((-69.5100…  │\n",
       "│ Admin-0 country │         0 │         2 │ … │ NULL         │ NULL               │ MULTIPOLYGON (((-6…  │\n",
       "│ Admin-0 country │         0 │         2 │ … │ NULL         │ NULL               │ MULTIPOLYGON (((-6…  │\n",
       "│ Admin-0 country │         3 │         3 │ … │ NULL         │ Admin-0 dependency │ POLYGON ((33.78093…  │\n",
       "│ Admin-0 country │         1 │         5 │ … │ NULL         │ NULL               │ MULTIPOLYGON (((33…  │\n",
       "│ Admin-0 country │         0 │         2 │ … │ NULL         │ NULL               │ MULTIPOLYGON (((77…  │\n",
       "│ Admin-0 country │         0 │         2 │ … │ NULL         │ NULL               │ MULTIPOLYGON (((78…  │\n",
       "│        ·        │         · │         · │ · │  ·           │  ·                 │          ·           │\n",
       "│        ·        │         · │         · │ · │  ·           │  ·                 │          ·           │\n",
       "│        ·        │         · │         · │ · │  ·           │  ·                 │          ·           │\n",
       "│ Admin-0 country │         5 │         6 │ … │ NULL         │ NULL               │ MULTIPOLYGON (((14…  │\n",
       "│ Admin-0 country │         5 │         4 │ … │ NULL         │ NULL               │ MULTIPOLYGON (((50…  │\n",
       "│ Admin-0 country │         6 │         5 │ … │ NULL         │ NULL               │ POLYGON ((154.3912…  │\n",
       "│ Admin-0 country │         6 │         6 │ … │ NULL         │ NULL               │ MULTIPOLYGON (((11…  │\n",
       "│ Admin-0 country │         6 │         5 │ … │ NULL         │ NULL               │ POLYGON ((-109.212…  │\n",
       "│ Admin-0 country │         0 │         4 │ … │ NULL         │ NULL               │ MULTIPOLYGON (((11…  │\n",
       "│ Admin-0 country │         6 │         5 │ … │ NULL         │ NULL               │ POLYGON ((123.5970…  │\n",
       "│ Admin-0 country │         6 │         8 │ … │ Unrecognized │ Unrecognized       │ POLYGON ((-79.9892…  │\n",
       "│ Admin-0 country │         6 │         5 │ … │ Unrecognized │ Unrecognized       │ POLYGON ((-78.6370…  │\n",
       "│ Admin-0 country │         6 │         6 │ … │ NULL         │ NULL               │ POLYGON ((117.7538…  │\n",
       "├─────────────────┴───────────┴───────────┴───┴──────────────┴────────────────────┴──────────────────────┤\n",
       "│ 258 rows (20 shown)                                                              169 columns (6 shown) │\n",
       "└────────────────────────────────────────────────────────────────────────────────────────────────────────┘"
      ]
     },
     "execution_count": 5,
     "metadata": {},
     "output_type": "execute_result"
    }
   ],
   "source": [
    "# Add your code here\n",
    "con.sql(\"SELECT * FROM ST_Read('C:/Users/vance/Downloads/geog-414/book/labs/ne_10m_admin_0_countries.shp')\")"
   ]
  },
  {
   "cell_type": "code",
   "execution_count": 6,
   "metadata": {},
   "outputs": [],
   "source": [
    "con.sql(\n",
    "    \"\"\"\n",
    "CREATE TABLE IF NOT EXISTS countries AS\n",
    "SELECT * FROM 'C:/Users/vance/Downloads/geog-414/book/labs/ne_10m_admin_0_countries.shp'\n",
    "\"\"\"\n",
    ")"
   ]
  },
  {
   "cell_type": "code",
   "execution_count": 8,
   "metadata": {},
   "outputs": [
    {
     "data": {
      "text/plain": [
       "┌─────────────────┬───────────┬───────────┬───┬──────────────┬────────────────────┬──────────────────────┐\n",
       "│   featurecla    │ scalerank │ LABELRANK │ … │  FCLASS_BD   │     FCLASS_UA      │         geom         │\n",
       "│     varchar     │   int32   │   int32   │   │   varchar    │      varchar       │       geometry       │\n",
       "├─────────────────┼───────────┼───────────┼───┼──────────────┼────────────────────┼──────────────────────┤\n",
       "│ Admin-0 country │         0 │         2 │ … │ NULL         │ NULL               │ MULTIPOLYGON (((11…  │\n",
       "│ Admin-0 country │         0 │         3 │ … │ NULL         │ NULL               │ MULTIPOLYGON (((11…  │\n",
       "│ Admin-0 country │         0 │         2 │ … │ NULL         │ NULL               │ MULTIPOLYGON (((-6…  │\n",
       "│ Admin-0 country │         0 │         3 │ … │ NULL         │ NULL               │ POLYGON ((-69.5100…  │\n",
       "│ Admin-0 country │         0 │         2 │ … │ NULL         │ NULL               │ MULTIPOLYGON (((-6…  │\n",
       "│ Admin-0 country │         0 │         2 │ … │ NULL         │ NULL               │ MULTIPOLYGON (((-6…  │\n",
       "│ Admin-0 country │         3 │         3 │ … │ NULL         │ Admin-0 dependency │ POLYGON ((33.78093…  │\n",
       "│ Admin-0 country │         1 │         5 │ … │ NULL         │ NULL               │ MULTIPOLYGON (((33…  │\n",
       "│ Admin-0 country │         0 │         2 │ … │ NULL         │ NULL               │ MULTIPOLYGON (((77…  │\n",
       "│ Admin-0 country │         0 │         2 │ … │ NULL         │ NULL               │ MULTIPOLYGON (((78…  │\n",
       "│        ·        │         · │         · │ · │  ·           │  ·                 │          ·           │\n",
       "│        ·        │         · │         · │ · │  ·           │  ·                 │          ·           │\n",
       "│        ·        │         · │         · │ · │  ·           │  ·                 │          ·           │\n",
       "│ Admin-0 country │         5 │         6 │ … │ NULL         │ NULL               │ MULTIPOLYGON (((14…  │\n",
       "│ Admin-0 country │         5 │         4 │ … │ NULL         │ NULL               │ MULTIPOLYGON (((50…  │\n",
       "│ Admin-0 country │         6 │         5 │ … │ NULL         │ NULL               │ POLYGON ((154.3912…  │\n",
       "│ Admin-0 country │         6 │         6 │ … │ NULL         │ NULL               │ MULTIPOLYGON (((11…  │\n",
       "│ Admin-0 country │         6 │         5 │ … │ NULL         │ NULL               │ POLYGON ((-109.212…  │\n",
       "│ Admin-0 country │         0 │         4 │ … │ NULL         │ NULL               │ MULTIPOLYGON (((11…  │\n",
       "│ Admin-0 country │         6 │         5 │ … │ NULL         │ NULL               │ POLYGON ((123.5970…  │\n",
       "│ Admin-0 country │         6 │         8 │ … │ Unrecognized │ Unrecognized       │ POLYGON ((-79.9892…  │\n",
       "│ Admin-0 country │         6 │         5 │ … │ Unrecognized │ Unrecognized       │ POLYGON ((-78.6370…  │\n",
       "│ Admin-0 country │         6 │         6 │ … │ NULL         │ NULL               │ POLYGON ((117.7538…  │\n",
       "├─────────────────┴───────────┴───────────┴───┴──────────────┴────────────────────┴──────────────────────┤\n",
       "│ 258 rows (20 shown)                                                              169 columns (6 shown) │\n",
       "└────────────────────────────────────────────────────────────────────────────────────────────────────────┘"
      ]
     },
     "execution_count": 8,
     "metadata": {},
     "output_type": "execute_result"
    }
   ],
   "source": [
    "con.sql(\"SELECT * FROM countries\")"
   ]
  },
  {
   "cell_type": "markdown",
   "id": "e22bdaba",
   "metadata": {},
   "source": [
    "Calculate the total population of all countries in the database using the `POP_EST` column."
   ]
  },
  {
   "cell_type": "code",
   "execution_count": 9,
   "id": "99a061af",
   "metadata": {},
   "outputs": [
    {
     "data": {
      "text/plain": [
       "┌──────────────┐\n",
       "│   POP_EST    │\n",
       "│    double    │\n",
       "├──────────────┤\n",
       "│  270625568.0 │\n",
       "│   31949777.0 │\n",
       "│   18952038.0 │\n",
       "│   11513100.0 │\n",
       "│   32510453.0 │\n",
       "│   44938712.0 │\n",
       "│       7850.0 │\n",
       "│    1198575.0 │\n",
       "│ 1366417754.0 │\n",
       "│ 1397715000.0 │\n",
       "│         ·    │\n",
       "│         ·    │\n",
       "│         ·    │\n",
       "│      57216.0 │\n",
       "│    1641172.0 │\n",
       "│          4.0 │\n",
       "│        100.0 │\n",
       "│          0.0 │\n",
       "│     640445.0 │\n",
       "│          0.0 │\n",
       "│          0.0 │\n",
       "│          0.0 │\n",
       "│          0.0 │\n",
       "├──────────────┤\n",
       "│   258 rows   │\n",
       "│  (20 shown)  │\n",
       "└──────────────┘"
      ]
     },
     "execution_count": 9,
     "metadata": {},
     "output_type": "execute_result"
    }
   ],
   "source": [
    "# Add your code here\n",
    "con.sql(\"SELECT POP_EST FROM countries\")"
   ]
  },
  {
   "cell_type": "code",
   "execution_count": 12,
   "metadata": {},
   "outputs": [
    {
     "data": {
      "text/plain": [
       "┌──────────────┐\n",
       "│ sum(POP_EST) │\n",
       "│    double    │\n",
       "├──────────────┤\n",
       "│ 7677059722.3 │\n",
       "└──────────────┘"
      ]
     },
     "execution_count": 12,
     "metadata": {},
     "output_type": "execute_result"
    }
   ],
   "source": [
    "con.sql(\"SELECT SUM(POP_EST) FROM countries\")"
   ]
  },
  {
   "cell_type": "markdown",
   "id": "2aab5a54",
   "metadata": {},
   "source": [
    "Show the top 10 countries with the largest population."
   ]
  },
  {
   "cell_type": "code",
   "execution_count": 16,
   "id": "4bc6560a",
   "metadata": {},
   "outputs": [
    {
     "data": {
      "text/plain": [
       "┌───────────┬──────────────┐\n",
       "│   NAME    │   POP_EST    │\n",
       "│  varchar  │    double    │\n",
       "├───────────┼──────────────┤\n",
       "│ Indonesia │  270625568.0 │\n",
       "│ Malaysia  │   31949777.0 │\n",
       "│ Chile     │   18952038.0 │\n",
       "│ Bolivia   │   11513100.0 │\n",
       "│ Peru      │   32510453.0 │\n",
       "│ Argentina │   44938712.0 │\n",
       "│ Dhekelia  │       7850.0 │\n",
       "│ Cyprus    │    1198575.0 │\n",
       "│ India     │ 1366417754.0 │\n",
       "│ China     │ 1397715000.0 │\n",
       "├───────────┴──────────────┤\n",
       "│ 10 rows        2 columns │\n",
       "└──────────────────────────┘"
      ]
     },
     "execution_count": 16,
     "metadata": {},
     "output_type": "execute_result"
    }
   ],
   "source": [
    "# Add your code here\n",
    "con.sql(\"SELECT NAME, POP_EST FROM countries LIMIT 10\")"
   ]
  },
  {
   "cell_type": "markdown",
   "id": "15811e3a",
   "metadata": {},
   "source": [
    "Select countries in Europe with a population greater than 100 million and order them by population in descending order."
   ]
  },
  {
   "cell_type": "code",
   "execution_count": 34,
   "id": "33f1dc74",
   "metadata": {},
   "outputs": [
    {
     "data": {
      "text/plain": [
       "┌─────────────┬────────────┐\n",
       "│    NAME     │  POP_EST   │\n",
       "│   varchar   │   double   │\n",
       "├─────────────┼────────────┤\n",
       "│ France      │ 67059887.0 │\n",
       "│ Germany     │ 83132799.0 │\n",
       "│ Belgium     │ 11484055.0 │\n",
       "│ Austria     │  8877067.0 │\n",
       "│ Switzerland │  8574832.0 │\n",
       "│ Netherlands │ 17332850.0 │\n",
       "└─────────────┴────────────┘"
      ]
     },
     "execution_count": 34,
     "metadata": {},
     "output_type": "execute_result"
    }
   ],
   "source": [
    "# Add your code here\n",
    "con.sql(\n",
    "    \"\"\"\n",
    "    SELECT NAME, POP_EST  FROM countries WHERE SUBREGION='Western Europe'\n",
    "    AND POP_EST>1000000\n",
    "\"\"\"\n",
    ")"
   ]
  },
  {
   "cell_type": "markdown",
   "id": "f0591f75",
   "metadata": {},
   "source": [
    "Save the results of the previous query as a new table called `europe`."
   ]
  },
  {
   "cell_type": "code",
   "execution_count": 35,
   "id": "0f65f1d9",
   "metadata": {},
   "outputs": [
    {
     "data": {
      "text/plain": [
       "┌─────────────┬────────────┐\n",
       "│    NAME     │  POP_EST   │\n",
       "│   varchar   │   double   │\n",
       "├─────────────┼────────────┤\n",
       "│ Germany     │ 83132799.0 │\n",
       "│ France      │ 67059887.0 │\n",
       "│ Netherlands │ 17332850.0 │\n",
       "│ Belgium     │ 11484055.0 │\n",
       "│ Austria     │  8877067.0 │\n",
       "│ Switzerland │  8574832.0 │\n",
       "└─────────────┴────────────┘"
      ]
     },
     "execution_count": 35,
     "metadata": {},
     "output_type": "execute_result"
    }
   ],
   "source": [
    "# Add your code here\n",
    "con.sql(\n",
    "    \"\"\"\n",
    "SELECT * FROM (\n",
    "    SELECT NAME, POP_EST\n",
    "    FROM countries\n",
    "    WHERE SUBREGION='Western Europe' AND POP_EST > 1000000\n",
    ") AS europe\n",
    "ORDER BY POP_EST DESC\n",
    "\"\"\"\n",
    ")\n"
   ]
  },
  {
   "cell_type": "markdown",
   "id": "2abecddd",
   "metadata": {},
   "source": [
    "Export the `europe` table as a GeoJSON file."
   ]
  },
  {
   "cell_type": "code",
   "execution_count": 41,
   "id": "83b4abd1",
   "metadata": {},
   "outputs": [],
   "source": [
    "# Add your code here\n",
    "con.sql(\n",
    "    \"\"\"\n",
    "CREATE TABLE europe AS SELECT * FROM (\n",
    "    SELECT NAME, POP_EST\n",
    "    FROM countries\n",
    "    WHERE SUBREGION='Western Europe' AND POP_EST > 1000000\n",
    ") AS europe\n",
    "ORDER BY POP_EST DESC\n",
    "\"\"\"\n",
    ")"
   ]
  },
  {
   "cell_type": "code",
   "execution_count": 43,
   "metadata": {},
   "outputs": [],
   "source": [
    "con.sql(\"COPY europe TO 'europe.json'\")"
   ]
  },
  {
   "cell_type": "markdown",
   "id": "fcd9c116",
   "metadata": {},
   "source": [
    "## Question 4\n",
    "\n",
    "Create a table called `text_zones` and load the data from the [taxi_zones.parquet](https://beta.source.coop/cholmes/nyc-taxi-zones/taxi_zones.parquet) into it."
   ]
  },
  {
   "cell_type": "code",
   "execution_count": 50,
   "id": "4382d513",
   "metadata": {},
   "outputs": [
    {
     "data": {
      "text/plain": [
       "┌──────────┬────────────────┬────────────────┬───┬────────────┬───────────────┬──────────────────────┐\n",
       "│ OBJECTID │   Shape_Leng   │   Shape_Area   │ … │ LocationID │    borough    │       geometry       │\n",
       "│  int32   │ decimal(19,11) │ decimal(19,11) │   │   int32    │    varchar    │         blob         │\n",
       "├──────────┼────────────────┼────────────────┼───┼────────────┼───────────────┼──────────────────────┤\n",
       "│        1 │  0.11635745319 │  0.00078230679 │ … │          1 │ EWR           │ \\x01\\x03\\x00\\x00\\x…  │\n",
       "│        2 │  0.43346966679 │  0.00486634038 │ … │          2 │ Queens        │ \\x01\\x06\\x00\\x00\\x…  │\n",
       "│        3 │  0.08434110590 │  0.00031441416 │ … │          3 │ Bronx         │ \\x01\\x03\\x00\\x00\\x…  │\n",
       "│        4 │  0.04356652709 │  0.00011187195 │ … │          4 │ Manhattan     │ \\x01\\x03\\x00\\x00\\x…  │\n",
       "│        5 │  0.09214648986 │  0.00049795749 │ … │          5 │ Staten Island │ \\x01\\x03\\x00\\x00\\x…  │\n",
       "│        6 │  0.15049054252 │  0.00060646098 │ … │          6 │ Staten Island │ \\x01\\x03\\x00\\x00\\x…  │\n",
       "│        7 │  0.10741717112 │  0.00038978799 │ … │          7 │ Queens        │ \\x01\\x03\\x00\\x00\\x…  │\n",
       "│        8 │  0.02759069116 │  0.00002658772 │ … │          8 │ Queens        │ \\x01\\x03\\x00\\x00\\x…  │\n",
       "│        9 │  0.09978409247 │  0.00033844380 │ … │          9 │ Queens        │ \\x01\\x03\\x00\\x00\\x…  │\n",
       "│       10 │  0.09983947942 │  0.00043582382 │ … │         10 │ Queens        │ \\x01\\x03\\x00\\x00\\x…  │\n",
       "│        · │        ·       │        ·       │ · │          · │   ·           │          ·           │\n",
       "│        · │        ·       │        ·       │ · │          · │   ·           │          ·           │\n",
       "│        · │        ·       │        ·       │ · │          · │   ·           │          ·           │\n",
       "│      254 │  0.08588637549 │  0.00036004022 │ … │        254 │ Bronx         │ \\x01\\x03\\x00\\x00\\x…  │\n",
       "│      255 │  0.06238419977 │  0.00017230918 │ … │        255 │ Brooklyn      │ \\x01\\x03\\x00\\x00\\x…  │\n",
       "│      256 │  0.06791496696 │  0.00016861110 │ … │        256 │ Brooklyn      │ \\x01\\x03\\x00\\x00\\x…  │\n",
       "│      257 │  0.05866902598 │  0.00013890947 │ … │        257 │ Brooklyn      │ \\x01\\x03\\x00\\x00\\x…  │\n",
       "│      258 │  0.08901337877 │  0.00036620962 │ … │        258 │ Queens        │ \\x01\\x03\\x00\\x00\\x…  │\n",
       "│      259 │  0.12675030519 │  0.00039455249 │ … │        259 │ Bronx         │ \\x01\\x03\\x00\\x00\\x…  │\n",
       "│      260 │  0.13351415464 │  0.00042234533 │ … │        260 │ Queens        │ \\x01\\x03\\x00\\x00\\x…  │\n",
       "│      261 │  0.02712045636 │  0.00003434232 │ … │        261 │ Manhattan     │ \\x01\\x03\\x00\\x00\\x…  │\n",
       "│      262 │  0.04906362315 │  0.00012233027 │ … │        262 │ Manhattan     │ \\x01\\x06\\x00\\x00\\x…  │\n",
       "│      263 │  0.03701662530 │  0.00006576977 │ … │        263 │ Manhattan     │ \\x01\\x03\\x00\\x00\\x…  │\n",
       "├──────────┴────────────────┴────────────────┴───┴────────────┴───────────────┴──────────────────────┤\n",
       "│ 263 rows (20 shown)                                                            7 columns (6 shown) │\n",
       "└────────────────────────────────────────────────────────────────────────────────────────────────────┘"
      ]
     },
     "execution_count": 50,
     "metadata": {},
     "output_type": "execute_result"
    }
   ],
   "source": [
    "# Add your code here\n",
    "con.read_parquet('https://data.source.coop/cholmes/nyc-taxi-zones/taxi_zones.parquet')"
   ]
  },
  {
   "cell_type": "code",
   "execution_count": 57,
   "metadata": {},
   "outputs": [],
   "source": [
    "con.sql(\n",
    "    \"\"\"\n",
    "CREATE TABLE IF NOT EXISTS taxi_zones AS\n",
    "SELECT * FROM 'https://data.source.coop/cholmes/nyc-taxi-zones/taxi_zones.parquet'\n",
    "\"\"\"\n",
    ")"
   ]
  },
  {
   "cell_type": "code",
   "execution_count": 58,
   "metadata": {},
   "outputs": [
    {
     "data": {
      "text/plain": [
       "┌──────────┬────────────────┬────────────────┬───┬────────────┬───────────────┬──────────────────────┐\n",
       "│ OBJECTID │   Shape_Leng   │   Shape_Area   │ … │ LocationID │    borough    │       geometry       │\n",
       "│  int32   │ decimal(19,11) │ decimal(19,11) │   │   int32    │    varchar    │         blob         │\n",
       "├──────────┼────────────────┼────────────────┼───┼────────────┼───────────────┼──────────────────────┤\n",
       "│        1 │  0.11635745319 │  0.00078230679 │ … │          1 │ EWR           │ \\x01\\x03\\x00\\x00\\x…  │\n",
       "│        2 │  0.43346966679 │  0.00486634038 │ … │          2 │ Queens        │ \\x01\\x06\\x00\\x00\\x…  │\n",
       "│        3 │  0.08434110590 │  0.00031441416 │ … │          3 │ Bronx         │ \\x01\\x03\\x00\\x00\\x…  │\n",
       "│        4 │  0.04356652709 │  0.00011187195 │ … │          4 │ Manhattan     │ \\x01\\x03\\x00\\x00\\x…  │\n",
       "│        5 │  0.09214648986 │  0.00049795749 │ … │          5 │ Staten Island │ \\x01\\x03\\x00\\x00\\x…  │\n",
       "│        6 │  0.15049054252 │  0.00060646098 │ … │          6 │ Staten Island │ \\x01\\x03\\x00\\x00\\x…  │\n",
       "│        7 │  0.10741717112 │  0.00038978799 │ … │          7 │ Queens        │ \\x01\\x03\\x00\\x00\\x…  │\n",
       "│        8 │  0.02759069116 │  0.00002658772 │ … │          8 │ Queens        │ \\x01\\x03\\x00\\x00\\x…  │\n",
       "│        9 │  0.09978409247 │  0.00033844380 │ … │          9 │ Queens        │ \\x01\\x03\\x00\\x00\\x…  │\n",
       "│       10 │  0.09983947942 │  0.00043582382 │ … │         10 │ Queens        │ \\x01\\x03\\x00\\x00\\x…  │\n",
       "│        · │        ·       │        ·       │ · │          · │   ·           │          ·           │\n",
       "│        · │        ·       │        ·       │ · │          · │   ·           │          ·           │\n",
       "│        · │        ·       │        ·       │ · │          · │   ·           │          ·           │\n",
       "│      254 │  0.08588637549 │  0.00036004022 │ … │        254 │ Bronx         │ \\x01\\x03\\x00\\x00\\x…  │\n",
       "│      255 │  0.06238419977 │  0.00017230918 │ … │        255 │ Brooklyn      │ \\x01\\x03\\x00\\x00\\x…  │\n",
       "│      256 │  0.06791496696 │  0.00016861110 │ … │        256 │ Brooklyn      │ \\x01\\x03\\x00\\x00\\x…  │\n",
       "│      257 │  0.05866902598 │  0.00013890947 │ … │        257 │ Brooklyn      │ \\x01\\x03\\x00\\x00\\x…  │\n",
       "│      258 │  0.08901337877 │  0.00036620962 │ … │        258 │ Queens        │ \\x01\\x03\\x00\\x00\\x…  │\n",
       "│      259 │  0.12675030519 │  0.00039455249 │ … │        259 │ Bronx         │ \\x01\\x03\\x00\\x00\\x…  │\n",
       "│      260 │  0.13351415464 │  0.00042234533 │ … │        260 │ Queens        │ \\x01\\x03\\x00\\x00\\x…  │\n",
       "│      261 │  0.02712045636 │  0.00003434232 │ … │        261 │ Manhattan     │ \\x01\\x03\\x00\\x00\\x…  │\n",
       "│      262 │  0.04906362315 │  0.00012233027 │ … │        262 │ Manhattan     │ \\x01\\x06\\x00\\x00\\x…  │\n",
       "│      263 │  0.03701662530 │  0.00006576977 │ … │        263 │ Manhattan     │ \\x01\\x03\\x00\\x00\\x…  │\n",
       "├──────────┴────────────────┴────────────────┴───┴────────────┴───────────────┴──────────────────────┤\n",
       "│ 263 rows (20 shown)                                                            7 columns (6 shown) │\n",
       "└────────────────────────────────────────────────────────────────────────────────────────────────────┘"
      ]
     },
     "execution_count": 58,
     "metadata": {},
     "output_type": "execute_result"
    }
   ],
   "source": [
    "con.sql('FROM taxi_zones')"
   ]
  },
  {
   "cell_type": "markdown",
   "id": "f9e61353",
   "metadata": {},
   "source": [
    "Find out the unique values in the `borough` column and order them alphabetically."
   ]
  },
  {
   "cell_type": "code",
   "execution_count": 63,
   "id": "04d54c35",
   "metadata": {},
   "outputs": [
    {
     "data": {
      "text/plain": [
       "┌───────────────┐\n",
       "│    borough    │\n",
       "│    varchar    │\n",
       "├───────────────┤\n",
       "│ Bronx         │\n",
       "│ Brooklyn      │\n",
       "│ EWR           │\n",
       "│ Manhattan     │\n",
       "│ Queens        │\n",
       "│ Staten Island │\n",
       "└───────────────┘"
      ]
     },
     "execution_count": 63,
     "metadata": {},
     "output_type": "execute_result"
    }
   ],
   "source": [
    "# Add your code here\n",
    "con.sql(\"SELECT DISTINCT borough FROM taxi_zones ORDER BY borough\")"
   ]
  },
  {
   "cell_type": "markdown",
   "id": "9f10ad65",
   "metadata": {},
   "source": [
    "Export the `text_zones` table as a parquet file."
   ]
  },
  {
   "cell_type": "code",
   "execution_count": 65,
   "id": "371118e0",
   "metadata": {},
   "outputs": [],
   "source": [
    "# Add your code here\n",
    "con.sql(\"COPY taxi_zones TO 'taxi_zones.parquet' (FORMAT PARQUET)\")\n"
   ]
  },
  {
   "cell_type": "markdown",
   "id": "b52dd49a",
   "metadata": {},
   "source": [
    "## Question 5\n",
    "\n",
    "Explore the [Google Open Buildings](https://beta.source.coop/cholmes/google-open-buildings/v2/geoparquet-admin1/) and select a country of your choice with relatively small number of buildings (i.e., small file size). Get the three character country code and replace `[COUNTRY_NAME]` in the following path with the country code. Use it to load all the parquet files for the selected country into a new table called `buildings`.\n",
    "\n",
    "`s3://us-west-2.opendata.source.coop/google-research-open-buildings/v2/geoparquet-admin1/country=[COUNTRY_NAME]/*.parquet`"
   ]
  },
  {
   "cell_type": "code",
   "execution_count": 66,
   "id": "b45dfe92",
   "metadata": {},
   "outputs": [
    {
     "data": {
      "application/vnd.jupyter.widget-view+json": {
       "model_id": "ed19605afc2f4f7ca4fddb25ea7ff308",
       "version_major": 2,
       "version_minor": 0
      },
      "text/plain": [
       "FloatProgress(value=0.0, layout=Layout(width='auto'), style=ProgressStyle(bar_color='black'))"
      ]
     },
     "metadata": {},
     "output_type": "display_data"
    }
   ],
   "source": [
    "# Add your code here\n",
    "# con.sql('s3://us-west-2.opendata.source.coop/google-research-open-buildings/v2/geoparquet-admin1/country=AGO/*.parquet')\n",
    "\n",
    "con.sql(\n",
    "    \"\"\"\n",
    "CREATE TABLE IF NOT EXISTS buildings AS\n",
    "SELECT * FROM 's3://us-west-2.opendata.source.coop/google-research-open-buildings/v2/geoparquet-admin1/country=AGO/*.parquet'\n",
    "\"\"\"\n",
    ")"
   ]
  },
  {
   "cell_type": "markdown",
   "id": "5eb6234b",
   "metadata": {},
   "source": [
    "Find out the number of buildings in the selected country."
   ]
  },
  {
   "cell_type": "code",
   "execution_count": 67,
   "id": "7f910e88",
   "metadata": {},
   "outputs": [
    {
     "data": {
      "text/plain": [
       "┌─────────┬─────────┬────────────────┬────────────┬────────────────┬───────────────────────────────────────────────────┐\n",
       "│ country │ admin_1 │ area_in_meters │ confidence │ full_plus_code │                     geometry                      │\n",
       "│ varchar │ varchar │     double     │   double   │    varchar     │                       blob                        │\n",
       "├─────────┼─────────┼────────────────┼────────────┼────────────────┼───────────────────────────────────────────────────┤\n",
       "│ AGO     │ Bengo   │         9.7462 │     0.6895 │ 6F3M3R9J+8MFV  │ \\x01\\x03\\x00\\x00\\x00\\x01\\x00\\x00\\x00\\x05\\x00\\x0…  │\n",
       "│ AGO     │ Bengo   │        14.5865 │     0.6915 │ 6F3M3R9J+9R97  │ \\x01\\x03\\x00\\x00\\x00\\x01\\x00\\x00\\x00\\x05\\x00\\x0…  │\n",
       "│ AGO     │ Bengo   │        11.1536 │     0.6115 │ 6F3M3RFQ+V5P9  │ \\x01\\x03\\x00\\x00\\x00\\x01\\x00\\x00\\x00\\x05\\x00\\x0…  │\n",
       "│ AGO     │ Bengo   │        66.1149 │     0.7327 │ 6F3M3V99+GX7Q  │ \\x01\\x03\\x00\\x00\\x00\\x01\\x00\\x00\\x00\\x07\\x00\\x0…  │\n",
       "│ AGO     │ Bengo   │         17.532 │     0.6087 │ 6F3M3VC3+GRC4  │ \\x01\\x03\\x00\\x00\\x00\\x01\\x00\\x00\\x00\\x05\\x00\\x0…  │\n",
       "│ AGO     │ Bengo   │        14.0424 │     0.7287 │ 6F3M3VC3+GRFQ  │ \\x01\\x03\\x00\\x00\\x00\\x01\\x00\\x00\\x00\\x05\\x00\\x0…  │\n",
       "│ AGO     │ Bengo   │        27.7694 │     0.7456 │ 6F3M3VC3+JR62  │ \\x01\\x03\\x00\\x00\\x00\\x01\\x00\\x00\\x00\\x05\\x00\\x0…  │\n",
       "│ AGO     │ Bengo   │        19.2294 │     0.7218 │ 6F3M3VC3+JWP6  │ \\x01\\x03\\x00\\x00\\x00\\x01\\x00\\x00\\x00\\x05\\x00\\x0…  │\n",
       "│ AGO     │ Bengo   │        15.2001 │     0.6755 │ 6F3M3VC3+MPH5  │ \\x01\\x03\\x00\\x00\\x00\\x01\\x00\\x00\\x00\\x05\\x00\\x0…  │\n",
       "│ AGO     │ Bengo   │        35.5994 │     0.7754 │ 6F3M3VC3+PMW7  │ \\x01\\x03\\x00\\x00\\x00\\x01\\x00\\x00\\x00\\x05\\x00\\x0…  │\n",
       "│  ·      │   ·     │           ·    │        ·   │       ·        │                         ·                         │\n",
       "│  ·      │   ·     │           ·    │        ·   │       ·        │                         ·                         │\n",
       "│  ·      │   ·     │           ·    │        ·   │       ·        │                         ·                         │\n",
       "│ AGO     │ Bengo   │        58.4777 │     0.7819 │ 6F3M7C4H+5VP3  │ \\x01\\x03\\x00\\x00\\x00\\x01\\x00\\x00\\x00\\x05\\x00\\x0…  │\n",
       "│ AGO     │ Bengo   │         44.433 │     0.7452 │ 6F3M7C4H+5W3V  │ \\x01\\x03\\x00\\x00\\x00\\x01\\x00\\x00\\x00\\x05\\x00\\x0…  │\n",
       "│ AGO     │ Bengo   │        46.6477 │     0.7153 │ 6F3M7C4H+5W99  │ \\x01\\x03\\x00\\x00\\x00\\x01\\x00\\x00\\x00\\x07\\x00\\x0…  │\n",
       "│ AGO     │ Bengo   │        24.1115 │      0.771 │ 6F3M7C4H+5WFG  │ \\x01\\x03\\x00\\x00\\x00\\x01\\x00\\x00\\x00\\x05\\x00\\x0…  │\n",
       "│ AGO     │ Bengo   │        23.1526 │     0.7152 │ 6F3M7C4H+5WHP  │ \\x01\\x03\\x00\\x00\\x00\\x01\\x00\\x00\\x00\\x05\\x00\\x0…  │\n",
       "│ AGO     │ Bengo   │        11.4402 │     0.6034 │ 6F3M7C4H+5X4X  │ \\x01\\x03\\x00\\x00\\x00\\x01\\x00\\x00\\x00\\x05\\x00\\x0…  │\n",
       "│ AGO     │ Bengo   │       126.1814 │     0.7721 │ 6F3M7C4H+665H  │ \\x01\\x03\\x00\\x00\\x00\\x01\\x00\\x00\\x00\\x05\\x00\\x0…  │\n",
       "│ AGO     │ Bengo   │       130.4247 │      0.639 │ 6F3M7C4H+667R  │ \\x01\\x03\\x00\\x00\\x00\\x01\\x00\\x00\\x00\\x07\\x00\\x0…  │\n",
       "│ AGO     │ Bengo   │        56.1967 │     0.8478 │ 6F3M7C4H+6RGW  │ \\x01\\x03\\x00\\x00\\x00\\x01\\x00\\x00\\x00\\x05\\x00\\x0…  │\n",
       "│ AGO     │ Bengo   │         80.037 │      0.802 │ 6F3M7C4H+6VH5  │ \\x01\\x03\\x00\\x00\\x00\\x01\\x00\\x00\\x00\\x09\\x00\\x0…  │\n",
       "├─────────┴─────────┴────────────────┴────────────┴────────────────┴───────────────────────────────────────────────────┤\n",
       "│ ? rows (>9999 rows, 20 shown)                                                                              6 columns │\n",
       "└──────────────────────────────────────────────────────────────────────────────────────────────────────────────────────┘"
      ]
     },
     "execution_count": 67,
     "metadata": {},
     "output_type": "execute_result"
    }
   ],
   "source": [
    "# Add your code here\n",
    "con.sql('FROM buildings')"
   ]
  },
  {
   "cell_type": "code",
   "execution_count": 69,
   "metadata": {},
   "outputs": [
    {
     "data": {
      "text/plain": [
       "┌────────────────┐\n",
       "│ count(admin_1) │\n",
       "│     int64      │\n",
       "├────────────────┤\n",
       "│       11620543 │\n",
       "└────────────────┘"
      ]
     },
     "execution_count": 69,
     "metadata": {},
     "output_type": "execute_result"
    }
   ],
   "source": [
    "con.sql(\"SELECT COUNT (admin_1) FROM buildings\")"
   ]
  },
  {
   "cell_type": "markdown",
   "id": "3d5f136f",
   "metadata": {},
   "source": [
    "Find out the total area of all buildings in the selected country."
   ]
  },
  {
   "cell_type": "code",
   "execution_count": 70,
   "id": "4d42ae58",
   "metadata": {},
   "outputs": [
    {
     "data": {
      "text/plain": [
       "┌─────────────────────┐\n",
       "│ sum(area_in_meters) │\n",
       "│       double        │\n",
       "├─────────────────────┤\n",
       "│   520251749.5156959 │\n",
       "└─────────────────────┘"
      ]
     },
     "execution_count": 70,
     "metadata": {},
     "output_type": "execute_result"
    }
   ],
   "source": [
    "# Add your code here\n",
    "con.sql(\"SELECT SUM(area_in_meters) from buildings\")"
   ]
  },
  {
   "cell_type": "markdown",
   "id": "24212b25",
   "metadata": {},
   "source": [
    "Export the `buildings` table as a GeoPackage file."
   ]
  },
  {
   "cell_type": "code",
   "execution_count": 73,
   "id": "3c27d332",
   "metadata": {},
   "outputs": [],
   "source": [
    "# Add your code here. This is a massive file so I commented it out\n",
    "# con.sql(\"COPY buildings TO 'buildings.gpkg' WITH (FORMAT GDAL, DRIVER 'GPKG')\")"
   ]
  }
 ],
 "metadata": {
  "jupytext": {
   "text_representation": {
    "extension": ".md",
    "format_name": "myst",
    "format_version": 0.13,
    "jupytext_version": "1.15.2"
   }
  },
  "kernelspec": {
   "display_name": "Python 3",
   "language": "python",
   "name": "python3"
  },
  "language_info": {
   "codemirror_mode": {
    "name": "ipython",
    "version": 3
   },
   "file_extension": ".py",
   "mimetype": "text/x-python",
   "name": "python",
   "nbconvert_exporter": "python",
   "pygments_lexer": "ipython3",
   "version": "3.9.16"
  },
  "source_map": [
   12,
   27,
   31,
   34,
   40,
   42,
   48,
   50,
   56,
   58,
   62,
   64,
   68,
   70,
   74,
   76,
   80,
   82,
   86,
   88,
   94,
   96,
   100,
   102,
   106,
   108,
   116,
   118,
   122,
   124,
   128,
   130,
   134
  ]
 },
 "nbformat": 4,
 "nbformat_minor": 5
}
