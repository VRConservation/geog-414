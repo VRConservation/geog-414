{
 "cells": [
  {
   "cell_type": "markdown",
   "id": "42ae42f6",
   "metadata": {},
   "source": [
    "# Data Export\n",
    "\n",
    "## Introduction\n",
    "\n",
    "This notebook demonstrates how to export data from the database to various formats, including Pandas DataFrames, CSV, JSON, Excel, Parquet, GeoJSON, Shapefile, and GeoPackage.\n",
    "\n",
    "## Installation\n",
    "\n",
    "Uncomment the following cell to install the required packages if needed."
   ]
  },
  {
   "cell_type": "code",
   "execution_count": null,
   "id": "9e9acc77",
   "metadata": {},
   "outputs": [],
   "source": [
    "# %pip install duckdb"
   ]
  },
  {
   "cell_type": "markdown",
   "id": "f87f4398",
   "metadata": {},
   "source": [
    "## Library Import"
   ]
  },
  {
   "cell_type": "code",
   "execution_count": 1,
   "id": "867a2ecc",
   "metadata": {},
   "outputs": [],
   "source": [
    "import duckdb\n",
    "import pandas as pd"
   ]
  },
  {
   "cell_type": "markdown",
   "id": "0a506d9c",
   "metadata": {},
   "source": [
    "## Installing Extensions\n",
    "\n",
    "DuckDB’s Python API provides functions for installing and loading extensions, which perform the equivalent operations to running the `INSTALL` and `LOAD` SQL commands, respectively. An example that installs and loads the [httpfs extension](https://duckdb.org/docs/extensions/httpfs) looks like follows:"
   ]
  },
  {
   "cell_type": "code",
   "execution_count": 2,
   "id": "baa3dcbb",
   "metadata": {},
   "outputs": [],
   "source": [
    "con = duckdb.connect()"
   ]
  },
  {
   "cell_type": "code",
   "execution_count": 3,
   "id": "df74be32",
   "metadata": {},
   "outputs": [],
   "source": [
    "con.install_extension(\"httpfs\")\n",
    "con.load_extension(\"httpfs\")"
   ]
  },
  {
   "cell_type": "code",
   "execution_count": 4,
   "id": "0ce00d38",
   "metadata": {},
   "outputs": [],
   "source": [
    "con.install_extension(\"spatial\")\n",
    "con.load_extension(\"spatial\")"
   ]
  },
  {
   "cell_type": "markdown",
   "id": "aaf4de58",
   "metadata": {},
   "source": [
    "## Sample Data"
   ]
  },
  {
   "cell_type": "code",
   "execution_count": 5,
   "id": "ed19b7a1",
   "metadata": {},
   "outputs": [],
   "source": [
    "con.sql(\n",
    "    \"\"\"\n",
    "CREATE TABLE IF NOT EXISTS cities AS\n",
    "SELECT * EXCLUDE geometry, ST_GeomFromWKB(geometry) \n",
    "AS geometry FROM 'https://open.gishub.org/data/duckdb/cities.parquet'\n",
    "\"\"\"\n",
    ")"
   ]
  },
  {
   "cell_type": "code",
   "execution_count": 6,
   "id": "65ea9306",
   "metadata": {},
   "outputs": [
    {
     "name": "stdout",
     "output_type": "stream",
     "text": [
      "┌─────────┬────────┬───────────┬───────────┬──────────────────┬────────────┬─────────────────────────────┐\n",
      "│ country │   id   │ latitude  │ longitude │       name       │ population │          geometry           │\n",
      "│ varchar │ double │  double   │  double   │     varchar      │   double   │          geometry           │\n",
      "├─────────┼────────┼───────────┼───────────┼──────────────────┼────────────┼─────────────────────────────┤\n",
      "│ UGA     │    1.0 │    0.5833 │   32.5333 │ Bombo            │    75000.0 │ POINT (32.5333 0.5833)      │\n",
      "│ UGA     │    2.0 │     0.671 │    30.275 │ Fort Portal      │    42670.0 │ POINT (30.275 0.671)        │\n",
      "│ ITA     │    3.0 │    40.642 │    15.799 │ Potenza          │    69060.0 │ POINT (15.799 40.642)       │\n",
      "│ ITA     │    4.0 │    41.563 │    14.656 │ Campobasso       │    50762.0 │ POINT (14.656 41.563)       │\n",
      "│ ITA     │    5.0 │    45.737 │     7.315 │ Aosta            │    34062.0 │ POINT (7.315 45.737)        │\n",
      "│ ALD     │    6.0 │    60.097 │    19.949 │ Mariehamn        │    10682.0 │ POINT (19.949 60.097)       │\n",
      "│ PSE     │    7.0 │  31.90294 │  35.20621 │ Ramallah         │    24599.0 │ POINT (35.20621 31.90294)   │\n",
      "│ VAT     │    8.0 │  41.90001 │  12.44781 │ Vatican City     │      832.0 │ POINT (12.44781 41.90001)   │\n",
      "│ FRA     │    9.0 │  46.58329 │   0.33328 │ Poitier          │    85960.0 │ POINT (0.33328 46.58329)    │\n",
      "│ FRA     │   10.0 │  45.77998 │   3.08001 │ Clermont-Ferrand │   233050.0 │ POINT (3.08001 45.77998)    │\n",
      "│  ·      │     ·  │      ·    │      ·    │   ·              │       ·    │            ·                │\n",
      "│  ·      │     ·  │      ·    │      ·    │   ·              │       ·    │            ·                │\n",
      "│  ·      │     ·  │      ·    │      ·    │   ·              │       ·    │            ·                │\n",
      "│ JPN     │ 1240.0 │  35.68502 │ 139.75141 │ Tokyo            │ 35676000.0 │ POINT (139.75141 35.68502)  │\n",
      "│ IND     │ 1241.0 │  19.01699 │  72.85699 │ Mumbai           │ 18978000.0 │ POINT (72.85699 19.01699)   │\n",
      "│ FRA     │ 1242.0 │  48.86669 │   2.33334 │ Paris            │  9904000.0 │ POINT (2.33334 48.86669)    │\n",
      "│ CHL     │ 1243.0 │ -33.45001 │ -70.66704 │ Santiago         │  5720000.0 │ POINT (-70.66704 -33.45001) │\n",
      "│ IND     │ 1244.0 │  22.49497 │  88.32468 │ Kolkata          │ 14787000.0 │ POINT (88.32468 22.49497)   │\n",
      "│ BRA     │ 1245.0 │ -22.92502 │ -43.22502 │ Rio de Janeiro   │ 11748000.0 │ POINT (-43.22502 -22.92502) │\n",
      "│ BRA     │ 1246.0 │ -23.55868 │ -46.62502 │ Sao Paulo        │ 18845000.0 │ POINT (-46.62502 -23.55868) │\n",
      "│ AUS     │ 1247.0 │ -33.92001 │ 151.18518 │ Sydney           │  4630000.0 │ POINT (151.18518 -33.92001) │\n",
      "│ SGP     │ 1248.0 │   1.29303 │ 103.85582 │ Singapore        │  5183700.0 │ POINT (103.85582 1.29303)   │\n",
      "│ CHN     │ 1249.0 │  22.30498 │ 114.18501 │ Hong Kong        │  7206000.0 │ POINT (114.18501 22.30498)  │\n",
      "├─────────┴────────┴───────────┴───────────┴──────────────────┴────────────┴─────────────────────────────┤\n",
      "│ 1249 rows (20 shown)                                                                         7 columns │\n",
      "└────────────────────────────────────────────────────────────────────────────────────────────────────────┘\n",
      "\n"
     ]
    }
   ],
   "source": [
    "con.table(\"cities\").show()"
   ]
  },
  {
   "cell_type": "markdown",
   "id": "ed962cbf",
   "metadata": {},
   "source": [
    "## To DataFrames"
   ]
  },
  {
   "cell_type": "code",
   "execution_count": 7,
   "id": "a0daa100",
   "metadata": {},
   "outputs": [
    {
     "data": {
      "text/html": [
       "<div>\n",
       "<style scoped>\n",
       "    .dataframe tbody tr th:only-of-type {\n",
       "        vertical-align: middle;\n",
       "    }\n",
       "\n",
       "    .dataframe tbody tr th {\n",
       "        vertical-align: top;\n",
       "    }\n",
       "\n",
       "    .dataframe thead th {\n",
       "        text-align: right;\n",
       "    }\n",
       "</style>\n",
       "<table border=\"1\" class=\"dataframe\">\n",
       "  <thead>\n",
       "    <tr style=\"text-align: right;\">\n",
       "      <th></th>\n",
       "      <th>country</th>\n",
       "      <th>id</th>\n",
       "      <th>latitude</th>\n",
       "      <th>longitude</th>\n",
       "      <th>name</th>\n",
       "      <th>population</th>\n",
       "      <th>geometry</th>\n",
       "    </tr>\n",
       "  </thead>\n",
       "  <tbody>\n",
       "    <tr>\n",
       "      <th>0</th>\n",
       "      <td>UGA</td>\n",
       "      <td>1.0</td>\n",
       "      <td>0.58330</td>\n",
       "      <td>32.53330</td>\n",
       "      <td>Bombo</td>\n",
       "      <td>75000.0</td>\n",
       "      <td>[0, 0, 24, 0, 0, 0, 0, 0, 0, 0, 0, 0, 1, 0, 0,...</td>\n",
       "    </tr>\n",
       "    <tr>\n",
       "      <th>1</th>\n",
       "      <td>UGA</td>\n",
       "      <td>2.0</td>\n",
       "      <td>0.67100</td>\n",
       "      <td>30.27500</td>\n",
       "      <td>Fort Portal</td>\n",
       "      <td>42670.0</td>\n",
       "      <td>[0, 0, 24, 0, 0, 0, 0, 0, 0, 0, 0, 0, 1, 0, 0,...</td>\n",
       "    </tr>\n",
       "    <tr>\n",
       "      <th>2</th>\n",
       "      <td>ITA</td>\n",
       "      <td>3.0</td>\n",
       "      <td>40.64200</td>\n",
       "      <td>15.79900</td>\n",
       "      <td>Potenza</td>\n",
       "      <td>69060.0</td>\n",
       "      <td>[0, 0, 24, 0, 0, 0, 0, 0, 0, 0, 0, 0, 1, 0, 0,...</td>\n",
       "    </tr>\n",
       "    <tr>\n",
       "      <th>3</th>\n",
       "      <td>ITA</td>\n",
       "      <td>4.0</td>\n",
       "      <td>41.56300</td>\n",
       "      <td>14.65600</td>\n",
       "      <td>Campobasso</td>\n",
       "      <td>50762.0</td>\n",
       "      <td>[0, 0, 24, 0, 0, 0, 0, 0, 0, 0, 0, 0, 1, 0, 0,...</td>\n",
       "    </tr>\n",
       "    <tr>\n",
       "      <th>4</th>\n",
       "      <td>ITA</td>\n",
       "      <td>5.0</td>\n",
       "      <td>45.73700</td>\n",
       "      <td>7.31500</td>\n",
       "      <td>Aosta</td>\n",
       "      <td>34062.0</td>\n",
       "      <td>[0, 0, 24, 0, 0, 0, 0, 0, 0, 0, 0, 0, 1, 0, 0,...</td>\n",
       "    </tr>\n",
       "    <tr>\n",
       "      <th>...</th>\n",
       "      <td>...</td>\n",
       "      <td>...</td>\n",
       "      <td>...</td>\n",
       "      <td>...</td>\n",
       "      <td>...</td>\n",
       "      <td>...</td>\n",
       "      <td>...</td>\n",
       "    </tr>\n",
       "    <tr>\n",
       "      <th>1244</th>\n",
       "      <td>BRA</td>\n",
       "      <td>1245.0</td>\n",
       "      <td>-22.92502</td>\n",
       "      <td>-43.22502</td>\n",
       "      <td>Rio de Janeiro</td>\n",
       "      <td>11748000.0</td>\n",
       "      <td>[0, 0, 24, 0, 0, 0, 0, 0, 0, 0, 0, 0, 1, 0, 0,...</td>\n",
       "    </tr>\n",
       "    <tr>\n",
       "      <th>1245</th>\n",
       "      <td>BRA</td>\n",
       "      <td>1246.0</td>\n",
       "      <td>-23.55868</td>\n",
       "      <td>-46.62502</td>\n",
       "      <td>Sao Paulo</td>\n",
       "      <td>18845000.0</td>\n",
       "      <td>[0, 0, 24, 0, 0, 0, 0, 0, 0, 0, 0, 0, 1, 0, 0,...</td>\n",
       "    </tr>\n",
       "    <tr>\n",
       "      <th>1246</th>\n",
       "      <td>AUS</td>\n",
       "      <td>1247.0</td>\n",
       "      <td>-33.92001</td>\n",
       "      <td>151.18518</td>\n",
       "      <td>Sydney</td>\n",
       "      <td>4630000.0</td>\n",
       "      <td>[0, 0, 24, 0, 0, 0, 0, 0, 0, 0, 0, 0, 1, 0, 0,...</td>\n",
       "    </tr>\n",
       "    <tr>\n",
       "      <th>1247</th>\n",
       "      <td>SGP</td>\n",
       "      <td>1248.0</td>\n",
       "      <td>1.29303</td>\n",
       "      <td>103.85582</td>\n",
       "      <td>Singapore</td>\n",
       "      <td>5183700.0</td>\n",
       "      <td>[0, 0, 24, 0, 0, 0, 0, 0, 0, 0, 0, 0, 1, 0, 0,...</td>\n",
       "    </tr>\n",
       "    <tr>\n",
       "      <th>1248</th>\n",
       "      <td>CHN</td>\n",
       "      <td>1249.0</td>\n",
       "      <td>22.30498</td>\n",
       "      <td>114.18501</td>\n",
       "      <td>Hong Kong</td>\n",
       "      <td>7206000.0</td>\n",
       "      <td>[0, 0, 24, 0, 0, 0, 0, 0, 0, 0, 0, 0, 1, 0, 0,...</td>\n",
       "    </tr>\n",
       "  </tbody>\n",
       "</table>\n",
       "<p>1249 rows × 7 columns</p>\n",
       "</div>"
      ],
      "text/plain": [
       "     country      id  latitude  longitude            name  population  \\\n",
       "0        UGA     1.0   0.58330   32.53330           Bombo     75000.0   \n",
       "1        UGA     2.0   0.67100   30.27500     Fort Portal     42670.0   \n",
       "2        ITA     3.0  40.64200   15.79900         Potenza     69060.0   \n",
       "3        ITA     4.0  41.56300   14.65600      Campobasso     50762.0   \n",
       "4        ITA     5.0  45.73700    7.31500           Aosta     34062.0   \n",
       "...      ...     ...       ...        ...             ...         ...   \n",
       "1244     BRA  1245.0 -22.92502  -43.22502  Rio de Janeiro  11748000.0   \n",
       "1245     BRA  1246.0 -23.55868  -46.62502       Sao Paulo  18845000.0   \n",
       "1246     AUS  1247.0 -33.92001  151.18518          Sydney   4630000.0   \n",
       "1247     SGP  1248.0   1.29303  103.85582       Singapore   5183700.0   \n",
       "1248     CHN  1249.0  22.30498  114.18501       Hong Kong   7206000.0   \n",
       "\n",
       "                                               geometry  \n",
       "0     [0, 0, 24, 0, 0, 0, 0, 0, 0, 0, 0, 0, 1, 0, 0,...  \n",
       "1     [0, 0, 24, 0, 0, 0, 0, 0, 0, 0, 0, 0, 1, 0, 0,...  \n",
       "2     [0, 0, 24, 0, 0, 0, 0, 0, 0, 0, 0, 0, 1, 0, 0,...  \n",
       "3     [0, 0, 24, 0, 0, 0, 0, 0, 0, 0, 0, 0, 1, 0, 0,...  \n",
       "4     [0, 0, 24, 0, 0, 0, 0, 0, 0, 0, 0, 0, 1, 0, 0,...  \n",
       "...                                                 ...  \n",
       "1244  [0, 0, 24, 0, 0, 0, 0, 0, 0, 0, 0, 0, 1, 0, 0,...  \n",
       "1245  [0, 0, 24, 0, 0, 0, 0, 0, 0, 0, 0, 0, 1, 0, 0,...  \n",
       "1246  [0, 0, 24, 0, 0, 0, 0, 0, 0, 0, 0, 0, 1, 0, 0,...  \n",
       "1247  [0, 0, 24, 0, 0, 0, 0, 0, 0, 0, 0, 0, 1, 0, 0,...  \n",
       "1248  [0, 0, 24, 0, 0, 0, 0, 0, 0, 0, 0, 0, 1, 0, 0,...  \n",
       "\n",
       "[1249 rows x 7 columns]"
      ]
     },
     "execution_count": 7,
     "metadata": {},
     "output_type": "execute_result"
    }
   ],
   "source": [
    "con.table(\"cities\").df()"
   ]
  },
  {
   "cell_type": "markdown",
   "id": "39fb166f",
   "metadata": {},
   "source": [
    "## To CSV"
   ]
  },
  {
   "cell_type": "code",
   "execution_count": null,
   "id": "efd7291e",
   "metadata": {},
   "outputs": [],
   "source": [
    "con.sql(\"COPY cities TO 'cities.csv' (HEADER, DELIMITER ',')\")"
   ]
  },
  {
   "cell_type": "code",
   "execution_count": null,
   "metadata": {},
   "outputs": [],
   "source": [
    "# To export without the geometry column\n",
    "con.sql(\"COPY (SELECT * EXCLUDE geometry from cities) TO 'cities.csv'\")"
   ]
  },
  {
   "cell_type": "code",
   "execution_count": null,
   "id": "d6236c51",
   "metadata": {},
   "outputs": [],
   "source": [
    "con.sql(\n",
    "    \"COPY (SELECT * FROM cities WHERE country='USA') TO 'cities_us.csv' (HEADER, DELIMITER ',')\"\n",
    ")"
   ]
  },
  {
   "cell_type": "markdown",
   "id": "ac9443a5",
   "metadata": {},
   "source": [
    "## To JSON"
   ]
  },
  {
   "cell_type": "code",
   "execution_count": null,
   "id": "409838f7",
   "metadata": {},
   "outputs": [],
   "source": [
    "con.sql(\"COPY cities TO 'cities.json'\")"
   ]
  },
  {
   "cell_type": "code",
   "execution_count": null,
   "id": "e2738162",
   "metadata": {},
   "outputs": [],
   "source": [
    "con.sql(\"COPY (SELECT * FROM cities WHERE country='USA') TO 'cities_us.json'\")"
   ]
  },
  {
   "cell_type": "markdown",
   "id": "5d9e2684",
   "metadata": {},
   "source": [
    "## To Excel"
   ]
  },
  {
   "cell_type": "code",
   "execution_count": null,
   "id": "efc60f46",
   "metadata": {},
   "outputs": [],
   "source": [
    "con.sql(\n",
    "    \"COPY (SELECT * EXCLUDE geometry FROM cities) TO 'cities.xlsx' WITH (FORMAT GDAL, DRIVER 'XLSX')\"\n",
    ")"
   ]
  },
  {
   "cell_type": "markdown",
   "id": "74900031",
   "metadata": {},
   "source": [
    "## To Parquet"
   ]
  },
  {
   "cell_type": "code",
   "execution_count": null,
   "id": "dd24162f",
   "metadata": {},
   "outputs": [],
   "source": [
    "con.sql(\"COPY cities TO 'cities.parquet' (FORMAT PARQUET)\")"
   ]
  },
  {
   "cell_type": "code",
   "execution_count": null,
   "id": "17177624",
   "metadata": {},
   "outputs": [],
   "source": [
    "con.sql(\n",
    "    \"COPY (SELECT * FROM cities WHERE country='USA') TO 'cities_us.parquet' (FORMAT PARQUET)\"\n",
    ")"
   ]
  },
  {
   "cell_type": "markdown",
   "id": "ce14d0a7",
   "metadata": {},
   "source": [
    "## To GeoJSON"
   ]
  },
  {
   "cell_type": "code",
   "execution_count": null,
   "id": "2bba9d11",
   "metadata": {},
   "outputs": [],
   "source": [
    "con.sql(\"COPY cities TO 'cities.geojson' WITH (FORMAT GDAL, DRIVER 'GeoJSON')\")"
   ]
  },
  {
   "cell_type": "code",
   "execution_count": null,
   "id": "0c09a612",
   "metadata": {},
   "outputs": [],
   "source": [
    "con.sql(\n",
    "    \"COPY (SELECT * FROM cities WHERE country='USA') TO 'cities_us.geojson' WITH (FORMAT GDAL, DRIVER 'GeoJSON')\"\n",
    ")"
   ]
  },
  {
   "cell_type": "markdown",
   "id": "c7739c0e",
   "metadata": {},
   "source": [
    "## To Shapefile\n",
    "\n",
    "Doens't work on Linux."
   ]
  },
  {
   "cell_type": "code",
   "execution_count": null,
   "id": "0ddd0ac6",
   "metadata": {},
   "outputs": [],
   "source": [
    "con.sql(\"COPY cities TO 'cities.shp' WITH (FORMAT GDAL, DRIVER 'ESRI Shapefile')\")"
   ]
  },
  {
   "cell_type": "markdown",
   "id": "6985fbf0",
   "metadata": {},
   "source": [
    "## To GeoPackage"
   ]
  },
  {
   "cell_type": "code",
   "execution_count": null,
   "id": "77de4823",
   "metadata": {},
   "outputs": [],
   "source": [
    "con.sql(\"COPY cities TO 'cities.gpkg' WITH (FORMAT GDAL, DRIVER 'GPKG')\")"
   ]
  }
 ],
 "metadata": {
  "jupytext": {
   "text_representation": {
    "extension": ".md",
    "format_name": "myst",
    "format_version": 0.13,
    "jupytext_version": "1.15.2"
   }
  },
  "kernelspec": {
   "display_name": "geo",
   "language": "python",
   "name": "python3"
  },
  "language_info": {
   "codemirror_mode": {
    "name": "ipython",
    "version": 3
   },
   "file_extension": ".py",
   "mimetype": "text/x-python",
   "name": "python",
   "nbconvert_exporter": "python",
   "pygments_lexer": "ipython3",
   "version": "3.11.6"
  },
  "source_map": [
   12,
   24,
   26,
   30,
   33,
   39,
   43,
   48,
   51,
   55,
   65,
   67,
   71,
   73,
   77,
   81,
   85,
   89,
   93,
   95,
   99,
   103,
   107,
   111,
   115,
   119,
   123,
   127,
   133,
   135,
   139
  ]
 },
 "nbformat": 4,
 "nbformat_minor": 5
}
