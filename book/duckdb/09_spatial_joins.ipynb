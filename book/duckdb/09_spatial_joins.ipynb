{
 "cells": [
  {
   "cell_type": "markdown",
   "id": "aeab95b8",
   "metadata": {},
   "source": [
    "# Spatial Joins\n",
    "\n",
    "## Introduction\n",
    "\n",
    "Spatial joins are the bread-and-butter of spatial databases. They allow you to combine information from different tables by using spatial relationships as the join key. Much of what we think of as “standard GIS analysis” can be expressed as spatial joins.\n",
    "\n",
    "## Installation\n",
    "\n",
    "Uncomment the following cell to install the required packages if needed."
   ]
  },
  {
   "cell_type": "code",
   "execution_count": null,
   "id": "29a21d20",
   "metadata": {},
   "outputs": [],
   "source": [
    "# %pip install duckdb leafmap"
   ]
  },
  {
   "cell_type": "markdown",
   "id": "d5509b86",
   "metadata": {},
   "source": [
    "## Library Import and Configuration"
   ]
  },
  {
   "cell_type": "code",
   "execution_count": 2,
   "id": "79c75260",
   "metadata": {},
   "outputs": [],
   "source": [
    "import duckdb\n",
    "import leafmap"
   ]
  },
  {
   "cell_type": "markdown",
   "id": "cc84002d",
   "metadata": {},
   "source": [
    "## Sample Data\n",
    "\n",
    "The datasets in the database are in NAD83 / UTM zone 18N projection, EPSG:26918."
   ]
  },
  {
   "cell_type": "code",
   "execution_count": 3,
   "id": "2feb3b40",
   "metadata": {},
   "outputs": [
    {
     "name": "stdout",
     "output_type": "stream",
     "text": [
      "nyc_data.db.zip already exists. Skip downloading. Set overwrite=True to overwrite.\n"
     ]
    },
    {
     "data": {
      "text/plain": [
       "'c:\\\\Users\\\\vance\\\\OneDrive\\\\1 Consulting\\\\Spatial\\\\geog-414-copy\\\\book\\\\duckdb\\\\nyc_data.db.zip'"
      ]
     },
     "execution_count": 3,
     "metadata": {},
     "output_type": "execute_result"
    }
   ],
   "source": [
    "url = \"https://open.gishub.org/data/duckdb/nyc_data.db.zip\"\n",
    "leafmap.download_file(url, unzip=True)"
   ]
  },
  {
   "cell_type": "markdown",
   "id": "a8d9f4db",
   "metadata": {},
   "source": [
    "## Connecting to DuckDB\n",
    "\n",
    "Connect jupysql to DuckDB using a SQLAlchemy-style connection string. You may either connect to an in memory DuckDB, or a file backed db."
   ]
  },
  {
   "cell_type": "code",
   "execution_count": 4,
   "id": "335851d2",
   "metadata": {},
   "outputs": [],
   "source": [
    "con = duckdb.connect('nyc_data.db')"
   ]
  },
  {
   "cell_type": "code",
   "execution_count": 5,
   "id": "c865200f",
   "metadata": {},
   "outputs": [],
   "source": [
    "con.install_extension('spatial')\n",
    "con.load_extension('spatial')"
   ]
  },
  {
   "cell_type": "code",
   "execution_count": 6,
   "id": "b0fb5e7b",
   "metadata": {},
   "outputs": [
    {
     "data": {
      "text/plain": [
       "┌─────────────────────┐\n",
       "│        name         │\n",
       "│       varchar       │\n",
       "├─────────────────────┤\n",
       "│ nyc_census_blocks   │\n",
       "│ nyc_homicides       │\n",
       "│ nyc_neighborhoods   │\n",
       "│ nyc_streets         │\n",
       "│ nyc_subway_stations │\n",
       "└─────────────────────┘"
      ]
     },
     "execution_count": 6,
     "metadata": {},
     "output_type": "execute_result"
    }
   ],
   "source": [
    "con.sql(\"SHOW TABLES;\")"
   ]
  },
  {
   "cell_type": "markdown",
   "id": "26396bbd",
   "metadata": {},
   "source": [
    "## Intersection\n",
    "\n",
    "In the previous section, we explored spatial relationships using a two-step process: first we extracted a subway station point for ‘Broad St’; then, we used that point to ask further questions such as “what neighborhood is the ‘Broad St’ station in?”\n",
    "\n",
    "Using a spatial join, we can answer the question in one step, retrieving information about the subway station and the neighborhood that contains it. \n",
    "\n",
    "Let's start by looking at the subway stations and neighborhoods separately."
   ]
  },
  {
   "cell_type": "code",
   "execution_count": 6,
   "id": "a71263cf",
   "metadata": {},
   "outputs": [
    {
     "data": {
      "text/plain": [
       "┌───────────┬──────────────────────┬───────────────────────────────────────────────────────────────────────────────────┐\n",
       "│ BORONAME  │         NAME         │                                       geom                                        │\n",
       "│  varchar  │       varchar        │                                     geometry                                      │\n",
       "├───────────┼──────────────────────┼───────────────────────────────────────────────────────────────────────────────────┤\n",
       "│ Brooklyn  │ Bensonhurst          │ MULTIPOLYGON (((582771.4257198056 4495167.427365481, 584651.2943549604 4497541.…  │\n",
       "│ Manhattan │ East Village         │ MULTIPOLYGON (((585508.7534890148 4509691.267208001, 586826.3570590394 4508984.…  │\n",
       "│ Manhattan │ West Village         │ MULTIPOLYGON (((583263.2776595836 4509242.626023987, 583276.8199068634 4509378.…  │\n",
       "│ The Bronx │ Throggs Neck         │ MULTIPOLYGON (((597640.0090688139 4520272.719938631, 597647.7457808304 4520617.…  │\n",
       "│ The Bronx │ Wakefield-Williams…  │ MULTIPOLYGON (((595285.2053417757 4525938.79838847, 595348.5452399419 4526158.7…  │\n",
       "└───────────┴──────────────────────┴───────────────────────────────────────────────────────────────────────────────────┘"
      ]
     },
     "execution_count": 6,
     "metadata": {},
     "output_type": "execute_result"
    }
   ],
   "source": [
    "# in UTM in meters. If import a lat lon database have to convert to UTM to calculate distance\n",
    "con.sql(\"FROM nyc_neighborhoods SELECT * LIMIT 5;\")"
   ]
  },
  {
   "cell_type": "code",
   "execution_count": 7,
   "id": "e97f8cf9",
   "metadata": {},
   "outputs": [
    {
     "data": {
      "text/plain": [
       "┌──────────┬────────┬──────────────┬─────────────────┬───┬─────────┬─────────┬─────────┬──────────────────────┐\n",
       "│ OBJECTID │   ID   │     NAME     │    ALT_NAME     │ … │  COLOR  │ EXPRESS │ CLOSED  │         geom         │\n",
       "│  double  │ double │   varchar    │     varchar     │   │ varchar │ varchar │ varchar │       geometry       │\n",
       "├──────────┼────────┼──────────────┼─────────────────┼───┼─────────┼─────────┼─────────┼──────────────────────┤\n",
       "│      1.0 │  376.0 │ Cortlandt St │ NULL            │ … │ YELLOW  │ NULL    │ NULL    │ POINT (583521.8544…  │\n",
       "│      2.0 │    2.0 │ Rector St    │ NULL            │ … │ RED     │ NULL    │ NULL    │ POINT (583324.4866…  │\n",
       "│      3.0 │    1.0 │ South Ferry  │ NULL            │ … │ RED     │ NULL    │ NULL    │ POINT (583304.1823…  │\n",
       "│      4.0 │  125.0 │ 138th St     │ Grand Concourse │ … │ GREEN   │ NULL    │ NULL    │ POINT (590250.1059…  │\n",
       "│      5.0 │  126.0 │ 149th St     │ Grand Concourse │ … │ GREEN   │ express │ NULL    │ POINT (590454.7399…  │\n",
       "├──────────┴────────┴──────────────┴─────────────────┴───┴─────────┴─────────┴─────────┴──────────────────────┤\n",
       "│ 5 rows                                                                                 15 columns (8 shown) │\n",
       "└─────────────────────────────────────────────────────────────────────────────────────────────────────────────┘"
      ]
     },
     "execution_count": 7,
     "metadata": {},
     "output_type": "execute_result"
    }
   ],
   "source": [
    "con.sql(\"FROM nyc_subway_stations SELECT * LIMIT 5;\")"
   ]
  },
  {
   "cell_type": "code",
   "execution_count": 8,
   "metadata": {},
   "outputs": [
    {
     "data": {
      "text/html": [
       "<div>\n",
       "<style scoped>\n",
       "    .dataframe tbody tr th:only-of-type {\n",
       "        vertical-align: middle;\n",
       "    }\n",
       "\n",
       "    .dataframe tbody tr th {\n",
       "        vertical-align: top;\n",
       "    }\n",
       "\n",
       "    .dataframe thead th {\n",
       "        text-align: right;\n",
       "    }\n",
       "</style>\n",
       "<table border=\"1\" class=\"dataframe\">\n",
       "  <thead>\n",
       "    <tr style=\"text-align: right;\">\n",
       "      <th></th>\n",
       "      <th>OBJECTID</th>\n",
       "      <th>ID</th>\n",
       "      <th>NAME</th>\n",
       "      <th>ALT_NAME</th>\n",
       "      <th>CROSS_ST</th>\n",
       "      <th>LONG_NAME</th>\n",
       "      <th>LABEL</th>\n",
       "      <th>BOROUGH</th>\n",
       "      <th>NGHBHD</th>\n",
       "      <th>ROUTES</th>\n",
       "      <th>TRANSFERS</th>\n",
       "      <th>COLOR</th>\n",
       "      <th>EXPRESS</th>\n",
       "      <th>CLOSED</th>\n",
       "      <th>geom</th>\n",
       "    </tr>\n",
       "  </thead>\n",
       "  <tbody>\n",
       "    <tr>\n",
       "      <th>0</th>\n",
       "      <td>1.0</td>\n",
       "      <td>376.0</td>\n",
       "      <td>Cortlandt St</td>\n",
       "      <td>None</td>\n",
       "      <td>Church St</td>\n",
       "      <td>Cortlandt St (R,W) Manhattan</td>\n",
       "      <td>Cortlandt St (R,W)</td>\n",
       "      <td>Manhattan</td>\n",
       "      <td>None</td>\n",
       "      <td>R,W</td>\n",
       "      <td>R,W</td>\n",
       "      <td>YELLOW</td>\n",
       "      <td>None</td>\n",
       "      <td>None</td>\n",
       "      <td>[0, 0, 24, 0, 0, 0, 0, 0, 0, 0, 0, 0, 1, 0, 0,...</td>\n",
       "    </tr>\n",
       "    <tr>\n",
       "      <th>1</th>\n",
       "      <td>2.0</td>\n",
       "      <td>2.0</td>\n",
       "      <td>Rector St</td>\n",
       "      <td>None</td>\n",
       "      <td>None</td>\n",
       "      <td>Rector St (1) Manhattan</td>\n",
       "      <td>Rector St (1)</td>\n",
       "      <td>Manhattan</td>\n",
       "      <td>None</td>\n",
       "      <td>1</td>\n",
       "      <td>1</td>\n",
       "      <td>RED</td>\n",
       "      <td>None</td>\n",
       "      <td>None</td>\n",
       "      <td>[0, 0, 24, 0, 0, 0, 0, 0, 0, 0, 0, 0, 1, 0, 0,...</td>\n",
       "    </tr>\n",
       "    <tr>\n",
       "      <th>2</th>\n",
       "      <td>3.0</td>\n",
       "      <td>1.0</td>\n",
       "      <td>South Ferry</td>\n",
       "      <td>None</td>\n",
       "      <td>None</td>\n",
       "      <td>South Ferry (1) Manhattan</td>\n",
       "      <td>South Ferry (1)</td>\n",
       "      <td>Manhattan</td>\n",
       "      <td>None</td>\n",
       "      <td>1</td>\n",
       "      <td>1</td>\n",
       "      <td>RED</td>\n",
       "      <td>None</td>\n",
       "      <td>None</td>\n",
       "      <td>[0, 0, 24, 0, 0, 0, 0, 0, 0, 0, 0, 0, 1, 0, 0,...</td>\n",
       "    </tr>\n",
       "    <tr>\n",
       "      <th>3</th>\n",
       "      <td>4.0</td>\n",
       "      <td>125.0</td>\n",
       "      <td>138th St</td>\n",
       "      <td>Grand Concourse</td>\n",
       "      <td>Grand Concourse</td>\n",
       "      <td>138th St / Grand Concourse (4,5) Bronx</td>\n",
       "      <td>138th St / Grand Concourse (4,5)</td>\n",
       "      <td>Bronx</td>\n",
       "      <td>None</td>\n",
       "      <td>4,5</td>\n",
       "      <td>4,5</td>\n",
       "      <td>GREEN</td>\n",
       "      <td>None</td>\n",
       "      <td>None</td>\n",
       "      <td>[0, 0, 24, 0, 0, 0, 0, 0, 0, 0, 0, 0, 1, 0, 0,...</td>\n",
       "    </tr>\n",
       "    <tr>\n",
       "      <th>4</th>\n",
       "      <td>5.0</td>\n",
       "      <td>126.0</td>\n",
       "      <td>149th St</td>\n",
       "      <td>Grand Concourse</td>\n",
       "      <td>Grand Concourse</td>\n",
       "      <td>149th St / Grand Concourse (4) Bronx</td>\n",
       "      <td>149th St / Grand Concourse (4)</td>\n",
       "      <td>Bronx</td>\n",
       "      <td>None</td>\n",
       "      <td>4</td>\n",
       "      <td>2,4,5</td>\n",
       "      <td>GREEN</td>\n",
       "      <td>express</td>\n",
       "      <td>None</td>\n",
       "      <td>[0, 0, 24, 0, 0, 0, 0, 0, 0, 0, 0, 0, 1, 0, 0,...</td>\n",
       "    </tr>\n",
       "    <tr>\n",
       "      <th>...</th>\n",
       "      <td>...</td>\n",
       "      <td>...</td>\n",
       "      <td>...</td>\n",
       "      <td>...</td>\n",
       "      <td>...</td>\n",
       "      <td>...</td>\n",
       "      <td>...</td>\n",
       "      <td>...</td>\n",
       "      <td>...</td>\n",
       "      <td>...</td>\n",
       "      <td>...</td>\n",
       "      <td>...</td>\n",
       "      <td>...</td>\n",
       "      <td>...</td>\n",
       "      <td>...</td>\n",
       "    </tr>\n",
       "    <tr>\n",
       "      <th>486</th>\n",
       "      <td>487.0</td>\n",
       "      <td>909.0</td>\n",
       "      <td>JFK Terminal 8</td>\n",
       "      <td>None</td>\n",
       "      <td>None</td>\n",
       "      <td>JFK Terminal 8, Queens</td>\n",
       "      <td>JFK Terminal 8</td>\n",
       "      <td>Queens</td>\n",
       "      <td>None</td>\n",
       "      <td>None</td>\n",
       "      <td>None</td>\n",
       "      <td>AIR-BLUE</td>\n",
       "      <td>None</td>\n",
       "      <td>None</td>\n",
       "      <td>[0, 0, 24, 0, 0, 0, 0, 0, 0, 0, 0, 0, 1, 0, 0,...</td>\n",
       "    </tr>\n",
       "    <tr>\n",
       "      <th>487</th>\n",
       "      <td>488.0</td>\n",
       "      <td>903.0</td>\n",
       "      <td>Federal Circle</td>\n",
       "      <td>Rental Car</td>\n",
       "      <td>None</td>\n",
       "      <td>Federal Circle / Rental Car, Queens</td>\n",
       "      <td>Federal Circle / Rental Car</td>\n",
       "      <td>Queens</td>\n",
       "      <td>None</td>\n",
       "      <td>None</td>\n",
       "      <td>None</td>\n",
       "      <td>AIR-BLUE</td>\n",
       "      <td>None</td>\n",
       "      <td>None</td>\n",
       "      <td>[0, 0, 24, 0, 0, 0, 0, 0, 0, 0, 0, 0, 1, 0, 0,...</td>\n",
       "    </tr>\n",
       "    <tr>\n",
       "      <th>488</th>\n",
       "      <td>489.0</td>\n",
       "      <td>902.0</td>\n",
       "      <td>Long Term Parking</td>\n",
       "      <td>None</td>\n",
       "      <td>None</td>\n",
       "      <td>Long Term Parking, Queens</td>\n",
       "      <td>Long Term Parking</td>\n",
       "      <td>Queens</td>\n",
       "      <td>None</td>\n",
       "      <td>None</td>\n",
       "      <td>None</td>\n",
       "      <td>AIR-BLUE</td>\n",
       "      <td>None</td>\n",
       "      <td>None</td>\n",
       "      <td>[0, 0, 24, 0, 0, 0, 0, 0, 0, 0, 0, 0, 1, 0, 0,...</td>\n",
       "    </tr>\n",
       "    <tr>\n",
       "      <th>489</th>\n",
       "      <td>490.0</td>\n",
       "      <td>901.0</td>\n",
       "      <td>Howard Beach</td>\n",
       "      <td>None</td>\n",
       "      <td>159th Ave</td>\n",
       "      <td>Howard Beach, Queens</td>\n",
       "      <td>Howard Beach</td>\n",
       "      <td>Queens</td>\n",
       "      <td>None</td>\n",
       "      <td>None</td>\n",
       "      <td>A</td>\n",
       "      <td>AIR-BLUE</td>\n",
       "      <td>None</td>\n",
       "      <td>None</td>\n",
       "      <td>[0, 0, 24, 0, 0, 0, 0, 0, 0, 0, 0, 0, 1, 0, 0,...</td>\n",
       "    </tr>\n",
       "    <tr>\n",
       "      <th>490</th>\n",
       "      <td>491.0</td>\n",
       "      <td>900.0</td>\n",
       "      <td>Jamaica</td>\n",
       "      <td>Sutphin Blvd</td>\n",
       "      <td>Sutphin Blvd</td>\n",
       "      <td>Jamaica / Sutphin Blvd, Queens</td>\n",
       "      <td>Jamaica / Sutphin Blvd</td>\n",
       "      <td>Queens</td>\n",
       "      <td>None</td>\n",
       "      <td>None</td>\n",
       "      <td>E,J,Z</td>\n",
       "      <td>AIR-BLUE</td>\n",
       "      <td>None</td>\n",
       "      <td>None</td>\n",
       "      <td>[0, 0, 24, 0, 0, 0, 0, 0, 0, 0, 0, 0, 1, 0, 0,...</td>\n",
       "    </tr>\n",
       "  </tbody>\n",
       "</table>\n",
       "<p>491 rows × 15 columns</p>\n",
       "</div>"
      ],
      "text/plain": [
       "     OBJECTID     ID               NAME         ALT_NAME         CROSS_ST  \\\n",
       "0         1.0  376.0       Cortlandt St             None        Church St   \n",
       "1         2.0    2.0          Rector St             None             None   \n",
       "2         3.0    1.0        South Ferry             None             None   \n",
       "3         4.0  125.0           138th St  Grand Concourse  Grand Concourse   \n",
       "4         5.0  126.0           149th St  Grand Concourse  Grand Concourse   \n",
       "..        ...    ...                ...              ...              ...   \n",
       "486     487.0  909.0     JFK Terminal 8             None             None   \n",
       "487     488.0  903.0     Federal Circle       Rental Car             None   \n",
       "488     489.0  902.0  Long Term Parking             None             None   \n",
       "489     490.0  901.0       Howard Beach             None        159th Ave   \n",
       "490     491.0  900.0            Jamaica     Sutphin Blvd     Sutphin Blvd   \n",
       "\n",
       "                                  LONG_NAME                             LABEL  \\\n",
       "0              Cortlandt St (R,W) Manhattan                Cortlandt St (R,W)   \n",
       "1                   Rector St (1) Manhattan                     Rector St (1)   \n",
       "2                 South Ferry (1) Manhattan                   South Ferry (1)   \n",
       "3    138th St / Grand Concourse (4,5) Bronx  138th St / Grand Concourse (4,5)   \n",
       "4      149th St / Grand Concourse (4) Bronx    149th St / Grand Concourse (4)   \n",
       "..                                      ...                               ...   \n",
       "486                  JFK Terminal 8, Queens                    JFK Terminal 8   \n",
       "487     Federal Circle / Rental Car, Queens       Federal Circle / Rental Car   \n",
       "488               Long Term Parking, Queens                 Long Term Parking   \n",
       "489                    Howard Beach, Queens                      Howard Beach   \n",
       "490          Jamaica / Sutphin Blvd, Queens            Jamaica / Sutphin Blvd   \n",
       "\n",
       "       BOROUGH NGHBHD ROUTES TRANSFERS     COLOR  EXPRESS CLOSED  \\\n",
       "0    Manhattan   None    R,W       R,W    YELLOW     None   None   \n",
       "1    Manhattan   None      1         1       RED     None   None   \n",
       "2    Manhattan   None      1         1       RED     None   None   \n",
       "3        Bronx   None    4,5       4,5     GREEN     None   None   \n",
       "4        Bronx   None      4     2,4,5     GREEN  express   None   \n",
       "..         ...    ...    ...       ...       ...      ...    ...   \n",
       "486     Queens   None   None      None  AIR-BLUE     None   None   \n",
       "487     Queens   None   None      None  AIR-BLUE     None   None   \n",
       "488     Queens   None   None      None  AIR-BLUE     None   None   \n",
       "489     Queens   None   None         A  AIR-BLUE     None   None   \n",
       "490     Queens   None   None     E,J,Z  AIR-BLUE     None   None   \n",
       "\n",
       "                                                  geom  \n",
       "0    [0, 0, 24, 0, 0, 0, 0, 0, 0, 0, 0, 0, 1, 0, 0,...  \n",
       "1    [0, 0, 24, 0, 0, 0, 0, 0, 0, 0, 0, 0, 1, 0, 0,...  \n",
       "2    [0, 0, 24, 0, 0, 0, 0, 0, 0, 0, 0, 0, 1, 0, 0,...  \n",
       "3    [0, 0, 24, 0, 0, 0, 0, 0, 0, 0, 0, 0, 1, 0, 0,...  \n",
       "4    [0, 0, 24, 0, 0, 0, 0, 0, 0, 0, 0, 0, 1, 0, 0,...  \n",
       "..                                                 ...  \n",
       "486  [0, 0, 24, 0, 0, 0, 0, 0, 0, 0, 0, 0, 1, 0, 0,...  \n",
       "487  [0, 0, 24, 0, 0, 0, 0, 0, 0, 0, 0, 0, 1, 0, 0,...  \n",
       "488  [0, 0, 24, 0, 0, 0, 0, 0, 0, 0, 0, 0, 1, 0, 0,...  \n",
       "489  [0, 0, 24, 0, 0, 0, 0, 0, 0, 0, 0, 0, 1, 0, 0,...  \n",
       "490  [0, 0, 24, 0, 0, 0, 0, 0, 0, 0, 0, 0, 1, 0, 0,...  \n",
       "\n",
       "[491 rows x 15 columns]"
      ]
     },
     "execution_count": 8,
     "metadata": {},
     "output_type": "execute_result"
    }
   ],
   "source": [
    "# When can't see all the columns convert to a data frame\n",
    "# or add .columns at the very end, e.g. to get a list of columns\n",
    "#con.sql(\"SELECT * FROM nyc_subway_stations;\").to_df().columns\n",
    "\n",
    "con.sql(\"SELECT * FROM nyc_subway_stations;\").to_df()"
   ]
  },
  {
   "cell_type": "markdown",
   "id": "1de96a38",
   "metadata": {},
   "source": [
    "Let's find out what neighborhood the `Broad St` station is in:"
   ]
  },
  {
   "cell_type": "code",
   "execution_count": 9,
   "id": "82d8ef87",
   "metadata": {},
   "outputs": [
    {
     "data": {
      "text/plain": [
       "┌─────────────┬────────────────────┬───────────┐\n",
       "│ subway_name │ neighborhood_name  │  borough  │\n",
       "│   varchar   │      varchar       │  varchar  │\n",
       "├─────────────┼────────────────────┼───────────┤\n",
       "│ Broad St    │ Financial District │ Manhattan │\n",
       "└─────────────┴────────────────────┴───────────┘"
      ]
     },
     "execution_count": 9,
     "metadata": {},
     "output_type": "execute_result"
    }
   ],
   "source": [
    "con.sql(\"\"\"\n",
    "SELECT\n",
    "  subways.name AS subway_name,\n",
    "  neighborhoods.name AS neighborhood_name,\n",
    "  neighborhoods.boroname AS borough\n",
    "FROM nyc_neighborhoods AS neighborhoods\n",
    "JOIN nyc_subway_stations AS subways\n",
    "ON ST_Intersects(neighborhoods.geom, subways.geom)\n",
    "WHERE subways.NAME = 'Broad St';\n",
    "\"\"\")"
   ]
  },
  {
   "cell_type": "markdown",
   "id": "c9038e2a",
   "metadata": {},
   "source": [
    "Note that the subway stations table has a `color` column."
   ]
  },
  {
   "cell_type": "code",
   "execution_count": 10,
   "id": "45ba0f5c",
   "metadata": {},
   "outputs": [
    {
     "data": {
      "text/plain": [
       "┌───────────────┐\n",
       "│     COLOR     │\n",
       "│    varchar    │\n",
       "├───────────────┤\n",
       "│ RED-GREEN     │\n",
       "│ BLUE-GREY     │\n",
       "│ GREEN-ORANGE  │\n",
       "│ GREEN-RED     │\n",
       "│ BLUE-LIME     │\n",
       "│ BLUE-BROWN    │\n",
       "│ ORANGE        │\n",
       "│ BROWN-ORANGE  │\n",
       "│ AIR-BLUE      │\n",
       "│ YELLOW        │\n",
       "│  ·            │\n",
       "│  ·            │\n",
       "│  ·            │\n",
       "│ GREY          │\n",
       "│ BLUE          │\n",
       "│ RED           │\n",
       "│ BLUE-ORANGE   │\n",
       "│ CLOSED        │\n",
       "│ ORANGE-YELLOW │\n",
       "│ BROWN         │\n",
       "│ MULTI         │\n",
       "│ GREY-ORANGE   │\n",
       "│ PURPLE        │\n",
       "├───────────────┤\n",
       "│    29 rows    │\n",
       "│  (20 shown)   │\n",
       "└───────────────┘"
      ]
     },
     "execution_count": 10,
     "metadata": {},
     "output_type": "execute_result"
    }
   ],
   "source": [
    "con.sql(\"\"\"\n",
    "SELECT DISTINCT COLOR FROM nyc_subway_stations;\n",
    "\"\"\")"
   ]
  },
  {
   "cell_type": "markdown",
   "id": "7029cab6",
   "metadata": {},
   "source": [
    "Let's find out what neighborhood the `RED` subway stations are in:"
   ]
  },
  {
   "cell_type": "code",
   "execution_count": 11,
   "id": "fedc99c1",
   "metadata": {},
   "outputs": [
    {
     "data": {
      "text/plain": [
       "┌──────────────┬─────────┬──────────────────────────┬───────────┐\n",
       "│ subway_name  │ express │    neighborhood_name     │  borough  │\n",
       "│   varchar    │ varchar │         varchar          │  varchar  │\n",
       "├──────────────┼─────────┼──────────────────────────┼───────────┤\n",
       "│ 242nd St     │ NULL    │ Riverdale                │ The Bronx │\n",
       "│ 241st St     │ NULL    │ Wakefield-Williamsbridge │ The Bronx │\n",
       "│ 238th St     │ NULL    │ Kings Bridge             │ The Bronx │\n",
       "│ 231st St     │ NULL    │ Kings Bridge             │ The Bronx │\n",
       "│ 225th St     │ NULL    │ Inwood                   │ Manhattan │\n",
       "│ 215th St     │ NULL    │ Inwood                   │ Manhattan │\n",
       "│ 207th St     │ NULL    │ Inwood                   │ Manhattan │\n",
       "│ Dyckman St   │ NULL    │ Washington Heights       │ Manhattan │\n",
       "│ 191st St     │ NULL    │ Washington Heights       │ Manhattan │\n",
       "│ 181st St     │ NULL    │ Washington Heights       │ Manhattan │\n",
       "│    ·         │  ·      │    ·                     │     ·     │\n",
       "│    ·         │  ·      │    ·                     │     ·     │\n",
       "│    ·         │  ·      │    ·                     │     ·     │\n",
       "│ Canal St     │ NULL    │ Tribeca                  │ Manhattan │\n",
       "│ Franklin St  │ NULL    │ Tribeca                  │ Manhattan │\n",
       "│ Chambers St  │ express │ Tribeca                  │ Manhattan │\n",
       "│ Park Pl      │ express │ Financial District       │ Manhattan │\n",
       "│ Fulton St    │ express │ Financial District       │ Manhattan │\n",
       "│ Rector St    │ NULL    │ Financial District       │ Manhattan │\n",
       "│ Wall St      │ express │ Financial District       │ Manhattan │\n",
       "│ South Ferry  │ NULL    │ Financial District       │ Manhattan │\n",
       "│ Borough Hall │ express │ Downtown                 │ Brooklyn  │\n",
       "│ Hoyt St      │ NULL    │ Downtown                 │ Brooklyn  │\n",
       "├──────────────┴─────────┴──────────────────────────┴───────────┤\n",
       "│ 49 rows (20 shown)                                  4 columns │\n",
       "└───────────────────────────────────────────────────────────────┘"
      ]
     },
     "execution_count": 11,
     "metadata": {},
     "output_type": "execute_result"
    }
   ],
   "source": [
    "con.sql(\"\"\"\n",
    "SELECT\n",
    "  subways.name AS subway_name,\n",
    "  subways.express AS express,\n",
    "  neighborhoods.name AS neighborhood_name,\n",
    "  neighborhoods.boroname AS borough\n",
    "FROM nyc_neighborhoods AS neighborhoods\n",
    "JOIN nyc_subway_stations AS subways\n",
    "ON ST_Intersects(neighborhoods.geom, subways.geom)\n",
    "WHERE subways.color = 'RED';\n",
    "\"\"\")"
   ]
  },
  {
   "cell_type": "code",
   "execution_count": 12,
   "metadata": {},
   "outputs": [
    {
     "data": {
      "text/plain": [
       "┌──────────────┬─────────┬────────────────────┬───────────┐\n",
       "│ subway_name  │ express │ neighborhood_name  │  borough  │\n",
       "│   varchar    │ varchar │      varchar       │  varchar  │\n",
       "├──────────────┼─────────┼────────────────────┼───────────┤\n",
       "│ 148th St     │ express │ Harlem             │ Manhattan │\n",
       "│ 145th St     │ express │ Harlem             │ Manhattan │\n",
       "│ 135th St     │ express │ Harlem             │ Manhattan │\n",
       "│ 125th St     │ express │ Harlem             │ Manhattan │\n",
       "│ 116th St     │ express │ Harlem             │ Manhattan │\n",
       "│ 110th St     │ express │ Harlem             │ Manhattan │\n",
       "│ 96th St      │ express │ Upper West Side    │ Manhattan │\n",
       "│ 72nd St      │ express │ Upper West Side    │ Manhattan │\n",
       "│ 59th St      │ express │ Upper West Side    │ Manhattan │\n",
       "│ Times Sq     │ express │ Garment District   │ Manhattan │\n",
       "│ 34th St      │ express │ Garment District   │ Manhattan │\n",
       "│ 14th St      │ express │ Greenwich Village  │ Manhattan │\n",
       "│ Chambers St  │ express │ Tribeca            │ Manhattan │\n",
       "│ Park Pl      │ express │ Financial District │ Manhattan │\n",
       "│ Fulton St    │ express │ Financial District │ Manhattan │\n",
       "│ Wall St      │ express │ Financial District │ Manhattan │\n",
       "│ Borough Hall │ express │ Downtown           │ Brooklyn  │\n",
       "├──────────────┴─────────┴────────────────────┴───────────┤\n",
       "│ 17 rows                                       4 columns │\n",
       "└─────────────────────────────────────────────────────────┘"
      ]
     },
     "execution_count": 12,
     "metadata": {},
     "output_type": "execute_result"
    }
   ],
   "source": [
    "con.sql(\"\"\"\n",
    "SELECT\n",
    "  subways.name AS subway_name,\n",
    "  subways.express AS express,\n",
    "  neighborhoods.name AS neighborhood_name,\n",
    "  neighborhoods.boroname AS borough\n",
    "FROM nyc_neighborhoods AS neighborhoods\n",
    "JOIN nyc_subway_stations AS subways\n",
    "ON ST_Intersects(neighborhoods.geom, subways.geom)\n",
    "WHERE subways.color = 'RED'\n",
    "AND express = 'express';\n",
    "\"\"\")"
   ]
  },
  {
   "cell_type": "code",
   "execution_count": 14,
   "metadata": {},
   "outputs": [
    {
     "data": {
      "text/html": [
       "<div>\n",
       "<style scoped>\n",
       "    .dataframe tbody tr th:only-of-type {\n",
       "        vertical-align: middle;\n",
       "    }\n",
       "\n",
       "    .dataframe tbody tr th {\n",
       "        vertical-align: top;\n",
       "    }\n",
       "\n",
       "    .dataframe thead th {\n",
       "        text-align: right;\n",
       "    }\n",
       "</style>\n",
       "<table border=\"1\" class=\"dataframe\">\n",
       "  <thead>\n",
       "    <tr style=\"text-align: right;\">\n",
       "      <th></th>\n",
       "      <th>BLKID</th>\n",
       "      <th>POPN_TOTAL</th>\n",
       "      <th>POPN_WHITE</th>\n",
       "      <th>POPN_BLACK</th>\n",
       "      <th>POPN_NATIV</th>\n",
       "      <th>POPN_ASIAN</th>\n",
       "      <th>POPN_OTHER</th>\n",
       "      <th>BORONAME</th>\n",
       "      <th>geom</th>\n",
       "    </tr>\n",
       "  </thead>\n",
       "  <tbody>\n",
       "    <tr>\n",
       "      <th>0</th>\n",
       "      <td>360850009001000</td>\n",
       "      <td>97</td>\n",
       "      <td>51</td>\n",
       "      <td>32</td>\n",
       "      <td>1</td>\n",
       "      <td>5</td>\n",
       "      <td>8</td>\n",
       "      <td>Staten Island</td>\n",
       "      <td>[5, 4, 184, 0, 0, 0, 0, 0, 55, 3, 13, 73, 151,...</td>\n",
       "    </tr>\n",
       "    <tr>\n",
       "      <th>1</th>\n",
       "      <td>360850020011000</td>\n",
       "      <td>66</td>\n",
       "      <td>52</td>\n",
       "      <td>2</td>\n",
       "      <td>0</td>\n",
       "      <td>7</td>\n",
       "      <td>5</td>\n",
       "      <td>Staten Island</td>\n",
       "      <td>[5, 4, 136, 0, 0, 0, 0, 0, 178, 58, 13, 73, 72...</td>\n",
       "    </tr>\n",
       "    <tr>\n",
       "      <th>2</th>\n",
       "      <td>360850040001000</td>\n",
       "      <td>62</td>\n",
       "      <td>14</td>\n",
       "      <td>18</td>\n",
       "      <td>2</td>\n",
       "      <td>25</td>\n",
       "      <td>3</td>\n",
       "      <td>Staten Island</td>\n",
       "      <td>[5, 4, 120, 0, 0, 0, 0, 0, 82, 227, 12, 73, 55...</td>\n",
       "    </tr>\n",
       "    <tr>\n",
       "      <th>3</th>\n",
       "      <td>360850074001000</td>\n",
       "      <td>137</td>\n",
       "      <td>92</td>\n",
       "      <td>12</td>\n",
       "      <td>0</td>\n",
       "      <td>13</td>\n",
       "      <td>20</td>\n",
       "      <td>Staten Island</td>\n",
       "      <td>[5, 4, 184, 0, 0, 0, 0, 0, 204, 85, 13, 73, 10...</td>\n",
       "    </tr>\n",
       "    <tr>\n",
       "      <th>4</th>\n",
       "      <td>360850096011000</td>\n",
       "      <td>289</td>\n",
       "      <td>230</td>\n",
       "      <td>0</td>\n",
       "      <td>0</td>\n",
       "      <td>32</td>\n",
       "      <td>27</td>\n",
       "      <td>Staten Island</td>\n",
       "      <td>[5, 4, 89, 0, 0, 0, 0, 0, 107, 247, 12, 73, 7,...</td>\n",
       "    </tr>\n",
       "  </tbody>\n",
       "</table>\n",
       "</div>"
      ],
      "text/plain": [
       "             BLKID  POPN_TOTAL  POPN_WHITE  POPN_BLACK  POPN_NATIV  \\\n",
       "0  360850009001000          97          51          32           1   \n",
       "1  360850020011000          66          52           2           0   \n",
       "2  360850040001000          62          14          18           2   \n",
       "3  360850074001000         137          92          12           0   \n",
       "4  360850096011000         289         230           0           0   \n",
       "\n",
       "   POPN_ASIAN  POPN_OTHER       BORONAME  \\\n",
       "0           5           8  Staten Island   \n",
       "1           7           5  Staten Island   \n",
       "2          25           3  Staten Island   \n",
       "3          13          20  Staten Island   \n",
       "4          32          27  Staten Island   \n",
       "\n",
       "                                                geom  \n",
       "0  [5, 4, 184, 0, 0, 0, 0, 0, 55, 3, 13, 73, 151,...  \n",
       "1  [5, 4, 136, 0, 0, 0, 0, 0, 178, 58, 13, 73, 72...  \n",
       "2  [5, 4, 120, 0, 0, 0, 0, 0, 82, 227, 12, 73, 55...  \n",
       "3  [5, 4, 184, 0, 0, 0, 0, 0, 204, 85, 13, 73, 10...  \n",
       "4  [5, 4, 89, 0, 0, 0, 0, 0, 107, 247, 12, 73, 7,...  "
      ]
     },
     "execution_count": 14,
     "metadata": {},
     "output_type": "execute_result"
    }
   ],
   "source": [
    "con.sql(\"\"\"\n",
    "FROM nyc_census_blocks Select * Limit 5;\n",
    "\"\"\").df()"
   ]
  },
  {
   "cell_type": "markdown",
   "id": "ccb78415",
   "metadata": {},
   "source": [
    "## Distance Within\n",
    "\n",
    "One of the common spatial operations is to find all the features within a certain distance of another feature. For example, you might want to find all the subway stations within 500 meters of a bike share station. Let’s explore the racial geography of New York using distance queries.\n",
    "\n",
    "First, let’s get the baseline racial make-up of the city."
   ]
  },
  {
   "cell_type": "code",
   "execution_count": 15,
   "id": "23e33ef1",
   "metadata": {},
   "outputs": [
    {
     "data": {
      "text/plain": [
       "┌───────────────────┬────────────────────┬───────────────────┬────────────┐\n",
       "│     white_pct     │     black_pct      │     asian_pct     │ popn_total │\n",
       "│      double       │       double       │      double       │   int128   │\n",
       "├───────────────────┼────────────────────┼───────────────────┼────────────┤\n",
       "│ 44.00395007628105 │ 25.546578900241613 │ 12.70171174865126 │    8175032 │\n",
       "└───────────────────┴────────────────────┴───────────────────┴────────────┘"
      ]
     },
     "execution_count": 15,
     "metadata": {},
     "output_type": "execute_result"
    }
   ],
   "source": [
    "con.sql(\"\"\"\n",
    "SELECT\n",
    "  100.0 * Sum(popn_white) / Sum(popn_total) AS white_pct,\n",
    "  100.0 * Sum(popn_black) / Sum(popn_total) AS black_pct,\n",
    "  100.0 * Sum(popn_asian) / Sum(popn_total) AS asian_pct,\n",
    "        \n",
    "  Sum(popn_total) AS popn_total\n",
    "FROM nyc_census_blocks;\n",
    "\"\"\")"
   ]
  },
  {
   "cell_type": "markdown",
   "id": "8527ce4b",
   "metadata": {},
   "source": [
    "So, of the 8M people in New York, about 44% are recorded as “white” and 26% are recorded as “black”.\n",
    "\n",
    "Note that the contents of the `nyc_subway_stations` table routes field is what we are interested in to find the A-train. The values in there are a little complex."
   ]
  },
  {
   "cell_type": "code",
   "execution_count": 16,
   "id": "56075cb0",
   "metadata": {},
   "outputs": [
    {
     "data": {
      "text/plain": [
       "┌────────────┐\n",
       "│   ROUTES   │\n",
       "│  varchar   │\n",
       "├────────────┤\n",
       "│ 4,5        │\n",
       "│ 2          │\n",
       "│ N,R        │\n",
       "│ M,D        │\n",
       "│ A,C,G      │\n",
       "│ A,C,E,L    │\n",
       "│ G,R,V      │\n",
       "│ E,F,G,R,V  │\n",
       "│ E,G,R,V    │\n",
       "│ 2,5        │\n",
       "│ ·          │\n",
       "│ ·          │\n",
       "│ ·          │\n",
       "│ L          │\n",
       "│ C          │\n",
       "│ 4,5,6      │\n",
       "│ L,N,Q,R,W  │\n",
       "│ D,M        │\n",
       "│ Q          │\n",
       "│ B,D,E      │\n",
       "│ E,F        │\n",
       "│ E          │\n",
       "│ NULL       │\n",
       "├────────────┤\n",
       "│  73 rows   │\n",
       "│ (20 shown) │\n",
       "└────────────┘"
      ]
     },
     "execution_count": 16,
     "metadata": {},
     "output_type": "execute_result"
    }
   ],
   "source": [
    "con.sql(\"\"\"\n",
    "SELECT DISTINCT routes FROM nyc_subway_stations;\n",
    "\"\"\")"
   ]
  },
  {
   "cell_type": "markdown",
   "id": "15e615c1",
   "metadata": {},
   "source": [
    "So to find the A-train, we will want any row in `routes` that has an ‘A’ in it. We can do this a number of ways, but here we will use the fact that **strpos(routes,'A')** will return a non-zero number only if ‘A’ is in the `routes` field."
   ]
  },
  {
   "cell_type": "code",
   "execution_count": 17,
   "id": "abc38926",
   "metadata": {},
   "outputs": [
    {
     "data": {
      "text/plain": [
       "┌─────────┐\n",
       "│ ROUTES  │\n",
       "│ varchar │\n",
       "├─────────┤\n",
       "│ A,C     │\n",
       "│ A,B,C,D │\n",
       "│ A,C,G   │\n",
       "│ A,C,E,L │\n",
       "│ A       │\n",
       "│ A,C,F   │\n",
       "│ A,C,E   │\n",
       "│ A,S     │\n",
       "│ A,B,C   │\n",
       "└─────────┘"
      ]
     },
     "execution_count": 17,
     "metadata": {},
     "output_type": "execute_result"
    }
   ],
   "source": [
    "# strpos returns the position of the first occurrence of a substring in a string\n",
    "con.sql(\"\"\"\n",
    "SELECT DISTINCT routes\n",
    "FROM nyc_subway_stations AS subways\n",
    "WHERE strpos(subways.routes,'A') > 0;\n",
    "\"\"\")"
   ]
  },
  {
   "cell_type": "markdown",
   "id": "88511389",
   "metadata": {},
   "source": [
    "Let’s summarize the racial make-up of within 200 meters of the A-train line."
   ]
  },
  {
   "cell_type": "code",
   "execution_count": 18,
   "id": "aee2f32c",
   "metadata": {},
   "outputs": [
    {
     "data": {
      "application/vnd.jupyter.widget-view+json": {
       "model_id": "1a7f8d9cd605404a870056bb90d95232",
       "version_major": 2,
       "version_minor": 0
      },
      "text/plain": [
       "FloatProgress(value=0.0, layout=Layout(width='auto'), style=ProgressStyle(bar_color='black'))"
      ]
     },
     "metadata": {},
     "output_type": "display_data"
    },
    {
     "data": {
      "text/plain": [
       "┌───────────────────┬───────────────────┬────────────┐\n",
       "│     white_pct     │     black_pct     │ popn_total │\n",
       "│      double       │      double       │   int128   │\n",
       "├───────────────────┼───────────────────┼────────────┤\n",
       "│ 45.59012559002023 │ 22.09362356709373 │     189824 │\n",
       "└───────────────────┴───────────────────┴────────────┘"
      ]
     },
     "execution_count": 18,
     "metadata": {},
     "output_type": "execute_result"
    }
   ],
   "source": [
    "# ST_Dwithin is string distance join within 200 m from those popos 200 m from the subway with routes starting with A\n",
    "con.sql(\"\"\"\n",
    "SELECT\n",
    "  100.0 * Sum(popn_white) / Sum(popn_total) AS white_pct,\n",
    "  100.0 * Sum(popn_black) / Sum(popn_total) AS black_pct,\n",
    "  Sum(popn_total) AS popn_total\n",
    "FROM nyc_census_blocks AS census\n",
    "JOIN nyc_subway_stations AS subways\n",
    "ON ST_DWithin(census.geom, subways.geom, 200)\n",
    "WHERE strpos(subways.routes,'A') > 0;\n",
    "\"\"\")"
   ]
  },
  {
   "cell_type": "markdown",
   "id": "81e89160",
   "metadata": {},
   "source": [
    "So the racial make-up along the A-train isn’t radically different from the make-up of New York City as a whole.\n",
    "\n",
    "## Advanced Join\n",
    "\n",
    "In the last section we saw that the A-train didn’t serve a population that differed much from the racial make-up of the rest of the city. Are there any trains that have a non-average racial make-up?\n",
    "\n",
    "To answer that question, we’ll add another join to our query, so that we can simultaneously calculate the make-up of many subway lines at once. To do that, we’ll need to create a new table that enumerates all the lines we want to summarize."
   ]
  },
  {
   "cell_type": "code",
   "execution_count": 19,
   "id": "c0ea9a5b",
   "metadata": {},
   "outputs": [],
   "source": [
    "# route char(1) is a single character column\n",
    "con.sql(\"\"\"\n",
    "CREATE OR REPLACE TABLE subway_lines ( route char(1) );\n",
    "INSERT INTO subway_lines (route) VALUES\n",
    "  ('A'),('B'),('C'),('D'),('E'),('F'),('G'),\n",
    "  ('J'),('L'),('M'),('N'),('Q'),('R'),('S'),\n",
    "  ('Z'),('1'),('2'),('3'),('4'),('5'),('6'),\n",
    "  ('7');\n",
    "\"\"\")"
   ]
  },
  {
   "cell_type": "code",
   "execution_count": 20,
   "metadata": {},
   "outputs": [
    {
     "data": {
      "text/plain": [
       "┌─────────┐\n",
       "│  route  │\n",
       "│ varchar │\n",
       "├─────────┤\n",
       "│ A       │\n",
       "│ B       │\n",
       "│ C       │\n",
       "│ D       │\n",
       "│ E       │\n",
       "│ F       │\n",
       "│ G       │\n",
       "│ J       │\n",
       "│ L       │\n",
       "│ M       │\n",
       "│ N       │\n",
       "│ Q       │\n",
       "│ R       │\n",
       "│ S       │\n",
       "│ Z       │\n",
       "│ 1       │\n",
       "│ 2       │\n",
       "│ 3       │\n",
       "│ 4       │\n",
       "│ 5       │\n",
       "│ 6       │\n",
       "│ 7       │\n",
       "├─────────┤\n",
       "│ 22 rows │\n",
       "└─────────┘"
      ]
     },
     "execution_count": 20,
     "metadata": {},
     "output_type": "execute_result"
    }
   ],
   "source": [
    "con.sql(\"FROM subway_lines;\")"
   ]
  },
  {
   "cell_type": "markdown",
   "id": "c038d36e",
   "metadata": {},
   "source": [
    "Now we can join the table of subway lines onto our original query."
   ]
  },
  {
   "cell_type": "code",
   "execution_count": 21,
   "id": "2ed50719",
   "metadata": {},
   "outputs": [
    {
     "data": {
      "application/vnd.jupyter.widget-view+json": {
       "model_id": "562687ebd8134f90a6cdc1d282d5b10a",
       "version_major": 2,
       "version_minor": 0
      },
      "text/plain": [
       "FloatProgress(value=0.0, layout=Layout(width='auto'), style=ProgressStyle(bar_color='black'))"
      ]
     },
     "metadata": {},
     "output_type": "display_data"
    },
    {
     "data": {
      "text/plain": [
       "┌─────────┬────────────────────┬────────────────────┬────────────┐\n",
       "│  route  │     white_pct      │     black_pct      │ popn_total │\n",
       "│ varchar │       double       │       double       │   int128   │\n",
       "├─────────┼────────────────────┼────────────────────┼────────────┤\n",
       "│ S       │ 39.839644455121466 │ 46.503108014774334 │      33301 │\n",
       "│ 3       │  42.72731756087282 │  42.06198693548893 │     223047 │\n",
       "│ 5       │  33.79377760724286 │  41.38562664729877 │     218919 │\n",
       "│ 2       │  39.26304853922876 │  38.39114588512005 │     291661 │\n",
       "│ C       │  46.87871806640494 │ 30.598767440098747 │     224411 │\n",
       "│ 4       │  37.55300060572121 │ 27.428313466439615 │     174998 │\n",
       "│ B       │  39.95588172248356 │ 26.852519457641385 │     256583 │\n",
       "│ A       │  45.59012559002023 │  22.09362356709373 │     189824 │\n",
       "│ J       │  37.62955269040576 │ 21.637651380013697 │     132861 │\n",
       "│ Q       │  56.88447982881239 │  20.63141166844987 │     127112 │\n",
       "│ Z       │  38.35718630567766 │  20.15700496952864 │      87131 │\n",
       "│ D       │   39.4971289442432 │  19.38569196913136 │     234931 │\n",
       "│ L       │  57.59003977551354 │ 16.775640676365352 │     110118 │\n",
       "│ G       │  49.57114923117945 │  16.13115871181821 │     135012 │\n",
       "│ 6       │  52.32131878266216 │ 15.716646172763603 │     260240 │\n",
       "│ 1       │  59.05773443745385 │  11.26648400266063 │     327742 │\n",
       "│ F       │ 60.867158591172384 │  7.501776071199752 │     229439 │\n",
       "│ M       │  56.53746354680934 │  6.445612987669063 │     174196 │\n",
       "│ E       │  66.76268167725763 │  4.717561951670001 │      90958 │\n",
       "│ R       │  58.45765714546774 │  4.017279275529318 │     196999 │\n",
       "│ 7       │ 35.732072928975306 │ 3.4804347613792834 │     102401 │\n",
       "│ N       │ 59.689293060517485 │ 3.4744776442567935 │     147792 │\n",
       "├─────────┴────────────────────┴────────────────────┴────────────┤\n",
       "│ 22 rows                                              4 columns │\n",
       "└────────────────────────────────────────────────────────────────┘"
      ]
     },
     "execution_count": 21,
     "metadata": {},
     "output_type": "execute_result"
    }
   ],
   "source": [
    "con.sql(\"\"\"\n",
    "SELECT\n",
    "  lines.route,\n",
    "  100.0 * Sum(popn_white) / Sum(popn_total) AS white_pct,\n",
    "  100.0 * Sum(popn_black) / Sum(popn_total) AS black_pct,\n",
    "  Sum(popn_total) AS popn_total\n",
    "FROM nyc_census_blocks AS census\n",
    "JOIN nyc_subway_stations AS subways\n",
    "ON ST_DWithin(census.geom, subways.geom, 200)\n",
    "JOIN subway_lines AS lines\n",
    "ON strpos(subways.routes, lines.route) > 0\n",
    "GROUP BY lines.route\n",
    "ORDER BY black_pct DESC;\n",
    "\"\"\")"
   ]
  },
  {
   "cell_type": "markdown",
   "id": "fed9eb71",
   "metadata": {},
   "source": [
    "As before, the joins create a virtual table of all the possible combinations available within the constraints of the JOIN ON restrictions, and those rows are then fed into a GROUP summary. The spatial magic is in the ST_DWithin function, that ensures only census blocks close to the appropriate subway stations are included in the calculation."
   ]
  },
  {
   "cell_type": "markdown",
   "id": "b7912c9c",
   "metadata": {},
   "source": [
    "## Projection"
   ]
  },
  {
   "cell_type": "markdown",
   "id": "aebe580d",
   "metadata": {},
   "source": [
    "DuckDB provides the `ST_Transform` function to transform geometries from one projection to another. The function takes three arguments: the geometry to transform, and the EPSG code of the projection of the input geometry, and the EPSG code of the projection to transform to."
   ]
  },
  {
   "cell_type": "code",
   "execution_count": 22,
   "id": "a271e077",
   "metadata": {},
   "outputs": [
    {
     "data": {
      "text/plain": [
       "┌─────────┬────────┬───────────┬───────────┬──────────────────┬────────────┬─────────────────────────────┐\n",
       "│ country │   id   │ latitude  │ longitude │       name       │ population │          geometry           │\n",
       "│ varchar │ double │  double   │  double   │     varchar      │   double   │          geometry           │\n",
       "├─────────┼────────┼───────────┼───────────┼──────────────────┼────────────┼─────────────────────────────┤\n",
       "│ UGA     │    1.0 │    0.5833 │   32.5333 │ Bombo            │    75000.0 │ POINT (32.5333 0.5833)      │\n",
       "│ UGA     │    2.0 │     0.671 │    30.275 │ Fort Portal      │    42670.0 │ POINT (30.275 0.671)        │\n",
       "│ ITA     │    3.0 │    40.642 │    15.799 │ Potenza          │    69060.0 │ POINT (15.799 40.642)       │\n",
       "│ ITA     │    4.0 │    41.563 │    14.656 │ Campobasso       │    50762.0 │ POINT (14.656 41.563)       │\n",
       "│ ITA     │    5.0 │    45.737 │     7.315 │ Aosta            │    34062.0 │ POINT (7.315 45.737)        │\n",
       "│ ALD     │    6.0 │    60.097 │    19.949 │ Mariehamn        │    10682.0 │ POINT (19.949 60.097)       │\n",
       "│ PSE     │    7.0 │  31.90294 │  35.20621 │ Ramallah         │    24599.0 │ POINT (35.20621 31.90294)   │\n",
       "│ VAT     │    8.0 │  41.90001 │  12.44781 │ Vatican City     │      832.0 │ POINT (12.44781 41.90001)   │\n",
       "│ FRA     │    9.0 │  46.58329 │   0.33328 │ Poitier          │    85960.0 │ POINT (0.33328 46.58329)    │\n",
       "│ FRA     │   10.0 │  45.77998 │   3.08001 │ Clermont-Ferrand │   233050.0 │ POINT (3.08001 45.77998)    │\n",
       "│  ·      │     ·  │      ·    │      ·    │   ·              │       ·    │            ·                │\n",
       "│  ·      │     ·  │      ·    │      ·    │   ·              │       ·    │            ·                │\n",
       "│  ·      │     ·  │      ·    │      ·    │   ·              │       ·    │            ·                │\n",
       "│ JPN     │ 1240.0 │  35.68502 │ 139.75141 │ Tokyo            │ 35676000.0 │ POINT (139.75141 35.68502)  │\n",
       "│ IND     │ 1241.0 │  19.01699 │  72.85699 │ Mumbai           │ 18978000.0 │ POINT (72.85699 19.01699)   │\n",
       "│ FRA     │ 1242.0 │  48.86669 │   2.33334 │ Paris            │  9904000.0 │ POINT (2.33334 48.86669)    │\n",
       "│ CHL     │ 1243.0 │ -33.45001 │ -70.66704 │ Santiago         │  5720000.0 │ POINT (-70.66704 -33.45001) │\n",
       "│ IND     │ 1244.0 │  22.49497 │  88.32468 │ Kolkata          │ 14787000.0 │ POINT (88.32468 22.49497)   │\n",
       "│ BRA     │ 1245.0 │ -22.92502 │ -43.22502 │ Rio de Janeiro   │ 11748000.0 │ POINT (-43.22502 -22.92502) │\n",
       "│ BRA     │ 1246.0 │ -23.55868 │ -46.62502 │ Sao Paulo        │ 18845000.0 │ POINT (-46.62502 -23.55868) │\n",
       "│ AUS     │ 1247.0 │ -33.92001 │ 151.18518 │ Sydney           │  4630000.0 │ POINT (151.18518 -33.92001) │\n",
       "│ SGP     │ 1248.0 │   1.29303 │ 103.85582 │ Singapore        │  5183700.0 │ POINT (103.85582 1.29303)   │\n",
       "│ CHN     │ 1249.0 │  22.30498 │ 114.18501 │ Hong Kong        │  7206000.0 │ POINT (114.18501 22.30498)  │\n",
       "├─────────┴────────┴───────────┴───────────┴──────────────────┴────────────┴─────────────────────────────┤\n",
       "│ 1249 rows (20 shown)                                                                         7 columns │\n",
       "└────────────────────────────────────────────────────────────────────────────────────────────────────────┘"
      ]
     },
     "execution_count": 22,
     "metadata": {},
     "output_type": "execute_result"
    }
   ],
   "source": [
    "# geometry is lon lat. have to convert to UTM to get distances\n",
    "url = 'https://open.gishub.org/data/duckdb/cities.parquet'\n",
    "con.sql(f\"SELECT * EXCLUDE geometry, ST_GeomFromWKB(geometry) AS geometry FROM '{url}'\")"
   ]
  },
  {
   "cell_type": "markdown",
   "id": "e88f3a48",
   "metadata": {},
   "source": [
    "Let's convert the data from EPSG:4326 to EPSG:5070 (NAD 83 CONUS Albers)."
   ]
  },
  {
   "cell_type": "code",
   "execution_count": 23,
   "id": "a7adfefd",
   "metadata": {},
   "outputs": [
    {
     "data": {
      "text/plain": [
       "┌─────────┬────────┬───────────┬───────────┬──────────────────┬────────────┬───────────────────────────────────────────┐\n",
       "│ country │   id   │ latitude  │ longitude │       name       │ population │                 geometry                  │\n",
       "│ varchar │ double │  double   │  double   │     varchar      │   double   │                 geometry                  │\n",
       "├─────────┼────────┼───────────┼───────────┼──────────────────┼────────────┼───────────────────────────────────────────┤\n",
       "│ UGA     │    1.0 │    0.5833 │   32.5333 │ Bombo            │    75000.0 │ POINT (11942089.442723729 7279926.80195…  │\n",
       "│ UGA     │    2.0 │     0.671 │    30.275 │ Fort Portal      │    42670.0 │ POINT (11867630.052040448 6998929.07050…  │\n",
       "│ ITA     │    3.0 │    40.642 │    15.799 │ Potenza          │    69060.0 │ POINT (7358230.68251168 6866592.8408855…  │\n",
       "│ ITA     │    4.0 │    41.563 │    14.656 │ Campobasso       │    50762.0 │ POINT (7226148.687146555 6819079.567060…  │\n",
       "│ ITA     │    5.0 │    45.737 │     7.315 │ Aosta            │    34062.0 │ POINT (6552378.111608097 6487242.065731…  │\n",
       "│ ALD     │    6.0 │    60.097 │    19.949 │ Mariehamn        │    10682.0 │ POINT (5508421.560396923 7913792.108140…  │\n",
       "│ PSE     │    7.0 │  31.90294 │  35.20621 │ Ramallah         │    24599.0 │ POINT (8786671.314526286 8237620.380398…  │\n",
       "│ VAT     │    8.0 │  41.90001 │  12.44781 │ Vatican City     │      832.0 │ POINT (7117661.079455632 6667735.352476…  │\n",
       "│ FRA     │    9.0 │  46.58329 │   0.33328 │ Poitier          │    85960.0 │ POINT (6202391.802168404 6065223.694335…  │\n",
       "│ FRA     │   10.0 │  45.77998 │   3.08001 │ Clermont-Ferrand │   233050.0 │ POINT (6388427.609838363 6201166.022551…  │\n",
       "│  ·      │     ·  │      ·    │      ·    │   ·              │       ·    │                     ·                     │\n",
       "│  ·      │     ·  │      ·    │      ·    │   ·              │       ·    │                     ·                     │\n",
       "│  ·      │     ·  │      ·    │      ·    │   ·              │       ·    │                     ·                     │\n",
       "│ JPN     │ 1240.0 │  35.68502 │ 139.75141 │ Tokyo            │ 35676000.0 │ POINT (-8231486.10887736 7709424.882788…  │\n",
       "│ IND     │ 1241.0 │  19.01699 │  72.85699 │ Mumbai           │ 18978000.0 │ POINT (10139319.929078806 12047954.1201…  │\n",
       "│ FRA     │ 1242.0 │  48.86669 │   2.33334 │ Paris            │  9904000.0 │ POINT (6065653.0573384315 6325331.06564…  │\n",
       "│ CHL     │ 1243.0 │ -33.45001 │ -70.66704 │ Santiago         │  5720000.0 │ POINT (3951207.1915841573 -4540721.4838…  │\n",
       "│ IND     │ 1244.0 │  22.49497 │  88.32468 │ Kolkata          │ 14787000.0 │ POINT (-9601078.386902532 12666618.6484…  │\n",
       "│ BRA     │ 1245.0 │ -22.92502 │ -43.22502 │ Rio de Janeiro   │ 11748000.0 │ POINT (7516340.693336727 -2185094.42836…  │\n",
       "│ BRA     │ 1246.0 │ -23.55868 │ -46.62502 │ Sao Paulo        │ 18845000.0 │ POINT (7101948.950971747 -2487683.32919…  │\n",
       "│ AUS     │ 1247.0 │ -33.92001 │ 151.18518 │ Sydney           │  4630000.0 │ POINT (-13937208.782632692 4302569.8793…  │\n",
       "│ SGP     │ 1248.0 │   1.29303 │ 103.85582 │ Singapore        │  5183700.0 │ POINT (-12084880.759900725 11316811.940…  │\n",
       "│ CHN     │ 1249.0 │  22.30498 │ 114.18501 │ Hong Kong        │  7206000.0 │ POINT (-10004207.111961301 9985487.7709…  │\n",
       "├─────────┴────────┴───────────┴───────────┴──────────────────┴────────────┴───────────────────────────────────────────┤\n",
       "│ 1249 rows (20 shown)                                                                                       7 columns │\n",
       "└──────────────────────────────────────────────────────────────────────────────────────────────────────────────────────┘"
      ]
     },
     "execution_count": 23,
     "metadata": {},
     "output_type": "execute_result"
    }
   ],
   "source": [
    "# true enforces as X,  5070 is conus albers\n",
    "con.sql(f\"\"\"\n",
    "SELECT * EXCLUDE geometry, ST_Transform(ST_GeomFromWKB(geometry), 'EPSG:4326', 'EPSG:5070', true) AS geometry FROM '{url}'\n",
    "\"\"\")"
   ]
  },
  {
   "cell_type": "code",
   "execution_count": 26,
   "metadata": {},
   "outputs": [
    {
     "data": {
      "text/html": [
       "<div>\n",
       "<style scoped>\n",
       "    .dataframe tbody tr th:only-of-type {\n",
       "        vertical-align: middle;\n",
       "    }\n",
       "\n",
       "    .dataframe tbody tr th {\n",
       "        vertical-align: top;\n",
       "    }\n",
       "\n",
       "    .dataframe thead th {\n",
       "        text-align: right;\n",
       "    }\n",
       "</style>\n",
       "<table border=\"1\" class=\"dataframe\">\n",
       "  <thead>\n",
       "    <tr style=\"text-align: right;\">\n",
       "      <th></th>\n",
       "      <th>country</th>\n",
       "      <th>id</th>\n",
       "      <th>latitude</th>\n",
       "      <th>longitude</th>\n",
       "      <th>name</th>\n",
       "      <th>population</th>\n",
       "      <th>geometry</th>\n",
       "    </tr>\n",
       "  </thead>\n",
       "  <tbody>\n",
       "    <tr>\n",
       "      <th>0</th>\n",
       "      <td>UGA</td>\n",
       "      <td>1.0</td>\n",
       "      <td>0.58330</td>\n",
       "      <td>32.53330</td>\n",
       "      <td>Bombo</td>\n",
       "      <td>75000.0</td>\n",
       "      <td>POINT (32.5333 0.5833)</td>\n",
       "    </tr>\n",
       "    <tr>\n",
       "      <th>1</th>\n",
       "      <td>UGA</td>\n",
       "      <td>2.0</td>\n",
       "      <td>0.67100</td>\n",
       "      <td>30.27500</td>\n",
       "      <td>Fort Portal</td>\n",
       "      <td>42670.0</td>\n",
       "      <td>POINT (30.275 0.671)</td>\n",
       "    </tr>\n",
       "    <tr>\n",
       "      <th>2</th>\n",
       "      <td>ITA</td>\n",
       "      <td>3.0</td>\n",
       "      <td>40.64200</td>\n",
       "      <td>15.79900</td>\n",
       "      <td>Potenza</td>\n",
       "      <td>69060.0</td>\n",
       "      <td>POINT (15.799 40.642)</td>\n",
       "    </tr>\n",
       "    <tr>\n",
       "      <th>3</th>\n",
       "      <td>ITA</td>\n",
       "      <td>4.0</td>\n",
       "      <td>41.56300</td>\n",
       "      <td>14.65600</td>\n",
       "      <td>Campobasso</td>\n",
       "      <td>50762.0</td>\n",
       "      <td>POINT (14.656 41.563)</td>\n",
       "    </tr>\n",
       "    <tr>\n",
       "      <th>4</th>\n",
       "      <td>ITA</td>\n",
       "      <td>5.0</td>\n",
       "      <td>45.73700</td>\n",
       "      <td>7.31500</td>\n",
       "      <td>Aosta</td>\n",
       "      <td>34062.0</td>\n",
       "      <td>POINT (7.315 45.737)</td>\n",
       "    </tr>\n",
       "    <tr>\n",
       "      <th>...</th>\n",
       "      <td>...</td>\n",
       "      <td>...</td>\n",
       "      <td>...</td>\n",
       "      <td>...</td>\n",
       "      <td>...</td>\n",
       "      <td>...</td>\n",
       "      <td>...</td>\n",
       "    </tr>\n",
       "    <tr>\n",
       "      <th>1244</th>\n",
       "      <td>BRA</td>\n",
       "      <td>1245.0</td>\n",
       "      <td>-22.92502</td>\n",
       "      <td>-43.22502</td>\n",
       "      <td>Rio de Janeiro</td>\n",
       "      <td>11748000.0</td>\n",
       "      <td>POINT (-43.22502 -22.92502)</td>\n",
       "    </tr>\n",
       "    <tr>\n",
       "      <th>1245</th>\n",
       "      <td>BRA</td>\n",
       "      <td>1246.0</td>\n",
       "      <td>-23.55868</td>\n",
       "      <td>-46.62502</td>\n",
       "      <td>Sao Paulo</td>\n",
       "      <td>18845000.0</td>\n",
       "      <td>POINT (-46.62502 -23.55868)</td>\n",
       "    </tr>\n",
       "    <tr>\n",
       "      <th>1246</th>\n",
       "      <td>AUS</td>\n",
       "      <td>1247.0</td>\n",
       "      <td>-33.92001</td>\n",
       "      <td>151.18518</td>\n",
       "      <td>Sydney</td>\n",
       "      <td>4630000.0</td>\n",
       "      <td>POINT (151.18518 -33.92001)</td>\n",
       "    </tr>\n",
       "    <tr>\n",
       "      <th>1247</th>\n",
       "      <td>SGP</td>\n",
       "      <td>1248.0</td>\n",
       "      <td>1.29303</td>\n",
       "      <td>103.85582</td>\n",
       "      <td>Singapore</td>\n",
       "      <td>5183700.0</td>\n",
       "      <td>POINT (103.85582 1.29303)</td>\n",
       "    </tr>\n",
       "    <tr>\n",
       "      <th>1248</th>\n",
       "      <td>CHN</td>\n",
       "      <td>1249.0</td>\n",
       "      <td>22.30498</td>\n",
       "      <td>114.18501</td>\n",
       "      <td>Hong Kong</td>\n",
       "      <td>7206000.0</td>\n",
       "      <td>POINT (114.18501 22.30498)</td>\n",
       "    </tr>\n",
       "  </tbody>\n",
       "</table>\n",
       "<p>1249 rows × 7 columns</p>\n",
       "</div>"
      ],
      "text/plain": [
       "     country      id  latitude  longitude            name  population  \\\n",
       "0        UGA     1.0   0.58330   32.53330           Bombo     75000.0   \n",
       "1        UGA     2.0   0.67100   30.27500     Fort Portal     42670.0   \n",
       "2        ITA     3.0  40.64200   15.79900         Potenza     69060.0   \n",
       "3        ITA     4.0  41.56300   14.65600      Campobasso     50762.0   \n",
       "4        ITA     5.0  45.73700    7.31500           Aosta     34062.0   \n",
       "...      ...     ...       ...        ...             ...         ...   \n",
       "1244     BRA  1245.0 -22.92502  -43.22502  Rio de Janeiro  11748000.0   \n",
       "1245     BRA  1246.0 -23.55868  -46.62502       Sao Paulo  18845000.0   \n",
       "1246     AUS  1247.0 -33.92001  151.18518          Sydney   4630000.0   \n",
       "1247     SGP  1248.0   1.29303  103.85582       Singapore   5183700.0   \n",
       "1248     CHN  1249.0  22.30498  114.18501       Hong Kong   7206000.0   \n",
       "\n",
       "                         geometry  \n",
       "0          POINT (32.5333 0.5833)  \n",
       "1            POINT (30.275 0.671)  \n",
       "2           POINT (15.799 40.642)  \n",
       "3           POINT (14.656 41.563)  \n",
       "4            POINT (7.315 45.737)  \n",
       "...                           ...  \n",
       "1244  POINT (-43.22502 -22.92502)  \n",
       "1245  POINT (-46.62502 -23.55868)  \n",
       "1246  POINT (151.18518 -33.92001)  \n",
       "1247    POINT (103.85582 1.29303)  \n",
       "1248   POINT (114.18501 22.30498)  \n",
       "\n",
       "[1249 rows x 7 columns]"
      ]
     },
     "execution_count": 26,
     "metadata": {},
     "output_type": "execute_result"
    }
   ],
   "source": [
    "# comes out as X, Y lon lat\n",
    "df = con.sql(f\"SELECT * EXCLUDE geometry, ST_AsText (ST_GeomFromWKB(geometry)) AS geometry FROM '{url}'\").df()\n",
    "df"
   ]
  },
  {
   "cell_type": "code",
   "execution_count": 28,
   "metadata": {},
   "outputs": [
    {
     "data": {
      "text/html": [
       "<div>\n",
       "<style scoped>\n",
       "    .dataframe tbody tr th:only-of-type {\n",
       "        vertical-align: middle;\n",
       "    }\n",
       "\n",
       "    .dataframe tbody tr th {\n",
       "        vertical-align: top;\n",
       "    }\n",
       "\n",
       "    .dataframe thead th {\n",
       "        text-align: right;\n",
       "    }\n",
       "</style>\n",
       "<table border=\"1\" class=\"dataframe\">\n",
       "  <thead>\n",
       "    <tr style=\"text-align: right;\">\n",
       "      <th></th>\n",
       "      <th>country</th>\n",
       "      <th>id</th>\n",
       "      <th>latitude</th>\n",
       "      <th>longitude</th>\n",
       "      <th>name</th>\n",
       "      <th>population</th>\n",
       "      <th>geometry</th>\n",
       "    </tr>\n",
       "  </thead>\n",
       "  <tbody>\n",
       "    <tr>\n",
       "      <th>0</th>\n",
       "      <td>UGA</td>\n",
       "      <td>1.0</td>\n",
       "      <td>0.58330</td>\n",
       "      <td>32.53330</td>\n",
       "      <td>Bombo</td>\n",
       "      <td>75000.0</td>\n",
       "      <td>POINT (11942089.443 7279926.802)</td>\n",
       "    </tr>\n",
       "    <tr>\n",
       "      <th>1</th>\n",
       "      <td>UGA</td>\n",
       "      <td>2.0</td>\n",
       "      <td>0.67100</td>\n",
       "      <td>30.27500</td>\n",
       "      <td>Fort Portal</td>\n",
       "      <td>42670.0</td>\n",
       "      <td>POINT (11867630.052 6998929.071)</td>\n",
       "    </tr>\n",
       "    <tr>\n",
       "      <th>2</th>\n",
       "      <td>ITA</td>\n",
       "      <td>3.0</td>\n",
       "      <td>40.64200</td>\n",
       "      <td>15.79900</td>\n",
       "      <td>Potenza</td>\n",
       "      <td>69060.0</td>\n",
       "      <td>POINT (7358230.683 6866592.841)</td>\n",
       "    </tr>\n",
       "    <tr>\n",
       "      <th>3</th>\n",
       "      <td>ITA</td>\n",
       "      <td>4.0</td>\n",
       "      <td>41.56300</td>\n",
       "      <td>14.65600</td>\n",
       "      <td>Campobasso</td>\n",
       "      <td>50762.0</td>\n",
       "      <td>POINT (7226148.687 6819079.567)</td>\n",
       "    </tr>\n",
       "    <tr>\n",
       "      <th>4</th>\n",
       "      <td>ITA</td>\n",
       "      <td>5.0</td>\n",
       "      <td>45.73700</td>\n",
       "      <td>7.31500</td>\n",
       "      <td>Aosta</td>\n",
       "      <td>34062.0</td>\n",
       "      <td>POINT (6552378.112 6487242.066)</td>\n",
       "    </tr>\n",
       "    <tr>\n",
       "      <th>...</th>\n",
       "      <td>...</td>\n",
       "      <td>...</td>\n",
       "      <td>...</td>\n",
       "      <td>...</td>\n",
       "      <td>...</td>\n",
       "      <td>...</td>\n",
       "      <td>...</td>\n",
       "    </tr>\n",
       "    <tr>\n",
       "      <th>1244</th>\n",
       "      <td>BRA</td>\n",
       "      <td>1245.0</td>\n",
       "      <td>-22.92502</td>\n",
       "      <td>-43.22502</td>\n",
       "      <td>Rio de Janeiro</td>\n",
       "      <td>11748000.0</td>\n",
       "      <td>POINT (7516340.693 -2185094.428)</td>\n",
       "    </tr>\n",
       "    <tr>\n",
       "      <th>1245</th>\n",
       "      <td>BRA</td>\n",
       "      <td>1246.0</td>\n",
       "      <td>-23.55868</td>\n",
       "      <td>-46.62502</td>\n",
       "      <td>Sao Paulo</td>\n",
       "      <td>18845000.0</td>\n",
       "      <td>POINT (7101948.951 -2487683.329)</td>\n",
       "    </tr>\n",
       "    <tr>\n",
       "      <th>1246</th>\n",
       "      <td>AUS</td>\n",
       "      <td>1247.0</td>\n",
       "      <td>-33.92001</td>\n",
       "      <td>151.18518</td>\n",
       "      <td>Sydney</td>\n",
       "      <td>4630000.0</td>\n",
       "      <td>POINT (-13937208.783 4302569.879)</td>\n",
       "    </tr>\n",
       "    <tr>\n",
       "      <th>1247</th>\n",
       "      <td>SGP</td>\n",
       "      <td>1248.0</td>\n",
       "      <td>1.29303</td>\n",
       "      <td>103.85582</td>\n",
       "      <td>Singapore</td>\n",
       "      <td>5183700.0</td>\n",
       "      <td>POINT (-12084880.760 11316811.940)</td>\n",
       "    </tr>\n",
       "    <tr>\n",
       "      <th>1248</th>\n",
       "      <td>CHN</td>\n",
       "      <td>1249.0</td>\n",
       "      <td>22.30498</td>\n",
       "      <td>114.18501</td>\n",
       "      <td>Hong Kong</td>\n",
       "      <td>7206000.0</td>\n",
       "      <td>POINT (-10004207.112 9985487.771)</td>\n",
       "    </tr>\n",
       "  </tbody>\n",
       "</table>\n",
       "<p>1249 rows × 7 columns</p>\n",
       "</div>"
      ],
      "text/plain": [
       "     country      id  latitude  longitude            name  population  \\\n",
       "0        UGA     1.0   0.58330   32.53330           Bombo     75000.0   \n",
       "1        UGA     2.0   0.67100   30.27500     Fort Portal     42670.0   \n",
       "2        ITA     3.0  40.64200   15.79900         Potenza     69060.0   \n",
       "3        ITA     4.0  41.56300   14.65600      Campobasso     50762.0   \n",
       "4        ITA     5.0  45.73700    7.31500           Aosta     34062.0   \n",
       "...      ...     ...       ...        ...             ...         ...   \n",
       "1244     BRA  1245.0 -22.92502  -43.22502  Rio de Janeiro  11748000.0   \n",
       "1245     BRA  1246.0 -23.55868  -46.62502       Sao Paulo  18845000.0   \n",
       "1246     AUS  1247.0 -33.92001  151.18518          Sydney   4630000.0   \n",
       "1247     SGP  1248.0   1.29303  103.85582       Singapore   5183700.0   \n",
       "1248     CHN  1249.0  22.30498  114.18501       Hong Kong   7206000.0   \n",
       "\n",
       "                                geometry  \n",
       "0       POINT (11942089.443 7279926.802)  \n",
       "1       POINT (11867630.052 6998929.071)  \n",
       "2        POINT (7358230.683 6866592.841)  \n",
       "3        POINT (7226148.687 6819079.567)  \n",
       "4        POINT (6552378.112 6487242.066)  \n",
       "...                                  ...  \n",
       "1244    POINT (7516340.693 -2185094.428)  \n",
       "1245    POINT (7101948.951 -2487683.329)  \n",
       "1246   POINT (-13937208.783 4302569.879)  \n",
       "1247  POINT (-12084880.760 11316811.940)  \n",
       "1248   POINT (-10004207.112 9985487.771)  \n",
       "\n",
       "[1249 rows x 7 columns]"
      ]
     },
     "execution_count": 28,
     "metadata": {},
     "output_type": "execute_result"
    }
   ],
   "source": [
    "gdf =  leafmap.df_to_gdf(df, src_crs = 'EPSG:4326', dst_crs = 'EPSG:5070')\n",
    "gdf"
   ]
  },
  {
   "cell_type": "markdown",
   "id": "35c569c1",
   "metadata": {},
   "source": [
    "## Function List\n",
    "\n",
    "https://duckdb.org/docs/archive/0.9.2/extensions/spatial#spatial-relationships\n",
    "\n",
    "![](https://i.imgur.com/ogJojVX.png)"
   ]
  },
  {
   "cell_type": "markdown",
   "id": "786537bc",
   "metadata": {},
   "source": [
    "## References\n",
    "\n",
    "- [Introduction to PostGIS - Spatial Joins](https://postgis.net/workshops/postgis-intro/joins.html)"
   ]
  }
 ],
 "metadata": {
  "jupytext": {
   "text_representation": {
    "extension": ".md",
    "format_name": "myst",
    "format_version": 0.13,
    "jupytext_version": "1.15.2"
   }
  },
  "kernelspec": {
   "display_name": "Python 3",
   "language": "python",
   "name": "python3"
  },
  "language_info": {
   "codemirror_mode": {
    "name": "ipython",
    "version": 3
   },
   "file_extension": ".py",
   "mimetype": "text/x-python",
   "name": "python",
   "nbconvert_exporter": "python",
   "pygments_lexer": "ipython3",
   "version": "3.9.18"
  },
  "source_map": [
   12,
   24,
   26,
   30,
   33,
   39,
   42,
   48,
   52,
   57,
   59,
   69,
   73,
   75,
   79,
   90,
   94,
   98,
   102,
   113,
   121,
   129,
   135,
   139,
   143,
   149,
   153,
   164,
   174,
   183,
   187,
   202,
   206,
   210,
   214,
   217,
   221,
   225,
   233
  ]
 },
 "nbformat": 4,
 "nbformat_minor": 5
}
