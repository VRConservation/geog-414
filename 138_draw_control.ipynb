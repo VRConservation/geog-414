{
 "cells": [
  {
   "cell_type": "markdown",
   "metadata": {},
   "source": [
    "<a href=\"https://githubtocolab.com/gee-community/geemap/blob/master/examples/notebooks/138_draw_control.ipynb\" target=\"_parent\"><img src=\"https://colab.research.google.com/assets/colab-badge.svg\" alt=\"Open in Colab\"/></a>\n",
    "\n",
    "**Clip Earth Engine images interactively with the Draw Control**\n",
    "\n",
    "Uncomment the following line to install [geemap](https://geemap.org) if needed."
   ]
  },
  {
   "cell_type": "code",
   "execution_count": null,
   "metadata": {},
   "outputs": [],
   "source": [
    "# %pip install -U geemap"
   ]
  },
  {
   "cell_type": "code",
   "execution_count": 1,
   "metadata": {},
   "outputs": [],
   "source": [
    "import ee\n",
    "import geemap\n",
    "import ipywidgets as widgets"
   ]
  },
  {
   "cell_type": "markdown",
   "metadata": {},
   "source": [
    "Add some Earth Engine data to the map, then you can use the draw control and a button widget to clip the Earth Engine data by the drawn polygons. \n",
    "\n",
    "The drawn geometries can be retrieved as either an ee.Geometry object (`m.user_roi`) or ee.FeatureCollection (`m._user_rois`)."
   ]
  },
  {
   "cell_type": "code",
   "execution_count": 2,
   "metadata": {},
   "outputs": [
    {
     "data": {
      "text/html": [
       "\n",
       "            <style>\n",
       "                .geemap-dark {\n",
       "                    --jp-widgets-color: white;\n",
       "                    --jp-widgets-label-color: white;\n",
       "                    --jp-ui-font-color1: white;\n",
       "                    --jp-layout-color2: #454545;\n",
       "                    background-color: #383838;\n",
       "                }\n",
       "                    \n",
       "                .geemap-dark .jupyter-button {\n",
       "                    --jp-layout-color3: #383838;\n",
       "                }\n",
       "                \n",
       "                .geemap-colab {\n",
       "                    background-color: var(--colab-primary-surface-color, white);\n",
       "                }\n",
       "                    \n",
       "                .geemap-colab .jupyter-button {\n",
       "                    --jp-layout-color3: var(--colab-primary-surface-color, white);\n",
       "                }\n",
       "            </style>\n",
       "            "
      ],
      "text/plain": [
       "<IPython.core.display.HTML object>"
      ]
     },
     "metadata": {},
     "output_type": "display_data"
    },
    {
     "data": {
      "application/vnd.jupyter.widget-view+json": {
       "model_id": "80be58a385fc47039099a0a456707597",
       "version_major": 2,
       "version_minor": 0
      },
      "text/plain": [
       "Map(center=[0, 9.31], controls=(WidgetControl(options=['position', 'transparent_bg'], widget=SearchDataGUI(chi…"
      ]
     },
     "execution_count": 2,
     "metadata": {},
     "output_type": "execute_result"
    }
   ],
   "source": [
    "self = geemap.Map(center=[0, 9.31], zoom=3)\n",
    "image = ee.Image('USGS/SRTMGL1_003')\n",
    "vis_params = {\n",
    "    'min': 0,\n",
    "    'max': 6000,\n",
    "    'palette': 'terrain',\n",
    "}\n",
    "self.add_layer(image, vis_params, 'SRTM')\n",
    "\n",
    "clip_btn = widgets.Button(description='Clip Image')\n",
    "reset_btn = widgets.Button(description='Reset')\n",
    "\n",
    "def on_clip_btn_clicked(b):\n",
    "    if self.user_roi is not None:\n",
    "        try:\n",
    "            clipped_image = image.clip(self.user_roi)\n",
    "            self.add_layer(clipped_image, vis_params, 'Clipped Image')\n",
    "            self.find_layer('SRTM').visible = False\n",
    "        except:\n",
    "            pass\n",
    "\n",
    "clip_btn.on_click(on_clip_btn_clicked)\n",
    "\n",
    "def on_reset_btn_clicked(b):\n",
    "    self._draw_control.clear()\n",
    "    self.find_layer('SRTM').visible = True\n",
    "    self.layers = self.layers[:3]\n",
    "\n",
    "reset_btn.on_click(on_reset_btn_clicked)\n",
    "\n",
    "widget = widgets.VBox([clip_btn, reset_btn])\n",
    "self.add_widget(widget, position='bottomright')\n",
    "self"
   ]
  },
  {
   "cell_type": "markdown",
   "metadata": {},
   "source": [
    "Create a solara web app."
   ]
  },
  {
   "cell_type": "code",
   "execution_count": null,
   "metadata": {},
   "outputs": [],
   "source": [
    "import ee\n",
    "import geemap\n",
    "import solara\n",
    "import ipywidgets as widgets\n",
    "\n",
    "\n",
    "class Map(geemap.Map):\n",
    "    def __init__(self, **kwargs):\n",
    "        super().__init__(**kwargs)\n",
    "\n",
    "        image = ee.Image('USGS/SRTMGL1_003')\n",
    "        vis_params = {\n",
    "            'min': 0,\n",
    "            'max': 6000,\n",
    "            'palette': 'terrain',\n",
    "        }\n",
    "        self.add_layer(image, vis_params, 'SRTM')\n",
    "\n",
    "        clip_btn = widgets.Button(description='Clip Image')\n",
    "        reset_btn = widgets.Button(description='Reset')\n",
    "\n",
    "        def on_clip_btn_clicked(b):\n",
    "            if self.user_roi is not None:\n",
    "                try:\n",
    "                    clipped_image = image.clip(self.user_roi)\n",
    "                    self.add_layer(clipped_image, vis_params, 'Clipped Image')\n",
    "                    self.find_layer('SRTM').visible = False\n",
    "                except:\n",
    "                    pass\n",
    "\n",
    "        clip_btn.on_click(on_clip_btn_clicked)\n",
    "\n",
    "        def on_reset_btn_clicked(b):\n",
    "            self._draw_control.clear()\n",
    "            self.find_layer('SRTM').visible = True\n",
    "            self.layers = self.layers[:3]\n",
    "\n",
    "        reset_btn.on_click(on_reset_btn_clicked)\n",
    "\n",
    "        widget = widgets.VBox([clip_btn, reset_btn])\n",
    "        self.add_widget(widget, position='bottomright')\n",
    "\n",
    "\n",
    "@solara.component\n",
    "def Page():\n",
    "    with solara.Column(style={\"min-width\": \"500px\"}):\n",
    "        Map.element(\n",
    "            center=[0, 9.31],\n",
    "            zoom=3,\n",
    "            height=\"600px\",\n",
    "        )\n",
    "Page()"
   ]
  }
 ],
 "metadata": {
  "kernelspec": {
   "display_name": "Python 3",
   "language": "python",
   "name": "python3"
  },
  "language_info": {
   "codemirror_mode": {
    "name": "ipython",
    "version": 3
   },
   "file_extension": ".py",
   "mimetype": "text/x-python",
   "name": "python",
   "nbconvert_exporter": "python",
   "pygments_lexer": "ipython3",
   "version": "3.11.6"
  }
 },
 "nbformat": 4,
 "nbformat_minor": 5
}
