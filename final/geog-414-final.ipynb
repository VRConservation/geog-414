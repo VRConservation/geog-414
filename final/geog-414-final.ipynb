{
  "cells": [
    {
      "cell_type": "markdown",
      "metadata": {
        "id": "Dtex9L6CV_aV"
      },
      "source": [
        "# GEOG-414 Final Exam\n",
        "\n",
        "\n",
        "Please take note of the following important information regarding the final exam:\n",
        "\n",
        "**Date and Location**\n",
        "\n",
        "The final exam is scheduled to take place on Tuesday, December 12, 2023, in room BGB 404. The exam will begin at 10:30 AM and you have 120 minutes to complete the exam.\n",
        "\n",
        "**Exam Structure**\n",
        "\n",
        "The final exam accounts for 20% of the total grade, equivalent to 200 points. The exam consists of five questions, with each question carrying a weight of 40 points. There are four questions about Earth Engine and one question about DuckDB. While it is an open-book exam, it is essential that you complete it independently, without collaborating with others. You are allowed to utilize online resources to find solutions. The exam must be completed within 120 minutes and is due at precisely 12:30 pm. However, please note that for each 10-minute interval of late submission, a penalty of 10% will be deducted from your score.\n",
        "\n",
        "**Submission Requirements**\n",
        "\n",
        "1. **Screenshots:** For each question, upload a screenshot of your map/chart. Ensure the screenshot includes your name on it.\n",
        "2. **HTML file:** Submit an HTML version of your notebook. Ensure all code outputs are visible. (Export via VS Code: Notebook > Export > HTML).\n",
        "3. **Colab ink:** Provide a link to your notebook hosted on Google Colab for interactive review."
      ]
    },
    {
      "cell_type": "markdown",
      "metadata": {
        "id": "WeQJFQdtV_aZ"
      },
      "source": [
        "## Question 1\n",
        "\n",
        "Create annual cloud-free Landsat composite (**2015-2023**) of the state of Tennessee and display them on the map using false color composite.\n",
        "\n",
        "Relevant datasets:\n",
        "\n",
        "* [TIGER: US Census States](https://developers.google.com/earth-engine/datasets/catalog/TIGER_2018_States): `ee.FeatureCollection(\"TIGER/2018/States\")`\n",
        "* [USGS Landsat 8 Level 2, Collection 2, Tier 1](https://developers.google.com/earth-engine/datasets/catalog/LANDSAT_LC08_C02_T1_L2): `ee.ImageCollection(\"LANDSAT/LC08/C02/T1_L2\")`"
      ]
    },
    {
      "cell_type": "code",
      "execution_count": 3,
      "metadata": {
        "id": "o3XSVJk_V_aZ"
      },
      "outputs": [
        {
          "data": {
            "text/html": [
              "\n",
              "            <style>\n",
              "                .geemap-dark {\n",
              "                    --jp-widgets-color: white;\n",
              "                    --jp-widgets-label-color: white;\n",
              "                    --jp-ui-font-color1: white;\n",
              "                    --jp-layout-color2: #454545;\n",
              "                    background-color: #383838;\n",
              "                }\n",
              "                    \n",
              "                .geemap-dark .jupyter-button {\n",
              "                    --jp-layout-color3: #383838;\n",
              "                }\n",
              "                \n",
              "                .geemap-colab {\n",
              "                    background-color: var(--colab-primary-surface-color, white);\n",
              "                }\n",
              "                    \n",
              "                .geemap-colab .jupyter-button {\n",
              "                    --jp-layout-color3: var(--colab-primary-surface-color, white);\n",
              "                }\n",
              "            </style>\n",
              "            "
            ],
            "text/plain": [
              "<IPython.core.display.HTML object>"
            ]
          },
          "metadata": {},
          "output_type": "display_data"
        }
      ],
      "source": [
        "# Import ee, geemap and initialize geemap\n",
        "import ee\n",
        "import geemap\n",
        "geemap.ee_initialize()\n",
        "m = geemap.Map()"
      ]
    },
    {
      "cell_type": "code",
      "execution_count": 17,
      "metadata": {
        "id": "qAu5bsYwV_aa"
      },
      "outputs": [
        {
          "data": {
            "text/html": [
              "\n",
              "            <style>\n",
              "                .geemap-dark {\n",
              "                    --jp-widgets-color: white;\n",
              "                    --jp-widgets-label-color: white;\n",
              "                    --jp-ui-font-color1: white;\n",
              "                    --jp-layout-color2: #454545;\n",
              "                    background-color: #383838;\n",
              "                }\n",
              "                    \n",
              "                .geemap-dark .jupyter-button {\n",
              "                    --jp-layout-color3: #383838;\n",
              "                }\n",
              "                \n",
              "                .geemap-colab {\n",
              "                    background-color: var(--colab-primary-surface-color, white);\n",
              "                }\n",
              "                    \n",
              "                .geemap-colab .jupyter-button {\n",
              "                    --jp-layout-color3: var(--colab-primary-surface-color, white);\n",
              "                }\n",
              "            </style>\n",
              "            "
            ],
            "text/plain": [
              "<IPython.core.display.HTML object>"
            ]
          },
          "metadata": {},
          "output_type": "display_data"
        }
      ],
      "source": [
        "# Add tiger and filter to Tennessee\n",
        "states = ee.FeatureCollection(\"TIGER/2018/States\")\n",
        "tenn = states.filter(ee.Filter.eq('NAME', 'Tennessee'))\n",
        "roi = tenn.geometry()\n",
        "m.addLayer(tenn, {}, 'Tennessee')"
      ]
    },
    {
      "cell_type": "code",
      "execution_count": 20,
      "metadata": {},
      "outputs": [
        {
          "data": {
            "text/html": [
              "\n",
              "            <style>\n",
              "                .geemap-dark {\n",
              "                    --jp-widgets-color: white;\n",
              "                    --jp-widgets-label-color: white;\n",
              "                    --jp-ui-font-color1: white;\n",
              "                    --jp-layout-color2: #454545;\n",
              "                    background-color: #383838;\n",
              "                }\n",
              "                    \n",
              "                .geemap-dark .jupyter-button {\n",
              "                    --jp-layout-color3: #383838;\n",
              "                }\n",
              "                \n",
              "                .geemap-colab {\n",
              "                    background-color: var(--colab-primary-surface-color, white);\n",
              "                }\n",
              "                    \n",
              "                .geemap-colab .jupyter-button {\n",
              "                    --jp-layout-color3: var(--colab-primary-surface-color, white);\n",
              "                }\n",
              "            </style>\n",
              "            "
            ],
            "text/plain": [
              "<IPython.core.display.HTML object>"
            ]
          },
          "metadata": {},
          "output_type": "display_data"
        }
      ],
      "source": [
        "# Add Landsat 8 and layer visualization params\n",
        "collection = geemap.landsat_timeseries(\n",
        "    roi=tenn, start_year=2015, end_year=2023, frequency='year'\n",
        ")\n",
        "\n",
        "vis = {\n",
        "    'min': 0.0,\n",
        "    'max': 0.5,\n",
        "    'bands': ['NIR', 'Red', 'Green'],\n",
        "}"
      ]
    },
    {
      "cell_type": "code",
      "execution_count": 21,
      "metadata": {},
      "outputs": [
        {
          "data": {
            "text/html": [
              "\n",
              "            <style>\n",
              "                .geemap-dark {\n",
              "                    --jp-widgets-color: white;\n",
              "                    --jp-widgets-label-color: white;\n",
              "                    --jp-ui-font-color1: white;\n",
              "                    --jp-layout-color2: #454545;\n",
              "                    background-color: #383838;\n",
              "                }\n",
              "                    \n",
              "                .geemap-dark .jupyter-button {\n",
              "                    --jp-layout-color3: #383838;\n",
              "                }\n",
              "                \n",
              "                .geemap-colab {\n",
              "                    background-color: var(--colab-primary-surface-color, white);\n",
              "                }\n",
              "                    \n",
              "                .geemap-colab .jupyter-button {\n",
              "                    --jp-layout-color3: var(--colab-primary-surface-color, white);\n",
              "                }\n",
              "            </style>\n",
              "            "
            ],
            "text/plain": [
              "<IPython.core.display.HTML object>"
            ]
          },
          "metadata": {},
          "output_type": "display_data"
        },
        {
          "data": {
            "application/vnd.jupyter.widget-view+json": {
              "model_id": "fc54fc41ee4b48dabda471723451961d",
              "version_major": 2,
              "version_minor": 0
            },
            "text/plain": [
              "Map(bottom=201.0, center=[35.83059875921555, -85.97860765606961], controls=(WidgetControl(options=['position',…"
            ]
          },
          "execution_count": 21,
          "metadata": {},
          "output_type": "execute_result"
        }
      ],
      "source": [
        "# Create a function to add each landsat layer by year to the map\n",
        "def add_landsat_layers(m, collection, vis):\n",
        "    for year in range(2015, 2024):\n",
        "        # Filter the collection to only include images from the current year\n",
        "        yearly_collection = collection.filter(ee.Filter.calendarRange(year, year, 'year'))\n",
        "        \n",
        "        # Get the first image from the filtered collection\n",
        "        image = yearly_collection.first()\n",
        "        \n",
        "        # Add the image as a layer to the map\n",
        "        m.add_layer(image, vis, f'Landsat {year}')\n",
        "\n",
        "# Call the function to add the Landsat layers to the map\n",
        "add_landsat_layers(m, collection, vis)\n",
        "m.center_object(tenn)\n",
        "m.add_text('Made by Vance Russell', add_header=False)\n",
        "m\n",
        "#this bloody took about 2 hours to do itself!"
      ]
    },
    {
      "cell_type": "markdown",
      "metadata": {
        "id": "HXBWkQjUV_aa"
      },
      "source": [
        "![](https://i.imgur.com/UKQUi85.png)"
      ]
    },
    {
      "cell_type": "markdown",
      "metadata": {
        "id": "OQAa0h0AV_ab"
      },
      "source": [
        "## Question 2\n",
        "\n",
        "Based on Question 1, extract annual water areas (**2015-2023**) for the state of Tennessee based on the [Normalized Difference Water Index (NDWI)](https://en.wikipedia.org/wiki/Normalized_difference_water_index) and display them on the m. See [this example](https://developers.google.com/earth-engine/guides/image_visualization#color-palettes).\n",
        "\n",
        "Relevant datasets:\n",
        "\n",
        "* [TIGER: US Census States](https://developers.google.com/earth-engine/datasets/catalog/TIGER_2018_States): `ee.FeatureCollection(\"TIGER/2018/States\")`\n",
        "* [USGS Landsat 8 Level 2, Collection 2, Tier 1](https://developers.google.com/earth-engine/datasets/catalog/LANDSAT_LC08_C02_T1_L2): `ee.ImageCollection(\"LANDSAT/LC08/C02/T1_L2\")`"
      ]
    },
    {
      "cell_type": "code",
      "execution_count": null,
      "metadata": {
        "id": "m31x7mzgV_ab"
      },
      "outputs": [],
      "source": [
        "# Add your code here\n",
        "# Solely did 2015 and added to question 2 in the final exam file"
      ]
    },
    {
      "cell_type": "markdown",
      "metadata": {
        "id": "KYPJXB7wV_ab"
      },
      "source": [
        "![](https://i.imgur.com/GSfICAZ.png)"
      ]
    },
    {
      "cell_type": "markdown",
      "metadata": {
        "id": "Z6et2IKwV_ac"
      },
      "source": [
        "## Question 3\n",
        "\n",
        "Based on Question 2, create the maximum water extent (**2015-2023**) for the state of Tennessee. Each pixel in the maximum water extent indicates that the pixel has been detected as water at lease once since 2015. Also extract surface water extent for the state of Tennessee based on the [JRC Global Surface Water Mapping Layers](https://developers.google.com/earth-engine/datasets/catalog/JRC_GSW1_4_GlobalSurfaceWater) (select the `occurrence` band). Create a split map to visually compare the water areas extracted from two different methods (i.e., NDWI and JRC).\n",
        "\n",
        "**Hints:** use the sum() function on the ImageCollection and then convert it to a binary image to get the maximum water extent.\n",
        "\n",
        "Relevant datasets:\n",
        "\n",
        "* [TIGER: US Census States](https://developers.google.com/earth-engine/datasets/catalog/TIGER_2018_States): `ee.FeatureCollection(\"TIGER/2018/States\")`\n",
        "* [USGS Landsat 8 Level 2, Collection 2, Tier 1](https://developers.google.com/earth-engine/datasets/catalog/LANDSAT_LC08_C02_T1_L2): `ee.ImageCollection(\"LANDSAT/LC08/C02/T1_L2\")`\n",
        "* [JRC Global Surface Water Mapping Layers](https://developers.google.com/earth-engine/datasets/catalog/JRC_GSW1_4_GlobalSurfaceWater): `ee.Image(\"JRC/GSW1_4/GlobalSurfaceWater\").select('occurrence')`"
      ]
    },
    {
      "cell_type": "code",
      "execution_count": null,
      "metadata": {
        "id": "fcDdTv5DV_ac"
      },
      "outputs": [],
      "source": [
        "# Add your code here"
      ]
    },
    {
      "cell_type": "markdown",
      "metadata": {
        "id": "xX340vLdV_ac"
      },
      "source": [
        "![](https://i.imgur.com/lHtlpB4.png)"
      ]
    },
    {
      "cell_type": "markdown",
      "metadata": {
        "id": "PCvund6KV_ad"
      },
      "source": [
        "## Question 4\n",
        "\n",
        "Create annual composite of 4-band(RGBN) NAIP imagery and Normalized Difference Vegetation Index (NDVI) for Knox County, Tennessee and display them on the m.\n",
        "\n",
        "Relevant datasets:\n",
        "* [TIGER: US Census Counties](https://developers.google.com/earth-engine/datasets/catalog/TIGER_2018_Counties): `ee.FeatureCollection(\"TIGER/2018/Counties\")`\n",
        "* [NAIP: National Agriculture Imagery Program](https://developers.google.com/earth-engine/datasets/catalog/USDA_NAIP_DOQQ): `ee.ImageCollection(\"USDA/NAIP/DOQQ\")`"
      ]
    },
    {
      "cell_type": "code",
      "execution_count": null,
      "metadata": {
        "id": "N1UcWhM9V_ad"
      },
      "outputs": [],
      "source": [
        "# Add your code here"
      ]
    },
    {
      "cell_type": "markdown",
      "metadata": {
        "id": "15ZdwXi0V_ad"
      },
      "source": [
        "![](https://i.imgur.com/yWkyENq.png)"
      ]
    },
    {
      "cell_type": "markdown",
      "metadata": {
        "id": "tvT-MKqZV_ad"
      },
      "source": [
        "## Question 5\n",
        "\n",
        "Analyzing the NYC crime data from 2003 to 2011 using DuckDB. The database `nyc_data.db` is available for download from [here](https://github.com/opengeos/data/raw/main/duckdb/nyc_data.db.zip). The database contains two tables: `nyc_homicides` and `nyc_neighborhoods`. The `nyc_homicides` table contains the homicide data from 2003 to 2011, and the `nyc_neighborhoods` table contains the neighborhood boundaries of New York City. Use these two tables to answer the following questions:\n",
        "\n",
        "1. What is the total number of homicides in New York City from 2003 to 2011?"
      ]
    },
    {
      "cell_type": "code",
      "execution_count": 1,
      "metadata": {
        "id": "Wa3WC0UCV_ad"
      },
      "outputs": [],
      "source": [
        "import leafmap\n",
        "import duckdb"
      ]
    },
    {
      "cell_type": "code",
      "execution_count": 13,
      "metadata": {
        "id": "LOji1xYTV_ad"
      },
      "outputs": [],
      "source": [
        "con = duckdb.connect()\n",
        "con.install_extension(\"httpfs\")\n",
        "con.load_extension(\"httpfs\")\n",
        "con.install_extension(\"spatial\")\n",
        "con.load_extension(\"spatial\")"
      ]
    },
    {
      "cell_type": "code",
      "execution_count": 3,
      "metadata": {},
      "outputs": [
        {
          "name": "stdout",
          "output_type": "stream",
          "text": [
            "nyc_data.db.zip already exists. Skip downloading. Set overwrite=True to overwrite.\n"
          ]
        },
        {
          "data": {
            "text/plain": [
              "'c:\\\\Users\\\\vance\\\\OneDrive\\\\1 Consulting\\\\Spatial\\\\geog-414-copy\\\\final\\\\nyc_data.db.zip'"
            ]
          },
          "execution_count": 3,
          "metadata": {},
          "output_type": "execute_result"
        }
      ],
      "source": [
        "url = \"https://github.com/opengeos/data/raw/main/duckdb/nyc_data.db.zip\"\n",
        "leafmap.download_file(url, unzip=True)"
      ]
    },
    {
      "cell_type": "code",
      "execution_count": 17,
      "metadata": {},
      "outputs": [
        {
          "data": {
            "text/plain": [
              "┌─────────────────────┐\n",
              "│        name         │\n",
              "│       varchar       │\n",
              "├─────────────────────┤\n",
              "│ nyc_census_blocks   │\n",
              "│ nyc_homicides       │\n",
              "│ nyc_neighborhoods   │\n",
              "│ nyc_streets         │\n",
              "│ nyc_subway_stations │\n",
              "└─────────────────────┘"
            ]
          },
          "execution_count": 17,
          "metadata": {},
          "output_type": "execute_result"
        }
      ],
      "source": [
        "# Connect to the database\n",
        "con = duckdb.connect('nyc_data.db')\n",
        "con.sql(\"SHOW TABLES;\")"
      ]
    },
    {
      "cell_type": "code",
      "execution_count": 18,
      "metadata": {},
      "outputs": [
        {
          "data": {
            "text/html": [
              "<div>\n",
              "<style scoped>\n",
              "    .dataframe tbody tr th:only-of-type {\n",
              "        vertical-align: middle;\n",
              "    }\n",
              "\n",
              "    .dataframe tbody tr th {\n",
              "        vertical-align: top;\n",
              "    }\n",
              "\n",
              "    .dataframe thead th {\n",
              "        text-align: right;\n",
              "    }\n",
              "</style>\n",
              "<table border=\"1\" class=\"dataframe\">\n",
              "  <thead>\n",
              "    <tr style=\"text-align: right;\">\n",
              "      <th></th>\n",
              "      <th>INCIDENT_D</th>\n",
              "      <th>BORONAME</th>\n",
              "      <th>NUM_VICTIM</th>\n",
              "      <th>PRIMARY_MO</th>\n",
              "      <th>ID</th>\n",
              "      <th>WEAPON</th>\n",
              "      <th>LIGHT_DARK</th>\n",
              "      <th>YEAR</th>\n",
              "      <th>geom</th>\n",
              "    </tr>\n",
              "  </thead>\n",
              "  <tbody>\n",
              "    <tr>\n",
              "      <th>0</th>\n",
              "      <td>2008-01-01</td>\n",
              "      <td>Brooklyn</td>\n",
              "      <td>1</td>\n",
              "      <td>None</td>\n",
              "      <td>7</td>\n",
              "      <td>gun</td>\n",
              "      <td>D</td>\n",
              "      <td>2008</td>\n",
              "      <td>[0, 0, 24, 0, 0, 0, 0, 0, 0, 0, 0, 0, 1, 0, 0,...</td>\n",
              "    </tr>\n",
              "    <tr>\n",
              "      <th>1</th>\n",
              "      <td>2008-01-04</td>\n",
              "      <td>Manhattan</td>\n",
              "      <td>1</td>\n",
              "      <td>None</td>\n",
              "      <td>14</td>\n",
              "      <td>gun</td>\n",
              "      <td>D</td>\n",
              "      <td>2008</td>\n",
              "      <td>[0, 0, 24, 0, 0, 0, 0, 0, 0, 0, 0, 0, 1, 0, 0,...</td>\n",
              "    </tr>\n",
              "    <tr>\n",
              "      <th>2</th>\n",
              "      <td>2008-01-05</td>\n",
              "      <td>Queens</td>\n",
              "      <td>1</td>\n",
              "      <td>None</td>\n",
              "      <td>15</td>\n",
              "      <td>gun</td>\n",
              "      <td>D</td>\n",
              "      <td>2008</td>\n",
              "      <td>[0, 0, 24, 0, 0, 0, 0, 0, 0, 0, 0, 0, 1, 0, 0,...</td>\n",
              "    </tr>\n",
              "    <tr>\n",
              "      <th>3</th>\n",
              "      <td>2008-01-04</td>\n",
              "      <td>Queens</td>\n",
              "      <td>1</td>\n",
              "      <td>None</td>\n",
              "      <td>16</td>\n",
              "      <td>knife</td>\n",
              "      <td>D</td>\n",
              "      <td>2008</td>\n",
              "      <td>[0, 0, 24, 0, 0, 0, 0, 0, 0, 0, 0, 0, 1, 0, 0,...</td>\n",
              "    </tr>\n",
              "    <tr>\n",
              "      <th>4</th>\n",
              "      <td>2008-01-05</td>\n",
              "      <td>Queens</td>\n",
              "      <td>1</td>\n",
              "      <td>None</td>\n",
              "      <td>18</td>\n",
              "      <td>gun</td>\n",
              "      <td>D</td>\n",
              "      <td>2008</td>\n",
              "      <td>[0, 0, 24, 0, 0, 0, 0, 0, 0, 0, 0, 0, 1, 0, 0,...</td>\n",
              "    </tr>\n",
              "    <tr>\n",
              "      <th>...</th>\n",
              "      <td>...</td>\n",
              "      <td>...</td>\n",
              "      <td>...</td>\n",
              "      <td>...</td>\n",
              "      <td>...</td>\n",
              "      <td>...</td>\n",
              "      <td>...</td>\n",
              "      <td>...</td>\n",
              "      <td>...</td>\n",
              "    </tr>\n",
              "    <tr>\n",
              "      <th>3977</th>\n",
              "      <td>2010-10-11</td>\n",
              "      <td>The Bronx</td>\n",
              "      <td>1</td>\n",
              "      <td>None</td>\n",
              "      <td>4269</td>\n",
              "      <td>gun</td>\n",
              "      <td>None</td>\n",
              "      <td>2010</td>\n",
              "      <td>[0, 0, 24, 0, 0, 0, 0, 0, 0, 0, 0, 0, 1, 0, 0,...</td>\n",
              "    </tr>\n",
              "    <tr>\n",
              "      <th>3978</th>\n",
              "      <td>2010-10-06</td>\n",
              "      <td>The Bronx</td>\n",
              "      <td>1</td>\n",
              "      <td>None</td>\n",
              "      <td>4271</td>\n",
              "      <td>knife</td>\n",
              "      <td>None</td>\n",
              "      <td>2010</td>\n",
              "      <td>[0, 0, 24, 0, 0, 0, 0, 0, 0, 0, 0, 0, 1, 0, 0,...</td>\n",
              "    </tr>\n",
              "    <tr>\n",
              "      <th>3979</th>\n",
              "      <td>2011-07-26</td>\n",
              "      <td>The Bronx</td>\n",
              "      <td>1</td>\n",
              "      <td>None</td>\n",
              "      <td>4282</td>\n",
              "      <td>gun</td>\n",
              "      <td>None</td>\n",
              "      <td>2011</td>\n",
              "      <td>[0, 0, 24, 0, 0, 0, 0, 0, 0, 0, 0, 0, 1, 0, 0,...</td>\n",
              "    </tr>\n",
              "    <tr>\n",
              "      <th>3980</th>\n",
              "      <td>2011-07-28</td>\n",
              "      <td>The Bronx</td>\n",
              "      <td>1</td>\n",
              "      <td>None</td>\n",
              "      <td>4284</td>\n",
              "      <td>gun</td>\n",
              "      <td>None</td>\n",
              "      <td>2011</td>\n",
              "      <td>[0, 0, 24, 0, 0, 0, 0, 0, 0, 0, 0, 0, 1, 0, 0,...</td>\n",
              "    </tr>\n",
              "    <tr>\n",
              "      <th>3981</th>\n",
              "      <td>2011-08-01</td>\n",
              "      <td>The Bronx</td>\n",
              "      <td>1</td>\n",
              "      <td>None</td>\n",
              "      <td>4291</td>\n",
              "      <td>gun</td>\n",
              "      <td>None</td>\n",
              "      <td>2011</td>\n",
              "      <td>[0, 0, 24, 0, 0, 0, 0, 0, 0, 0, 0, 0, 1, 0, 0,...</td>\n",
              "    </tr>\n",
              "  </tbody>\n",
              "</table>\n",
              "<p>3982 rows × 9 columns</p>\n",
              "</div>"
            ],
            "text/plain": [
              "     INCIDENT_D   BORONAME NUM_VICTIM PRIMARY_MO    ID WEAPON LIGHT_DARK  \\\n",
              "0    2008-01-01   Brooklyn          1       None     7    gun          D   \n",
              "1    2008-01-04  Manhattan          1       None    14    gun          D   \n",
              "2    2008-01-05     Queens          1       None    15    gun          D   \n",
              "3    2008-01-04     Queens          1       None    16  knife          D   \n",
              "4    2008-01-05     Queens          1       None    18    gun          D   \n",
              "...         ...        ...        ...        ...   ...    ...        ...   \n",
              "3977 2010-10-11  The Bronx          1       None  4269    gun       None   \n",
              "3978 2010-10-06  The Bronx          1       None  4271  knife       None   \n",
              "3979 2011-07-26  The Bronx          1       None  4282    gun       None   \n",
              "3980 2011-07-28  The Bronx          1       None  4284    gun       None   \n",
              "3981 2011-08-01  The Bronx          1       None  4291    gun       None   \n",
              "\n",
              "      YEAR                                               geom  \n",
              "0     2008  [0, 0, 24, 0, 0, 0, 0, 0, 0, 0, 0, 0, 1, 0, 0,...  \n",
              "1     2008  [0, 0, 24, 0, 0, 0, 0, 0, 0, 0, 0, 0, 1, 0, 0,...  \n",
              "2     2008  [0, 0, 24, 0, 0, 0, 0, 0, 0, 0, 0, 0, 1, 0, 0,...  \n",
              "3     2008  [0, 0, 24, 0, 0, 0, 0, 0, 0, 0, 0, 0, 1, 0, 0,...  \n",
              "4     2008  [0, 0, 24, 0, 0, 0, 0, 0, 0, 0, 0, 0, 1, 0, 0,...  \n",
              "...    ...                                                ...  \n",
              "3977  2010  [0, 0, 24, 0, 0, 0, 0, 0, 0, 0, 0, 0, 1, 0, 0,...  \n",
              "3978  2010  [0, 0, 24, 0, 0, 0, 0, 0, 0, 0, 0, 0, 1, 0, 0,...  \n",
              "3979  2011  [0, 0, 24, 0, 0, 0, 0, 0, 0, 0, 0, 0, 1, 0, 0,...  \n",
              "3980  2011  [0, 0, 24, 0, 0, 0, 0, 0, 0, 0, 0, 0, 1, 0, 0,...  \n",
              "3981  2011  [0, 0, 24, 0, 0, 0, 0, 0, 0, 0, 0, 0, 1, 0, 0,...  \n",
              "\n",
              "[3982 rows x 9 columns]"
            ]
          },
          "execution_count": 18,
          "metadata": {},
          "output_type": "execute_result"
        }
      ],
      "source": [
        "# Show the nyc_homicides db\n",
        "con.sql('FROM nyc_homicides AS homicides').to_df()"
      ]
    },
    {
      "cell_type": "code",
      "execution_count": 21,
      "metadata": {},
      "outputs": [
        {
          "data": {
            "text/plain": [
              "┌────────────┬───────────┬────────────┬────────────┬───────┬─────────┬────────────┬───────┬────────────────────────────┐\n",
              "│ INCIDENT_D │ BORONAME  │ NUM_VICTIM │ PRIMARY_MO │  ID   │ WEAPON  │ LIGHT_DARK │ YEAR  │            geom            │\n",
              "│    date    │  varchar  │  varchar   │  varchar   │ int32 │ varchar │  varchar   │ int32 │          geometry          │\n",
              "├────────────┼───────────┼────────────┼────────────┼───────┼─────────┼────────────┼───────┼────────────────────────────┤\n",
              "│ 2008-01-01 │ Brooklyn  │ 1          │ NULL       │     7 │ gun     │ D          │  2008 │ \\x00\\x00\\x18\\x00\\x00\\x00…  │\n",
              "│ 2008-01-04 │ Manhattan │ 1          │ NULL       │    14 │ gun     │ D          │  2008 │ \\x00\\x00\\x18\\x00\\x00\\x00…  │\n",
              "│ 2008-01-05 │ Queens    │ 1          │ NULL       │    15 │ gun     │ D          │  2008 │ \\x00\\x00\\x18\\x00\\x00\\x00…  │\n",
              "│ 2008-01-04 │ Queens    │ 1          │ NULL       │    16 │ knife   │ D          │  2008 │ \\x00\\x00\\x18\\x00\\x00\\x00…  │\n",
              "│ 2008-01-05 │ Queens    │ 1          │ NULL       │    18 │ gun     │ D          │  2008 │ \\x00\\x00\\x18\\x00\\x00\\x00…  │\n",
              "└────────────┴───────────┴────────────┴────────────┴───────┴─────────┴────────────┴───────┴────────────────────────────┘"
            ]
          },
          "execution_count": 21,
          "metadata": {},
          "output_type": "execute_result"
        }
      ],
      "source": [
        "con.sql('FROM nyc_homicides LIMIT 5')"
      ]
    },
    {
      "cell_type": "code",
      "execution_count": 9,
      "metadata": {},
      "outputs": [
        {
          "data": {
            "text/plain": [
              "┌───────────────────┐\n",
              "│ count(NUM_VICTIM) │\n",
              "│       int64       │\n",
              "├───────────────────┤\n",
              "│              3974 │\n",
              "└───────────────────┘"
            ]
          },
          "execution_count": 9,
          "metadata": {},
          "output_type": "execute_result"
        }
      ],
      "source": [
        "# Count the total number of murders from the NUM_VICTIM column\n",
        "con.sql(\"\"\"\n",
        "\n",
        "SELECT COUNT(NUM_VICTIM) FROM nyc_homicides\n",
        ";\n",
        "          \n",
        "  \"\"\")"
      ]
    },
    {
      "cell_type": "markdown",
      "metadata": {
        "id": "v6Jq7PmbV_ad"
      },
      "source": [
        "2. Find out the top 10 neighborhoods with the highest number of homicides in New York City from 2003 to 2011."
      ]
    },
    {
      "cell_type": "code",
      "execution_count": 22,
      "metadata": {},
      "outputs": [
        {
          "data": {
            "text/html": [
              "<div>\n",
              "<style scoped>\n",
              "    .dataframe tbody tr th:only-of-type {\n",
              "        vertical-align: middle;\n",
              "    }\n",
              "\n",
              "    .dataframe tbody tr th {\n",
              "        vertical-align: top;\n",
              "    }\n",
              "\n",
              "    .dataframe thead th {\n",
              "        text-align: right;\n",
              "    }\n",
              "</style>\n",
              "<table border=\"1\" class=\"dataframe\">\n",
              "  <thead>\n",
              "    <tr style=\"text-align: right;\">\n",
              "      <th></th>\n",
              "      <th>BORONAME</th>\n",
              "      <th>NAME</th>\n",
              "      <th>geom</th>\n",
              "    </tr>\n",
              "  </thead>\n",
              "  <tbody>\n",
              "    <tr>\n",
              "      <th>0</th>\n",
              "      <td>Brooklyn</td>\n",
              "      <td>Bensonhurst</td>\n",
              "      <td>[5, 4, 41, 0, 0, 0, 0, 0, 54, 71, 14, 73, 198,...</td>\n",
              "    </tr>\n",
              "    <tr>\n",
              "      <th>1</th>\n",
              "      <td>Manhattan</td>\n",
              "      <td>East Village</td>\n",
              "      <td>[5, 4, 152, 0, 0, 0, 0, 0, 35, 215, 14, 73, 13...</td>\n",
              "    </tr>\n",
              "    <tr>\n",
              "      <th>2</th>\n",
              "      <td>Manhattan</td>\n",
              "      <td>West Village</td>\n",
              "      <td>[5, 4, 91, 0, 0, 0, 0, 0, 161, 95, 14, 73, 212...</td>\n",
              "    </tr>\n",
              "    <tr>\n",
              "      <th>3</th>\n",
              "      <td>The Bronx</td>\n",
              "      <td>Throggs Neck</td>\n",
              "      <td>[5, 4, 141, 0, 0, 0, 0, 0, 128, 232, 17, 73, 1...</td>\n",
              "    </tr>\n",
              "    <tr>\n",
              "      <th>4</th>\n",
              "      <td>The Bronx</td>\n",
              "      <td>Wakefield-Williamsbridge</td>\n",
              "      <td>[5, 4, 126, 0, 0, 0, 0, 0, 83, 85, 17, 73, 17,...</td>\n",
              "    </tr>\n",
              "  </tbody>\n",
              "</table>\n",
              "</div>"
            ],
            "text/plain": [
              "    BORONAME                      NAME  \\\n",
              "0   Brooklyn               Bensonhurst   \n",
              "1  Manhattan              East Village   \n",
              "2  Manhattan              West Village   \n",
              "3  The Bronx              Throggs Neck   \n",
              "4  The Bronx  Wakefield-Williamsbridge   \n",
              "\n",
              "                                                geom  \n",
              "0  [5, 4, 41, 0, 0, 0, 0, 0, 54, 71, 14, 73, 198,...  \n",
              "1  [5, 4, 152, 0, 0, 0, 0, 0, 35, 215, 14, 73, 13...  \n",
              "2  [5, 4, 91, 0, 0, 0, 0, 0, 161, 95, 14, 73, 212...  \n",
              "3  [5, 4, 141, 0, 0, 0, 0, 0, 128, 232, 17, 73, 1...  \n",
              "4  [5, 4, 126, 0, 0, 0, 0, 0, 83, 85, 17, 73, 17,...  "
            ]
          },
          "execution_count": 22,
          "metadata": {},
          "output_type": "execute_result"
        }
      ],
      "source": [
        "con.sql('FROM nyc_neighborhoods LIMIT 5;').to_df()"
      ]
    },
    {
      "cell_type": "code",
      "execution_count": 24,
      "metadata": {},
      "outputs": [
        {
          "ename": "CatalogException",
          "evalue": "Catalog Error: Scalar Function with name \"st_intersection\" is not in the catalog, but it exists in the spatial extension.\n\nPlease try installing and loading the spatial extension:\nINSTALL spatial;\nLOAD spatial;\n\n",
          "output_type": "error",
          "traceback": [
            "\u001b[1;31m---------------------------------------------------------------------------\u001b[0m",
            "\u001b[1;31mCatalogException\u001b[0m                          Traceback (most recent call last)",
            "Cell \u001b[1;32mIn[24], line 1\u001b[0m\n\u001b[1;32m----> 1\u001b[0m \u001b[43mcon\u001b[49m\u001b[38;5;241;43m.\u001b[39;49m\u001b[43msql\u001b[49m\u001b[43m(\u001b[49m\u001b[38;5;124;43m\"\"\"\u001b[39;49m\n\u001b[0;32m      2\u001b[0m \u001b[38;5;124;43mSELECT\u001b[39;49m\n\u001b[0;32m      3\u001b[0m \u001b[38;5;124;43m        nyc_neighborhoods.geom,\u001b[39;49m\n\u001b[0;32m      4\u001b[0m \u001b[38;5;124;43m        nyc_homicides.geom\u001b[39;49m\n\u001b[0;32m      5\u001b[0m \u001b[38;5;124;43mFROM nyc_neighborhoods AS neighborhoods\u001b[39;49m\n\u001b[0;32m      6\u001b[0m \u001b[38;5;124;43mJOIN nyc_homicides AS homicides\u001b[39;49m\n\u001b[0;32m      7\u001b[0m \u001b[38;5;124;43mON ST_Intersection(neighborhoods.geom, homicides.geom)\u001b[39;49m\n\u001b[0;32m      8\u001b[0m \u001b[38;5;124;43m;\u001b[39;49m\n\u001b[0;32m      9\u001b[0m \u001b[38;5;124;43m          \u001b[39;49m\n\u001b[0;32m     10\u001b[0m \u001b[38;5;124;43m  \u001b[39;49m\u001b[38;5;124;43m\"\"\"\u001b[39;49m\u001b[43m)\u001b[49m\n",
            "\u001b[1;31mCatalogException\u001b[0m: Catalog Error: Scalar Function with name \"st_intersection\" is not in the catalog, but it exists in the spatial extension.\n\nPlease try installing and loading the spatial extension:\nINSTALL spatial;\nLOAD spatial;\n\n"
          ]
        }
      ],
      "source": [
        "con.sql(\"\"\"\n",
        "SELECT\n",
        "        nyc_neighborhoods.geom,\n",
        "        nyc_homicides.geom\n",
        "FROM nyc_neighborhoods AS neighborhoods\n",
        "JOIN nyc_homicides AS homicides\n",
        "ON ST_Intersection(neighborhoods.geom, homicides.geom)\n",
        ";\n",
        "          \n",
        "  \"\"\")\n"
      ]
    },
    {
      "cell_type": "markdown",
      "metadata": {
        "id": "FP-2koBjV_ae"
      },
      "source": [
        "3. Create a bar chart to visualize the number of homicides in New York City by year from 2003 to 2011. The bar chart title should contain your name."
      ]
    },
    {
      "cell_type": "code",
      "execution_count": null,
      "metadata": {
        "id": "lSW3Ny67V_ae"
      },
      "outputs": [],
      "source": [
        "# Add your code here"
      ]
    },
    {
      "cell_type": "markdown",
      "metadata": {
        "id": "HNnw6p9vV_ae"
      },
      "source": [
        "![](https://i.imgur.com/HUwUYkY.png)"
      ]
    },
    {
      "cell_type": "markdown",
      "metadata": {
        "id": "ueJr7W4pV_ae"
      },
      "source": [
        "4. Create a pie chart to visualize the number of homicides in New York City by borough from 2003 to 2011. The pie chart title should contain your name."
      ]
    },
    {
      "cell_type": "code",
      "execution_count": null,
      "metadata": {
        "id": "uLSq0K2hV_ae"
      },
      "outputs": [],
      "source": [
        "# Add your code here"
      ]
    },
    {
      "cell_type": "markdown",
      "metadata": {
        "id": "glA429T3V_ae"
      },
      "source": [
        "![](https://i.imgur.com/px7UYTF.png)"
      ]
    }
  ],
  "metadata": {
    "colab": {
      "provenance": []
    },
    "hide_input": false,
    "kernelspec": {
      "display_name": "Python 3",
      "language": "python",
      "name": "python3"
    },
    "language_info": {
      "codemirror_mode": {
        "name": "ipython",
        "version": 3
      },
      "file_extension": ".py",
      "mimetype": "text/x-python",
      "name": "python",
      "nbconvert_exporter": "python",
      "pygments_lexer": "ipython3",
      "version": "3.12.0"
    },
    "toc": {
      "base_numbering": 1,
      "nav_menu": {},
      "number_sections": true,
      "sideBar": true,
      "skip_h1_title": false,
      "title_cell": "Table of Contents",
      "title_sidebar": "Contents",
      "toc_cell": false,
      "toc_position": {},
      "toc_section_display": true,
      "toc_window_display": false
    },
    "varInspector": {
      "cols": {
        "lenName": 16,
        "lenType": 16,
        "lenVar": 40
      },
      "kernels_config": {
        "python": {
          "delete_cmd_postfix": "",
          "delete_cmd_prefix": "del ",
          "library": "var_list.py",
          "varRefreshCmd": "print(var_dic_list())"
        },
        "r": {
          "delete_cmd_postfix": ") ",
          "delete_cmd_prefix": "rm(",
          "library": "var_list.r",
          "varRefreshCmd": "cat(var_dic_list()) "
        }
      },
      "types_to_exclude": [
        "module",
        "function",
        "builtin_function_or_method",
        "instance",
        "_Feature"
      ],
      "window_display": false
    }
  },
  "nbformat": 4,
  "nbformat_minor": 0
}
